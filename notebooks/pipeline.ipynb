{
 "cells": [
  {
   "cell_type": "code",
   "execution_count": 29,
   "metadata": {},
   "outputs": [],
   "source": [
    "import requests\n",
    "import json\n",
    "import os\n",
    "from pathlib import Path"
   ]
  },
  {
   "cell_type": "code",
   "execution_count": 30,
   "metadata": {},
   "outputs": [],
   "source": [
    "def connection(url):\n",
    "    '''\n",
    "    Try and Establish a Connection to given website\n",
    "    Return: data in json format\n",
    "    '''\n",
    "\n",
    "    try:\n",
    "        response = requests.get(url)\n",
    "        \n",
    "        if not response.status_code // 100 == 2:\n",
    "            return(f\"Error: Unexpected response {response}\")\n",
    "\n",
    "        geodata = response.json()\n",
    "        return(geodata)\n",
    "\n",
    "    except requests.exceptions.RequestException as e:\n",
    "        return(f\"Error: {e}\")"
   ]
  },
  {
   "cell_type": "code",
   "execution_count": 31,
   "metadata": {},
   "outputs": [],
   "source": [
    "def path_exist(filepath):\n",
    "    '''Checks if a filepath exist or not'''\n",
    "    if os.path.exists(filepath):\n",
    "        print('Data Status: Stored')\n",
    "        return True\n",
    "    print('Data Source: Gathered')\n",
    "    return False"
   ]
  },
  {
   "cell_type": "code",
   "execution_count": 32,
   "metadata": {},
   "outputs": [],
   "source": [
    "def get_current_drivers():\n",
    "    '''Returns list of current years drivers'''\n",
    "    filepath = Path('../data/current_drivers.json')\n",
    "    jsondata = dict()\n",
    "    # Checks if data is already stored\n",
    "    if path_exist(filepath):\n",
    "        with open(filepath, 'r', encoding='utf-8') as infile: jsondata = json.load(infile)\n",
    "    else:\n",
    "        # Request data from API\n",
    "        link = 'http://ergast.com/api/f1/2022/drivers.json?limit=1000'\n",
    "        jsondata = connection(link)\n",
    "        jsondata = jsondata['MRData']['DriverTable']['Drivers']\n",
    "        # Store the data under data/current_drivers.json\n",
    "        json_object = json.dumps(jsondata, indent=4)\n",
    "        with open(filepath, 'w', encoding='utf-8') as outfile: outfile.write(json_object)\n",
    "\n",
    "    current_drivers = list()\n",
    "    for driver in jsondata:\n",
    "        current_drivers.append(driver['driverId'])\n",
    "    return current_drivers"
   ]
  },
  {
   "cell_type": "code",
   "execution_count": 33,
   "metadata": {},
   "outputs": [],
   "source": [
    "def get_driver_info(driver):\n",
    "    '''Returns basic information on driver'''\n",
    "    filepath = Path(f'../data/drivers/{driver}/info.json')\n",
    "    jsondata = dict()\n",
    "    # Checks if data is already stored\n",
    "    if path_exist(filepath):\n",
    "        with open(filepath, 'r', encoding='utf-8') as infile: jsondata = json.load(infile)\n",
    "    else:\n",
    "        # Create a drivers info.json based on data in current_drivers.json\n",
    "        with open(Path('../data/current_drivers.json'), 'r', encoding='utf-8') as infile: jsondata = json.load(infile)\n",
    "        for drivers in jsondata:\n",
    "            if drivers['driverId'] == driver:\n",
    "                # Create info.json\n",
    "                driverId = drivers['driverId']\n",
    "                permanentNumber = drivers['permanentNumber']\n",
    "                givenName = drivers['givenName']\n",
    "                familyName = drivers['familyName']\n",
    "                dateOfBirth = drivers['dateOfBirth']\n",
    "                nationality = drivers['nationality']\n",
    "                info = {'driverId':driverId,'permanentNumber':permanentNumber,\n",
    "                        'givenName':givenName,'familyName':familyName,\n",
    "                        'dateOfBirth':dateOfBirth,'nationality':nationality}\n",
    "                json_object = json.dumps(info, indent=4)\n",
    "                with open(filepath, 'w', encoding='utf-8') as outfile: outfile.write(json_object)\n",
    "                with open(filepath, 'r', encoding='utf-8') as infile: jsondata = json.load(infile)\n",
    "    return jsondata\n"
   ]
  },
  {
   "cell_type": "code",
   "execution_count": 34,
   "metadata": {},
   "outputs": [],
   "source": [
    "def init():\n",
    "    '''Checks if all required directories are created; creates them if not'''\n",
    "    current_drivers = get_current_drivers()\n",
    "    filepath = Path('../data/drivers')\n",
    "    if not path_exist(filepath):\n",
    "        os.mkdir(filepath)\n",
    "\n",
    "    for driver in current_drivers:\n",
    "        # Check if driver has a unique directory\n",
    "        filepath = Path(f'../data/drivers/{driver}')\n",
    "        if not path_exist(filepath):\n",
    "            os.mkdir(filepath)\n",
    "        # Check if they have info.json\n",
    "        get_driver_info(driver)"
   ]
  },
  {
   "cell_type": "code",
   "execution_count": 35,
   "metadata": {},
   "outputs": [
    {
     "name": "stdout",
     "output_type": "stream",
     "text": [
      "Data Status: Stored\n",
      "Data Status: Stored\n",
      "Data Status: Stored\n",
      "Data Status: Stored\n",
      "Data Status: Stored\n",
      "Data Status: Stored\n",
      "Data Status: Stored\n",
      "Data Status: Stored\n",
      "Data Status: Stored\n",
      "Data Status: Stored\n",
      "Data Status: Stored\n",
      "Data Status: Stored\n",
      "Data Status: Stored\n",
      "Data Status: Stored\n",
      "Data Status: Stored\n",
      "Data Status: Stored\n",
      "Data Status: Stored\n",
      "Data Status: Stored\n",
      "Data Status: Stored\n",
      "Data Status: Stored\n",
      "Data Status: Stored\n",
      "Data Status: Stored\n",
      "Data Status: Stored\n",
      "Data Status: Stored\n",
      "Data Status: Stored\n",
      "Data Status: Stored\n",
      "Data Status: Stored\n",
      "Data Status: Stored\n",
      "Data Status: Stored\n",
      "Data Status: Stored\n",
      "Data Status: Stored\n",
      "Data Status: Stored\n",
      "Data Status: Stored\n",
      "Data Status: Stored\n",
      "Data Status: Stored\n",
      "Data Status: Stored\n",
      "Data Status: Stored\n",
      "Data Status: Stored\n",
      "Data Status: Stored\n",
      "Data Status: Stored\n",
      "Data Status: Stored\n",
      "Data Status: Stored\n",
      "Data Status: Stored\n",
      "Data Status: Stored\n",
      "Data Status: Stored\n",
      "Data Status: Stored\n"
     ]
    }
   ],
   "source": [
    "init()"
   ]
  },
  {
   "cell_type": "code",
   "execution_count": null,
   "metadata": {},
   "outputs": [],
   "source": []
  }
 ],
 "metadata": {
  "kernelspec": {
   "display_name": "Python 3.10.6 ('env')",
   "language": "python",
   "name": "python3"
  },
  "language_info": {
   "codemirror_mode": {
    "name": "ipython",
    "version": 3
   },
   "file_extension": ".py",
   "mimetype": "text/x-python",
   "name": "python",
   "nbconvert_exporter": "python",
   "pygments_lexer": "ipython3",
   "version": "3.10.6"
  },
  "orig_nbformat": 4,
  "vscode": {
   "interpreter": {
    "hash": "09f3d8eecba84f2f4202d253b4adc6714ee8a6f39a500ddef9e175895c02c813"
   }
  }
 },
 "nbformat": 4,
 "nbformat_minor": 2
}
