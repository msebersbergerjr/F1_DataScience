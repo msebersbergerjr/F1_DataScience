{
 "cells": [
  {
   "cell_type": "code",
   "execution_count": 5,
   "metadata": {},
   "outputs": [],
   "source": [
    "import requests\n",
    "import json\n",
    "import os\n",
    "from pathlib import Path"
   ]
  },
  {
   "cell_type": "code",
   "execution_count": 6,
   "metadata": {},
   "outputs": [],
   "source": [
    "def connection(url):\n",
    "    '''\n",
    "    Try and Establish a Connection to given website\n",
    "    Return: data in json format\n",
    "    '''\n",
    "\n",
    "    try:\n",
    "        response = requests.get(url)\n",
    "        \n",
    "        if not response.status_code // 100 == 2:\n",
    "            return(f\"Error: Unexpected response {response}\")\n",
    "\n",
    "        geodata = response.json()\n",
    "        return(geodata)\n",
    "\n",
    "    except requests.exceptions.RequestException as e:\n",
    "        return(f\"Error: {e}\")"
   ]
  },
  {
   "cell_type": "code",
   "execution_count": 7,
   "metadata": {},
   "outputs": [],
   "source": [
    "def path_exist(filepath):\n",
    "    '''Checks if a filepath exist or not'''\n",
    "    if os.path.exists(filepath):\n",
    "        print('Data Status: Stored')\n",
    "        return True\n",
    "    print('Data Source: Gathered')\n",
    "    return False"
   ]
  },
  {
   "cell_type": "code",
   "execution_count": 8,
   "metadata": {},
   "outputs": [],
   "source": [
    "def get_current_drivers():\n",
    "    '''Returns list of current years drivers'''\n",
    "    filepath = Path('../data/current_drivers.json')\n",
    "    jsondata = dict()\n",
    "    # Checks if data is already stored\n",
    "    if path_exist(filepath):\n",
    "        with open(filepath, 'r', encoding='utf-8') as infile: jsondata = json.load(infile)\n",
    "    else:\n",
    "        # Request data from API\n",
    "        link = 'http://ergast.com/api/f1/2022/drivers.json?limit=1000'\n",
    "        jsondata = connection(link)\n",
    "        jsondata = jsondata['MRData']['DriverTable']['Drivers']\n",
    "        # Store the data under data/current_drivers.json\n",
    "        json_object = json.dumps(jsondata, indent=4)\n",
    "        with open(filepath, 'w', encoding='utf-8') as outfile: outfile.write(json_object)\n",
    "\n",
    "    current_drivers = list()\n",
    "    for driver in jsondata:\n",
    "        current_drivers.append(driver['driverId'])\n",
    "    return current_drivers"
   ]
  },
  {
   "cell_type": "code",
   "execution_count": 9,
   "metadata": {},
   "outputs": [],
   "source": [
    "def get_driver_info(driver):\n",
    "    '''Returns basic information on driver'''\n",
    "    filepath = Path(f'../data/drivers/{driver}/info.json')\n",
    "    jsondata = dict()\n",
    "    # Checks if data is already stored\n",
    "    if path_exist(filepath):\n",
    "        with open(filepath, 'r', encoding='utf-8') as infile: jsondata = json.load(infile)\n",
    "    else:\n",
    "        # Create a drivers info.json based on data in current_drivers.json\n",
    "        with open(Path('../data/current_drivers.json'), 'r', encoding='utf-8') as infile: jsondata = json.load(infile)\n",
    "        for drivers in jsondata:\n",
    "            if drivers['driverId'] == driver:\n",
    "                # Create info.json\n",
    "                driverId = drivers['driverId']\n",
    "                permanentNumber = drivers['permanentNumber']\n",
    "                givenName = drivers['givenName']\n",
    "                familyName = drivers['familyName']\n",
    "                dateOfBirth = drivers['dateOfBirth']\n",
    "                nationality = drivers['nationality']\n",
    "                info = {'driverId':driverId,'permanentNumber':permanentNumber,\n",
    "                        'givenName':givenName,'familyName':familyName,\n",
    "                        'dateOfBirth':dateOfBirth,'nationality':nationality}\n",
    "                json_object = json.dumps(info, indent=4)\n",
    "                with open(filepath, 'w', encoding='utf-8') as outfile: outfile.write(json_object)\n",
    "                with open(filepath, 'r', encoding='utf-8') as infile: jsondata = json.load(infile)\n",
    "    return jsondata\n"
   ]
  },
  {
   "cell_type": "code",
   "execution_count": 10,
   "metadata": {},
   "outputs": [],
   "source": [
    "def get_scheduled_races(year):\n",
    "    '''Get all the scheduled races of a given year'''\n",
    "    filepath = Path(f'../data/scheduled/')\n",
    "    jsondata = dict()\n",
    "\n",
    "    if not path_exist(filepath):\n",
    "        os.mkdir(filepath)\n",
    "\n",
    "    filepath = Path(f'../data/scheduled/{year}.json')\n",
    "\n",
    "    if path_exist(filepath):\n",
    "        with open(filepath, 'r', encoding='utf-8') as infile: jsondata = json.load(infile)\n",
    "\n",
    "    else:\n",
    "        # Requests scheudlued races in given year\n",
    "        link = f'http://ergast.com/api/f1/{year}.json?limit=1000'\n",
    "        jsondata = connection(link)\n",
    "        jsondata = jsondata['MRData']['RaceTable']['Races']\n",
    "        # Store the data under data/current_drivers.json\n",
    "        json_object = json.dumps(jsondata, indent=4)\n",
    "        with open(filepath, 'w', encoding='utf-8') as outfile: outfile.write(json_object)\n",
    "\n",
    "    return jsondata"
   ]
  },
  {
   "cell_type": "code",
   "execution_count": 18,
   "metadata": {},
   "outputs": [],
   "source": [
    "def get_season_rounds(year):\n",
    "    '''return the number of rounds in the given season'''\n",
    "\n",
    "    filepath = Path(f'../data/scheduled/{year}.json')\n",
    "    if not path_exist(filepath):\n",
    "        print('Scheduled Year data doesnt exist')\n",
    "        raise\n",
    "\n",
    "    with open(filepath, 'r', encoding='utf-8') as infile: jsondata = json.load(infile)\n",
    "    return len(jsondata)"
   ]
  },
  {
   "cell_type": "code",
   "execution_count": 37,
   "metadata": {},
   "outputs": [],
   "source": [
    "def get_season_round_data(year,_round):\n",
    "    '''Gets every lap within a race of a given year'''\n",
    "    filepath = Path(f'../data/races')\n",
    "    jsondata = dict()\n",
    "    if not path_exist(filepath):\n",
    "        os.mkdir(filepath)\n",
    "    filepath = Path(f'../data/races/{year}/')\n",
    "    if not path_exist(filepath):\n",
    "        os.mkdir(filepath)\n",
    "    filepath = Path(f'../data/races/{year}/{_round}.json')\n",
    "    if path_exist(filepath):\n",
    "        with open(filepath, 'r', encoding='utf-8') as infile: jsondata = json.load(infile)\n",
    "    else:\n",
    "        # Requests scheudlued races in given year\n",
    "        link = f'http://ergast.com/api/f1/{year}/{_round}/laps.json?limit=100000'\n",
    "        jsondata = connection(link)\n",
    "        jsondata = jsondata['MRData']['RaceTable']['Races'][0]\n",
    "        # Store the data under data/current_drivers.json\n",
    "        json_object = json.dumps(jsondata, indent=4)\n",
    "        with open(filepath, 'w', encoding='utf-8') as outfile: outfile.write(json_object)\n",
    "\n",
    "    return jsondata\n"
   ]
  },
  {
   "cell_type": "code",
   "execution_count": 44,
   "metadata": {},
   "outputs": [],
   "source": [
    "def init():\n",
    "    '''Checks if all required directories are created; creates them if not'''\n",
    "    current_drivers = get_current_drivers()\n",
    "    filepath = Path('../data/drivers')\n",
    "    if not path_exist(filepath):\n",
    "        os.mkdir(filepath)\n",
    "\n",
    "    # Checks current drivers\n",
    "    for driver in current_drivers:\n",
    "        # Check if driver has a unique directory\n",
    "        filepath = Path(f'../data/drivers/{driver}')\n",
    "        if not path_exist(filepath):\n",
    "            os.mkdir(filepath)\n",
    "        # Check if they have info.json\n",
    "        get_driver_info(driver)\n",
    "\n",
    "    # Checks year data 2012-2022\n",
    "    for year in range(2012,2023):\n",
    "        get_scheduled_races(year)\n",
    "\n",
    "    # Checks year round data\n",
    "    for year in range(2012,2022):\n",
    "        # get the amount of rounds in a year\n",
    "        rounds = get_season_rounds(year)\n",
    "        for _round in range(1,rounds+1):\n",
    "            get_season_round_data(year,_round)"
   ]
  },
  {
   "cell_type": "code",
   "execution_count": null,
   "metadata": {},
   "outputs": [],
   "source": [
    "init()"
   ]
  }
 ],
 "metadata": {
  "kernelspec": {
   "display_name": "Python 3.10.6 ('env')",
   "language": "python",
   "name": "python3"
  },
  "language_info": {
   "codemirror_mode": {
    "name": "ipython",
    "version": 3
   },
   "file_extension": ".py",
   "mimetype": "text/x-python",
   "name": "python",
   "nbconvert_exporter": "python",
   "pygments_lexer": "ipython3",
   "version": "3.10.6"
  },
  "orig_nbformat": 4,
  "vscode": {
   "interpreter": {
    "hash": "09f3d8eecba84f2f4202d253b4adc6714ee8a6f39a500ddef9e175895c02c813"
   }
  }
 },
 "nbformat": 4,
 "nbformat_minor": 2
}
