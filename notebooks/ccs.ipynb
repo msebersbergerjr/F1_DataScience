{
 "cells": [
  {
   "cell_type": "code",
   "execution_count": 116,
   "metadata": {},
   "outputs": [],
   "source": [
    "import pandas as pd\n",
    "import json\n",
    "from pathlib import Path\n",
    "from datetime import datetime\n",
    "import plotly.express as px"
   ]
  },
  {
   "cell_type": "code",
   "execution_count": 117,
   "metadata": {},
   "outputs": [],
   "source": [
    "def get_current_drivers():\n",
    "    '''Returns list of current years drivers'''\n",
    "    filepath = Path('../data/current_drivers.json')\n",
    "    jsondata = dict()\n",
    "    # Checks if data is already stored\n",
    "    with open(filepath, 'r', encoding='utf-8') as infile: jsondata = json.load(infile)\n",
    "\n",
    "    current_drivers = list()\n",
    "    for driver in jsondata:\n",
    "        current_drivers.append(driver['driverId'])\n",
    "    return current_drivers\n",
    "\n",
    "current_drivers = get_current_drivers()\n",
    "current_drivers.sort()"
   ]
  },
  {
   "cell_type": "code",
   "execution_count": 118,
   "metadata": {},
   "outputs": [],
   "source": [
    "def get_current_circuits():\n",
    "    '''Returns list of current circuits'''\n",
    "    filepath = Path('../data/scheduled/2022.json')\n",
    "    jsondata = dict()\n",
    "    # Checks if data is already stored\n",
    "    with open(filepath, 'r', encoding='utf-8') as infile: jsondata = json.load(infile)\n",
    "    current_circuits = list()\n",
    "    for circuit in jsondata:\n",
    "        current_circuits.append(circuit['Circuit']['circuitId'])\n",
    "    return current_circuits\n",
    "current_circuits = get_current_circuits()"
   ]
  },
  {
   "cell_type": "code",
   "execution_count": 119,
   "metadata": {},
   "outputs": [],
   "source": [
    "def get_round(year,circuitId):\n",
    "    filepath = Path(f'../data/scheduled/{year}.json')\n",
    "    jsondata = dict()\n",
    "    with open(filepath, 'r', encoding='utf-8') as infile: jsondata = json.load(infile)\n",
    "    rounds = list()\n",
    "    for circuit in jsondata:\n",
    "        if circuit['Circuit']['circuitId'] == circuitId:\n",
    "            return circuit['round']\n",
    "    return None"
   ]
  },
  {
   "cell_type": "code",
   "execution_count": 120,
   "metadata": {},
   "outputs": [],
   "source": [
    "# Takes a string lap time and converts it to a nanosecond equivalent\n",
    "def time_to_nanoseconds(raw_time):\n",
    "    try:\n",
    "        dirty = datetime.strptime(raw_time, '%M:%S.%f').time()\n",
    "        #clean = timedelta(minutes=dirty.minute, seconds=dirty.second, microseconds=dirty.microsecond)\n",
    "        nanoseconds = (dirty.minute*6e10)+(dirty.second*1e9)+(dirty.microsecond*1e3)\n",
    "        #nanoseconds = (dirty.microsecond*1000)\n",
    "        return nanoseconds/1e9\n",
    "    # Catch NaaN\n",
    "    except:\n",
    "        return raw_time"
   ]
  },
  {
   "cell_type": "code",
   "execution_count": 121,
   "metadata": {},
   "outputs": [],
   "source": [
    "# find percent different between driver time and average time\n",
    "def percent_difference(driver_time,average_time):\n",
    "    diff = abs((driver_time - average_time)/((driver_time + average_time)/2))*100\n",
    "    if driver_time > average_time:\n",
    "        return -abs(diff)\n",
    "    return diff"
   ]
  },
  {
   "cell_type": "code",
   "execution_count": 122,
   "metadata": {},
   "outputs": [],
   "source": [
    "def sort_scores(score_list):\n",
    "    cleaned_list = []\n",
    "    nan_list = []\n",
    "    \n",
    "    for score in score_list:\n",
    "        if str(score[0]) != 'nan':\n",
    "            cleaned_list.append(score)\n",
    "        else:\n",
    "            nan_list.append(score)\n",
    "    \n",
    "    cleaned_list = sorted(cleaned_list,key=lambda x: x[1], reverse=True)\n",
    "    cleaned_list.extend(nan_list)\n",
    "    return cleaned_list"
   ]
  },
  {
   "cell_type": "code",
   "execution_count": 123,
   "metadata": {},
   "outputs": [],
   "source": [
    "def get_score(year,round,current_drivers):\n",
    "    filepath = Path(f'../data/races/{year}/{round}.json')\n",
    "    with open(filepath, 'r', encoding='utf-8') as infile: jsondata = json.load(infile)\n",
    "\n",
    "    # Gets list of all drivers at the start of the race, sorts them alphabetically\n",
    "    drivers = []\n",
    "    for driver in jsondata['Laps'][0]['Timings']:\n",
    "        drivers.append(driver['driverId'])\n",
    "\n",
    "    drivers.sort()\n",
    "\n",
    "    # Create original dataframe which just holds a column of the drivers\n",
    "    original_df = pd.DataFrame()\n",
    "    original_df['Drivers'] = drivers\n",
    "\n",
    "    # Goes through a race.json and adds the times for all laps per driver\n",
    "    for lap in jsondata['Laps']:\n",
    "        lap_data = []\n",
    "        \n",
    "        for _ in range(0, len(drivers)):\n",
    "            try:\n",
    "                driver = next(item for item in lap['Timings'] if item['driverId']==drivers[_])\n",
    "                # Create a tuple of driver and lap time\n",
    "                lap_data.append([driver['driverId'],driver['time']])\n",
    "            except:\n",
    "                lap_data.append([drivers[_],None])\n",
    "\n",
    "        # Sort it so it matches the rows\n",
    "        lap_data.sort(key = lambda x: x[0])\n",
    "        # Add new column of lap time\n",
    "        time_list = list(list(zip(*lap_data))[1])\n",
    "        original_df[f\"Lap {lap['number']}\"] = time_list\n",
    "\n",
    "    working_df = original_df.copy()\n",
    "    # Convert each string laptime to nanosecond equivolent\n",
    "    for col in working_df.columns[1:]: working_df[col] = working_df[col].apply(lambda x : time_to_nanoseconds(x))\n",
    "\n",
    "    score_list = []\n",
    "    for driver in current_drivers:\n",
    "        score_avg = 0\n",
    "        driver_row = working_df.loc[working_df['Drivers'] == driver]\n",
    "        if not driver_row.empty:\n",
    "            for lap in driver_row.columns[1:]:\n",
    "                score_avg += percent_difference(driver_row[lap].values[0],working_df[lap].mean())\n",
    "        else:\n",
    "            score_avg = float('nan')\n",
    "        score_list.append(score_avg)\n",
    "    return score_list\n",
    "        \n"
   ]
  },
  {
   "cell_type": "code",
   "execution_count": 124,
   "metadata": {},
   "outputs": [
    {
     "data": {
      "text/html": [
       "<div>\n",
       "<style scoped>\n",
       "    .dataframe tbody tr th:only-of-type {\n",
       "        vertical-align: middle;\n",
       "    }\n",
       "\n",
       "    .dataframe tbody tr th {\n",
       "        vertical-align: top;\n",
       "    }\n",
       "\n",
       "    .dataframe thead th {\n",
       "        text-align: right;\n",
       "    }\n",
       "</style>\n",
       "<table border=\"1\" class=\"dataframe\">\n",
       "  <thead>\n",
       "    <tr style=\"text-align: right;\">\n",
       "      <th></th>\n",
       "      <th>Drivers</th>\n",
       "      <th>Season 2012</th>\n",
       "      <th>Season 2013</th>\n",
       "      <th>Season 2014</th>\n",
       "      <th>Season 2015</th>\n",
       "      <th>Season 2016</th>\n",
       "      <th>Season 2017</th>\n",
       "      <th>Season 2018</th>\n",
       "      <th>Season 2019</th>\n",
       "    </tr>\n",
       "  </thead>\n",
       "  <tbody>\n",
       "    <tr>\n",
       "      <th>0</th>\n",
       "      <td>albon</td>\n",
       "      <td>NaN</td>\n",
       "      <td>NaN</td>\n",
       "      <td>NaN</td>\n",
       "      <td>NaN</td>\n",
       "      <td>NaN</td>\n",
       "      <td>NaN</td>\n",
       "      <td>NaN</td>\n",
       "      <td>NaN</td>\n",
       "    </tr>\n",
       "    <tr>\n",
       "      <th>1</th>\n",
       "      <td>alonso</td>\n",
       "      <td>50.513853</td>\n",
       "      <td>93.760324</td>\n",
       "      <td>78.702832</td>\n",
       "      <td>NaN</td>\n",
       "      <td>NaN</td>\n",
       "      <td>NaN</td>\n",
       "      <td>22.798652</td>\n",
       "      <td>NaN</td>\n",
       "    </tr>\n",
       "    <tr>\n",
       "      <th>2</th>\n",
       "      <td>bottas</td>\n",
       "      <td>NaN</td>\n",
       "      <td>NaN</td>\n",
       "      <td>66.528682</td>\n",
       "      <td>NaN</td>\n",
       "      <td>98.465566</td>\n",
       "      <td>128.093221</td>\n",
       "      <td>8.467517</td>\n",
       "      <td>124.060371</td>\n",
       "    </tr>\n",
       "    <tr>\n",
       "      <th>3</th>\n",
       "      <td>de_vries</td>\n",
       "      <td>NaN</td>\n",
       "      <td>NaN</td>\n",
       "      <td>NaN</td>\n",
       "      <td>NaN</td>\n",
       "      <td>NaN</td>\n",
       "      <td>NaN</td>\n",
       "      <td>NaN</td>\n",
       "      <td>NaN</td>\n",
       "    </tr>\n",
       "    <tr>\n",
       "      <th>4</th>\n",
       "      <td>gasly</td>\n",
       "      <td>NaN</td>\n",
       "      <td>NaN</td>\n",
       "      <td>NaN</td>\n",
       "      <td>NaN</td>\n",
       "      <td>NaN</td>\n",
       "      <td>NaN</td>\n",
       "      <td>NaN</td>\n",
       "      <td>NaN</td>\n",
       "    </tr>\n",
       "    <tr>\n",
       "      <th>5</th>\n",
       "      <td>hamilton</td>\n",
       "      <td>77.129723</td>\n",
       "      <td>59.452027</td>\n",
       "      <td>NaN</td>\n",
       "      <td>107.772428</td>\n",
       "      <td>183.285822</td>\n",
       "      <td>129.312156</td>\n",
       "      <td>55.989086</td>\n",
       "      <td>100.584347</td>\n",
       "    </tr>\n",
       "    <tr>\n",
       "      <th>6</th>\n",
       "      <td>hulkenberg</td>\n",
       "      <td>NaN</td>\n",
       "      <td>NaN</td>\n",
       "      <td>62.738009</td>\n",
       "      <td>NaN</td>\n",
       "      <td>97.966368</td>\n",
       "      <td>NaN</td>\n",
       "      <td>10.862832</td>\n",
       "      <td>NaN</td>\n",
       "    </tr>\n",
       "    <tr>\n",
       "      <th>7</th>\n",
       "      <td>kevin_magnussen</td>\n",
       "      <td>NaN</td>\n",
       "      <td>NaN</td>\n",
       "      <td>88.930735</td>\n",
       "      <td>NaN</td>\n",
       "      <td>-79.022493</td>\n",
       "      <td>NaN</td>\n",
       "      <td>NaN</td>\n",
       "      <td>26.746444</td>\n",
       "    </tr>\n",
       "    <tr>\n",
       "      <th>8</th>\n",
       "      <td>latifi</td>\n",
       "      <td>NaN</td>\n",
       "      <td>NaN</td>\n",
       "      <td>NaN</td>\n",
       "      <td>NaN</td>\n",
       "      <td>NaN</td>\n",
       "      <td>NaN</td>\n",
       "      <td>NaN</td>\n",
       "      <td>NaN</td>\n",
       "    </tr>\n",
       "    <tr>\n",
       "      <th>9</th>\n",
       "      <td>leclerc</td>\n",
       "      <td>NaN</td>\n",
       "      <td>NaN</td>\n",
       "      <td>NaN</td>\n",
       "      <td>NaN</td>\n",
       "      <td>NaN</td>\n",
       "      <td>NaN</td>\n",
       "      <td>-39.169362</td>\n",
       "      <td>59.000959</td>\n",
       "    </tr>\n",
       "    <tr>\n",
       "      <th>10</th>\n",
       "      <td>max_verstappen</td>\n",
       "      <td>NaN</td>\n",
       "      <td>NaN</td>\n",
       "      <td>NaN</td>\n",
       "      <td>NaN</td>\n",
       "      <td>83.178450</td>\n",
       "      <td>109.063294</td>\n",
       "      <td>15.983404</td>\n",
       "      <td>98.788943</td>\n",
       "    </tr>\n",
       "    <tr>\n",
       "      <th>11</th>\n",
       "      <td>mick_schumacher</td>\n",
       "      <td>NaN</td>\n",
       "      <td>NaN</td>\n",
       "      <td>NaN</td>\n",
       "      <td>NaN</td>\n",
       "      <td>NaN</td>\n",
       "      <td>NaN</td>\n",
       "      <td>NaN</td>\n",
       "      <td>NaN</td>\n",
       "    </tr>\n",
       "    <tr>\n",
       "      <th>12</th>\n",
       "      <td>norris</td>\n",
       "      <td>NaN</td>\n",
       "      <td>NaN</td>\n",
       "      <td>NaN</td>\n",
       "      <td>NaN</td>\n",
       "      <td>NaN</td>\n",
       "      <td>NaN</td>\n",
       "      <td>NaN</td>\n",
       "      <td>NaN</td>\n",
       "    </tr>\n",
       "    <tr>\n",
       "      <th>13</th>\n",
       "      <td>ocon</td>\n",
       "      <td>NaN</td>\n",
       "      <td>NaN</td>\n",
       "      <td>NaN</td>\n",
       "      <td>NaN</td>\n",
       "      <td>NaN</td>\n",
       "      <td>NaN</td>\n",
       "      <td>-24.164497</td>\n",
       "      <td>NaN</td>\n",
       "    </tr>\n",
       "    <tr>\n",
       "      <th>14</th>\n",
       "      <td>perez</td>\n",
       "      <td>31.507634</td>\n",
       "      <td>19.839858</td>\n",
       "      <td>27.257294</td>\n",
       "      <td>NaN</td>\n",
       "      <td>71.561436</td>\n",
       "      <td>NaN</td>\n",
       "      <td>-8.198747</td>\n",
       "      <td>NaN</td>\n",
       "    </tr>\n",
       "    <tr>\n",
       "      <th>15</th>\n",
       "      <td>ricciardo</td>\n",
       "      <td>29.066592</td>\n",
       "      <td>NaN</td>\n",
       "      <td>93.304965</td>\n",
       "      <td>NaN</td>\n",
       "      <td>140.353086</td>\n",
       "      <td>NaN</td>\n",
       "      <td>48.048621</td>\n",
       "      <td>NaN</td>\n",
       "    </tr>\n",
       "    <tr>\n",
       "      <th>16</th>\n",
       "      <td>russell</td>\n",
       "      <td>NaN</td>\n",
       "      <td>NaN</td>\n",
       "      <td>NaN</td>\n",
       "      <td>NaN</td>\n",
       "      <td>NaN</td>\n",
       "      <td>NaN</td>\n",
       "      <td>NaN</td>\n",
       "      <td>NaN</td>\n",
       "    </tr>\n",
       "    <tr>\n",
       "      <th>17</th>\n",
       "      <td>sainz</td>\n",
       "      <td>NaN</td>\n",
       "      <td>NaN</td>\n",
       "      <td>NaN</td>\n",
       "      <td>NaN</td>\n",
       "      <td>112.205946</td>\n",
       "      <td>NaN</td>\n",
       "      <td>-4.552035</td>\n",
       "      <td>NaN</td>\n",
       "    </tr>\n",
       "    <tr>\n",
       "      <th>18</th>\n",
       "      <td>stroll</td>\n",
       "      <td>NaN</td>\n",
       "      <td>NaN</td>\n",
       "      <td>NaN</td>\n",
       "      <td>NaN</td>\n",
       "      <td>NaN</td>\n",
       "      <td>NaN</td>\n",
       "      <td>-43.868642</td>\n",
       "      <td>NaN</td>\n",
       "    </tr>\n",
       "    <tr>\n",
       "      <th>19</th>\n",
       "      <td>tsunoda</td>\n",
       "      <td>NaN</td>\n",
       "      <td>NaN</td>\n",
       "      <td>NaN</td>\n",
       "      <td>NaN</td>\n",
       "      <td>NaN</td>\n",
       "      <td>NaN</td>\n",
       "      <td>NaN</td>\n",
       "      <td>NaN</td>\n",
       "    </tr>\n",
       "    <tr>\n",
       "      <th>20</th>\n",
       "      <td>vettel</td>\n",
       "      <td>83.932910</td>\n",
       "      <td>83.064553</td>\n",
       "      <td>NaN</td>\n",
       "      <td>71.457901</td>\n",
       "      <td>178.355029</td>\n",
       "      <td>140.715804</td>\n",
       "      <td>63.620114</td>\n",
       "      <td>59.591494</td>\n",
       "    </tr>\n",
       "    <tr>\n",
       "      <th>21</th>\n",
       "      <td>zhou</td>\n",
       "      <td>NaN</td>\n",
       "      <td>NaN</td>\n",
       "      <td>NaN</td>\n",
       "      <td>NaN</td>\n",
       "      <td>NaN</td>\n",
       "      <td>NaN</td>\n",
       "      <td>NaN</td>\n",
       "      <td>NaN</td>\n",
       "    </tr>\n",
       "  </tbody>\n",
       "</table>\n",
       "</div>"
      ],
      "text/plain": [
       "            Drivers  Season 2012  Season 2013  Season 2014  Season 2015  \\\n",
       "0             albon          NaN          NaN          NaN          NaN   \n",
       "1            alonso    50.513853    93.760324    78.702832          NaN   \n",
       "2            bottas          NaN          NaN    66.528682          NaN   \n",
       "3          de_vries          NaN          NaN          NaN          NaN   \n",
       "4             gasly          NaN          NaN          NaN          NaN   \n",
       "5          hamilton    77.129723    59.452027          NaN   107.772428   \n",
       "6        hulkenberg          NaN          NaN    62.738009          NaN   \n",
       "7   kevin_magnussen          NaN          NaN    88.930735          NaN   \n",
       "8            latifi          NaN          NaN          NaN          NaN   \n",
       "9           leclerc          NaN          NaN          NaN          NaN   \n",
       "10   max_verstappen          NaN          NaN          NaN          NaN   \n",
       "11  mick_schumacher          NaN          NaN          NaN          NaN   \n",
       "12           norris          NaN          NaN          NaN          NaN   \n",
       "13             ocon          NaN          NaN          NaN          NaN   \n",
       "14            perez    31.507634    19.839858    27.257294          NaN   \n",
       "15        ricciardo    29.066592          NaN    93.304965          NaN   \n",
       "16          russell          NaN          NaN          NaN          NaN   \n",
       "17            sainz          NaN          NaN          NaN          NaN   \n",
       "18           stroll          NaN          NaN          NaN          NaN   \n",
       "19          tsunoda          NaN          NaN          NaN          NaN   \n",
       "20           vettel    83.932910    83.064553          NaN    71.457901   \n",
       "21             zhou          NaN          NaN          NaN          NaN   \n",
       "\n",
       "    Season 2016  Season 2017  Season 2018  Season 2019  \n",
       "0           NaN          NaN          NaN          NaN  \n",
       "1           NaN          NaN    22.798652          NaN  \n",
       "2     98.465566   128.093221     8.467517   124.060371  \n",
       "3           NaN          NaN          NaN          NaN  \n",
       "4           NaN          NaN          NaN          NaN  \n",
       "5    183.285822   129.312156    55.989086   100.584347  \n",
       "6     97.966368          NaN    10.862832          NaN  \n",
       "7    -79.022493          NaN          NaN    26.746444  \n",
       "8           NaN          NaN          NaN          NaN  \n",
       "9           NaN          NaN   -39.169362    59.000959  \n",
       "10    83.178450   109.063294    15.983404    98.788943  \n",
       "11          NaN          NaN          NaN          NaN  \n",
       "12          NaN          NaN          NaN          NaN  \n",
       "13          NaN          NaN   -24.164497          NaN  \n",
       "14    71.561436          NaN    -8.198747          NaN  \n",
       "15   140.353086          NaN    48.048621          NaN  \n",
       "16          NaN          NaN          NaN          NaN  \n",
       "17   112.205946          NaN    -4.552035          NaN  \n",
       "18          NaN          NaN   -43.868642          NaN  \n",
       "19          NaN          NaN          NaN          NaN  \n",
       "20   178.355029   140.715804    63.620114    59.591494  \n",
       "21          NaN          NaN          NaN          NaN  "
      ]
     },
     "execution_count": 124,
     "metadata": {},
     "output_type": "execute_result"
    }
   ],
   "source": [
    "df = pd.DataFrame()\n",
    "df['Drivers'] = current_drivers\n",
    "\n",
    "for year in range(2012,2022):\n",
    "    round = get_round(year,'albert_park')\n",
    "    if round != None:\n",
    "        for driver in current_drivers:\n",
    "            score_list = get_score(year,round,current_drivers)\n",
    "    else: continue\n",
    "    df[f'Season {year}'] = score_list\n",
    "df\n"
   ]
  },
  {
   "cell_type": "code",
   "execution_count": 125,
   "metadata": {},
   "outputs": [
    {
     "name": "stdout",
     "output_type": "stream",
     "text": [
      "hamilton             Score:713.5255892012759\n",
      "vettel               Score:680.7378048817968\n",
      "bottas               Score:425.6153562661578\n",
      "ricciardo            Score:310.7732637308615\n",
      "max_verstappen       Score:307.0140912703562\n",
      "alonso               Score:245.77566058119692\n",
      "hulkenberg           Score:171.56721046197316\n",
      "perez                Score:141.96747447381543\n",
      "sainz                Score:107.65391170968486\n",
      "kevin_magnussen      Score:36.65468565071083\n",
      "leclerc              Score:19.8315971969484\n",
      "albon                Score:0.0\n",
      "de_vries             Score:0.0\n",
      "gasly                Score:0.0\n",
      "latifi               Score:0.0\n",
      "mick_schumacher      Score:0.0\n",
      "norris               Score:0.0\n",
      "russell              Score:0.0\n",
      "tsunoda              Score:0.0\n",
      "zhou                 Score:0.0\n",
      "ocon                 Score:-24.164497054296177\n",
      "stroll               Score:-43.86864213086298\n"
     ]
    }
   ],
   "source": [
    "score_list = []\n",
    "df_list = []\n",
    "for driver in df['Drivers']:\n",
    "    driver_row = df.loc[df['Drivers'] == driver]\n",
    "    score = driver_row.drop('Drivers',axis=1).sum(axis=1, skipna=True).values[0]\n",
    "    score_list.append((driver,score))\n",
    "    df_list.append(score)\n",
    "score_list = sort_scores(score_list)\n",
    "df['Total'] = df_list\n",
    "for _ in score_list:\n",
    "    print(f'{_[0]: <20} Score:{_[1]}')"
   ]
  },
  {
   "cell_type": "code",
   "execution_count": 126,
   "metadata": {},
   "outputs": [
    {
     "data": {
      "text/html": [
       "<div>\n",
       "<style scoped>\n",
       "    .dataframe tbody tr th:only-of-type {\n",
       "        vertical-align: middle;\n",
       "    }\n",
       "\n",
       "    .dataframe tbody tr th {\n",
       "        vertical-align: top;\n",
       "    }\n",
       "\n",
       "    .dataframe thead th {\n",
       "        text-align: right;\n",
       "    }\n",
       "</style>\n",
       "<table border=\"1\" class=\"dataframe\">\n",
       "  <thead>\n",
       "    <tr style=\"text-align: right;\">\n",
       "      <th></th>\n",
       "      <th>Drivers</th>\n",
       "      <th>Season 2012</th>\n",
       "      <th>Season 2013</th>\n",
       "      <th>Season 2014</th>\n",
       "      <th>Season 2015</th>\n",
       "      <th>Season 2016</th>\n",
       "      <th>Season 2017</th>\n",
       "      <th>Season 2018</th>\n",
       "      <th>Season 2019</th>\n",
       "      <th>Total</th>\n",
       "    </tr>\n",
       "  </thead>\n",
       "  <tbody>\n",
       "    <tr>\n",
       "      <th>5</th>\n",
       "      <td>hamilton</td>\n",
       "      <td>77.129723</td>\n",
       "      <td>59.452027</td>\n",
       "      <td>NaN</td>\n",
       "      <td>107.772428</td>\n",
       "      <td>183.285822</td>\n",
       "      <td>129.312156</td>\n",
       "      <td>55.989086</td>\n",
       "      <td>100.584347</td>\n",
       "      <td>713.525589</td>\n",
       "    </tr>\n",
       "    <tr>\n",
       "      <th>20</th>\n",
       "      <td>vettel</td>\n",
       "      <td>83.932910</td>\n",
       "      <td>83.064553</td>\n",
       "      <td>NaN</td>\n",
       "      <td>71.457901</td>\n",
       "      <td>178.355029</td>\n",
       "      <td>140.715804</td>\n",
       "      <td>63.620114</td>\n",
       "      <td>59.591494</td>\n",
       "      <td>680.737805</td>\n",
       "    </tr>\n",
       "    <tr>\n",
       "      <th>2</th>\n",
       "      <td>bottas</td>\n",
       "      <td>NaN</td>\n",
       "      <td>NaN</td>\n",
       "      <td>66.528682</td>\n",
       "      <td>NaN</td>\n",
       "      <td>98.465566</td>\n",
       "      <td>128.093221</td>\n",
       "      <td>8.467517</td>\n",
       "      <td>124.060371</td>\n",
       "      <td>425.615356</td>\n",
       "    </tr>\n",
       "    <tr>\n",
       "      <th>15</th>\n",
       "      <td>ricciardo</td>\n",
       "      <td>29.066592</td>\n",
       "      <td>NaN</td>\n",
       "      <td>93.304965</td>\n",
       "      <td>NaN</td>\n",
       "      <td>140.353086</td>\n",
       "      <td>NaN</td>\n",
       "      <td>48.048621</td>\n",
       "      <td>NaN</td>\n",
       "      <td>310.773264</td>\n",
       "    </tr>\n",
       "    <tr>\n",
       "      <th>10</th>\n",
       "      <td>max_verstappen</td>\n",
       "      <td>NaN</td>\n",
       "      <td>NaN</td>\n",
       "      <td>NaN</td>\n",
       "      <td>NaN</td>\n",
       "      <td>83.178450</td>\n",
       "      <td>109.063294</td>\n",
       "      <td>15.983404</td>\n",
       "      <td>98.788943</td>\n",
       "      <td>307.014091</td>\n",
       "    </tr>\n",
       "    <tr>\n",
       "      <th>1</th>\n",
       "      <td>alonso</td>\n",
       "      <td>50.513853</td>\n",
       "      <td>93.760324</td>\n",
       "      <td>78.702832</td>\n",
       "      <td>NaN</td>\n",
       "      <td>NaN</td>\n",
       "      <td>NaN</td>\n",
       "      <td>22.798652</td>\n",
       "      <td>NaN</td>\n",
       "      <td>245.775661</td>\n",
       "    </tr>\n",
       "    <tr>\n",
       "      <th>6</th>\n",
       "      <td>hulkenberg</td>\n",
       "      <td>NaN</td>\n",
       "      <td>NaN</td>\n",
       "      <td>62.738009</td>\n",
       "      <td>NaN</td>\n",
       "      <td>97.966368</td>\n",
       "      <td>NaN</td>\n",
       "      <td>10.862832</td>\n",
       "      <td>NaN</td>\n",
       "      <td>171.567210</td>\n",
       "    </tr>\n",
       "    <tr>\n",
       "      <th>14</th>\n",
       "      <td>perez</td>\n",
       "      <td>31.507634</td>\n",
       "      <td>19.839858</td>\n",
       "      <td>27.257294</td>\n",
       "      <td>NaN</td>\n",
       "      <td>71.561436</td>\n",
       "      <td>NaN</td>\n",
       "      <td>-8.198747</td>\n",
       "      <td>NaN</td>\n",
       "      <td>141.967474</td>\n",
       "    </tr>\n",
       "    <tr>\n",
       "      <th>17</th>\n",
       "      <td>sainz</td>\n",
       "      <td>NaN</td>\n",
       "      <td>NaN</td>\n",
       "      <td>NaN</td>\n",
       "      <td>NaN</td>\n",
       "      <td>112.205946</td>\n",
       "      <td>NaN</td>\n",
       "      <td>-4.552035</td>\n",
       "      <td>NaN</td>\n",
       "      <td>107.653912</td>\n",
       "    </tr>\n",
       "    <tr>\n",
       "      <th>7</th>\n",
       "      <td>kevin_magnussen</td>\n",
       "      <td>NaN</td>\n",
       "      <td>NaN</td>\n",
       "      <td>88.930735</td>\n",
       "      <td>NaN</td>\n",
       "      <td>-79.022493</td>\n",
       "      <td>NaN</td>\n",
       "      <td>NaN</td>\n",
       "      <td>26.746444</td>\n",
       "      <td>36.654686</td>\n",
       "    </tr>\n",
       "    <tr>\n",
       "      <th>9</th>\n",
       "      <td>leclerc</td>\n",
       "      <td>NaN</td>\n",
       "      <td>NaN</td>\n",
       "      <td>NaN</td>\n",
       "      <td>NaN</td>\n",
       "      <td>NaN</td>\n",
       "      <td>NaN</td>\n",
       "      <td>-39.169362</td>\n",
       "      <td>59.000959</td>\n",
       "      <td>19.831597</td>\n",
       "    </tr>\n",
       "    <tr>\n",
       "      <th>0</th>\n",
       "      <td>albon</td>\n",
       "      <td>NaN</td>\n",
       "      <td>NaN</td>\n",
       "      <td>NaN</td>\n",
       "      <td>NaN</td>\n",
       "      <td>NaN</td>\n",
       "      <td>NaN</td>\n",
       "      <td>NaN</td>\n",
       "      <td>NaN</td>\n",
       "      <td>0.000000</td>\n",
       "    </tr>\n",
       "    <tr>\n",
       "      <th>19</th>\n",
       "      <td>tsunoda</td>\n",
       "      <td>NaN</td>\n",
       "      <td>NaN</td>\n",
       "      <td>NaN</td>\n",
       "      <td>NaN</td>\n",
       "      <td>NaN</td>\n",
       "      <td>NaN</td>\n",
       "      <td>NaN</td>\n",
       "      <td>NaN</td>\n",
       "      <td>0.000000</td>\n",
       "    </tr>\n",
       "    <tr>\n",
       "      <th>16</th>\n",
       "      <td>russell</td>\n",
       "      <td>NaN</td>\n",
       "      <td>NaN</td>\n",
       "      <td>NaN</td>\n",
       "      <td>NaN</td>\n",
       "      <td>NaN</td>\n",
       "      <td>NaN</td>\n",
       "      <td>NaN</td>\n",
       "      <td>NaN</td>\n",
       "      <td>0.000000</td>\n",
       "    </tr>\n",
       "    <tr>\n",
       "      <th>11</th>\n",
       "      <td>mick_schumacher</td>\n",
       "      <td>NaN</td>\n",
       "      <td>NaN</td>\n",
       "      <td>NaN</td>\n",
       "      <td>NaN</td>\n",
       "      <td>NaN</td>\n",
       "      <td>NaN</td>\n",
       "      <td>NaN</td>\n",
       "      <td>NaN</td>\n",
       "      <td>0.000000</td>\n",
       "    </tr>\n",
       "    <tr>\n",
       "      <th>12</th>\n",
       "      <td>norris</td>\n",
       "      <td>NaN</td>\n",
       "      <td>NaN</td>\n",
       "      <td>NaN</td>\n",
       "      <td>NaN</td>\n",
       "      <td>NaN</td>\n",
       "      <td>NaN</td>\n",
       "      <td>NaN</td>\n",
       "      <td>NaN</td>\n",
       "      <td>0.000000</td>\n",
       "    </tr>\n",
       "    <tr>\n",
       "      <th>8</th>\n",
       "      <td>latifi</td>\n",
       "      <td>NaN</td>\n",
       "      <td>NaN</td>\n",
       "      <td>NaN</td>\n",
       "      <td>NaN</td>\n",
       "      <td>NaN</td>\n",
       "      <td>NaN</td>\n",
       "      <td>NaN</td>\n",
       "      <td>NaN</td>\n",
       "      <td>0.000000</td>\n",
       "    </tr>\n",
       "    <tr>\n",
       "      <th>4</th>\n",
       "      <td>gasly</td>\n",
       "      <td>NaN</td>\n",
       "      <td>NaN</td>\n",
       "      <td>NaN</td>\n",
       "      <td>NaN</td>\n",
       "      <td>NaN</td>\n",
       "      <td>NaN</td>\n",
       "      <td>NaN</td>\n",
       "      <td>NaN</td>\n",
       "      <td>0.000000</td>\n",
       "    </tr>\n",
       "    <tr>\n",
       "      <th>3</th>\n",
       "      <td>de_vries</td>\n",
       "      <td>NaN</td>\n",
       "      <td>NaN</td>\n",
       "      <td>NaN</td>\n",
       "      <td>NaN</td>\n",
       "      <td>NaN</td>\n",
       "      <td>NaN</td>\n",
       "      <td>NaN</td>\n",
       "      <td>NaN</td>\n",
       "      <td>0.000000</td>\n",
       "    </tr>\n",
       "    <tr>\n",
       "      <th>21</th>\n",
       "      <td>zhou</td>\n",
       "      <td>NaN</td>\n",
       "      <td>NaN</td>\n",
       "      <td>NaN</td>\n",
       "      <td>NaN</td>\n",
       "      <td>NaN</td>\n",
       "      <td>NaN</td>\n",
       "      <td>NaN</td>\n",
       "      <td>NaN</td>\n",
       "      <td>0.000000</td>\n",
       "    </tr>\n",
       "    <tr>\n",
       "      <th>13</th>\n",
       "      <td>ocon</td>\n",
       "      <td>NaN</td>\n",
       "      <td>NaN</td>\n",
       "      <td>NaN</td>\n",
       "      <td>NaN</td>\n",
       "      <td>NaN</td>\n",
       "      <td>NaN</td>\n",
       "      <td>-24.164497</td>\n",
       "      <td>NaN</td>\n",
       "      <td>-24.164497</td>\n",
       "    </tr>\n",
       "    <tr>\n",
       "      <th>18</th>\n",
       "      <td>stroll</td>\n",
       "      <td>NaN</td>\n",
       "      <td>NaN</td>\n",
       "      <td>NaN</td>\n",
       "      <td>NaN</td>\n",
       "      <td>NaN</td>\n",
       "      <td>NaN</td>\n",
       "      <td>-43.868642</td>\n",
       "      <td>NaN</td>\n",
       "      <td>-43.868642</td>\n",
       "    </tr>\n",
       "  </tbody>\n",
       "</table>\n",
       "</div>"
      ],
      "text/plain": [
       "            Drivers  Season 2012  Season 2013  Season 2014  Season 2015  \\\n",
       "5          hamilton    77.129723    59.452027          NaN   107.772428   \n",
       "20           vettel    83.932910    83.064553          NaN    71.457901   \n",
       "2            bottas          NaN          NaN    66.528682          NaN   \n",
       "15        ricciardo    29.066592          NaN    93.304965          NaN   \n",
       "10   max_verstappen          NaN          NaN          NaN          NaN   \n",
       "1            alonso    50.513853    93.760324    78.702832          NaN   \n",
       "6        hulkenberg          NaN          NaN    62.738009          NaN   \n",
       "14            perez    31.507634    19.839858    27.257294          NaN   \n",
       "17            sainz          NaN          NaN          NaN          NaN   \n",
       "7   kevin_magnussen          NaN          NaN    88.930735          NaN   \n",
       "9           leclerc          NaN          NaN          NaN          NaN   \n",
       "0             albon          NaN          NaN          NaN          NaN   \n",
       "19          tsunoda          NaN          NaN          NaN          NaN   \n",
       "16          russell          NaN          NaN          NaN          NaN   \n",
       "11  mick_schumacher          NaN          NaN          NaN          NaN   \n",
       "12           norris          NaN          NaN          NaN          NaN   \n",
       "8            latifi          NaN          NaN          NaN          NaN   \n",
       "4             gasly          NaN          NaN          NaN          NaN   \n",
       "3          de_vries          NaN          NaN          NaN          NaN   \n",
       "21             zhou          NaN          NaN          NaN          NaN   \n",
       "13             ocon          NaN          NaN          NaN          NaN   \n",
       "18           stroll          NaN          NaN          NaN          NaN   \n",
       "\n",
       "    Season 2016  Season 2017  Season 2018  Season 2019       Total  \n",
       "5    183.285822   129.312156    55.989086   100.584347  713.525589  \n",
       "20   178.355029   140.715804    63.620114    59.591494  680.737805  \n",
       "2     98.465566   128.093221     8.467517   124.060371  425.615356  \n",
       "15   140.353086          NaN    48.048621          NaN  310.773264  \n",
       "10    83.178450   109.063294    15.983404    98.788943  307.014091  \n",
       "1           NaN          NaN    22.798652          NaN  245.775661  \n",
       "6     97.966368          NaN    10.862832          NaN  171.567210  \n",
       "14    71.561436          NaN    -8.198747          NaN  141.967474  \n",
       "17   112.205946          NaN    -4.552035          NaN  107.653912  \n",
       "7    -79.022493          NaN          NaN    26.746444   36.654686  \n",
       "9           NaN          NaN   -39.169362    59.000959   19.831597  \n",
       "0           NaN          NaN          NaN          NaN    0.000000  \n",
       "19          NaN          NaN          NaN          NaN    0.000000  \n",
       "16          NaN          NaN          NaN          NaN    0.000000  \n",
       "11          NaN          NaN          NaN          NaN    0.000000  \n",
       "12          NaN          NaN          NaN          NaN    0.000000  \n",
       "8           NaN          NaN          NaN          NaN    0.000000  \n",
       "4           NaN          NaN          NaN          NaN    0.000000  \n",
       "3           NaN          NaN          NaN          NaN    0.000000  \n",
       "21          NaN          NaN          NaN          NaN    0.000000  \n",
       "13          NaN          NaN   -24.164497          NaN  -24.164497  \n",
       "18          NaN          NaN   -43.868642          NaN  -43.868642  "
      ]
     },
     "execution_count": 126,
     "metadata": {},
     "output_type": "execute_result"
    }
   ],
   "source": [
    "df.sort_values('Total', ascending=False ,inplace=True)\n",
    "df"
   ]
  },
  {
   "cell_type": "code",
   "execution_count": 129,
   "metadata": {},
   "outputs": [
    {
     "data": {
      "application/vnd.plotly.v1+json": {
       "config": {
        "plotlyServerURL": "https://plot.ly"
       },
       "data": [
        {
         "alignmentgroup": "True",
         "hovertemplate": "x=%{x}<br>y=%{y}<extra></extra>",
         "legendgroup": "",
         "marker": {
          "color": "#636efa",
          "pattern": {
           "shape": ""
          }
         },
         "name": "",
         "offsetgroup": "",
         "orientation": "v",
         "showlegend": false,
         "textposition": "auto",
         "type": "bar",
         "x": [
          "hamilton",
          "vettel",
          "bottas",
          "ricciardo",
          "max_verstappen",
          "alonso",
          "hulkenberg",
          "perez",
          "sainz",
          "kevin_magnussen",
          "leclerc",
          "albon",
          "tsunoda",
          "russell",
          "mick_schumacher",
          "norris",
          "latifi",
          "gasly",
          "de_vries",
          "zhou",
          "ocon",
          "stroll"
         ],
         "xaxis": "x",
         "y": [
          713.5255892012759,
          680.7378048817968,
          425.6153562661578,
          310.7732637308615,
          307.0140912703562,
          245.77566058119692,
          171.56721046197316,
          141.96747447381543,
          107.65391170968486,
          36.65468565071083,
          19.8315971969484,
          0,
          0,
          0,
          0,
          0,
          0,
          0,
          0,
          0,
          -24.164497054296177,
          -43.86864213086298
         ],
         "yaxis": "y"
        }
       ],
       "layout": {
        "barmode": "relative",
        "legend": {
         "tracegroupgap": 0
        },
        "margin": {
         "t": 60
        },
        "template": {
         "data": {
          "bar": [
           {
            "error_x": {
             "color": "#2a3f5f"
            },
            "error_y": {
             "color": "#2a3f5f"
            },
            "marker": {
             "line": {
              "color": "#E5ECF6",
              "width": 0.5
             },
             "pattern": {
              "fillmode": "overlay",
              "size": 10,
              "solidity": 0.2
             }
            },
            "type": "bar"
           }
          ],
          "barpolar": [
           {
            "marker": {
             "line": {
              "color": "#E5ECF6",
              "width": 0.5
             },
             "pattern": {
              "fillmode": "overlay",
              "size": 10,
              "solidity": 0.2
             }
            },
            "type": "barpolar"
           }
          ],
          "carpet": [
           {
            "aaxis": {
             "endlinecolor": "#2a3f5f",
             "gridcolor": "white",
             "linecolor": "white",
             "minorgridcolor": "white",
             "startlinecolor": "#2a3f5f"
            },
            "baxis": {
             "endlinecolor": "#2a3f5f",
             "gridcolor": "white",
             "linecolor": "white",
             "minorgridcolor": "white",
             "startlinecolor": "#2a3f5f"
            },
            "type": "carpet"
           }
          ],
          "choropleth": [
           {
            "colorbar": {
             "outlinewidth": 0,
             "ticks": ""
            },
            "type": "choropleth"
           }
          ],
          "contour": [
           {
            "colorbar": {
             "outlinewidth": 0,
             "ticks": ""
            },
            "colorscale": [
             [
              0,
              "#0d0887"
             ],
             [
              0.1111111111111111,
              "#46039f"
             ],
             [
              0.2222222222222222,
              "#7201a8"
             ],
             [
              0.3333333333333333,
              "#9c179e"
             ],
             [
              0.4444444444444444,
              "#bd3786"
             ],
             [
              0.5555555555555556,
              "#d8576b"
             ],
             [
              0.6666666666666666,
              "#ed7953"
             ],
             [
              0.7777777777777778,
              "#fb9f3a"
             ],
             [
              0.8888888888888888,
              "#fdca26"
             ],
             [
              1,
              "#f0f921"
             ]
            ],
            "type": "contour"
           }
          ],
          "contourcarpet": [
           {
            "colorbar": {
             "outlinewidth": 0,
             "ticks": ""
            },
            "type": "contourcarpet"
           }
          ],
          "heatmap": [
           {
            "colorbar": {
             "outlinewidth": 0,
             "ticks": ""
            },
            "colorscale": [
             [
              0,
              "#0d0887"
             ],
             [
              0.1111111111111111,
              "#46039f"
             ],
             [
              0.2222222222222222,
              "#7201a8"
             ],
             [
              0.3333333333333333,
              "#9c179e"
             ],
             [
              0.4444444444444444,
              "#bd3786"
             ],
             [
              0.5555555555555556,
              "#d8576b"
             ],
             [
              0.6666666666666666,
              "#ed7953"
             ],
             [
              0.7777777777777778,
              "#fb9f3a"
             ],
             [
              0.8888888888888888,
              "#fdca26"
             ],
             [
              1,
              "#f0f921"
             ]
            ],
            "type": "heatmap"
           }
          ],
          "heatmapgl": [
           {
            "colorbar": {
             "outlinewidth": 0,
             "ticks": ""
            },
            "colorscale": [
             [
              0,
              "#0d0887"
             ],
             [
              0.1111111111111111,
              "#46039f"
             ],
             [
              0.2222222222222222,
              "#7201a8"
             ],
             [
              0.3333333333333333,
              "#9c179e"
             ],
             [
              0.4444444444444444,
              "#bd3786"
             ],
             [
              0.5555555555555556,
              "#d8576b"
             ],
             [
              0.6666666666666666,
              "#ed7953"
             ],
             [
              0.7777777777777778,
              "#fb9f3a"
             ],
             [
              0.8888888888888888,
              "#fdca26"
             ],
             [
              1,
              "#f0f921"
             ]
            ],
            "type": "heatmapgl"
           }
          ],
          "histogram": [
           {
            "marker": {
             "pattern": {
              "fillmode": "overlay",
              "size": 10,
              "solidity": 0.2
             }
            },
            "type": "histogram"
           }
          ],
          "histogram2d": [
           {
            "colorbar": {
             "outlinewidth": 0,
             "ticks": ""
            },
            "colorscale": [
             [
              0,
              "#0d0887"
             ],
             [
              0.1111111111111111,
              "#46039f"
             ],
             [
              0.2222222222222222,
              "#7201a8"
             ],
             [
              0.3333333333333333,
              "#9c179e"
             ],
             [
              0.4444444444444444,
              "#bd3786"
             ],
             [
              0.5555555555555556,
              "#d8576b"
             ],
             [
              0.6666666666666666,
              "#ed7953"
             ],
             [
              0.7777777777777778,
              "#fb9f3a"
             ],
             [
              0.8888888888888888,
              "#fdca26"
             ],
             [
              1,
              "#f0f921"
             ]
            ],
            "type": "histogram2d"
           }
          ],
          "histogram2dcontour": [
           {
            "colorbar": {
             "outlinewidth": 0,
             "ticks": ""
            },
            "colorscale": [
             [
              0,
              "#0d0887"
             ],
             [
              0.1111111111111111,
              "#46039f"
             ],
             [
              0.2222222222222222,
              "#7201a8"
             ],
             [
              0.3333333333333333,
              "#9c179e"
             ],
             [
              0.4444444444444444,
              "#bd3786"
             ],
             [
              0.5555555555555556,
              "#d8576b"
             ],
             [
              0.6666666666666666,
              "#ed7953"
             ],
             [
              0.7777777777777778,
              "#fb9f3a"
             ],
             [
              0.8888888888888888,
              "#fdca26"
             ],
             [
              1,
              "#f0f921"
             ]
            ],
            "type": "histogram2dcontour"
           }
          ],
          "mesh3d": [
           {
            "colorbar": {
             "outlinewidth": 0,
             "ticks": ""
            },
            "type": "mesh3d"
           }
          ],
          "parcoords": [
           {
            "line": {
             "colorbar": {
              "outlinewidth": 0,
              "ticks": ""
             }
            },
            "type": "parcoords"
           }
          ],
          "pie": [
           {
            "automargin": true,
            "type": "pie"
           }
          ],
          "scatter": [
           {
            "fillpattern": {
             "fillmode": "overlay",
             "size": 10,
             "solidity": 0.2
            },
            "type": "scatter"
           }
          ],
          "scatter3d": [
           {
            "line": {
             "colorbar": {
              "outlinewidth": 0,
              "ticks": ""
             }
            },
            "marker": {
             "colorbar": {
              "outlinewidth": 0,
              "ticks": ""
             }
            },
            "type": "scatter3d"
           }
          ],
          "scattercarpet": [
           {
            "marker": {
             "colorbar": {
              "outlinewidth": 0,
              "ticks": ""
             }
            },
            "type": "scattercarpet"
           }
          ],
          "scattergeo": [
           {
            "marker": {
             "colorbar": {
              "outlinewidth": 0,
              "ticks": ""
             }
            },
            "type": "scattergeo"
           }
          ],
          "scattergl": [
           {
            "marker": {
             "colorbar": {
              "outlinewidth": 0,
              "ticks": ""
             }
            },
            "type": "scattergl"
           }
          ],
          "scattermapbox": [
           {
            "marker": {
             "colorbar": {
              "outlinewidth": 0,
              "ticks": ""
             }
            },
            "type": "scattermapbox"
           }
          ],
          "scatterpolar": [
           {
            "marker": {
             "colorbar": {
              "outlinewidth": 0,
              "ticks": ""
             }
            },
            "type": "scatterpolar"
           }
          ],
          "scatterpolargl": [
           {
            "marker": {
             "colorbar": {
              "outlinewidth": 0,
              "ticks": ""
             }
            },
            "type": "scatterpolargl"
           }
          ],
          "scatterternary": [
           {
            "marker": {
             "colorbar": {
              "outlinewidth": 0,
              "ticks": ""
             }
            },
            "type": "scatterternary"
           }
          ],
          "surface": [
           {
            "colorbar": {
             "outlinewidth": 0,
             "ticks": ""
            },
            "colorscale": [
             [
              0,
              "#0d0887"
             ],
             [
              0.1111111111111111,
              "#46039f"
             ],
             [
              0.2222222222222222,
              "#7201a8"
             ],
             [
              0.3333333333333333,
              "#9c179e"
             ],
             [
              0.4444444444444444,
              "#bd3786"
             ],
             [
              0.5555555555555556,
              "#d8576b"
             ],
             [
              0.6666666666666666,
              "#ed7953"
             ],
             [
              0.7777777777777778,
              "#fb9f3a"
             ],
             [
              0.8888888888888888,
              "#fdca26"
             ],
             [
              1,
              "#f0f921"
             ]
            ],
            "type": "surface"
           }
          ],
          "table": [
           {
            "cells": {
             "fill": {
              "color": "#EBF0F8"
             },
             "line": {
              "color": "white"
             }
            },
            "header": {
             "fill": {
              "color": "#C8D4E3"
             },
             "line": {
              "color": "white"
             }
            },
            "type": "table"
           }
          ]
         },
         "layout": {
          "annotationdefaults": {
           "arrowcolor": "#2a3f5f",
           "arrowhead": 0,
           "arrowwidth": 1
          },
          "autotypenumbers": "strict",
          "coloraxis": {
           "colorbar": {
            "outlinewidth": 0,
            "ticks": ""
           }
          },
          "colorscale": {
           "diverging": [
            [
             0,
             "#8e0152"
            ],
            [
             0.1,
             "#c51b7d"
            ],
            [
             0.2,
             "#de77ae"
            ],
            [
             0.3,
             "#f1b6da"
            ],
            [
             0.4,
             "#fde0ef"
            ],
            [
             0.5,
             "#f7f7f7"
            ],
            [
             0.6,
             "#e6f5d0"
            ],
            [
             0.7,
             "#b8e186"
            ],
            [
             0.8,
             "#7fbc41"
            ],
            [
             0.9,
             "#4d9221"
            ],
            [
             1,
             "#276419"
            ]
           ],
           "sequential": [
            [
             0,
             "#0d0887"
            ],
            [
             0.1111111111111111,
             "#46039f"
            ],
            [
             0.2222222222222222,
             "#7201a8"
            ],
            [
             0.3333333333333333,
             "#9c179e"
            ],
            [
             0.4444444444444444,
             "#bd3786"
            ],
            [
             0.5555555555555556,
             "#d8576b"
            ],
            [
             0.6666666666666666,
             "#ed7953"
            ],
            [
             0.7777777777777778,
             "#fb9f3a"
            ],
            [
             0.8888888888888888,
             "#fdca26"
            ],
            [
             1,
             "#f0f921"
            ]
           ],
           "sequentialminus": [
            [
             0,
             "#0d0887"
            ],
            [
             0.1111111111111111,
             "#46039f"
            ],
            [
             0.2222222222222222,
             "#7201a8"
            ],
            [
             0.3333333333333333,
             "#9c179e"
            ],
            [
             0.4444444444444444,
             "#bd3786"
            ],
            [
             0.5555555555555556,
             "#d8576b"
            ],
            [
             0.6666666666666666,
             "#ed7953"
            ],
            [
             0.7777777777777778,
             "#fb9f3a"
            ],
            [
             0.8888888888888888,
             "#fdca26"
            ],
            [
             1,
             "#f0f921"
            ]
           ]
          },
          "colorway": [
           "#636efa",
           "#EF553B",
           "#00cc96",
           "#ab63fa",
           "#FFA15A",
           "#19d3f3",
           "#FF6692",
           "#B6E880",
           "#FF97FF",
           "#FECB52"
          ],
          "font": {
           "color": "#2a3f5f"
          },
          "geo": {
           "bgcolor": "white",
           "lakecolor": "white",
           "landcolor": "#E5ECF6",
           "showlakes": true,
           "showland": true,
           "subunitcolor": "white"
          },
          "hoverlabel": {
           "align": "left"
          },
          "hovermode": "closest",
          "mapbox": {
           "style": "light"
          },
          "paper_bgcolor": "white",
          "plot_bgcolor": "#E5ECF6",
          "polar": {
           "angularaxis": {
            "gridcolor": "white",
            "linecolor": "white",
            "ticks": ""
           },
           "bgcolor": "#E5ECF6",
           "radialaxis": {
            "gridcolor": "white",
            "linecolor": "white",
            "ticks": ""
           }
          },
          "scene": {
           "xaxis": {
            "backgroundcolor": "#E5ECF6",
            "gridcolor": "white",
            "gridwidth": 2,
            "linecolor": "white",
            "showbackground": true,
            "ticks": "",
            "zerolinecolor": "white"
           },
           "yaxis": {
            "backgroundcolor": "#E5ECF6",
            "gridcolor": "white",
            "gridwidth": 2,
            "linecolor": "white",
            "showbackground": true,
            "ticks": "",
            "zerolinecolor": "white"
           },
           "zaxis": {
            "backgroundcolor": "#E5ECF6",
            "gridcolor": "white",
            "gridwidth": 2,
            "linecolor": "white",
            "showbackground": true,
            "ticks": "",
            "zerolinecolor": "white"
           }
          },
          "shapedefaults": {
           "line": {
            "color": "#2a3f5f"
           }
          },
          "ternary": {
           "aaxis": {
            "gridcolor": "white",
            "linecolor": "white",
            "ticks": ""
           },
           "baxis": {
            "gridcolor": "white",
            "linecolor": "white",
            "ticks": ""
           },
           "bgcolor": "#E5ECF6",
           "caxis": {
            "gridcolor": "white",
            "linecolor": "white",
            "ticks": ""
           }
          },
          "title": {
           "x": 0.05
          },
          "xaxis": {
           "automargin": true,
           "gridcolor": "white",
           "linecolor": "white",
           "ticks": "",
           "title": {
            "standoff": 15
           },
           "zerolinecolor": "white",
           "zerolinewidth": 2
          },
          "yaxis": {
           "automargin": true,
           "gridcolor": "white",
           "linecolor": "white",
           "ticks": "",
           "title": {
            "standoff": 15
           },
           "zerolinecolor": "white",
           "zerolinewidth": 2
          }
         }
        },
        "xaxis": {
         "anchor": "y",
         "domain": [
          0,
          1
         ],
         "title": {
          "text": "x"
         }
        },
        "yaxis": {
         "anchor": "x",
         "domain": [
          0,
          1
         ],
         "title": {
          "text": "y"
         }
        }
       }
      }
     },
     "metadata": {},
     "output_type": "display_data"
    }
   ],
   "source": [
    "fig = px.bar(x=df['Drivers'], y=df['Total'])\n",
    "fig.show()"
   ]
  }
 ],
 "metadata": {
  "kernelspec": {
   "display_name": "Python 3.10.6 ('env')",
   "language": "python",
   "name": "python3"
  },
  "language_info": {
   "codemirror_mode": {
    "name": "ipython",
    "version": 3
   },
   "file_extension": ".py",
   "mimetype": "text/x-python",
   "name": "python",
   "nbconvert_exporter": "python",
   "pygments_lexer": "ipython3",
   "version": "3.10.6"
  },
  "orig_nbformat": 4,
  "vscode": {
   "interpreter": {
    "hash": "09f3d8eecba84f2f4202d253b4adc6714ee8a6f39a500ddef9e175895c02c813"
   }
  }
 },
 "nbformat": 4,
 "nbformat_minor": 2
}
