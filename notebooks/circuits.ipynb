{
 "cells": [
  {
   "cell_type": "code",
   "execution_count": 37,
   "metadata": {},
   "outputs": [],
   "source": [
    "import requests\n",
    "import json\n",
    "import os\n",
    "from pathlib import Path\n",
    "import pandas as pd\n",
    "import numpy as np\n",
    "from datetime import datetime\n",
    "import statistics"
   ]
  },
  {
   "cell_type": "code",
   "execution_count": 38,
   "metadata": {},
   "outputs": [],
   "source": [
    "def path_exist(filepath):\n",
    "    '''Checks if a filepath exist or not'''\n",
    "    if os.path.exists(filepath):\n",
    "        return True\n",
    "    return False"
   ]
  },
  {
   "cell_type": "code",
   "execution_count": 39,
   "metadata": {},
   "outputs": [],
   "source": [
    "# Takes a string lap time and converts it to a nanosecond equivalent\n",
    "def time_to_nanoseconds(raw_time):\n",
    "    try:\n",
    "        dirty = datetime.strptime(raw_time, '%M:%S.%f').time()\n",
    "        #clean = timedelta(minutes=dirty.minute, seconds=dirty.second, microseconds=dirty.microsecond)\n",
    "        nanoseconds = (dirty.minute*6e10)+(dirty.second*1e9)+(dirty.microsecond*1e3)\n",
    "        #nanoseconds = (dirty.microsecond*1000)\n",
    "        return nanoseconds/1e9\n",
    "    # Catch NaaN\n",
    "    except:\n",
    "        pass\n",
    "    try:\n",
    "        dirty = datetime.strptime(raw_time, '%I:%M:%S.%f').time()\n",
    "        return None\n",
    "    except:\n",
    "        return raw_time"
   ]
  },
  {
   "cell_type": "code",
   "execution_count": 40,
   "metadata": {},
   "outputs": [],
   "source": [
    "# find percent different between driver time and median time\n",
    "def percent_difference(driver_time,median_time):\n",
    "    diff = abs((driver_time - median_time)/((driver_time + median_time)/2))*100\n",
    "    if driver_time > median_time:\n",
    "        return -abs(diff)\n",
    "    return diff"
   ]
  },
  {
   "cell_type": "code",
   "execution_count": 41,
   "metadata": {},
   "outputs": [],
   "source": [
    "def get_round(year,circuitId):\n",
    "    '''Returns the round within a given year the circuitId was found under'''\n",
    "\n",
    "    filepath = Path(f'../data/scheduled/{year}.json')\n",
    "    jsondata = dict()\n",
    "    with open(filepath, 'r', encoding='utf-8') as infile: jsondata = json.load(infile)\n",
    "    for circuit in jsondata:\n",
    "        if circuit['Circuit']['circuitId'] == circuitId:\n",
    "            return circuit['round']\n",
    "    return None"
   ]
  },
  {
   "cell_type": "code",
   "execution_count": 42,
   "metadata": {},
   "outputs": [],
   "source": [
    "def get_score(year,round,current_drivers):\n",
    "    filepath = Path(f'../data/races/{year}/{round}.csv')\n",
    "    if path_exist(filepath):\n",
    "        original_df = pd.read_csv(filepath)\n",
    "    else:\n",
    "        filepath = Path(f'../data/races/{year}/{round}.json')\n",
    "        with open(filepath, 'r', encoding='utf-8') as infile: jsondata = json.load(infile)\n",
    "\n",
    "        # Gets list of all drivers at the start of the race, sorts them alphabetically\n",
    "        drivers = []\n",
    "        for driver in jsondata['Laps'][0]['Timings']:\n",
    "            drivers.append(driver['driverId'])\n",
    "\n",
    "        drivers.sort()\n",
    "\n",
    "        # Create original dataframe which just holds a column of the drivers\n",
    "        original_df = pd.DataFrame()\n",
    "        original_df['Drivers'] = drivers\n",
    "\n",
    "        # Goes through a race.json and adds the times for all laps per driver\n",
    "        for lap in jsondata['Laps']:\n",
    "            lap_data = []\n",
    "            \n",
    "            for _ in range(0, len(drivers)):\n",
    "                try:\n",
    "                    driver = next(item for item in lap['Timings'] if item['driverId']==drivers[_])\n",
    "                    # Create a tuple of driver and lap time\n",
    "                    lap_data.append([driver['driverId'],driver['time']])\n",
    "                except:\n",
    "                    lap_data.append([drivers[_],None])\n",
    "\n",
    "            # Sort it so it matches the rows\n",
    "            lap_data.sort(key = lambda x: x[0])\n",
    "            # Add new column of lap time\n",
    "            time_list = list(list(zip(*lap_data))[1])\n",
    "            original_df[f\"Lap {lap['number']}\"] = time_list\n",
    "            original_df.to_csv(Path(f'../data/races/{year}/{round}.csv'),index=False)\n",
    "\n",
    "    working_df = original_df.copy()\n",
    "    # print(working_df.info())\n",
    "    # Convert each string laptime to nanosecond equivolent\n",
    "    for col in working_df.columns[1:]: working_df[col] = working_df[col].apply(lambda x : time_to_nanoseconds(x))\n",
    "    \n",
    "\n",
    "    score_list = []\n",
    "    for driver in current_drivers:\n",
    "        score_avg = 0\n",
    "        driver_row = working_df.loc[working_df['Drivers'] == driver]\n",
    "        if not driver_row.empty:\n",
    "            for lap in driver_row.columns[1:]:\n",
    "                score_avg += percent_difference(driver_row[lap].values[0],working_df[lap].mean())\n",
    "                if np.isnan(score_avg):\n",
    "                    score_avg = 0\n",
    "                # print(f'{year}\\t{round}\\t{score_avg}\\t{type(score_avg)}')\n",
    "        else:\n",
    "            # score_avg = float('nan')\n",
    "            score_avg = 0\n",
    "        score_list.append(score_avg)\n",
    "    return score_list\n",
    "        \n"
   ]
  },
  {
   "cell_type": "code",
   "execution_count": 43,
   "metadata": {},
   "outputs": [],
   "source": [
    "def get_current_circuits():\n",
    "    '''Returns list of current circuits as of year 2022'''\n",
    "\n",
    "    filepath = Path('../data/scheduled/2022.json')\n",
    "    jsondata = dict()\n",
    "    # Checks if data is already stored\n",
    "    with open(filepath, 'r', encoding='utf-8') as infile: jsondata = json.load(infile)\n",
    "    current_circuits = list()\n",
    "    for circuit in jsondata:\n",
    "        current_circuits.append([circuit['Circuit']['circuitId'],circuit['raceName']])\n",
    "    return current_circuits"
   ]
  },
  {
   "cell_type": "code",
   "execution_count": 44,
   "metadata": {},
   "outputs": [],
   "source": [
    "def get_current_drivers():\n",
    "    '''Returns list of current years drivers'''\n",
    "\n",
    "    filepath = Path('../data/current_drivers.json')\n",
    "    jsondata = dict()\n",
    "    # Checks if data is already stored\n",
    "    with open(filepath, 'r', encoding='utf-8') as infile: jsondata = json.load(infile)\n",
    "\n",
    "    current_drivers = list()\n",
    "    for driver in jsondata:\n",
    "        current_drivers.append(driver['driverId'])\n",
    "    return current_drivers"
   ]
  },
  {
   "cell_type": "code",
   "execution_count": 45,
   "metadata": {},
   "outputs": [],
   "source": [
    "current_circuits = get_current_circuits()\n",
    "current_drivers = get_current_drivers()\n",
    "current_drivers.sort()"
   ]
  },
  {
   "cell_type": "code",
   "execution_count": 47,
   "metadata": {},
   "outputs": [],
   "source": [
    "\n",
    "for circuitId in current_circuits:\n",
    "    \n",
    "    df = pd.DataFrame()\n",
    "    df['Drivers'] = current_drivers\n",
    "\n",
    "    for year in range(2012,2022):\n",
    "        round = get_round(year,circuitId[0])\n",
    "        if round != None:\n",
    "            for driver in current_drivers:\n",
    "                score_list = get_score(year,round,current_drivers)\n",
    "        else: continue\n",
    "        df[f'Season {year}'] = score_list\n",
    "    \n",
    "    df.to_csv(Path(f'../data/circuits/{circuitId[0]}_ps.csv'),index=False)\n",
    "    del df"
   ]
  }
 ],
 "metadata": {
  "kernelspec": {
   "display_name": "Python 3.10.2 64-bit",
   "language": "python",
   "name": "python3"
  },
  "language_info": {
   "codemirror_mode": {
    "name": "ipython",
    "version": 3
   },
   "file_extension": ".py",
   "mimetype": "text/x-python",
   "name": "python",
   "nbconvert_exporter": "python",
   "pygments_lexer": "ipython3",
   "version": "3.10.2"
  },
  "orig_nbformat": 4,
  "vscode": {
   "interpreter": {
    "hash": "92e90bd6c5a94ac116b32daed143846700409151323ad0aa8c589766ff7ac504"
   }
  }
 },
 "nbformat": 4,
 "nbformat_minor": 2
}
