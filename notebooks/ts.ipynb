{
 "cells": [
  {
   "cell_type": "code",
   "execution_count": 1,
   "metadata": {},
   "outputs": [],
   "source": [
    "import requests\n",
    "import json\n",
    "import os\n",
    "from pathlib import Path\n",
    "import pandas as pd\n",
    "import numpy as np\n",
    "from datetime import datetime"
   ]
  },
  {
   "cell_type": "code",
   "execution_count": 2,
   "metadata": {},
   "outputs": [],
   "source": [
    "def connection(url):\n",
    "    '''\n",
    "    Try and Establish a Connection to given website\n",
    "    Return: data in json format\n",
    "    '''\n",
    "\n",
    "    try:\n",
    "        response = requests.get(url)\n",
    "        \n",
    "        if not response.status_code // 100 == 2:\n",
    "            return(f\"Error: Unexpected response {response}\")\n",
    "\n",
    "        geodata = response.json()\n",
    "        return(geodata)\n",
    "\n",
    "    except requests.exceptions.RequestException as e:\n",
    "        return(f\"Error: {e}\")"
   ]
  },
  {
   "cell_type": "code",
   "execution_count": 3,
   "metadata": {},
   "outputs": [],
   "source": [
    "def path_exist(filepath):\n",
    "    '''Checks if a filepath exist or not'''\n",
    "    if os.path.exists(filepath):\n",
    "        print('Data Status: Stored')\n",
    "        return True\n",
    "    print('Data Source: Gathered')\n",
    "    return False"
   ]
  },
  {
   "cell_type": "code",
   "execution_count": 4,
   "metadata": {},
   "outputs": [],
   "source": [
    "def get_current_constructors():\n",
    "    '''Returns list of current years drivers'''\n",
    "    filepath = Path('../data/current_constructors.json')\n",
    "    jsondata = dict()\n",
    "    # Checks if data is already stored\n",
    "    if path_exist(filepath):\n",
    "        with open(filepath, 'r', encoding='utf-8') as infile: jsondata = json.load(infile)\n",
    "    else:\n",
    "        # Request data from API\n",
    "        link = 'http://ergast.com/api/f1/2022/constructors.json?limit=1000'\n",
    "        jsondata = connection(link)\n",
    "        jsondata = jsondata['MRData']['ConstructorTable']['Constructors']\n",
    "        # Store the data under data/current_drivers.json\n",
    "        json_object = json.dumps(jsondata, indent=4)\n",
    "        with open(filepath, 'w', encoding='utf-8') as outfile: outfile.write(json_object)\n",
    "\n",
    "    current_drivers = list()\n",
    "    for driver in jsondata:\n",
    "        current_drivers.append(driver['constructorId'])\n",
    "    return current_drivers"
   ]
  },
  {
   "cell_type": "code",
   "execution_count": 5,
   "metadata": {},
   "outputs": [],
   "source": [
    "def get_season_data(year):\n",
    "    '''Returns list of current years drivers'''\n",
    "    filepath = Path(f'../data/constructors/{year}_constructor.json')\n",
    "    jsondata = dict()\n",
    "    # Checks if data is already stored\n",
    "    if path_exist(filepath):\n",
    "        with open(filepath, 'r', encoding='utf-8') as infile: jsondata = json.load(infile)\n",
    "    else:\n",
    "        # Request data from API\n",
    "        link = f'http://ergast.com/api/f1/{year}/constructorStandings.json?limit=1000'\n",
    "        jsondata = connection(link)\n",
    "        jsondata = jsondata['MRData']['StandingsTable']['StandingsLists'][0]['ConstructorStandings']\n",
    "        # Store the data under data/current_drivers.json\n",
    "        json_object = json.dumps(jsondata, indent=4)\n",
    "        with open(filepath, 'w', encoding='utf-8') as outfile: outfile.write(json_object)\n",
    "\n",
    "    filepath = Path(f'../data/constructors/{year}_driver.json')\n",
    "    jsondata = dict()\n",
    "    # Checks if data is already stored\n",
    "    if path_exist(filepath):\n",
    "        with open(filepath, 'r', encoding='utf-8') as infile: jsondata = json.load(infile)\n",
    "    else:\n",
    "        # Request data from API\n",
    "        link = f'http://ergast.com/api/f1/{year}/driverStandings.json?limit=1000'\n",
    "        jsondata = connection(link)\n",
    "        jsondata = jsondata['MRData']['StandingsTable']['StandingsLists'][0]['DriverStandings']\n",
    "        # Store the data under data/current_drivers.json\n",
    "        json_object = json.dumps(jsondata, indent=4)\n",
    "        with open(filepath, 'w', encoding='utf-8') as outfile: outfile.write(json_object)"
   ]
  },
  {
   "cell_type": "code",
   "execution_count": 6,
   "metadata": {},
   "outputs": [],
   "source": [
    "# Takes a string lap time and converts it to a nanosecond equivalent\n",
    "def time_to_nanoseconds(raw_time):\n",
    "    try:\n",
    "        dirty = datetime.strptime(raw_time, '%M:%S.%f').time()\n",
    "        #clean = timedelta(minutes=dirty.minute, seconds=dirty.second, microseconds=dirty.microsecond)\n",
    "        nanoseconds = (dirty.minute*6e10)+(dirty.second*1e9)+(dirty.microsecond*1e3)\n",
    "        #nanoseconds = (dirty.microsecond*1000)\n",
    "        return nanoseconds/1e9\n",
    "    # Catch NaaN\n",
    "    except:\n",
    "        return None"
   ]
  },
  {
   "cell_type": "code",
   "execution_count": 7,
   "metadata": {},
   "outputs": [],
   "source": [
    "# find percent different between driver time and average time\n",
    "def percent_difference(driver_time,average_time):\n",
    "    diff = abs((driver_time - average_time)/((driver_time + average_time)/2))*100\n",
    "    if driver_time > average_time:\n",
    "        return -abs(diff)\n",
    "    return diff"
   ]
  },
  {
   "cell_type": "code",
   "execution_count": 8,
   "metadata": {},
   "outputs": [],
   "source": [
    "def sort_scores(score_list):\n",
    "    cleaned_list = []\n",
    "    nan_list = []\n",
    "    \n",
    "    for score in score_list:\n",
    "        if str(score[0]) != 'nan':\n",
    "            cleaned_list.append(score)\n",
    "        else:\n",
    "            nan_list.append(score)\n",
    "    \n",
    "    cleaned_list = sorted(cleaned_list,key=lambda x: x[0], reverse=True)\n",
    "    cleaned_list.extend(nan_list)\n",
    "    return cleaned_list"
   ]
  },
  {
   "cell_type": "code",
   "execution_count": 9,
   "metadata": {},
   "outputs": [],
   "source": [
    "def get_driver_team(year,round):\n",
    "\n",
    "    df = pd.DataFrame(columns=['driver','constructor'])\n",
    "\n",
    "    filepath = Path(f'../data/constructors/{year}_driver.json')\n",
    "    jsondata = dict()\n",
    "    with open(filepath, 'r', encoding='utf-8') as infile: jsondata = json.load(infile)\n",
    "\n",
    "    for driver in jsondata:\n",
    "        df = df.append({'driver':driver['Driver']['driverId'],'constructor':driver['Constructors'][0]['constructorId']},ignore_index=True)\n",
    "    return df\n"
   ]
  },
  {
   "cell_type": "markdown",
   "metadata": {},
   "source": [
    "Incorporate a way to weigh in team score so that we get a new score"
   ]
  },
  {
   "cell_type": "code",
   "execution_count": 10,
   "metadata": {},
   "outputs": [
    {
     "name": "stdout",
     "output_type": "stream",
     "text": [
      "Data Status: Stored\n",
      "button              Score:       17.76838\n",
      "vettel              Score:       15.65909\n",
      "hamilton            Score:        8.89086\n",
      "webber              Score:        6.02738\n",
      "alonso              Score:      -17.72023\n",
      "raikkonen           Score:      -33.16688\n",
      "perez               Score:      -36.74718\n",
      "kobayashi           Score:      -38.41618\n",
      "ricciardo           Score:      -39.16071\n",
      "vergne              Score:       -39.5187\n",
      "resta               Score:      -43.24014\n",
      "rosberg             Score:      -54.65684\n",
      "bruno_senna         Score:            nan\n",
      "glock               Score:            nan\n",
      "grosjean            Score:            nan\n",
      "kovalainen          Score:            nan\n",
      "maldonado           Score:            nan\n",
      "massa               Score:            nan\n",
      "michael_schumacher  Score:            nan\n",
      "petrov              Score:            nan\n",
      "pic                 Score:            nan\n"
     ]
    }
   ],
   "source": [
    "# def get_team_score(year,round,current_drivers):\n",
    "year = 2012\n",
    "_round = 1\n",
    "\n",
    "filepath = Path(f'../data/races/{year}/{_round}.csv')\n",
    "if path_exist(filepath):\n",
    "    original_df = pd.read_csv(filepath)\n",
    "else:\n",
    "    filepath = Path(f'../data/races/{year}/{_round}.json')\n",
    "    with open(filepath, 'r', encoding='utf-8') as infile: jsondata = json.load(infile)\n",
    "\n",
    "    # Gets list of all drivers at the start of the race, sorts them alphabetically\n",
    "    drivers = []\n",
    "    for driver in jsondata['Laps'][0]['Timings']:\n",
    "        drivers.append(driver['driverId'])\n",
    "\n",
    "    drivers.sort()\n",
    "\n",
    "    # Create original dataframe which just holds a column of the drivers\n",
    "    original_df = pd.DataFrame()\n",
    "    original_df['Drivers'] = drivers\n",
    "\n",
    "    # Goes through a race.json and adds the times for all laps per driver\n",
    "    for lap in jsondata['Laps']:\n",
    "        lap_data = []\n",
    "        \n",
    "        for _ in range(0, len(drivers)):\n",
    "            try:\n",
    "                driver = next(item for item in lap['Timings'] if item['driverId']==drivers[_])\n",
    "                # Create a tuple of driver and lap time\n",
    "                lap_data.append([driver['driverId'],driver['time']])\n",
    "            except:\n",
    "                lap_data.append([drivers[_],None])\n",
    "\n",
    "        # Sort it so it matches the rows\n",
    "        lap_data.sort(key = lambda x: x[0])\n",
    "        # Add new column of lap time\n",
    "        time_list = list(list(zip(*lap_data))[1])\n",
    "        original_df[f\"Lap {lap['number']}\"] = time_list\n",
    "        original_df.to_csv(Path(f'../data/races/{year}/{_round}.csv'),index=False)\n",
    "\n",
    "# Add constructor column\n",
    "working_df = original_df.copy()\n",
    "drivers = working_df['Drivers'].values.tolist()\n",
    "driver_team = get_driver_team(year,_round)\n",
    "temp = [None] * len(drivers)\n",
    "working_df.insert(loc=1,column='Constructors',value=temp)\n",
    "# Fill constructor with a drivers respective team\n",
    "working_df['Constructors'] = working_df['Drivers'].apply(lambda x: driver_team.loc[driver_team['driver'] == x]['constructor'].values[0])\n",
    "\n",
    "\n",
    "# Convert each string laptime to nanosecond equivolent\n",
    "for col in working_df.columns[2:]: working_df[col] = working_df[col].apply(lambda x : time_to_nanoseconds(x))\n",
    "\n",
    "median_total = []\n",
    "\n",
    "for driver in drivers:\n",
    "    score_med = 0\n",
    "    driver_row = working_df.loc[working_df['Drivers'] == driver]\n",
    "    for lap in driver_row.columns[2:]:\n",
    "        score_med += percent_difference(driver_row[lap].values[0],working_df[lap].median())\n",
    "    median_total.append((score_med,driver))\n",
    "\n",
    "# average_total, avg_diff = sort_scores(average_total)\n",
    "median_total= sort_scores(median_total)\n",
    "\n",
    "# print(f'{\"Drivers\": <25}Range: {avg_diff: <15}Range: {med_diff: <15}')\n",
    "for driver in range(len(median_total)):\n",
    "    print(f'{median_total[driver][1]: <20}Score:{round(median_total[driver][0],5): >15}')\n",
    "        \n"
   ]
  },
  {
   "cell_type": "markdown",
   "metadata": {},
   "source": [
    "Map driver in season and round to a team"
   ]
  }
 ],
 "metadata": {
  "kernelspec": {
   "display_name": "Python 3.10.2 64-bit",
   "language": "python",
   "name": "python3"
  },
  "language_info": {
   "codemirror_mode": {
    "name": "ipython",
    "version": 3
   },
   "file_extension": ".py",
   "mimetype": "text/x-python",
   "name": "python",
   "nbconvert_exporter": "python",
   "pygments_lexer": "ipython3",
   "version": "3.10.2"
  },
  "orig_nbformat": 4,
  "vscode": {
   "interpreter": {
    "hash": "92e90bd6c5a94ac116b32daed143846700409151323ad0aa8c589766ff7ac504"
   }
  }
 },
 "nbformat": 4,
 "nbformat_minor": 2
}
