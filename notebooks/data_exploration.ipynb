{
 "cells": [
  {
   "cell_type": "code",
   "execution_count": 58,
   "metadata": {},
   "outputs": [],
   "source": [
    "import pandas as pd\n",
    "import json\n",
    "from pathlib import Path\n",
    "from datetime import datetime\n",
    "import plotly.graph_objects as go\n",
    "import statistics"
   ]
  },
  {
   "cell_type": "code",
   "execution_count": 59,
   "metadata": {},
   "outputs": [],
   "source": [
    "# Takes a string lap time and converts it to a nanosecond equivalent\n",
    "def time_to_nanoseconds(raw_time):\n",
    "    try:\n",
    "        dirty = datetime.strptime(raw_time, '%M:%S.%f').time()\n",
    "        #clean = timedelta(minutes=dirty.minute, seconds=dirty.second, microseconds=dirty.microsecond)\n",
    "        nanoseconds = (dirty.minute*6e10)+(dirty.second*1e9)+(dirty.microsecond*1e3)\n",
    "        #nanoseconds = (dirty.microsecond*1000)\n",
    "        return nanoseconds/1e9\n",
    "    # Catch NaaN\n",
    "    except:\n",
    "        return raw_time"
   ]
  },
  {
   "cell_type": "code",
   "execution_count": 60,
   "metadata": {},
   "outputs": [],
   "source": [
    "# find percent different between driver time and median time\n",
    "def percent_difference(driver_time,median_time):\n",
    "    diff = abs((driver_time - median_time)/((driver_time + median_time)/2))*100\n",
    "    if driver_time > median_time:\n",
    "        return -abs(diff)\n",
    "    return diff"
   ]
  },
  {
   "cell_type": "markdown",
   "metadata": {},
   "source": [
    "Pulled from data_cleaning.ipynb\n",
    "Creates two data frames\n",
    "\n",
    "original_df = holds drivers and laps in time format\n",
    "working_df = converts driver times to nanosecond equivalents for graphing and math purposes"
   ]
  },
  {
   "cell_type": "code",
   "execution_count": 61,
   "metadata": {},
   "outputs": [],
   "source": [
    "filepath = Path('../data/races/2021/10.json')\n",
    "with open(filepath, 'r', encoding='utf-8') as infile: jsondata = json.load(infile)\n",
    "\n",
    "# Gets list of all drivers at the start of the race, sorts them alphabetically\n",
    "drivers = []\n",
    "for driver in jsondata['Laps'][0]['Timings']:\n",
    "    drivers.append(driver['driverId'])\n",
    "\n",
    "drivers.sort()\n",
    "\n",
    "# Create original dataframe which just holds a column of the drivers\n",
    "original_df = pd.DataFrame()\n",
    "original_df['Drivers'] = drivers\n",
    "\n",
    "# Goes through a race.json and adds the times for all laps per driver\n",
    "for lap in jsondata['Laps']:\n",
    "    lap_data = []\n",
    "    \n",
    "    for _ in range(0, len(drivers)):\n",
    "        try:\n",
    "            driver = next(item for item in lap['Timings'] if item['driverId']==drivers[_])\n",
    "            # Create a tuple of driver and lap time\n",
    "            lap_data.append([driver['driverId'],driver['time']])\n",
    "        except:\n",
    "            lap_data.append([drivers[_],None])\n",
    "\n",
    "    # Sort it so it matches the rows\n",
    "    lap_data.sort(key = lambda x: x[0])\n",
    "    # Add new column of lap time\n",
    "    time_list = list(list(zip(*lap_data))[1])\n",
    "    original_df[f\"Lap {lap['number']}\"] = time_list\n"
   ]
  },
  {
   "cell_type": "markdown",
   "metadata": {},
   "source": [
    "Create Working DF"
   ]
  },
  {
   "cell_type": "code",
   "execution_count": 62,
   "metadata": {},
   "outputs": [],
   "source": [
    "working_df = original_df.copy()\n",
    "# Convert each string laptime to nanosecond equivolent\n",
    "for col in working_df.columns[1:]: working_df[col] = working_df[col].apply(lambda x : time_to_nanoseconds(x))"
   ]
  },
  {
   "cell_type": "markdown",
   "metadata": {},
   "source": [
    "Shows all the times from drivers per lap\n",
    "\n",
    "Determining if average is a good measure, since some laps drivers take pit stop, or a car might malfunction, etc... alot of factors can affect the average of a lap time"
   ]
  },
  {
   "cell_type": "code",
   "execution_count": 63,
   "metadata": {},
   "outputs": [
    {
     "data": {
      "application/vnd.plotly.v1+json": {
       "config": {
        "plotlyServerURL": "https://plot.ly"
       },
       "data": [
        {
         "boxmean": true,
         "name": "Lap 1",
         "type": "box",
         "y": [
          132.307,
          126.173,
          139.081,
          140.441,
          125.599,
          146.229,
          122.7,
          148.985,
          145.57,
          128.698,
          136.727,
          149.563,
          136.273,
          129.397,
          142.688,
          133.629,
          137.724,
          144.225,
          130.61
         ]
        },
        {
         "boxmean": true,
         "name": "Lap 2",
         "type": "box",
         "y": [
          163.56,
          159.641,
          168.344,
          169.294,
          158.142,
          174.392,
          159.045,
          173.397,
          172.95,
          158.631,
          166.033,
          174.839,
          165.159,
          161.042,
          171.364,
          165.213,
          166.803,
          172.335,
          163.397
         ]
        },
        {
         "boxmean": true,
         "name": "Lap 3",
         "type": "box",
         "y": [
          2233.466,
          2229.294,
          2240.925,
          2241.267,
          2229.155,
          2242.718,
          2227.083,
          2253.574,
          2240.706,
          2231.598,
          2236.939,
          2252.336,
          2235.325,
          2231.723,
          2241.085,
          2233.164,
          2238.138,
          2240.798,
          2230.588
         ]
        },
        {
         "boxmean": true,
         "name": "Lap 4",
         "type": "box",
         "y": [
          144.593,
          156.914,
          128.686,
          125.661,
          157.266,
          116.501,
          160.134,
          104.503,
          119.887,
          152.439,
          136.604,
          102.651,
          139.184,
          150.939,
          122.552,
          142.426,
          132.54,
          120.737,
          162.978
         ]
        },
        {
         "boxmean": true,
         "name": "Lap 5",
         "type": "box",
         "y": [
          95.626,
          93.727,
          96.555,
          96.308,
          93.049,
          97.107,
          92.805,
          98.789,
          99.029,
          93.318,
          95.13,
          95.983,
          96.398,
          94.142,
          96.865,
          93.782,
          95.163,
          97.689,
          95.272
         ]
        },
        {
         "boxmean": true,
         "name": "Lap 6",
         "type": "box",
         "y": [
          94.496,
          93.577,
          94.385,
          95.876,
          93.113,
          95.62,
          92.91,
          97.188,
          97.141,
          93.428,
          94.832,
          95.256,
          94.929,
          94.023,
          95.26,
          94.026,
          94.664,
          95.655,
          94.602
         ]
        },
        {
         "boxmean": true,
         "name": "Lap 7",
         "type": "box",
         "y": [
          94.993,
          93.543,
          95.21,
          95.379,
          92.738,
          95.773,
          93.003,
          97.928,
          96.993,
          93.556,
          94.982,
          94.763,
          95.251,
          93.82,
          96.469,
          93.807,
          94.986,
          95.51,
          95.27
         ]
        },
        {
         "boxmean": true,
         "name": "Lap 8",
         "type": "box",
         "y": [
          94.889,
          93.571,
          95.158,
          95.295,
          92.928,
          95.548,
          93.105,
          97.033,
          97.531,
          93.402,
          95.072,
          94.882,
          95.003,
          93.89,
          95.577,
          93.937,
          94.921,
          95.609,
          94.986
         ]
        },
        {
         "boxmean": true,
         "name": "Lap 9",
         "type": "box",
         "y": [
          94.701,
          93.096,
          94.927,
          96.091,
          93.013,
          95.35,
          92.97,
          96.697,
          96.428,
          93.373,
          94.762,
          94.058,
          94.988,
          93.71,
          95.192,
          93.915,
          94.625,
          95.213,
          94.37
         ]
        },
        {
         "boxmean": true,
         "name": "Lap 10",
         "type": "box",
         "y": [
          94.211,
          93.312,
          94.729,
          94.858,
          93.458,
          94.984,
          93.232,
          96.408,
          96.098,
          93.011,
          94.548,
          94.621,
          94.766,
          93.638,
          94.723,
          94.001,
          94.338,
          94.806,
          94.437
         ]
        },
        {
         "boxmean": true,
         "name": "Lap 11",
         "type": "box",
         "y": [
          94.43,
          93.397,
          94.537,
          94.635,
          92.95,
          94.706,
          92.841,
          96.265,
          96.141,
          93.286,
          94.639,
          94.535,
          94.554,
          93.842,
          94.878,
          93.886,
          94.338,
          94.936,
          94.548
         ]
        },
        {
         "boxmean": true,
         "name": "Lap 12",
         "type": "box",
         "y": [
          94.577,
          93.423,
          94.825,
          94.917,
          92.943,
          95.126,
          92.939,
          96.732,
          96.616,
          93.295,
          94.593,
          94.822,
          94.845,
          93.817,
          94.754,
          93.862,
          94.473,
          94.687,
          94.505
         ]
        },
        {
         "boxmean": true,
         "name": "Lap 13",
         "type": "box",
         "y": [
          93.869,
          93.38,
          94.958,
          94.743,
          93.158,
          94.897,
          92.969,
          96.397,
          96.449,
          93.193,
          94.781,
          94.837,
          94.788,
          93.956,
          95.352,
          94.135,
          94.227,
          95.31,
          94.732
         ]
        },
        {
         "boxmean": true,
         "name": "Lap 14",
         "type": "box",
         "y": [
          93.677,
          93.34,
          94.588,
          94.656,
          92.749,
          94.867,
          92.744,
          96.363,
          96.074,
          93.165,
          94.389,
          94.57,
          94.681,
          93.903,
          94.693,
          93.798,
          94.191,
          94.639,
          94.351
         ]
        },
        {
         "boxmean": true,
         "name": "Lap 15",
         "type": "box",
         "y": [
          93.553,
          92.694,
          94.227,
          94.571,
          92.713,
          94.273,
          93.282,
          96.104,
          95.82,
          92.827,
          94.09,
          94.353,
          94.264,
          93.757,
          94.282,
          93.598,
          93.936,
          94.299,
          94.615
         ]
        },
        {
         "boxmean": true,
         "name": "Lap 16",
         "type": "box",
         "y": [
          93.434,
          92.415,
          94.314,
          94.554,
          92.473,
          94.48,
          92.623,
          96.152,
          95.631,
          92.778,
          94.152,
          94.182,
          94.273,
          93.497,
          94.385,
          93.637,
          93.779,
          94.542,
          94.685
         ]
        },
        {
         "boxmean": true,
         "name": "Lap 17",
         "type": "box",
         "y": [
          93.261,
          92.454,
          94.135,
          94.051,
          92.291,
          94.387,
          92.475,
          95.735,
          95.857,
          92.586,
          93.975,
          94.081,
          94.142,
          93.603,
          94.122,
          93.202,
          93.331,
          94.283,
          94.168
         ]
        },
        {
         "boxmean": true,
         "name": "Lap 18",
         "type": "box",
         "y": [
          93.396,
          92.543,
          94.26,
          94.331,
          92.548,
          94.49,
          92.296,
          95.376,
          95.94,
          92.52,
          94.037,
          93.404,
          93.762,
          93.627,
          92.972,
          93.192,
          93.453,
          94.152,
          93.837
         ]
        },
        {
         "boxmean": true,
         "name": "Lap 19",
         "type": "box",
         "y": [
          93.18,
          92.639,
          92.96,
          94.034,
          92.597,
          93.034,
          91.985,
          96.011,
          97.027,
          92.586,
          93.472,
          112.025,
          112.938,
          93.389,
          111.666,
          93.344,
          93.552,
          93.552,
          113.237
         ]
        },
        {
         "boxmean": true,
         "name": "Lap 20",
         "type": "box",
         "y": [
          93.097,
          92.409,
          92.932,
          93.478,
          92.076,
          112.614,
          92.128,
          95.879,
          95.63,
          92.293,
          113.457,
          92.816,
          94.157,
          92.164,
          93.23,
          92.73,
          93.337,
          93.125,
          93.442
         ]
        },
        {
         "boxmean": true,
         "name": "Lap 21",
         "type": "box",
         "y": [
          92.95,
          92.488,
          92.788,
          93.765,
          92.297,
          93.566,
          91.974,
          95.692,
          95.951,
          91.418,
          92.946,
          92.609,
          93.789,
          113.326,
          93.563,
          92.457,
          93.285,
          93.724,
          93.436
         ]
        },
        {
         "boxmean": true,
         "name": "Lap 22",
         "type": "box",
         "y": [
          93.179,
          91.869,
          92.933,
          93.622,
          92.189,
          93.515,
          92.223,
          95.822,
          95.452,
          115.033,
          94.079,
          92.062,
          93.943,
          92.711,
          93.716,
          92.366,
          93.817,
          93.485,
          93.203
         ]
        },
        {
         "boxmean": true,
         "name": "Lap 23",
         "type": "box",
         "y": [
          95.154,
          112.484,
          92.925,
          93.119,
          92.311,
          93.497,
          92.259,
          95.634,
          95.387,
          93.509,
          93.186,
          92.297,
          93.939,
          92.212,
          93.883,
          92.064,
          92.955,
          93.458,
          93.325
         ]
        },
        {
         "boxmean": true,
         "name": "Lap 24",
         "type": "box",
         "y": [
          93.49,
          91.988,
          92.855,
          113.252,
          92.686,
          93.803,
          92.296,
          94.736,
          93.93,
          92.83,
          93.223,
          92.159,
          93.907,
          92.67,
          93.831,
          92.254,
          112.567,
          92.873,
          93.749
         ]
        },
        {
         "boxmean": true,
         "name": "Lap 25",
         "type": "box",
         "y": [
          113.53,
          91.415,
          92.784,
          93.247,
          92.115,
          93.6,
          92.048,
          93.671,
          117.006,
          92.274,
          92.939,
          92.448,
          93.404,
          92.637,
          93.295,
          91.885,
          93.581,
          92.681,
          93.43
         ]
        },
        {
         "boxmean": true,
         "name": "Lap 26",
         "type": "box",
         "y": [
          93.077,
          91.52,
          92.764,
          93.205,
          91.854,
          93.169,
          91.993,
          115.157,
          94.381,
          92.04,
          92.784,
          92.835,
          93.609,
          92.569,
          93.467,
          91.819,
          93.106,
          92.578,
          93.454
         ]
        },
        {
         "boxmean": true,
         "name": "Lap 27",
         "type": "box",
         "y": [
          92.901,
          91.804,
          93.201,
          93.431,
          92.852,
          93.241,
          92.082,
          94.423,
          95.266,
          92.047,
          92.882,
          92.755,
          93.56,
          92.923,
          93.292,
          92.26,
          92.943,
          92.577,
          93.158
         ]
        },
        {
         "boxmean": true,
         "name": "Lap 28",
         "type": "box",
         "y": [
          93.621,
          91.651,
          92.66,
          93.59,
          123.392,
          93.452,
          91.958,
          94.404,
          95.721,
          92.096,
          92.84,
          93.276,
          93.246,
          93.434,
          93.256,
          91.816,
          93.405,
          92.671,
          93.407
         ]
        },
        {
         "boxmean": true,
         "name": "Lap 29",
         "type": "box",
         "y": [
          93.588,
          92.16,
          113.002,
          93.867,
          90.762,
          93.78,
          91.847,
          94.715,
          96.468,
          92.217,
          94.35,
          93.639,
          93.378,
          93.169,
          94.063,
          120.799,
          93.685,
          93.574,
          93.709
         ]
        },
        {
         "boxmean": true,
         "name": "Lap 30",
         "type": "box",
         "y": [
          93.502,
          92.48,
          92.686,
          93.726,
          91.113,
          93.484,
          111.72,
          96.036,
          97.139,
          92.073,
          93.657,
          93.373,
          93.543,
          92.955,
          93.578,
          91.306,
          93.612,
          92.682,
          93.713
         ]
        },
        {
         "boxmean": true,
         "name": "Lap 31",
         "type": "box",
         "y": [
          93.617,
          92.683,
          92.836,
          93.565,
          91.257,
          93.654,
          91.552,
          97.864,
          95.172,
          93.668,
          93.252,
          93.77,
          93.276,
          92.42,
          93.855,
          91.706,
          93.458,
          113.783,
          93.59
         ]
        },
        {
         "boxmean": true,
         "name": "Lap 32",
         "type": "box",
         "y": [
          93.367,
          92.191,
          93.166,
          93.729,
          92.488,
          93.574,
          91.541,
          94.543,
          94.412,
          93.174,
          93.114,
          93.306,
          93.057,
          92.569,
          93.566,
          92.305,
          93.346,
          92.942,
          93.502
         ]
        },
        {
         "boxmean": true,
         "name": "Lap 33",
         "type": "box",
         "y": [
          93.27,
          91.72,
          93.508,
          93.29,
          92.038,
          93.253,
          91.716,
          94.32,
          94.158,
          92.41,
          93.022,
          93.135,
          93.432,
          92.471,
          93.176,
          92.335,
          93.278,
          93.635,
          93.084
         ]
        },
        {
         "boxmean": true,
         "name": "Lap 34",
         "type": "box",
         "y": [
          93.356,
          91.799,
          93.037,
          93.2,
          91.219,
          93.339,
          91.978,
          94.077,
          94.08,
          92.139,
          92.764,
          93.207,
          93.508,
          92.557,
          93.165,
          92.74,
          93.215,
          93.398,
          93.509
         ]
        },
        {
         "boxmean": true,
         "name": "Lap 35",
         "type": "box",
         "y": [
          93.153,
          91.252,
          93.125,
          93.257,
          90.817,
          93.146,
          91.448,
          94.149,
          93.972,
          91.94,
          92.963,
          93.411,
          93.381,
          92.263,
          93.269,
          92.258,
          93.247,
          93.255,
          93.059
         ]
        },
        {
         "boxmean": true,
         "name": "Lap 36",
         "type": "box",
         "y": [
          93.208,
          91.435,
          93.17,
          93.495,
          91.025,
          92.932,
          91.384,
          94.09,
          93.959,
          91.945,
          93.166,
          93.045,
          93.303,
          92.57,
          93.4,
          92.701,
          93.244,
          93.414,
          93.545
         ]
        },
        {
         "boxmean": true,
         "name": "Lap 37",
         "type": "box",
         "y": [
          93.309,
          91.094,
          93.228,
          93.226,
          90.807,
          93.255,
          91.5,
          94.066,
          94.097,
          91.848,
          93.051,
          93.376,
          93.47,
          92.595,
          93.302,
          92.686,
          93.395,
          93.452,
          93.561
         ]
        },
        {
         "boxmean": true,
         "name": "Lap 38",
         "type": "box",
         "y": [
          93.07,
          91.066,
          92.907,
          93.08,
          90.594,
          92.994,
          91.542,
          96.24,
          96.633,
          91.823,
          92.855,
          91.9,
          93.331,
          92.748,
          93.2,
          92.354,
          93.003,
          93.313,
          93.064
         ]
        },
        {
         "boxmean": true,
         "name": "Lap 39",
         "type": "box",
         "y": [
          93.166,
          91.146,
          92.505,
          93.135,
          90.859,
          92.807,
          91.599,
          94.15,
          94.579,
          92.061,
          92.845,
          110.566,
          93.236,
          92.447,
          93.388,
          92.569,
          93.16,
          93.572,
          93.721
         ]
        },
        {
         "boxmean": true,
         "name": "Lap 40",
         "type": "box",
         "y": [
          92.763,
          93.278,
          92.565,
          92.925,
          90.443,
          93.468,
          91.425,
          93.947,
          93.895,
          91.624,
          92.497,
          91.07,
          93.252,
          92.151,
          93.1,
          92.253,
          92.821,
          92.919,
          101.335
         ]
        },
        {
         "boxmean": true,
         "name": "Lap 41",
         "type": "box",
         "y": [
          92.767,
          91.445,
          92.544,
          93.924,
          90.468,
          92.787,
          91.539,
          93.558,
          93.536,
          91.8,
          92.622,
          92.14,
          92.931,
          91.933,
          93.72,
          91.816,
          92.655,
          93.062,
          null
         ]
        },
        {
         "boxmean": true,
         "name": "Lap 42",
         "type": "box",
         "y": [
          92.708,
          91.084,
          92.752,
          93.584,
          90.16,
          93.104,
          91.271,
          93.734,
          93.481,
          91.572,
          92.588,
          91.953,
          93.13,
          91.879,
          93.238,
          91.868,
          92.807,
          93.071,
          null
         ]
        },
        {
         "boxmean": true,
         "name": "Lap 43",
         "type": "box",
         "y": [
          92.443,
          91.161,
          92.414,
          92.621,
          90.258,
          92.765,
          90.917,
          93.422,
          92.997,
          91.762,
          92.492,
          92.319,
          93.012,
          91.784,
          92.936,
          91.929,
          92.429,
          93.949,
          null
         ]
        },
        {
         "boxmean": true,
         "name": "Lap 44",
         "type": "box",
         "y": [
          92.225,
          90.688,
          92.402,
          92.817,
          89.801,
          92.982,
          90.846,
          93.402,
          93.292,
          91.42,
          92.522,
          92.617,
          92.531,
          91.825,
          92.629,
          91.737,
          92.239,
          92.359,
          null
         ]
        },
        {
         "boxmean": true,
         "name": "Lap 45",
         "type": "box",
         "y": [
          92.24,
          90.524,
          92.109,
          92.873,
          89.699,
          93.203,
          90.569,
          93.404,
          93.654,
          91.666,
          92.236,
          92.224,
          92.345,
          91.72,
          92.597,
          91.745,
          92.33,
          92.667,
          null
         ]
        },
        {
         "boxmean": true,
         "name": "Lap 46",
         "type": "box",
         "y": [
          92.476,
          90.641,
          93.003,
          92.705,
          89.701,
          93.142,
          90.724,
          93.341,
          93.767,
          91.836,
          92.612,
          92.502,
          102.269,
          91.703,
          92.675,
          91.592,
          92.491,
          92.319,
          null
         ]
        },
        {
         "boxmean": true,
         "name": "Lap 47",
         "type": "box",
         "y": [
          92.047,
          90.872,
          110.418,
          92.668,
          90.52,
          93.571,
          91.228,
          93.525,
          93.371,
          91.9,
          92.4,
          90.958,
          96.555,
          91.946,
          92.617,
          91.927,
          92.458,
          92.253,
          null
         ]
        },
        {
         "boxmean": true,
         "name": "Lap 48",
         "type": "box",
         "y": [
          91.698,
          91.181,
          90.74,
          93.27,
          90.503,
          95.201,
          91.291,
          93.252,
          93.091,
          91.75,
          92.21,
          90,
          91.895,
          91.819,
          92.424,
          91.856,
          91.992,
          91.559,
          null
         ]
        },
        {
         "boxmean": true,
         "name": "Lap 49",
         "type": "box",
         "y": [
          92.361,
          91.473,
          92.093,
          92.346,
          90.525,
          93.043,
          91.149,
          93.097,
          93.179,
          92.868,
          92.349,
          118.246,
          92.275,
          91.774,
          92.049,
          91.784,
          92.23,
          91.209,
          null
         ]
        },
        {
         "boxmean": true,
         "name": "Lap 50",
         "type": "box",
         "y": [
          92.194,
          92.153,
          90.995,
          94.269,
          90.9,
          92.718,
          92.956,
          92.927,
          92.862,
          92.679,
          92.244,
          88.617,
          92.012,
          91.642,
          92.861,
          91.742,
          92.447,
          90.886,
          null
         ]
        },
        {
         "boxmean": true,
         "name": "Lap 51",
         "type": "box",
         "y": [
          92.81,
          91.698,
          90.494,
          94.792,
          91.037,
          92.477,
          92.454,
          92.909,
          92.987,
          92.208,
          92.738,
          91.284,
          92.537,
          91.284,
          94.423,
          91.223,
          92.602,
          90.826,
          null
         ]
        },
        {
         "boxmean": true,
         "name": "Lap 52",
         "type": "box",
         "y": [
          92.821,
          92.424,
          90.266,
          null,
          91.635,
          null,
          92.857,
          null,
          null,
          92.244,
          92.804,
          null,
          null,
          91.323,
          null,
          91.302,
          93.251,
          91.101,
          null
         ]
        }
       ],
       "layout": {
        "template": {
         "data": {
          "bar": [
           {
            "error_x": {
             "color": "#2a3f5f"
            },
            "error_y": {
             "color": "#2a3f5f"
            },
            "marker": {
             "line": {
              "color": "#E5ECF6",
              "width": 0.5
             },
             "pattern": {
              "fillmode": "overlay",
              "size": 10,
              "solidity": 0.2
             }
            },
            "type": "bar"
           }
          ],
          "barpolar": [
           {
            "marker": {
             "line": {
              "color": "#E5ECF6",
              "width": 0.5
             },
             "pattern": {
              "fillmode": "overlay",
              "size": 10,
              "solidity": 0.2
             }
            },
            "type": "barpolar"
           }
          ],
          "carpet": [
           {
            "aaxis": {
             "endlinecolor": "#2a3f5f",
             "gridcolor": "white",
             "linecolor": "white",
             "minorgridcolor": "white",
             "startlinecolor": "#2a3f5f"
            },
            "baxis": {
             "endlinecolor": "#2a3f5f",
             "gridcolor": "white",
             "linecolor": "white",
             "minorgridcolor": "white",
             "startlinecolor": "#2a3f5f"
            },
            "type": "carpet"
           }
          ],
          "choropleth": [
           {
            "colorbar": {
             "outlinewidth": 0,
             "ticks": ""
            },
            "type": "choropleth"
           }
          ],
          "contour": [
           {
            "colorbar": {
             "outlinewidth": 0,
             "ticks": ""
            },
            "colorscale": [
             [
              0,
              "#0d0887"
             ],
             [
              0.1111111111111111,
              "#46039f"
             ],
             [
              0.2222222222222222,
              "#7201a8"
             ],
             [
              0.3333333333333333,
              "#9c179e"
             ],
             [
              0.4444444444444444,
              "#bd3786"
             ],
             [
              0.5555555555555556,
              "#d8576b"
             ],
             [
              0.6666666666666666,
              "#ed7953"
             ],
             [
              0.7777777777777778,
              "#fb9f3a"
             ],
             [
              0.8888888888888888,
              "#fdca26"
             ],
             [
              1,
              "#f0f921"
             ]
            ],
            "type": "contour"
           }
          ],
          "contourcarpet": [
           {
            "colorbar": {
             "outlinewidth": 0,
             "ticks": ""
            },
            "type": "contourcarpet"
           }
          ],
          "heatmap": [
           {
            "colorbar": {
             "outlinewidth": 0,
             "ticks": ""
            },
            "colorscale": [
             [
              0,
              "#0d0887"
             ],
             [
              0.1111111111111111,
              "#46039f"
             ],
             [
              0.2222222222222222,
              "#7201a8"
             ],
             [
              0.3333333333333333,
              "#9c179e"
             ],
             [
              0.4444444444444444,
              "#bd3786"
             ],
             [
              0.5555555555555556,
              "#d8576b"
             ],
             [
              0.6666666666666666,
              "#ed7953"
             ],
             [
              0.7777777777777778,
              "#fb9f3a"
             ],
             [
              0.8888888888888888,
              "#fdca26"
             ],
             [
              1,
              "#f0f921"
             ]
            ],
            "type": "heatmap"
           }
          ],
          "heatmapgl": [
           {
            "colorbar": {
             "outlinewidth": 0,
             "ticks": ""
            },
            "colorscale": [
             [
              0,
              "#0d0887"
             ],
             [
              0.1111111111111111,
              "#46039f"
             ],
             [
              0.2222222222222222,
              "#7201a8"
             ],
             [
              0.3333333333333333,
              "#9c179e"
             ],
             [
              0.4444444444444444,
              "#bd3786"
             ],
             [
              0.5555555555555556,
              "#d8576b"
             ],
             [
              0.6666666666666666,
              "#ed7953"
             ],
             [
              0.7777777777777778,
              "#fb9f3a"
             ],
             [
              0.8888888888888888,
              "#fdca26"
             ],
             [
              1,
              "#f0f921"
             ]
            ],
            "type": "heatmapgl"
           }
          ],
          "histogram": [
           {
            "marker": {
             "pattern": {
              "fillmode": "overlay",
              "size": 10,
              "solidity": 0.2
             }
            },
            "type": "histogram"
           }
          ],
          "histogram2d": [
           {
            "colorbar": {
             "outlinewidth": 0,
             "ticks": ""
            },
            "colorscale": [
             [
              0,
              "#0d0887"
             ],
             [
              0.1111111111111111,
              "#46039f"
             ],
             [
              0.2222222222222222,
              "#7201a8"
             ],
             [
              0.3333333333333333,
              "#9c179e"
             ],
             [
              0.4444444444444444,
              "#bd3786"
             ],
             [
              0.5555555555555556,
              "#d8576b"
             ],
             [
              0.6666666666666666,
              "#ed7953"
             ],
             [
              0.7777777777777778,
              "#fb9f3a"
             ],
             [
              0.8888888888888888,
              "#fdca26"
             ],
             [
              1,
              "#f0f921"
             ]
            ],
            "type": "histogram2d"
           }
          ],
          "histogram2dcontour": [
           {
            "colorbar": {
             "outlinewidth": 0,
             "ticks": ""
            },
            "colorscale": [
             [
              0,
              "#0d0887"
             ],
             [
              0.1111111111111111,
              "#46039f"
             ],
             [
              0.2222222222222222,
              "#7201a8"
             ],
             [
              0.3333333333333333,
              "#9c179e"
             ],
             [
              0.4444444444444444,
              "#bd3786"
             ],
             [
              0.5555555555555556,
              "#d8576b"
             ],
             [
              0.6666666666666666,
              "#ed7953"
             ],
             [
              0.7777777777777778,
              "#fb9f3a"
             ],
             [
              0.8888888888888888,
              "#fdca26"
             ],
             [
              1,
              "#f0f921"
             ]
            ],
            "type": "histogram2dcontour"
           }
          ],
          "mesh3d": [
           {
            "colorbar": {
             "outlinewidth": 0,
             "ticks": ""
            },
            "type": "mesh3d"
           }
          ],
          "parcoords": [
           {
            "line": {
             "colorbar": {
              "outlinewidth": 0,
              "ticks": ""
             }
            },
            "type": "parcoords"
           }
          ],
          "pie": [
           {
            "automargin": true,
            "type": "pie"
           }
          ],
          "scatter": [
           {
            "marker": {
             "colorbar": {
              "outlinewidth": 0,
              "ticks": ""
             }
            },
            "type": "scatter"
           }
          ],
          "scatter3d": [
           {
            "line": {
             "colorbar": {
              "outlinewidth": 0,
              "ticks": ""
             }
            },
            "marker": {
             "colorbar": {
              "outlinewidth": 0,
              "ticks": ""
             }
            },
            "type": "scatter3d"
           }
          ],
          "scattercarpet": [
           {
            "marker": {
             "colorbar": {
              "outlinewidth": 0,
              "ticks": ""
             }
            },
            "type": "scattercarpet"
           }
          ],
          "scattergeo": [
           {
            "marker": {
             "colorbar": {
              "outlinewidth": 0,
              "ticks": ""
             }
            },
            "type": "scattergeo"
           }
          ],
          "scattergl": [
           {
            "marker": {
             "colorbar": {
              "outlinewidth": 0,
              "ticks": ""
             }
            },
            "type": "scattergl"
           }
          ],
          "scattermapbox": [
           {
            "marker": {
             "colorbar": {
              "outlinewidth": 0,
              "ticks": ""
             }
            },
            "type": "scattermapbox"
           }
          ],
          "scatterpolar": [
           {
            "marker": {
             "colorbar": {
              "outlinewidth": 0,
              "ticks": ""
             }
            },
            "type": "scatterpolar"
           }
          ],
          "scatterpolargl": [
           {
            "marker": {
             "colorbar": {
              "outlinewidth": 0,
              "ticks": ""
             }
            },
            "type": "scatterpolargl"
           }
          ],
          "scatterternary": [
           {
            "marker": {
             "colorbar": {
              "outlinewidth": 0,
              "ticks": ""
             }
            },
            "type": "scatterternary"
           }
          ],
          "surface": [
           {
            "colorbar": {
             "outlinewidth": 0,
             "ticks": ""
            },
            "colorscale": [
             [
              0,
              "#0d0887"
             ],
             [
              0.1111111111111111,
              "#46039f"
             ],
             [
              0.2222222222222222,
              "#7201a8"
             ],
             [
              0.3333333333333333,
              "#9c179e"
             ],
             [
              0.4444444444444444,
              "#bd3786"
             ],
             [
              0.5555555555555556,
              "#d8576b"
             ],
             [
              0.6666666666666666,
              "#ed7953"
             ],
             [
              0.7777777777777778,
              "#fb9f3a"
             ],
             [
              0.8888888888888888,
              "#fdca26"
             ],
             [
              1,
              "#f0f921"
             ]
            ],
            "type": "surface"
           }
          ],
          "table": [
           {
            "cells": {
             "fill": {
              "color": "#EBF0F8"
             },
             "line": {
              "color": "white"
             }
            },
            "header": {
             "fill": {
              "color": "#C8D4E3"
             },
             "line": {
              "color": "white"
             }
            },
            "type": "table"
           }
          ]
         },
         "layout": {
          "annotationdefaults": {
           "arrowcolor": "#2a3f5f",
           "arrowhead": 0,
           "arrowwidth": 1
          },
          "autotypenumbers": "strict",
          "coloraxis": {
           "colorbar": {
            "outlinewidth": 0,
            "ticks": ""
           }
          },
          "colorscale": {
           "diverging": [
            [
             0,
             "#8e0152"
            ],
            [
             0.1,
             "#c51b7d"
            ],
            [
             0.2,
             "#de77ae"
            ],
            [
             0.3,
             "#f1b6da"
            ],
            [
             0.4,
             "#fde0ef"
            ],
            [
             0.5,
             "#f7f7f7"
            ],
            [
             0.6,
             "#e6f5d0"
            ],
            [
             0.7,
             "#b8e186"
            ],
            [
             0.8,
             "#7fbc41"
            ],
            [
             0.9,
             "#4d9221"
            ],
            [
             1,
             "#276419"
            ]
           ],
           "sequential": [
            [
             0,
             "#0d0887"
            ],
            [
             0.1111111111111111,
             "#46039f"
            ],
            [
             0.2222222222222222,
             "#7201a8"
            ],
            [
             0.3333333333333333,
             "#9c179e"
            ],
            [
             0.4444444444444444,
             "#bd3786"
            ],
            [
             0.5555555555555556,
             "#d8576b"
            ],
            [
             0.6666666666666666,
             "#ed7953"
            ],
            [
             0.7777777777777778,
             "#fb9f3a"
            ],
            [
             0.8888888888888888,
             "#fdca26"
            ],
            [
             1,
             "#f0f921"
            ]
           ],
           "sequentialminus": [
            [
             0,
             "#0d0887"
            ],
            [
             0.1111111111111111,
             "#46039f"
            ],
            [
             0.2222222222222222,
             "#7201a8"
            ],
            [
             0.3333333333333333,
             "#9c179e"
            ],
            [
             0.4444444444444444,
             "#bd3786"
            ],
            [
             0.5555555555555556,
             "#d8576b"
            ],
            [
             0.6666666666666666,
             "#ed7953"
            ],
            [
             0.7777777777777778,
             "#fb9f3a"
            ],
            [
             0.8888888888888888,
             "#fdca26"
            ],
            [
             1,
             "#f0f921"
            ]
           ]
          },
          "colorway": [
           "#636efa",
           "#EF553B",
           "#00cc96",
           "#ab63fa",
           "#FFA15A",
           "#19d3f3",
           "#FF6692",
           "#B6E880",
           "#FF97FF",
           "#FECB52"
          ],
          "font": {
           "color": "#2a3f5f"
          },
          "geo": {
           "bgcolor": "white",
           "lakecolor": "white",
           "landcolor": "#E5ECF6",
           "showlakes": true,
           "showland": true,
           "subunitcolor": "white"
          },
          "hoverlabel": {
           "align": "left"
          },
          "hovermode": "closest",
          "mapbox": {
           "style": "light"
          },
          "paper_bgcolor": "white",
          "plot_bgcolor": "#E5ECF6",
          "polar": {
           "angularaxis": {
            "gridcolor": "white",
            "linecolor": "white",
            "ticks": ""
           },
           "bgcolor": "#E5ECF6",
           "radialaxis": {
            "gridcolor": "white",
            "linecolor": "white",
            "ticks": ""
           }
          },
          "scene": {
           "xaxis": {
            "backgroundcolor": "#E5ECF6",
            "gridcolor": "white",
            "gridwidth": 2,
            "linecolor": "white",
            "showbackground": true,
            "ticks": "",
            "zerolinecolor": "white"
           },
           "yaxis": {
            "backgroundcolor": "#E5ECF6",
            "gridcolor": "white",
            "gridwidth": 2,
            "linecolor": "white",
            "showbackground": true,
            "ticks": "",
            "zerolinecolor": "white"
           },
           "zaxis": {
            "backgroundcolor": "#E5ECF6",
            "gridcolor": "white",
            "gridwidth": 2,
            "linecolor": "white",
            "showbackground": true,
            "ticks": "",
            "zerolinecolor": "white"
           }
          },
          "shapedefaults": {
           "line": {
            "color": "#2a3f5f"
           }
          },
          "ternary": {
           "aaxis": {
            "gridcolor": "white",
            "linecolor": "white",
            "ticks": ""
           },
           "baxis": {
            "gridcolor": "white",
            "linecolor": "white",
            "ticks": ""
           },
           "bgcolor": "#E5ECF6",
           "caxis": {
            "gridcolor": "white",
            "linecolor": "white",
            "ticks": ""
           }
          },
          "title": {
           "x": 0.05
          },
          "xaxis": {
           "automargin": true,
           "gridcolor": "white",
           "linecolor": "white",
           "ticks": "",
           "title": {
            "standoff": 15
           },
           "zerolinecolor": "white",
           "zerolinewidth": 2
          },
          "yaxis": {
           "automargin": true,
           "gridcolor": "white",
           "linecolor": "white",
           "ticks": "",
           "title": {
            "standoff": 15
           },
           "zerolinecolor": "white",
           "zerolinewidth": 2
          }
         }
        },
        "title": {
         "text": "All Lap times per lap"
        },
        "yaxis": {
         "type": "log"
        }
       }
      }
     },
     "metadata": {},
     "output_type": "display_data"
    }
   ],
   "source": [
    "fig = go.Figure()\n",
    "for col in working_df.columns[1:]:\n",
    "    fig.add_trace(go.Box(y=working_df[col].values.tolist(), name=col, boxmean=True))\n",
    "    fig.update_layout(title='All Lap times per lap')\n",
    "fig.update_yaxes(type=\"log\")\n",
    "fig.show()"
   ]
  },
  {
   "cell_type": "markdown",
   "metadata": {},
   "source": [
    "Plot the Median of each lap"
   ]
  },
  {
   "cell_type": "code",
   "execution_count": 64,
   "metadata": {},
   "outputs": [
    {
     "name": "stderr",
     "output_type": "stream",
     "text": [
      "C:\\Users\\marce\\AppData\\Local\\Temp/ipykernel_20708/2323186895.py:1: FutureWarning:\n",
      "\n",
      "Dropping of nuisance columns in DataFrame reductions (with 'numeric_only=None') is deprecated; in a future version this will raise TypeError.  Select only valid columns before calling the reduction.\n",
      "\n",
      "C:\\Users\\marce\\AppData\\Local\\Temp/ipykernel_20708/2323186895.py:2: FutureWarning:\n",
      "\n",
      "Dropping of nuisance columns in DataFrame reductions (with 'numeric_only=None') is deprecated; in a future version this will raise TypeError.  Select only valid columns before calling the reduction.\n",
      "\n"
     ]
    },
    {
     "data": {
      "application/vnd.plotly.v1+json": {
       "config": {
        "plotlyServerURL": "https://plot.ly"
       },
       "data": [
        {
         "boxmean": true,
         "boxpoints": "all",
         "name": "Median",
         "type": "box",
         "x": [
          137.2255,
          166.418,
          2237.5384999999997,
          134.572,
          95.6275,
          94.74799999999999,
          95.098,
          94.9945,
          94.6935,
          94.58449999999999,
          94.5425,
          94.64,
          94.762,
          94.4795,
          94.24549999999999,
          94.22749999999999,
          94.066,
          93.6945,
          93.512,
          93.17750000000001,
          93.3605,
          93.5,
          93.25550000000001,
          93.048,
          92.8615,
          92.8095,
          92.93299999999999,
          93.26599999999999,
          93.697,
          93.5135,
          93.5115,
          93.17,
          93.1555,
          93.1825,
          93.13550000000001,
          93.168,
          93.2415,
          92.9505,
          92.99000000000001,
          92.87,
          92.622,
          92.752,
          92.429,
          92.402,
          92.236,
          92.502,
          92.4,
          91.856,
          92.23,
          92.244,
          92.454,
          91.93950000000001
         ]
        },
        {
         "boxmean": true,
         "boxpoints": "all",
         "name": "Average",
         "type": "box",
         "x": [
          136.90622222222223,
          166.6678333333333,
          2237.578666666667,
          135.14455555555554,
          95.61727777777779,
          94.80472222222222,
          94.94338888888889,
          94.85822222222222,
          94.59877777777777,
          94.44266666666665,
          94.3841111111111,
          94.50966666666666,
          94.57011111111109,
          94.32005555555556,
          94.09472222222222,
          94.03066666666665,
          93.82655555555554,
          93.70777777777778,
          97.78044444444444,
          95.43872222222222,
          94.39299999999999,
          94.55777777777776,
          94.358,
          95.31161111111112,
          94.13666666666668,
          94.01688888888889,
          93.03872222222222,
          94.79305555555555,
          96.06577777777778,
          94.382,
          94.52005555555554,
          93.14027777777778,
          92.99894444444445,
          92.9406111111111,
          92.78955555555554,
          92.87905555555557,
          92.88938888888889,
          92.92483333333334,
          93.79694444444446,
          93.05377777777778,
          92.49882352941177,
          92.428,
          92.3039411764706,
          92.12405882352941,
          92.0920588235294,
          92.7660588235294,
          93.48158823529413,
          92.002,
          93.62876470588236,
          92.0535294117647,
          92.23370588235294,
          91.9207
         ]
        }
       ],
       "layout": {
        "template": {
         "data": {
          "bar": [
           {
            "error_x": {
             "color": "#2a3f5f"
            },
            "error_y": {
             "color": "#2a3f5f"
            },
            "marker": {
             "line": {
              "color": "#E5ECF6",
              "width": 0.5
             },
             "pattern": {
              "fillmode": "overlay",
              "size": 10,
              "solidity": 0.2
             }
            },
            "type": "bar"
           }
          ],
          "barpolar": [
           {
            "marker": {
             "line": {
              "color": "#E5ECF6",
              "width": 0.5
             },
             "pattern": {
              "fillmode": "overlay",
              "size": 10,
              "solidity": 0.2
             }
            },
            "type": "barpolar"
           }
          ],
          "carpet": [
           {
            "aaxis": {
             "endlinecolor": "#2a3f5f",
             "gridcolor": "white",
             "linecolor": "white",
             "minorgridcolor": "white",
             "startlinecolor": "#2a3f5f"
            },
            "baxis": {
             "endlinecolor": "#2a3f5f",
             "gridcolor": "white",
             "linecolor": "white",
             "minorgridcolor": "white",
             "startlinecolor": "#2a3f5f"
            },
            "type": "carpet"
           }
          ],
          "choropleth": [
           {
            "colorbar": {
             "outlinewidth": 0,
             "ticks": ""
            },
            "type": "choropleth"
           }
          ],
          "contour": [
           {
            "colorbar": {
             "outlinewidth": 0,
             "ticks": ""
            },
            "colorscale": [
             [
              0,
              "#0d0887"
             ],
             [
              0.1111111111111111,
              "#46039f"
             ],
             [
              0.2222222222222222,
              "#7201a8"
             ],
             [
              0.3333333333333333,
              "#9c179e"
             ],
             [
              0.4444444444444444,
              "#bd3786"
             ],
             [
              0.5555555555555556,
              "#d8576b"
             ],
             [
              0.6666666666666666,
              "#ed7953"
             ],
             [
              0.7777777777777778,
              "#fb9f3a"
             ],
             [
              0.8888888888888888,
              "#fdca26"
             ],
             [
              1,
              "#f0f921"
             ]
            ],
            "type": "contour"
           }
          ],
          "contourcarpet": [
           {
            "colorbar": {
             "outlinewidth": 0,
             "ticks": ""
            },
            "type": "contourcarpet"
           }
          ],
          "heatmap": [
           {
            "colorbar": {
             "outlinewidth": 0,
             "ticks": ""
            },
            "colorscale": [
             [
              0,
              "#0d0887"
             ],
             [
              0.1111111111111111,
              "#46039f"
             ],
             [
              0.2222222222222222,
              "#7201a8"
             ],
             [
              0.3333333333333333,
              "#9c179e"
             ],
             [
              0.4444444444444444,
              "#bd3786"
             ],
             [
              0.5555555555555556,
              "#d8576b"
             ],
             [
              0.6666666666666666,
              "#ed7953"
             ],
             [
              0.7777777777777778,
              "#fb9f3a"
             ],
             [
              0.8888888888888888,
              "#fdca26"
             ],
             [
              1,
              "#f0f921"
             ]
            ],
            "type": "heatmap"
           }
          ],
          "heatmapgl": [
           {
            "colorbar": {
             "outlinewidth": 0,
             "ticks": ""
            },
            "colorscale": [
             [
              0,
              "#0d0887"
             ],
             [
              0.1111111111111111,
              "#46039f"
             ],
             [
              0.2222222222222222,
              "#7201a8"
             ],
             [
              0.3333333333333333,
              "#9c179e"
             ],
             [
              0.4444444444444444,
              "#bd3786"
             ],
             [
              0.5555555555555556,
              "#d8576b"
             ],
             [
              0.6666666666666666,
              "#ed7953"
             ],
             [
              0.7777777777777778,
              "#fb9f3a"
             ],
             [
              0.8888888888888888,
              "#fdca26"
             ],
             [
              1,
              "#f0f921"
             ]
            ],
            "type": "heatmapgl"
           }
          ],
          "histogram": [
           {
            "marker": {
             "pattern": {
              "fillmode": "overlay",
              "size": 10,
              "solidity": 0.2
             }
            },
            "type": "histogram"
           }
          ],
          "histogram2d": [
           {
            "colorbar": {
             "outlinewidth": 0,
             "ticks": ""
            },
            "colorscale": [
             [
              0,
              "#0d0887"
             ],
             [
              0.1111111111111111,
              "#46039f"
             ],
             [
              0.2222222222222222,
              "#7201a8"
             ],
             [
              0.3333333333333333,
              "#9c179e"
             ],
             [
              0.4444444444444444,
              "#bd3786"
             ],
             [
              0.5555555555555556,
              "#d8576b"
             ],
             [
              0.6666666666666666,
              "#ed7953"
             ],
             [
              0.7777777777777778,
              "#fb9f3a"
             ],
             [
              0.8888888888888888,
              "#fdca26"
             ],
             [
              1,
              "#f0f921"
             ]
            ],
            "type": "histogram2d"
           }
          ],
          "histogram2dcontour": [
           {
            "colorbar": {
             "outlinewidth": 0,
             "ticks": ""
            },
            "colorscale": [
             [
              0,
              "#0d0887"
             ],
             [
              0.1111111111111111,
              "#46039f"
             ],
             [
              0.2222222222222222,
              "#7201a8"
             ],
             [
              0.3333333333333333,
              "#9c179e"
             ],
             [
              0.4444444444444444,
              "#bd3786"
             ],
             [
              0.5555555555555556,
              "#d8576b"
             ],
             [
              0.6666666666666666,
              "#ed7953"
             ],
             [
              0.7777777777777778,
              "#fb9f3a"
             ],
             [
              0.8888888888888888,
              "#fdca26"
             ],
             [
              1,
              "#f0f921"
             ]
            ],
            "type": "histogram2dcontour"
           }
          ],
          "mesh3d": [
           {
            "colorbar": {
             "outlinewidth": 0,
             "ticks": ""
            },
            "type": "mesh3d"
           }
          ],
          "parcoords": [
           {
            "line": {
             "colorbar": {
              "outlinewidth": 0,
              "ticks": ""
             }
            },
            "type": "parcoords"
           }
          ],
          "pie": [
           {
            "automargin": true,
            "type": "pie"
           }
          ],
          "scatter": [
           {
            "marker": {
             "colorbar": {
              "outlinewidth": 0,
              "ticks": ""
             }
            },
            "type": "scatter"
           }
          ],
          "scatter3d": [
           {
            "line": {
             "colorbar": {
              "outlinewidth": 0,
              "ticks": ""
             }
            },
            "marker": {
             "colorbar": {
              "outlinewidth": 0,
              "ticks": ""
             }
            },
            "type": "scatter3d"
           }
          ],
          "scattercarpet": [
           {
            "marker": {
             "colorbar": {
              "outlinewidth": 0,
              "ticks": ""
             }
            },
            "type": "scattercarpet"
           }
          ],
          "scattergeo": [
           {
            "marker": {
             "colorbar": {
              "outlinewidth": 0,
              "ticks": ""
             }
            },
            "type": "scattergeo"
           }
          ],
          "scattergl": [
           {
            "marker": {
             "colorbar": {
              "outlinewidth": 0,
              "ticks": ""
             }
            },
            "type": "scattergl"
           }
          ],
          "scattermapbox": [
           {
            "marker": {
             "colorbar": {
              "outlinewidth": 0,
              "ticks": ""
             }
            },
            "type": "scattermapbox"
           }
          ],
          "scatterpolar": [
           {
            "marker": {
             "colorbar": {
              "outlinewidth": 0,
              "ticks": ""
             }
            },
            "type": "scatterpolar"
           }
          ],
          "scatterpolargl": [
           {
            "marker": {
             "colorbar": {
              "outlinewidth": 0,
              "ticks": ""
             }
            },
            "type": "scatterpolargl"
           }
          ],
          "scatterternary": [
           {
            "marker": {
             "colorbar": {
              "outlinewidth": 0,
              "ticks": ""
             }
            },
            "type": "scatterternary"
           }
          ],
          "surface": [
           {
            "colorbar": {
             "outlinewidth": 0,
             "ticks": ""
            },
            "colorscale": [
             [
              0,
              "#0d0887"
             ],
             [
              0.1111111111111111,
              "#46039f"
             ],
             [
              0.2222222222222222,
              "#7201a8"
             ],
             [
              0.3333333333333333,
              "#9c179e"
             ],
             [
              0.4444444444444444,
              "#bd3786"
             ],
             [
              0.5555555555555556,
              "#d8576b"
             ],
             [
              0.6666666666666666,
              "#ed7953"
             ],
             [
              0.7777777777777778,
              "#fb9f3a"
             ],
             [
              0.8888888888888888,
              "#fdca26"
             ],
             [
              1,
              "#f0f921"
             ]
            ],
            "type": "surface"
           }
          ],
          "table": [
           {
            "cells": {
             "fill": {
              "color": "#EBF0F8"
             },
             "line": {
              "color": "white"
             }
            },
            "header": {
             "fill": {
              "color": "#C8D4E3"
             },
             "line": {
              "color": "white"
             }
            },
            "type": "table"
           }
          ]
         },
         "layout": {
          "annotationdefaults": {
           "arrowcolor": "#2a3f5f",
           "arrowhead": 0,
           "arrowwidth": 1
          },
          "autotypenumbers": "strict",
          "coloraxis": {
           "colorbar": {
            "outlinewidth": 0,
            "ticks": ""
           }
          },
          "colorscale": {
           "diverging": [
            [
             0,
             "#8e0152"
            ],
            [
             0.1,
             "#c51b7d"
            ],
            [
             0.2,
             "#de77ae"
            ],
            [
             0.3,
             "#f1b6da"
            ],
            [
             0.4,
             "#fde0ef"
            ],
            [
             0.5,
             "#f7f7f7"
            ],
            [
             0.6,
             "#e6f5d0"
            ],
            [
             0.7,
             "#b8e186"
            ],
            [
             0.8,
             "#7fbc41"
            ],
            [
             0.9,
             "#4d9221"
            ],
            [
             1,
             "#276419"
            ]
           ],
           "sequential": [
            [
             0,
             "#0d0887"
            ],
            [
             0.1111111111111111,
             "#46039f"
            ],
            [
             0.2222222222222222,
             "#7201a8"
            ],
            [
             0.3333333333333333,
             "#9c179e"
            ],
            [
             0.4444444444444444,
             "#bd3786"
            ],
            [
             0.5555555555555556,
             "#d8576b"
            ],
            [
             0.6666666666666666,
             "#ed7953"
            ],
            [
             0.7777777777777778,
             "#fb9f3a"
            ],
            [
             0.8888888888888888,
             "#fdca26"
            ],
            [
             1,
             "#f0f921"
            ]
           ],
           "sequentialminus": [
            [
             0,
             "#0d0887"
            ],
            [
             0.1111111111111111,
             "#46039f"
            ],
            [
             0.2222222222222222,
             "#7201a8"
            ],
            [
             0.3333333333333333,
             "#9c179e"
            ],
            [
             0.4444444444444444,
             "#bd3786"
            ],
            [
             0.5555555555555556,
             "#d8576b"
            ],
            [
             0.6666666666666666,
             "#ed7953"
            ],
            [
             0.7777777777777778,
             "#fb9f3a"
            ],
            [
             0.8888888888888888,
             "#fdca26"
            ],
            [
             1,
             "#f0f921"
            ]
           ]
          },
          "colorway": [
           "#636efa",
           "#EF553B",
           "#00cc96",
           "#ab63fa",
           "#FFA15A",
           "#19d3f3",
           "#FF6692",
           "#B6E880",
           "#FF97FF",
           "#FECB52"
          ],
          "font": {
           "color": "#2a3f5f"
          },
          "geo": {
           "bgcolor": "white",
           "lakecolor": "white",
           "landcolor": "#E5ECF6",
           "showlakes": true,
           "showland": true,
           "subunitcolor": "white"
          },
          "hoverlabel": {
           "align": "left"
          },
          "hovermode": "closest",
          "mapbox": {
           "style": "light"
          },
          "paper_bgcolor": "white",
          "plot_bgcolor": "#E5ECF6",
          "polar": {
           "angularaxis": {
            "gridcolor": "white",
            "linecolor": "white",
            "ticks": ""
           },
           "bgcolor": "#E5ECF6",
           "radialaxis": {
            "gridcolor": "white",
            "linecolor": "white",
            "ticks": ""
           }
          },
          "scene": {
           "xaxis": {
            "backgroundcolor": "#E5ECF6",
            "gridcolor": "white",
            "gridwidth": 2,
            "linecolor": "white",
            "showbackground": true,
            "ticks": "",
            "zerolinecolor": "white"
           },
           "yaxis": {
            "backgroundcolor": "#E5ECF6",
            "gridcolor": "white",
            "gridwidth": 2,
            "linecolor": "white",
            "showbackground": true,
            "ticks": "",
            "zerolinecolor": "white"
           },
           "zaxis": {
            "backgroundcolor": "#E5ECF6",
            "gridcolor": "white",
            "gridwidth": 2,
            "linecolor": "white",
            "showbackground": true,
            "ticks": "",
            "zerolinecolor": "white"
           }
          },
          "shapedefaults": {
           "line": {
            "color": "#2a3f5f"
           }
          },
          "ternary": {
           "aaxis": {
            "gridcolor": "white",
            "linecolor": "white",
            "ticks": ""
           },
           "baxis": {
            "gridcolor": "white",
            "linecolor": "white",
            "ticks": ""
           },
           "bgcolor": "#E5ECF6",
           "caxis": {
            "gridcolor": "white",
            "linecolor": "white",
            "ticks": ""
           }
          },
          "title": {
           "x": 0.05
          },
          "xaxis": {
           "automargin": true,
           "gridcolor": "white",
           "linecolor": "white",
           "ticks": "",
           "title": {
            "standoff": 15
           },
           "zerolinecolor": "white",
           "zerolinewidth": 2
          },
          "yaxis": {
           "automargin": true,
           "gridcolor": "white",
           "linecolor": "white",
           "ticks": "",
           "title": {
            "standoff": 15
           },
           "zerolinecolor": "white",
           "zerolinewidth": 2
          }
         }
        },
        "title": {
         "text": "Average & Median for all laps"
        },
        "xaxis": {
         "type": "log"
        }
       }
      }
     },
     "metadata": {},
     "output_type": "display_data"
    }
   ],
   "source": [
    "median = working_df[1:].median(axis=0, skipna=True).tolist()\n",
    "average = working_df[1:].mean(axis=0, skipna=True).tolist()\n",
    "\n",
    "fig = go.Figure()\n",
    "fig.add_trace(go.Box(x=median, name='Median',boxpoints='all',boxmean=True))\n",
    "fig.add_trace(go.Box(x=average, name='Average',boxpoints='all',boxmean=True))\n",
    "fig.update_layout(title='Average & Median for all laps')\n",
    "fig.update_xaxes(type=\"log\")\n",
    "fig.show()"
   ]
  },
  {
   "cell_type": "markdown",
   "metadata": {},
   "source": [
    "Compare a single drivers lap times to the average lap times\n",
    "\n",
    "This is a on a per lap basis, each lap time is only compared to that individuals average lap time, this accounts for laps were there might be a crash or a pace car since that affects all drivers times\n",
    "\n",
    "Visuallizes how we assign consistancy points\n",
    "\n",
    "*   Times that are below the average are positivly rewarded\n",
    "*   Times that are above the average are negativly rewarded"
   ]
  },
  {
   "cell_type": "code",
   "execution_count": 65,
   "metadata": {},
   "outputs": [
    {
     "name": "stderr",
     "output_type": "stream",
     "text": [
      "C:\\Users\\marce\\AppData\\Local\\Temp/ipykernel_20708/2792798645.py:1: FutureWarning:\n",
      "\n",
      "Dropping of nuisance columns in DataFrame reductions (with 'numeric_only=None') is deprecated; in a future version this will raise TypeError.  Select only valid columns before calling the reduction.\n",
      "\n",
      "C:\\Users\\marce\\AppData\\Local\\Temp/ipykernel_20708/2792798645.py:2: FutureWarning:\n",
      "\n",
      "Dropping of nuisance columns in DataFrame reductions (with 'numeric_only=None') is deprecated; in a future version this will raise TypeError.  Select only valid columns before calling the reduction.\n",
      "\n",
      "c:\\Users\\marce\\AppData\\Local\\Programs\\Python\\Python310\\lib\\site-packages\\plotly\\graph_objs\\_deprecations.py:378: DeprecationWarning:\n",
      "\n",
      "plotly.graph_objs.Line is deprecated.\n",
      "Please replace it with one of the following more specific types\n",
      "  - plotly.graph_objs.scatter.Line\n",
      "  - plotly.graph_objs.layout.shape.Line\n",
      "  - etc.\n",
      "\n",
      "\n"
     ]
    },
    {
     "data": {
      "application/vnd.plotly.v1+json": {
       "config": {
        "plotlyServerURL": "https://plot.ly"
       },
       "data": [
        {
         "line": {
          "dash": "dash"
         },
         "mode": "lines",
         "name": "Average",
         "type": "scatter",
         "x": [
          "Lap 1",
          "Lap 2",
          "Lap 3",
          "Lap 4",
          "Lap 5",
          "Lap 6",
          "Lap 7",
          "Lap 8",
          "Lap 9",
          "Lap 10",
          "Lap 11",
          "Lap 12",
          "Lap 13",
          "Lap 14",
          "Lap 15",
          "Lap 16",
          "Lap 17",
          "Lap 18",
          "Lap 19",
          "Lap 20",
          "Lap 21",
          "Lap 22",
          "Lap 23",
          "Lap 24",
          "Lap 25",
          "Lap 26",
          "Lap 27",
          "Lap 28",
          "Lap 29",
          "Lap 30",
          "Lap 31",
          "Lap 32",
          "Lap 33",
          "Lap 34",
          "Lap 35",
          "Lap 36",
          "Lap 37",
          "Lap 38",
          "Lap 39",
          "Lap 40",
          "Lap 41",
          "Lap 42",
          "Lap 43",
          "Lap 44",
          "Lap 45",
          "Lap 46",
          "Lap 47",
          "Lap 48",
          "Lap 49",
          "Lap 50",
          "Lap 51",
          "Lap 52"
         ],
         "y": [
          136.90622222222223,
          166.6678333333333,
          2237.578666666667,
          135.14455555555554,
          95.61727777777779,
          94.80472222222222,
          94.94338888888889,
          94.85822222222222,
          94.59877777777777,
          94.44266666666665,
          94.3841111111111,
          94.50966666666666,
          94.57011111111109,
          94.32005555555556,
          94.09472222222222,
          94.03066666666665,
          93.82655555555554,
          93.70777777777778,
          97.78044444444444,
          95.43872222222222,
          94.39299999999999,
          94.55777777777776,
          94.358,
          95.31161111111112,
          94.13666666666668,
          94.01688888888889,
          93.03872222222222,
          94.79305555555555,
          96.06577777777778,
          94.382,
          94.52005555555554,
          93.14027777777778,
          92.99894444444445,
          92.9406111111111,
          92.78955555555554,
          92.87905555555557,
          92.88938888888889,
          92.92483333333334,
          93.79694444444446,
          93.05377777777778,
          92.49882352941177,
          92.428,
          92.3039411764706,
          92.12405882352941,
          92.0920588235294,
          92.7660588235294,
          93.48158823529413,
          92.002,
          93.62876470588236,
          92.0535294117647,
          92.23370588235294,
          91.9207
         ]
        },
        {
         "line": {
          "dash": "dash"
         },
         "mode": "lines",
         "name": "Median",
         "type": "scatter",
         "x": [
          "Lap 1",
          "Lap 2",
          "Lap 3",
          "Lap 4",
          "Lap 5",
          "Lap 6",
          "Lap 7",
          "Lap 8",
          "Lap 9",
          "Lap 10",
          "Lap 11",
          "Lap 12",
          "Lap 13",
          "Lap 14",
          "Lap 15",
          "Lap 16",
          "Lap 17",
          "Lap 18",
          "Lap 19",
          "Lap 20",
          "Lap 21",
          "Lap 22",
          "Lap 23",
          "Lap 24",
          "Lap 25",
          "Lap 26",
          "Lap 27",
          "Lap 28",
          "Lap 29",
          "Lap 30",
          "Lap 31",
          "Lap 32",
          "Lap 33",
          "Lap 34",
          "Lap 35",
          "Lap 36",
          "Lap 37",
          "Lap 38",
          "Lap 39",
          "Lap 40",
          "Lap 41",
          "Lap 42",
          "Lap 43",
          "Lap 44",
          "Lap 45",
          "Lap 46",
          "Lap 47",
          "Lap 48",
          "Lap 49",
          "Lap 50",
          "Lap 51",
          "Lap 52"
         ],
         "y": [
          137.2255,
          166.418,
          2237.5384999999997,
          134.572,
          95.6275,
          94.74799999999999,
          95.098,
          94.9945,
          94.6935,
          94.58449999999999,
          94.5425,
          94.64,
          94.762,
          94.4795,
          94.24549999999999,
          94.22749999999999,
          94.066,
          93.6945,
          93.512,
          93.17750000000001,
          93.3605,
          93.5,
          93.25550000000001,
          93.048,
          92.8615,
          92.8095,
          92.93299999999999,
          93.26599999999999,
          93.697,
          93.5135,
          93.5115,
          93.17,
          93.1555,
          93.1825,
          93.13550000000001,
          93.168,
          93.2415,
          92.9505,
          92.99000000000001,
          92.87,
          92.622,
          92.752,
          92.429,
          92.402,
          92.236,
          92.502,
          92.4,
          91.856,
          92.23,
          92.244,
          92.454,
          91.93950000000001
         ]
        },
        {
         "name": "Alonso",
         "type": "scatter",
         "x": [
          "Lap 1",
          "Lap 2",
          "Lap 3",
          "Lap 4",
          "Lap 5",
          "Lap 6",
          "Lap 7",
          "Lap 8",
          "Lap 9",
          "Lap 10",
          "Lap 11",
          "Lap 12",
          "Lap 13",
          "Lap 14",
          "Lap 15",
          "Lap 16",
          "Lap 17",
          "Lap 18",
          "Lap 19",
          "Lap 20",
          "Lap 21",
          "Lap 22",
          "Lap 23",
          "Lap 24",
          "Lap 25",
          "Lap 26",
          "Lap 27",
          "Lap 28",
          "Lap 29",
          "Lap 30",
          "Lap 31",
          "Lap 32",
          "Lap 33",
          "Lap 34",
          "Lap 35",
          "Lap 36",
          "Lap 37",
          "Lap 38",
          "Lap 39",
          "Lap 40",
          "Lap 41",
          "Lap 42",
          "Lap 43",
          "Lap 44",
          "Lap 45",
          "Lap 46",
          "Lap 47",
          "Lap 48",
          "Lap 49",
          "Lap 50",
          "Lap 51",
          "Lap 52"
         ],
         "y": [
          132.307,
          163.56,
          2233.466,
          144.593,
          95.626,
          94.496,
          94.993,
          94.889,
          94.701,
          94.211,
          94.43,
          94.577,
          93.869,
          93.677,
          93.553,
          93.434,
          93.261,
          93.396,
          93.18,
          93.097,
          92.95,
          93.179,
          95.154,
          93.49,
          113.53,
          93.077,
          92.901,
          93.621,
          93.588,
          93.502,
          93.617,
          93.367,
          93.27,
          93.356,
          93.153,
          93.208,
          93.309,
          93.07,
          93.166,
          92.763,
          92.767,
          92.708,
          92.443,
          92.225,
          92.24,
          92.476,
          92.047,
          91.698,
          92.361,
          92.194,
          92.81,
          92.821
         ]
        },
        {
         "name": "Hamilton",
         "type": "scatter",
         "x": [
          "Lap 1",
          "Lap 2",
          "Lap 3",
          "Lap 4",
          "Lap 5",
          "Lap 6",
          "Lap 7",
          "Lap 8",
          "Lap 9",
          "Lap 10",
          "Lap 11",
          "Lap 12",
          "Lap 13",
          "Lap 14",
          "Lap 15",
          "Lap 16",
          "Lap 17",
          "Lap 18",
          "Lap 19",
          "Lap 20",
          "Lap 21",
          "Lap 22",
          "Lap 23",
          "Lap 24",
          "Lap 25",
          "Lap 26",
          "Lap 27",
          "Lap 28",
          "Lap 29",
          "Lap 30",
          "Lap 31",
          "Lap 32",
          "Lap 33",
          "Lap 34",
          "Lap 35",
          "Lap 36",
          "Lap 37",
          "Lap 38",
          "Lap 39",
          "Lap 40",
          "Lap 41",
          "Lap 42",
          "Lap 43",
          "Lap 44",
          "Lap 45",
          "Lap 46",
          "Lap 47",
          "Lap 48",
          "Lap 49",
          "Lap 50",
          "Lap 51",
          "Lap 52"
         ],
         "y": [
          125.599,
          158.142,
          2229.155,
          157.266,
          93.049,
          93.113,
          92.738,
          92.928,
          93.013,
          93.458,
          92.95,
          92.943,
          93.158,
          92.749,
          92.713,
          92.473,
          92.291,
          92.548,
          92.597,
          92.076,
          92.297,
          92.189,
          92.311,
          92.686,
          92.115,
          91.854,
          92.852,
          123.392,
          90.762,
          91.113,
          91.257,
          92.488,
          92.038,
          91.219,
          90.817,
          91.025,
          90.807,
          90.594,
          90.859,
          90.443,
          90.468,
          90.16,
          90.258,
          89.801,
          89.699,
          89.701,
          90.52,
          90.503,
          90.525,
          90.9,
          91.037,
          91.635
         ]
        }
       ],
       "layout": {
        "template": {
         "data": {
          "bar": [
           {
            "error_x": {
             "color": "#2a3f5f"
            },
            "error_y": {
             "color": "#2a3f5f"
            },
            "marker": {
             "line": {
              "color": "#E5ECF6",
              "width": 0.5
             },
             "pattern": {
              "fillmode": "overlay",
              "size": 10,
              "solidity": 0.2
             }
            },
            "type": "bar"
           }
          ],
          "barpolar": [
           {
            "marker": {
             "line": {
              "color": "#E5ECF6",
              "width": 0.5
             },
             "pattern": {
              "fillmode": "overlay",
              "size": 10,
              "solidity": 0.2
             }
            },
            "type": "barpolar"
           }
          ],
          "carpet": [
           {
            "aaxis": {
             "endlinecolor": "#2a3f5f",
             "gridcolor": "white",
             "linecolor": "white",
             "minorgridcolor": "white",
             "startlinecolor": "#2a3f5f"
            },
            "baxis": {
             "endlinecolor": "#2a3f5f",
             "gridcolor": "white",
             "linecolor": "white",
             "minorgridcolor": "white",
             "startlinecolor": "#2a3f5f"
            },
            "type": "carpet"
           }
          ],
          "choropleth": [
           {
            "colorbar": {
             "outlinewidth": 0,
             "ticks": ""
            },
            "type": "choropleth"
           }
          ],
          "contour": [
           {
            "colorbar": {
             "outlinewidth": 0,
             "ticks": ""
            },
            "colorscale": [
             [
              0,
              "#0d0887"
             ],
             [
              0.1111111111111111,
              "#46039f"
             ],
             [
              0.2222222222222222,
              "#7201a8"
             ],
             [
              0.3333333333333333,
              "#9c179e"
             ],
             [
              0.4444444444444444,
              "#bd3786"
             ],
             [
              0.5555555555555556,
              "#d8576b"
             ],
             [
              0.6666666666666666,
              "#ed7953"
             ],
             [
              0.7777777777777778,
              "#fb9f3a"
             ],
             [
              0.8888888888888888,
              "#fdca26"
             ],
             [
              1,
              "#f0f921"
             ]
            ],
            "type": "contour"
           }
          ],
          "contourcarpet": [
           {
            "colorbar": {
             "outlinewidth": 0,
             "ticks": ""
            },
            "type": "contourcarpet"
           }
          ],
          "heatmap": [
           {
            "colorbar": {
             "outlinewidth": 0,
             "ticks": ""
            },
            "colorscale": [
             [
              0,
              "#0d0887"
             ],
             [
              0.1111111111111111,
              "#46039f"
             ],
             [
              0.2222222222222222,
              "#7201a8"
             ],
             [
              0.3333333333333333,
              "#9c179e"
             ],
             [
              0.4444444444444444,
              "#bd3786"
             ],
             [
              0.5555555555555556,
              "#d8576b"
             ],
             [
              0.6666666666666666,
              "#ed7953"
             ],
             [
              0.7777777777777778,
              "#fb9f3a"
             ],
             [
              0.8888888888888888,
              "#fdca26"
             ],
             [
              1,
              "#f0f921"
             ]
            ],
            "type": "heatmap"
           }
          ],
          "heatmapgl": [
           {
            "colorbar": {
             "outlinewidth": 0,
             "ticks": ""
            },
            "colorscale": [
             [
              0,
              "#0d0887"
             ],
             [
              0.1111111111111111,
              "#46039f"
             ],
             [
              0.2222222222222222,
              "#7201a8"
             ],
             [
              0.3333333333333333,
              "#9c179e"
             ],
             [
              0.4444444444444444,
              "#bd3786"
             ],
             [
              0.5555555555555556,
              "#d8576b"
             ],
             [
              0.6666666666666666,
              "#ed7953"
             ],
             [
              0.7777777777777778,
              "#fb9f3a"
             ],
             [
              0.8888888888888888,
              "#fdca26"
             ],
             [
              1,
              "#f0f921"
             ]
            ],
            "type": "heatmapgl"
           }
          ],
          "histogram": [
           {
            "marker": {
             "pattern": {
              "fillmode": "overlay",
              "size": 10,
              "solidity": 0.2
             }
            },
            "type": "histogram"
           }
          ],
          "histogram2d": [
           {
            "colorbar": {
             "outlinewidth": 0,
             "ticks": ""
            },
            "colorscale": [
             [
              0,
              "#0d0887"
             ],
             [
              0.1111111111111111,
              "#46039f"
             ],
             [
              0.2222222222222222,
              "#7201a8"
             ],
             [
              0.3333333333333333,
              "#9c179e"
             ],
             [
              0.4444444444444444,
              "#bd3786"
             ],
             [
              0.5555555555555556,
              "#d8576b"
             ],
             [
              0.6666666666666666,
              "#ed7953"
             ],
             [
              0.7777777777777778,
              "#fb9f3a"
             ],
             [
              0.8888888888888888,
              "#fdca26"
             ],
             [
              1,
              "#f0f921"
             ]
            ],
            "type": "histogram2d"
           }
          ],
          "histogram2dcontour": [
           {
            "colorbar": {
             "outlinewidth": 0,
             "ticks": ""
            },
            "colorscale": [
             [
              0,
              "#0d0887"
             ],
             [
              0.1111111111111111,
              "#46039f"
             ],
             [
              0.2222222222222222,
              "#7201a8"
             ],
             [
              0.3333333333333333,
              "#9c179e"
             ],
             [
              0.4444444444444444,
              "#bd3786"
             ],
             [
              0.5555555555555556,
              "#d8576b"
             ],
             [
              0.6666666666666666,
              "#ed7953"
             ],
             [
              0.7777777777777778,
              "#fb9f3a"
             ],
             [
              0.8888888888888888,
              "#fdca26"
             ],
             [
              1,
              "#f0f921"
             ]
            ],
            "type": "histogram2dcontour"
           }
          ],
          "mesh3d": [
           {
            "colorbar": {
             "outlinewidth": 0,
             "ticks": ""
            },
            "type": "mesh3d"
           }
          ],
          "parcoords": [
           {
            "line": {
             "colorbar": {
              "outlinewidth": 0,
              "ticks": ""
             }
            },
            "type": "parcoords"
           }
          ],
          "pie": [
           {
            "automargin": true,
            "type": "pie"
           }
          ],
          "scatter": [
           {
            "marker": {
             "colorbar": {
              "outlinewidth": 0,
              "ticks": ""
             }
            },
            "type": "scatter"
           }
          ],
          "scatter3d": [
           {
            "line": {
             "colorbar": {
              "outlinewidth": 0,
              "ticks": ""
             }
            },
            "marker": {
             "colorbar": {
              "outlinewidth": 0,
              "ticks": ""
             }
            },
            "type": "scatter3d"
           }
          ],
          "scattercarpet": [
           {
            "marker": {
             "colorbar": {
              "outlinewidth": 0,
              "ticks": ""
             }
            },
            "type": "scattercarpet"
           }
          ],
          "scattergeo": [
           {
            "marker": {
             "colorbar": {
              "outlinewidth": 0,
              "ticks": ""
             }
            },
            "type": "scattergeo"
           }
          ],
          "scattergl": [
           {
            "marker": {
             "colorbar": {
              "outlinewidth": 0,
              "ticks": ""
             }
            },
            "type": "scattergl"
           }
          ],
          "scattermapbox": [
           {
            "marker": {
             "colorbar": {
              "outlinewidth": 0,
              "ticks": ""
             }
            },
            "type": "scattermapbox"
           }
          ],
          "scatterpolar": [
           {
            "marker": {
             "colorbar": {
              "outlinewidth": 0,
              "ticks": ""
             }
            },
            "type": "scatterpolar"
           }
          ],
          "scatterpolargl": [
           {
            "marker": {
             "colorbar": {
              "outlinewidth": 0,
              "ticks": ""
             }
            },
            "type": "scatterpolargl"
           }
          ],
          "scatterternary": [
           {
            "marker": {
             "colorbar": {
              "outlinewidth": 0,
              "ticks": ""
             }
            },
            "type": "scatterternary"
           }
          ],
          "surface": [
           {
            "colorbar": {
             "outlinewidth": 0,
             "ticks": ""
            },
            "colorscale": [
             [
              0,
              "#0d0887"
             ],
             [
              0.1111111111111111,
              "#46039f"
             ],
             [
              0.2222222222222222,
              "#7201a8"
             ],
             [
              0.3333333333333333,
              "#9c179e"
             ],
             [
              0.4444444444444444,
              "#bd3786"
             ],
             [
              0.5555555555555556,
              "#d8576b"
             ],
             [
              0.6666666666666666,
              "#ed7953"
             ],
             [
              0.7777777777777778,
              "#fb9f3a"
             ],
             [
              0.8888888888888888,
              "#fdca26"
             ],
             [
              1,
              "#f0f921"
             ]
            ],
            "type": "surface"
           }
          ],
          "table": [
           {
            "cells": {
             "fill": {
              "color": "#EBF0F8"
             },
             "line": {
              "color": "white"
             }
            },
            "header": {
             "fill": {
              "color": "#C8D4E3"
             },
             "line": {
              "color": "white"
             }
            },
            "type": "table"
           }
          ]
         },
         "layout": {
          "annotationdefaults": {
           "arrowcolor": "#2a3f5f",
           "arrowhead": 0,
           "arrowwidth": 1
          },
          "autotypenumbers": "strict",
          "coloraxis": {
           "colorbar": {
            "outlinewidth": 0,
            "ticks": ""
           }
          },
          "colorscale": {
           "diverging": [
            [
             0,
             "#8e0152"
            ],
            [
             0.1,
             "#c51b7d"
            ],
            [
             0.2,
             "#de77ae"
            ],
            [
             0.3,
             "#f1b6da"
            ],
            [
             0.4,
             "#fde0ef"
            ],
            [
             0.5,
             "#f7f7f7"
            ],
            [
             0.6,
             "#e6f5d0"
            ],
            [
             0.7,
             "#b8e186"
            ],
            [
             0.8,
             "#7fbc41"
            ],
            [
             0.9,
             "#4d9221"
            ],
            [
             1,
             "#276419"
            ]
           ],
           "sequential": [
            [
             0,
             "#0d0887"
            ],
            [
             0.1111111111111111,
             "#46039f"
            ],
            [
             0.2222222222222222,
             "#7201a8"
            ],
            [
             0.3333333333333333,
             "#9c179e"
            ],
            [
             0.4444444444444444,
             "#bd3786"
            ],
            [
             0.5555555555555556,
             "#d8576b"
            ],
            [
             0.6666666666666666,
             "#ed7953"
            ],
            [
             0.7777777777777778,
             "#fb9f3a"
            ],
            [
             0.8888888888888888,
             "#fdca26"
            ],
            [
             1,
             "#f0f921"
            ]
           ],
           "sequentialminus": [
            [
             0,
             "#0d0887"
            ],
            [
             0.1111111111111111,
             "#46039f"
            ],
            [
             0.2222222222222222,
             "#7201a8"
            ],
            [
             0.3333333333333333,
             "#9c179e"
            ],
            [
             0.4444444444444444,
             "#bd3786"
            ],
            [
             0.5555555555555556,
             "#d8576b"
            ],
            [
             0.6666666666666666,
             "#ed7953"
            ],
            [
             0.7777777777777778,
             "#fb9f3a"
            ],
            [
             0.8888888888888888,
             "#fdca26"
            ],
            [
             1,
             "#f0f921"
            ]
           ]
          },
          "colorway": [
           "#636efa",
           "#EF553B",
           "#00cc96",
           "#ab63fa",
           "#FFA15A",
           "#19d3f3",
           "#FF6692",
           "#B6E880",
           "#FF97FF",
           "#FECB52"
          ],
          "font": {
           "color": "#2a3f5f"
          },
          "geo": {
           "bgcolor": "white",
           "lakecolor": "white",
           "landcolor": "#E5ECF6",
           "showlakes": true,
           "showland": true,
           "subunitcolor": "white"
          },
          "hoverlabel": {
           "align": "left"
          },
          "hovermode": "closest",
          "mapbox": {
           "style": "light"
          },
          "paper_bgcolor": "white",
          "plot_bgcolor": "#E5ECF6",
          "polar": {
           "angularaxis": {
            "gridcolor": "white",
            "linecolor": "white",
            "ticks": ""
           },
           "bgcolor": "#E5ECF6",
           "radialaxis": {
            "gridcolor": "white",
            "linecolor": "white",
            "ticks": ""
           }
          },
          "scene": {
           "xaxis": {
            "backgroundcolor": "#E5ECF6",
            "gridcolor": "white",
            "gridwidth": 2,
            "linecolor": "white",
            "showbackground": true,
            "ticks": "",
            "zerolinecolor": "white"
           },
           "yaxis": {
            "backgroundcolor": "#E5ECF6",
            "gridcolor": "white",
            "gridwidth": 2,
            "linecolor": "white",
            "showbackground": true,
            "ticks": "",
            "zerolinecolor": "white"
           },
           "zaxis": {
            "backgroundcolor": "#E5ECF6",
            "gridcolor": "white",
            "gridwidth": 2,
            "linecolor": "white",
            "showbackground": true,
            "ticks": "",
            "zerolinecolor": "white"
           }
          },
          "shapedefaults": {
           "line": {
            "color": "#2a3f5f"
           }
          },
          "ternary": {
           "aaxis": {
            "gridcolor": "white",
            "linecolor": "white",
            "ticks": ""
           },
           "baxis": {
            "gridcolor": "white",
            "linecolor": "white",
            "ticks": ""
           },
           "bgcolor": "#E5ECF6",
           "caxis": {
            "gridcolor": "white",
            "linecolor": "white",
            "ticks": ""
           }
          },
          "title": {
           "x": 0.05
          },
          "xaxis": {
           "automargin": true,
           "gridcolor": "white",
           "linecolor": "white",
           "ticks": "",
           "title": {
            "standoff": 15
           },
           "zerolinecolor": "white",
           "zerolinewidth": 2
          },
          "yaxis": {
           "automargin": true,
           "gridcolor": "white",
           "linecolor": "white",
           "ticks": "",
           "title": {
            "standoff": 15
           },
           "zerolinecolor": "white",
           "zerolinewidth": 2
          }
         }
        },
        "title": {
         "text": "Alonso time vs Average Time vs Median Time"
        },
        "yaxis": {
         "type": "log"
        }
       }
      }
     },
     "metadata": {},
     "output_type": "display_data"
    }
   ],
   "source": [
    "average = working_df[1:].mean(axis=0, skipna=True).tolist()\n",
    "median = working_df[1:].median(axis=0, skipna=True).tolist()\n",
    "driver = working_df.loc[working_df['Drivers'] == 'alonso']\n",
    "driver1 = working_df.loc[working_df['Drivers'] == 'hamilton']\n",
    "\n",
    "fig = go.Figure()\n",
    "# Average Line\n",
    "fig.add_trace(go.Line(x=driver.columns[1:].values.flatten().tolist(),y=average, name='Average', mode='lines', line = dict(dash='dash')))\n",
    "fig.add_trace(go.Line(x=driver.columns[1:].values.flatten().tolist(),y=median, name='Median', mode='lines', line = dict(dash='dash')))\n",
    "# Drivers Line\n",
    "fig.add_trace(go.Line(x=driver.columns[1:].values.flatten().tolist(),y=driver.iloc[0].values[1:].flatten().tolist(), name='Alonso'))\n",
    "fig.add_trace(go.Line(x=driver1.columns[1:].values.flatten().tolist(),y=driver1.iloc[0].values[1:].flatten().tolist(), name='Hamilton'))\n",
    "fig.update_layout(title='Alonso time vs Average Time vs Median Time')\n",
    "fig.update_yaxes(type=\"log\")\n",
    "fig.show()"
   ]
  },
  {
   "cell_type": "markdown",
   "metadata": {},
   "source": [
    "Boxplot that compares all drivers to each other.\n",
    "\n",
    "Each point on a driver is a laptime, showing their range. \n",
    "\n",
    "*   The higher the points, slower the time\n",
    "*   The lower the points, faster the time\n",
    "\n",
    "Each driver is expected to have some outliers due to accidents on track, but its the consistancy of the range that shows how good a driver is.\n",
    "\n",
    "This does not factor in the team of the driver. There are always good and bad teams which is a big factor on how fast a driver is, but is not a big factor in terms of consistancy. They do contribute to a small degree, but this graph does not weight that in\n",
    "\n",
    "Also, the average line is the total lap average across the entire race. Because of this, any accidents that affect lap times will impact the average. For this we used the median"
   ]
  },
  {
   "cell_type": "code",
   "execution_count": 66,
   "metadata": {},
   "outputs": [
    {
     "name": "stderr",
     "output_type": "stream",
     "text": [
      "C:\\Users\\marce\\AppData\\Local\\Temp/ipykernel_20708/369823127.py:1: FutureWarning:\n",
      "\n",
      "Dropping of nuisance columns in DataFrame reductions (with 'numeric_only=None') is deprecated; in a future version this will raise TypeError.  Select only valid columns before calling the reduction.\n",
      "\n",
      "C:\\Users\\marce\\AppData\\Local\\Temp/ipykernel_20708/369823127.py:4: FutureWarning:\n",
      "\n",
      "Dropping of nuisance columns in DataFrame reductions (with 'numeric_only=None') is deprecated; in a future version this will raise TypeError.  Select only valid columns before calling the reduction.\n",
      "\n"
     ]
    },
    {
     "data": {
      "application/vnd.plotly.v1+json": {
       "config": {
        "plotlyServerURL": "https://plot.ly"
       },
       "data": [
        {
         "marker": {
          "color": "black"
         },
         "name": "Average",
         "type": "box",
         "x": [
          "alonso",
          "bottas",
          "gasly",
          "giovinazzi",
          "hamilton",
          "latifi",
          "leclerc",
          "mazepin",
          "mick_schumacher",
          "norris",
          "ocon",
          "perez",
          "raikkonen",
          "ricciardo",
          "russell",
          "sainz",
          "stroll",
          "tsunoda",
          "vettel"
         ],
         "y": [
          138.0527950100553,
          138.0527950100553,
          138.0527950100553,
          138.0527950100553,
          138.0527950100553,
          138.0527950100553,
          138.0527950100553,
          138.0527950100553,
          138.0527950100553,
          138.0527950100553,
          138.0527950100553,
          138.0527950100553,
          138.0527950100553,
          138.0527950100553,
          138.0527950100553,
          138.0527950100553,
          138.0527950100553,
          138.0527950100553,
          138.0527950100553,
          138.0527950100553,
          138.0527950100553,
          138.0527950100553,
          138.0527950100553,
          138.0527950100553,
          138.0527950100553,
          138.0527950100553,
          138.0527950100553,
          138.0527950100553,
          138.0527950100553,
          138.0527950100553,
          138.0527950100553,
          138.0527950100553,
          138.0527950100553,
          138.0527950100553,
          138.0527950100553,
          138.0527950100553,
          138.0527950100553,
          138.0527950100553,
          138.0527950100553,
          138.0527950100553,
          138.0527950100553,
          138.0527950100553,
          138.0527950100553,
          138.0527950100553,
          138.0527950100553,
          138.0527950100553,
          138.0527950100553,
          138.0527950100553,
          138.0527950100553,
          138.0527950100553,
          138.0527950100553,
          138.0527950100553
         ]
        },
        {
         "marker": {
          "color": "black"
         },
         "name": "Median",
         "type": "box",
         "x": [
          "alonso",
          "bottas",
          "gasly",
          "giovinazzi",
          "hamilton",
          "latifi",
          "leclerc",
          "mazepin",
          "mick_schumacher",
          "norris",
          "ocon",
          "perez",
          "raikkonen",
          "ricciardo",
          "russell",
          "sainz",
          "stroll",
          "tsunoda",
          "vettel"
         ],
         "y": [
          93.2485,
          93.2485,
          93.2485,
          93.2485,
          93.2485,
          93.2485,
          93.2485,
          93.2485,
          93.2485,
          93.2485,
          93.2485,
          93.2485,
          93.2485,
          93.2485,
          93.2485,
          93.2485,
          93.2485,
          93.2485,
          93.2485,
          93.2485,
          93.2485,
          93.2485,
          93.2485,
          93.2485,
          93.2485,
          93.2485,
          93.2485,
          93.2485,
          93.2485,
          93.2485,
          93.2485,
          93.2485,
          93.2485,
          93.2485,
          93.2485,
          93.2485,
          93.2485,
          93.2485,
          93.2485,
          93.2485,
          93.2485,
          93.2485,
          93.2485,
          93.2485,
          93.2485,
          93.2485,
          93.2485,
          93.2485,
          93.2485,
          93.2485,
          93.2485,
          93.2485
         ]
        },
        {
         "name": "alonso",
         "type": "box",
         "y": [
          132.307,
          163.56,
          2233.466,
          144.593,
          95.626,
          94.496,
          94.993,
          94.889,
          94.701,
          94.211,
          94.43,
          94.577,
          93.869,
          93.677,
          93.553,
          93.434,
          93.261,
          93.396,
          93.18,
          93.097,
          92.95,
          93.179,
          95.154,
          93.49,
          113.53,
          93.077,
          92.901,
          93.621,
          93.588,
          93.502,
          93.617,
          93.367,
          93.27,
          93.356,
          93.153,
          93.208,
          93.309,
          93.07,
          93.166,
          92.763,
          92.767,
          92.708,
          92.443,
          92.225,
          92.24,
          92.476,
          92.047,
          91.698,
          92.361,
          92.194,
          92.81,
          92.821
         ]
        },
        {
         "name": "bottas",
         "type": "box",
         "y": [
          126.173,
          159.641,
          2229.294,
          156.914,
          93.727,
          93.577,
          93.543,
          93.571,
          93.096,
          93.312,
          93.397,
          93.423,
          93.38,
          93.34,
          92.694,
          92.415,
          92.454,
          92.543,
          92.639,
          92.409,
          92.488,
          91.869,
          112.484,
          91.988,
          91.415,
          91.52,
          91.804,
          91.651,
          92.16,
          92.48,
          92.683,
          92.191,
          91.72,
          91.799,
          91.252,
          91.435,
          91.094,
          91.066,
          91.146,
          93.278,
          91.445,
          91.084,
          91.161,
          90.688,
          90.524,
          90.641,
          90.872,
          91.181,
          91.473,
          92.153,
          91.698,
          92.424
         ]
        },
        {
         "name": "gasly",
         "type": "box",
         "y": [
          139.081,
          168.344,
          2240.925,
          128.686,
          96.555,
          94.385,
          95.21,
          95.158,
          94.927,
          94.729,
          94.537,
          94.825,
          94.958,
          94.588,
          94.227,
          94.314,
          94.135,
          94.26,
          92.96,
          92.932,
          92.788,
          92.933,
          92.925,
          92.855,
          92.784,
          92.764,
          93.201,
          92.66,
          113.002,
          92.686,
          92.836,
          93.166,
          93.508,
          93.037,
          93.125,
          93.17,
          93.228,
          92.907,
          92.505,
          92.565,
          92.544,
          92.752,
          92.414,
          92.402,
          92.109,
          93.003,
          110.418,
          90.74,
          92.093,
          90.995,
          90.494,
          90.266
         ]
        },
        {
         "name": "giovinazzi",
         "type": "box",
         "y": [
          140.441,
          169.294,
          2241.267,
          125.661,
          96.308,
          95.876,
          95.379,
          95.295,
          96.091,
          94.858,
          94.635,
          94.917,
          94.743,
          94.656,
          94.571,
          94.554,
          94.051,
          94.331,
          94.034,
          93.478,
          93.765,
          93.622,
          93.119,
          113.252,
          93.247,
          93.205,
          93.431,
          93.59,
          93.867,
          93.726,
          93.565,
          93.729,
          93.29,
          93.2,
          93.257,
          93.495,
          93.226,
          93.08,
          93.135,
          92.925,
          93.924,
          93.584,
          92.621,
          92.817,
          92.873,
          92.705,
          92.668,
          93.27,
          92.346,
          94.269,
          94.792,
          null
         ]
        },
        {
         "name": "hamilton",
         "type": "box",
         "y": [
          125.599,
          158.142,
          2229.155,
          157.266,
          93.049,
          93.113,
          92.738,
          92.928,
          93.013,
          93.458,
          92.95,
          92.943,
          93.158,
          92.749,
          92.713,
          92.473,
          92.291,
          92.548,
          92.597,
          92.076,
          92.297,
          92.189,
          92.311,
          92.686,
          92.115,
          91.854,
          92.852,
          123.392,
          90.762,
          91.113,
          91.257,
          92.488,
          92.038,
          91.219,
          90.817,
          91.025,
          90.807,
          90.594,
          90.859,
          90.443,
          90.468,
          90.16,
          90.258,
          89.801,
          89.699,
          89.701,
          90.52,
          90.503,
          90.525,
          90.9,
          91.037,
          91.635
         ]
        },
        {
         "name": "latifi",
         "type": "box",
         "y": [
          146.229,
          174.392,
          2242.718,
          116.501,
          97.107,
          95.62,
          95.773,
          95.548,
          95.35,
          94.984,
          94.706,
          95.126,
          94.897,
          94.867,
          94.273,
          94.48,
          94.387,
          94.49,
          93.034,
          112.614,
          93.566,
          93.515,
          93.497,
          93.803,
          93.6,
          93.169,
          93.241,
          93.452,
          93.78,
          93.484,
          93.654,
          93.574,
          93.253,
          93.339,
          93.146,
          92.932,
          93.255,
          92.994,
          92.807,
          93.468,
          92.787,
          93.104,
          92.765,
          92.982,
          93.203,
          93.142,
          93.571,
          95.201,
          93.043,
          92.718,
          92.477,
          null
         ]
        },
        {
         "name": "leclerc",
         "type": "box",
         "y": [
          122.7,
          159.045,
          2227.083,
          160.134,
          92.805,
          92.91,
          93.003,
          93.105,
          92.97,
          93.232,
          92.841,
          92.939,
          92.969,
          92.744,
          93.282,
          92.623,
          92.475,
          92.296,
          91.985,
          92.128,
          91.974,
          92.223,
          92.259,
          92.296,
          92.048,
          91.993,
          92.082,
          91.958,
          91.847,
          111.72,
          91.552,
          91.541,
          91.716,
          91.978,
          91.448,
          91.384,
          91.5,
          91.542,
          91.599,
          91.425,
          91.539,
          91.271,
          90.917,
          90.846,
          90.569,
          90.724,
          91.228,
          91.291,
          91.149,
          92.956,
          92.454,
          92.857
         ]
        },
        {
         "name": "mazepin",
         "type": "box",
         "y": [
          148.985,
          173.397,
          2253.574,
          104.503,
          98.789,
          97.188,
          97.928,
          97.033,
          96.697,
          96.408,
          96.265,
          96.732,
          96.397,
          96.363,
          96.104,
          96.152,
          95.735,
          95.376,
          96.011,
          95.879,
          95.692,
          95.822,
          95.634,
          94.736,
          93.671,
          115.157,
          94.423,
          94.404,
          94.715,
          96.036,
          97.864,
          94.543,
          94.32,
          94.077,
          94.149,
          94.09,
          94.066,
          96.24,
          94.15,
          93.947,
          93.558,
          93.734,
          93.422,
          93.402,
          93.404,
          93.341,
          93.525,
          93.252,
          93.097,
          92.927,
          92.909,
          null
         ]
        },
        {
         "name": "mick_schumacher",
         "type": "box",
         "y": [
          145.57,
          172.95,
          2240.706,
          119.887,
          99.029,
          97.141,
          96.993,
          97.531,
          96.428,
          96.098,
          96.141,
          96.616,
          96.449,
          96.074,
          95.82,
          95.631,
          95.857,
          95.94,
          97.027,
          95.63,
          95.951,
          95.452,
          95.387,
          93.93,
          117.006,
          94.381,
          95.266,
          95.721,
          96.468,
          97.139,
          95.172,
          94.412,
          94.158,
          94.08,
          93.972,
          93.959,
          94.097,
          96.633,
          94.579,
          93.895,
          93.536,
          93.481,
          92.997,
          93.292,
          93.654,
          93.767,
          93.371,
          93.091,
          93.179,
          92.862,
          92.987,
          null
         ]
        },
        {
         "name": "norris",
         "type": "box",
         "y": [
          128.698,
          158.631,
          2231.598,
          152.439,
          93.318,
          93.428,
          93.556,
          93.402,
          93.373,
          93.011,
          93.286,
          93.295,
          93.193,
          93.165,
          92.827,
          92.778,
          92.586,
          92.52,
          92.586,
          92.293,
          91.418,
          115.033,
          93.509,
          92.83,
          92.274,
          92.04,
          92.047,
          92.096,
          92.217,
          92.073,
          93.668,
          93.174,
          92.41,
          92.139,
          91.94,
          91.945,
          91.848,
          91.823,
          92.061,
          91.624,
          91.8,
          91.572,
          91.762,
          91.42,
          91.666,
          91.836,
          91.9,
          91.75,
          92.868,
          92.679,
          92.208,
          92.244
         ]
        },
        {
         "name": "ocon",
         "type": "box",
         "y": [
          136.727,
          166.033,
          2236.939,
          136.604,
          95.13,
          94.832,
          94.982,
          95.072,
          94.762,
          94.548,
          94.639,
          94.593,
          94.781,
          94.389,
          94.09,
          94.152,
          93.975,
          94.037,
          93.472,
          113.457,
          92.946,
          94.079,
          93.186,
          93.223,
          92.939,
          92.784,
          92.882,
          92.84,
          94.35,
          93.657,
          93.252,
          93.114,
          93.022,
          92.764,
          92.963,
          93.166,
          93.051,
          92.855,
          92.845,
          92.497,
          92.622,
          92.588,
          92.492,
          92.522,
          92.236,
          92.612,
          92.4,
          92.21,
          92.349,
          92.244,
          92.738,
          92.804
         ]
        },
        {
         "name": "perez",
         "type": "box",
         "y": [
          149.563,
          174.839,
          2252.336,
          102.651,
          95.983,
          95.256,
          94.763,
          94.882,
          94.058,
          94.621,
          94.535,
          94.822,
          94.837,
          94.57,
          94.353,
          94.182,
          94.081,
          93.404,
          112.025,
          92.816,
          92.609,
          92.062,
          92.297,
          92.159,
          92.448,
          92.835,
          92.755,
          93.276,
          93.639,
          93.373,
          93.77,
          93.306,
          93.135,
          93.207,
          93.411,
          93.045,
          93.376,
          91.9,
          110.566,
          91.07,
          92.14,
          91.953,
          92.319,
          92.617,
          92.224,
          92.502,
          90.958,
          90,
          118.246,
          88.617,
          91.284,
          null
         ]
        },
        {
         "name": "raikkonen",
         "type": "box",
         "y": [
          136.273,
          165.159,
          2235.325,
          139.184,
          96.398,
          94.929,
          95.251,
          95.003,
          94.988,
          94.766,
          94.554,
          94.845,
          94.788,
          94.681,
          94.264,
          94.273,
          94.142,
          93.762,
          112.938,
          94.157,
          93.789,
          93.943,
          93.939,
          93.907,
          93.404,
          93.609,
          93.56,
          93.246,
          93.378,
          93.543,
          93.276,
          93.057,
          93.432,
          93.508,
          93.381,
          93.303,
          93.47,
          93.331,
          93.236,
          93.252,
          92.931,
          93.13,
          93.012,
          92.531,
          92.345,
          102.269,
          96.555,
          91.895,
          92.275,
          92.012,
          92.537,
          null
         ]
        },
        {
         "name": "ricciardo",
         "type": "box",
         "y": [
          129.397,
          161.042,
          2231.723,
          150.939,
          94.142,
          94.023,
          93.82,
          93.89,
          93.71,
          93.638,
          93.842,
          93.817,
          93.956,
          93.903,
          93.757,
          93.497,
          93.603,
          93.627,
          93.389,
          92.164,
          113.326,
          92.711,
          92.212,
          92.67,
          92.637,
          92.569,
          92.923,
          93.434,
          93.169,
          92.955,
          92.42,
          92.569,
          92.471,
          92.557,
          92.263,
          92.57,
          92.595,
          92.748,
          92.447,
          92.151,
          91.933,
          91.879,
          91.784,
          91.825,
          91.72,
          91.703,
          91.946,
          91.819,
          91.774,
          91.642,
          91.284,
          91.323
         ]
        },
        {
         "name": "russell",
         "type": "box",
         "y": [
          142.688,
          171.364,
          2241.085,
          122.552,
          96.865,
          95.26,
          96.469,
          95.577,
          95.192,
          94.723,
          94.878,
          94.754,
          95.352,
          94.693,
          94.282,
          94.385,
          94.122,
          92.972,
          111.666,
          93.23,
          93.563,
          93.716,
          93.883,
          93.831,
          93.295,
          93.467,
          93.292,
          93.256,
          94.063,
          93.578,
          93.855,
          93.566,
          93.176,
          93.165,
          93.269,
          93.4,
          93.302,
          93.2,
          93.388,
          93.1,
          93.72,
          93.238,
          92.936,
          92.629,
          92.597,
          92.675,
          92.617,
          92.424,
          92.049,
          92.861,
          94.423,
          null
         ]
        },
        {
         "name": "sainz",
         "type": "box",
         "y": [
          133.629,
          165.213,
          2233.164,
          142.426,
          93.782,
          94.026,
          93.807,
          93.937,
          93.915,
          94.001,
          93.886,
          93.862,
          94.135,
          93.798,
          93.598,
          93.637,
          93.202,
          93.192,
          93.344,
          92.73,
          92.457,
          92.366,
          92.064,
          92.254,
          91.885,
          91.819,
          92.26,
          91.816,
          120.799,
          91.306,
          91.706,
          92.305,
          92.335,
          92.74,
          92.258,
          92.701,
          92.686,
          92.354,
          92.569,
          92.253,
          91.816,
          91.868,
          91.929,
          91.737,
          91.745,
          91.592,
          91.927,
          91.856,
          91.784,
          91.742,
          91.223,
          91.302
         ]
        },
        {
         "name": "stroll",
         "type": "box",
         "y": [
          137.724,
          166.803,
          2238.138,
          132.54,
          95.163,
          94.664,
          94.986,
          94.921,
          94.625,
          94.338,
          94.338,
          94.473,
          94.227,
          94.191,
          93.936,
          93.779,
          93.331,
          93.453,
          93.552,
          93.337,
          93.285,
          93.817,
          92.955,
          112.567,
          93.581,
          93.106,
          92.943,
          93.405,
          93.685,
          93.612,
          93.458,
          93.346,
          93.278,
          93.215,
          93.247,
          93.244,
          93.395,
          93.003,
          93.16,
          92.821,
          92.655,
          92.807,
          92.429,
          92.239,
          92.33,
          92.491,
          92.458,
          91.992,
          92.23,
          92.447,
          92.602,
          93.251
         ]
        },
        {
         "name": "tsunoda",
         "type": "box",
         "y": [
          144.225,
          172.335,
          2240.798,
          120.737,
          97.689,
          95.655,
          95.51,
          95.609,
          95.213,
          94.806,
          94.936,
          94.687,
          95.31,
          94.639,
          94.299,
          94.542,
          94.283,
          94.152,
          93.552,
          93.125,
          93.724,
          93.485,
          93.458,
          92.873,
          92.681,
          92.578,
          92.577,
          92.671,
          93.574,
          92.682,
          113.783,
          92.942,
          93.635,
          93.398,
          93.255,
          93.414,
          93.452,
          93.313,
          93.572,
          92.919,
          93.062,
          93.071,
          93.949,
          92.359,
          92.667,
          92.319,
          92.253,
          91.559,
          91.209,
          90.886,
          90.826,
          91.101
         ]
        },
        {
         "name": "vettel",
         "type": "box",
         "y": [
          130.61,
          163.397,
          2230.588,
          162.978,
          95.272,
          94.602,
          95.27,
          94.986,
          94.37,
          94.437,
          94.548,
          94.505,
          94.732,
          94.351,
          94.615,
          94.685,
          94.168,
          93.837,
          113.237,
          93.442,
          93.436,
          93.203,
          93.325,
          93.749,
          93.43,
          93.454,
          93.158,
          93.407,
          93.709,
          93.713,
          93.59,
          93.502,
          93.084,
          93.509,
          93.059,
          93.545,
          93.561,
          93.064,
          93.721,
          101.335,
          null,
          null,
          null,
          null,
          null,
          null,
          null,
          null,
          null,
          null,
          null,
          null
         ]
        }
       ],
       "layout": {
        "template": {
         "data": {
          "bar": [
           {
            "error_x": {
             "color": "#2a3f5f"
            },
            "error_y": {
             "color": "#2a3f5f"
            },
            "marker": {
             "line": {
              "color": "#E5ECF6",
              "width": 0.5
             },
             "pattern": {
              "fillmode": "overlay",
              "size": 10,
              "solidity": 0.2
             }
            },
            "type": "bar"
           }
          ],
          "barpolar": [
           {
            "marker": {
             "line": {
              "color": "#E5ECF6",
              "width": 0.5
             },
             "pattern": {
              "fillmode": "overlay",
              "size": 10,
              "solidity": 0.2
             }
            },
            "type": "barpolar"
           }
          ],
          "carpet": [
           {
            "aaxis": {
             "endlinecolor": "#2a3f5f",
             "gridcolor": "white",
             "linecolor": "white",
             "minorgridcolor": "white",
             "startlinecolor": "#2a3f5f"
            },
            "baxis": {
             "endlinecolor": "#2a3f5f",
             "gridcolor": "white",
             "linecolor": "white",
             "minorgridcolor": "white",
             "startlinecolor": "#2a3f5f"
            },
            "type": "carpet"
           }
          ],
          "choropleth": [
           {
            "colorbar": {
             "outlinewidth": 0,
             "ticks": ""
            },
            "type": "choropleth"
           }
          ],
          "contour": [
           {
            "colorbar": {
             "outlinewidth": 0,
             "ticks": ""
            },
            "colorscale": [
             [
              0,
              "#0d0887"
             ],
             [
              0.1111111111111111,
              "#46039f"
             ],
             [
              0.2222222222222222,
              "#7201a8"
             ],
             [
              0.3333333333333333,
              "#9c179e"
             ],
             [
              0.4444444444444444,
              "#bd3786"
             ],
             [
              0.5555555555555556,
              "#d8576b"
             ],
             [
              0.6666666666666666,
              "#ed7953"
             ],
             [
              0.7777777777777778,
              "#fb9f3a"
             ],
             [
              0.8888888888888888,
              "#fdca26"
             ],
             [
              1,
              "#f0f921"
             ]
            ],
            "type": "contour"
           }
          ],
          "contourcarpet": [
           {
            "colorbar": {
             "outlinewidth": 0,
             "ticks": ""
            },
            "type": "contourcarpet"
           }
          ],
          "heatmap": [
           {
            "colorbar": {
             "outlinewidth": 0,
             "ticks": ""
            },
            "colorscale": [
             [
              0,
              "#0d0887"
             ],
             [
              0.1111111111111111,
              "#46039f"
             ],
             [
              0.2222222222222222,
              "#7201a8"
             ],
             [
              0.3333333333333333,
              "#9c179e"
             ],
             [
              0.4444444444444444,
              "#bd3786"
             ],
             [
              0.5555555555555556,
              "#d8576b"
             ],
             [
              0.6666666666666666,
              "#ed7953"
             ],
             [
              0.7777777777777778,
              "#fb9f3a"
             ],
             [
              0.8888888888888888,
              "#fdca26"
             ],
             [
              1,
              "#f0f921"
             ]
            ],
            "type": "heatmap"
           }
          ],
          "heatmapgl": [
           {
            "colorbar": {
             "outlinewidth": 0,
             "ticks": ""
            },
            "colorscale": [
             [
              0,
              "#0d0887"
             ],
             [
              0.1111111111111111,
              "#46039f"
             ],
             [
              0.2222222222222222,
              "#7201a8"
             ],
             [
              0.3333333333333333,
              "#9c179e"
             ],
             [
              0.4444444444444444,
              "#bd3786"
             ],
             [
              0.5555555555555556,
              "#d8576b"
             ],
             [
              0.6666666666666666,
              "#ed7953"
             ],
             [
              0.7777777777777778,
              "#fb9f3a"
             ],
             [
              0.8888888888888888,
              "#fdca26"
             ],
             [
              1,
              "#f0f921"
             ]
            ],
            "type": "heatmapgl"
           }
          ],
          "histogram": [
           {
            "marker": {
             "pattern": {
              "fillmode": "overlay",
              "size": 10,
              "solidity": 0.2
             }
            },
            "type": "histogram"
           }
          ],
          "histogram2d": [
           {
            "colorbar": {
             "outlinewidth": 0,
             "ticks": ""
            },
            "colorscale": [
             [
              0,
              "#0d0887"
             ],
             [
              0.1111111111111111,
              "#46039f"
             ],
             [
              0.2222222222222222,
              "#7201a8"
             ],
             [
              0.3333333333333333,
              "#9c179e"
             ],
             [
              0.4444444444444444,
              "#bd3786"
             ],
             [
              0.5555555555555556,
              "#d8576b"
             ],
             [
              0.6666666666666666,
              "#ed7953"
             ],
             [
              0.7777777777777778,
              "#fb9f3a"
             ],
             [
              0.8888888888888888,
              "#fdca26"
             ],
             [
              1,
              "#f0f921"
             ]
            ],
            "type": "histogram2d"
           }
          ],
          "histogram2dcontour": [
           {
            "colorbar": {
             "outlinewidth": 0,
             "ticks": ""
            },
            "colorscale": [
             [
              0,
              "#0d0887"
             ],
             [
              0.1111111111111111,
              "#46039f"
             ],
             [
              0.2222222222222222,
              "#7201a8"
             ],
             [
              0.3333333333333333,
              "#9c179e"
             ],
             [
              0.4444444444444444,
              "#bd3786"
             ],
             [
              0.5555555555555556,
              "#d8576b"
             ],
             [
              0.6666666666666666,
              "#ed7953"
             ],
             [
              0.7777777777777778,
              "#fb9f3a"
             ],
             [
              0.8888888888888888,
              "#fdca26"
             ],
             [
              1,
              "#f0f921"
             ]
            ],
            "type": "histogram2dcontour"
           }
          ],
          "mesh3d": [
           {
            "colorbar": {
             "outlinewidth": 0,
             "ticks": ""
            },
            "type": "mesh3d"
           }
          ],
          "parcoords": [
           {
            "line": {
             "colorbar": {
              "outlinewidth": 0,
              "ticks": ""
             }
            },
            "type": "parcoords"
           }
          ],
          "pie": [
           {
            "automargin": true,
            "type": "pie"
           }
          ],
          "scatter": [
           {
            "marker": {
             "colorbar": {
              "outlinewidth": 0,
              "ticks": ""
             }
            },
            "type": "scatter"
           }
          ],
          "scatter3d": [
           {
            "line": {
             "colorbar": {
              "outlinewidth": 0,
              "ticks": ""
             }
            },
            "marker": {
             "colorbar": {
              "outlinewidth": 0,
              "ticks": ""
             }
            },
            "type": "scatter3d"
           }
          ],
          "scattercarpet": [
           {
            "marker": {
             "colorbar": {
              "outlinewidth": 0,
              "ticks": ""
             }
            },
            "type": "scattercarpet"
           }
          ],
          "scattergeo": [
           {
            "marker": {
             "colorbar": {
              "outlinewidth": 0,
              "ticks": ""
             }
            },
            "type": "scattergeo"
           }
          ],
          "scattergl": [
           {
            "marker": {
             "colorbar": {
              "outlinewidth": 0,
              "ticks": ""
             }
            },
            "type": "scattergl"
           }
          ],
          "scattermapbox": [
           {
            "marker": {
             "colorbar": {
              "outlinewidth": 0,
              "ticks": ""
             }
            },
            "type": "scattermapbox"
           }
          ],
          "scatterpolar": [
           {
            "marker": {
             "colorbar": {
              "outlinewidth": 0,
              "ticks": ""
             }
            },
            "type": "scatterpolar"
           }
          ],
          "scatterpolargl": [
           {
            "marker": {
             "colorbar": {
              "outlinewidth": 0,
              "ticks": ""
             }
            },
            "type": "scatterpolargl"
           }
          ],
          "scatterternary": [
           {
            "marker": {
             "colorbar": {
              "outlinewidth": 0,
              "ticks": ""
             }
            },
            "type": "scatterternary"
           }
          ],
          "surface": [
           {
            "colorbar": {
             "outlinewidth": 0,
             "ticks": ""
            },
            "colorscale": [
             [
              0,
              "#0d0887"
             ],
             [
              0.1111111111111111,
              "#46039f"
             ],
             [
              0.2222222222222222,
              "#7201a8"
             ],
             [
              0.3333333333333333,
              "#9c179e"
             ],
             [
              0.4444444444444444,
              "#bd3786"
             ],
             [
              0.5555555555555556,
              "#d8576b"
             ],
             [
              0.6666666666666666,
              "#ed7953"
             ],
             [
              0.7777777777777778,
              "#fb9f3a"
             ],
             [
              0.8888888888888888,
              "#fdca26"
             ],
             [
              1,
              "#f0f921"
             ]
            ],
            "type": "surface"
           }
          ],
          "table": [
           {
            "cells": {
             "fill": {
              "color": "#EBF0F8"
             },
             "line": {
              "color": "white"
             }
            },
            "header": {
             "fill": {
              "color": "#C8D4E3"
             },
             "line": {
              "color": "white"
             }
            },
            "type": "table"
           }
          ]
         },
         "layout": {
          "annotationdefaults": {
           "arrowcolor": "#2a3f5f",
           "arrowhead": 0,
           "arrowwidth": 1
          },
          "autotypenumbers": "strict",
          "coloraxis": {
           "colorbar": {
            "outlinewidth": 0,
            "ticks": ""
           }
          },
          "colorscale": {
           "diverging": [
            [
             0,
             "#8e0152"
            ],
            [
             0.1,
             "#c51b7d"
            ],
            [
             0.2,
             "#de77ae"
            ],
            [
             0.3,
             "#f1b6da"
            ],
            [
             0.4,
             "#fde0ef"
            ],
            [
             0.5,
             "#f7f7f7"
            ],
            [
             0.6,
             "#e6f5d0"
            ],
            [
             0.7,
             "#b8e186"
            ],
            [
             0.8,
             "#7fbc41"
            ],
            [
             0.9,
             "#4d9221"
            ],
            [
             1,
             "#276419"
            ]
           ],
           "sequential": [
            [
             0,
             "#0d0887"
            ],
            [
             0.1111111111111111,
             "#46039f"
            ],
            [
             0.2222222222222222,
             "#7201a8"
            ],
            [
             0.3333333333333333,
             "#9c179e"
            ],
            [
             0.4444444444444444,
             "#bd3786"
            ],
            [
             0.5555555555555556,
             "#d8576b"
            ],
            [
             0.6666666666666666,
             "#ed7953"
            ],
            [
             0.7777777777777778,
             "#fb9f3a"
            ],
            [
             0.8888888888888888,
             "#fdca26"
            ],
            [
             1,
             "#f0f921"
            ]
           ],
           "sequentialminus": [
            [
             0,
             "#0d0887"
            ],
            [
             0.1111111111111111,
             "#46039f"
            ],
            [
             0.2222222222222222,
             "#7201a8"
            ],
            [
             0.3333333333333333,
             "#9c179e"
            ],
            [
             0.4444444444444444,
             "#bd3786"
            ],
            [
             0.5555555555555556,
             "#d8576b"
            ],
            [
             0.6666666666666666,
             "#ed7953"
            ],
            [
             0.7777777777777778,
             "#fb9f3a"
            ],
            [
             0.8888888888888888,
             "#fdca26"
            ],
            [
             1,
             "#f0f921"
            ]
           ]
          },
          "colorway": [
           "#636efa",
           "#EF553B",
           "#00cc96",
           "#ab63fa",
           "#FFA15A",
           "#19d3f3",
           "#FF6692",
           "#B6E880",
           "#FF97FF",
           "#FECB52"
          ],
          "font": {
           "color": "#2a3f5f"
          },
          "geo": {
           "bgcolor": "white",
           "lakecolor": "white",
           "landcolor": "#E5ECF6",
           "showlakes": true,
           "showland": true,
           "subunitcolor": "white"
          },
          "hoverlabel": {
           "align": "left"
          },
          "hovermode": "closest",
          "mapbox": {
           "style": "light"
          },
          "paper_bgcolor": "white",
          "plot_bgcolor": "#E5ECF6",
          "polar": {
           "angularaxis": {
            "gridcolor": "white",
            "linecolor": "white",
            "ticks": ""
           },
           "bgcolor": "#E5ECF6",
           "radialaxis": {
            "gridcolor": "white",
            "linecolor": "white",
            "ticks": ""
           }
          },
          "scene": {
           "xaxis": {
            "backgroundcolor": "#E5ECF6",
            "gridcolor": "white",
            "gridwidth": 2,
            "linecolor": "white",
            "showbackground": true,
            "ticks": "",
            "zerolinecolor": "white"
           },
           "yaxis": {
            "backgroundcolor": "#E5ECF6",
            "gridcolor": "white",
            "gridwidth": 2,
            "linecolor": "white",
            "showbackground": true,
            "ticks": "",
            "zerolinecolor": "white"
           },
           "zaxis": {
            "backgroundcolor": "#E5ECF6",
            "gridcolor": "white",
            "gridwidth": 2,
            "linecolor": "white",
            "showbackground": true,
            "ticks": "",
            "zerolinecolor": "white"
           }
          },
          "shapedefaults": {
           "line": {
            "color": "#2a3f5f"
           }
          },
          "ternary": {
           "aaxis": {
            "gridcolor": "white",
            "linecolor": "white",
            "ticks": ""
           },
           "baxis": {
            "gridcolor": "white",
            "linecolor": "white",
            "ticks": ""
           },
           "bgcolor": "#E5ECF6",
           "caxis": {
            "gridcolor": "white",
            "linecolor": "white",
            "ticks": ""
           }
          },
          "title": {
           "x": 0.05
          },
          "xaxis": {
           "automargin": true,
           "gridcolor": "white",
           "linecolor": "white",
           "ticks": "",
           "title": {
            "standoff": 15
           },
           "zerolinecolor": "white",
           "zerolinewidth": 2
          },
          "yaxis": {
           "automargin": true,
           "gridcolor": "white",
           "linecolor": "white",
           "ticks": "",
           "title": {
            "standoff": 15
           },
           "zerolinecolor": "white",
           "zerolinewidth": 2
          }
         }
        },
        "yaxis": {
         "type": "log"
        }
       }
      }
     },
     "metadata": {},
     "output_type": "display_data"
    }
   ],
   "source": [
    "average = working_df[1:].mean(axis=0, skipna=True).tolist()\n",
    "average_list = []\n",
    "for _ in range(len(average)): average_list.append(statistics.mean(average))\n",
    "median = working_df[1:].median(axis=0, skipna=True).tolist()\n",
    "median_list = []\n",
    "for _ in range(len(median)): median_list.append(statistics.median(median))\n",
    "\n",
    "fig = go.Figure()\n",
    "fig.add_trace(go.Box(x=drivers,y=average_list, name='Average',marker_color = 'black'))\n",
    "fig.add_trace(go.Box(x=drivers,y=median_list, name='Median',marker_color = 'black'))\n",
    "for driver in drivers:\n",
    "    temp = working_df.loc[working_df['Drivers'] == driver]\n",
    "    lap_time = temp.iloc[0].values[1:].flatten().tolist()\n",
    "    fig.add_trace(go.Box(y=lap_time, name=driver))\n",
    "fig.update_yaxes(type=\"log\")\n",
    "fig.show()"
   ]
  },
  {
   "cell_type": "markdown",
   "metadata": {},
   "source": [
    "Getting a Consistancy Score\n",
    "\n",
    "*   One score based upon the average\n",
    "*   One score based upon the median"
   ]
  },
  {
   "cell_type": "code",
   "execution_count": 67,
   "metadata": {},
   "outputs": [],
   "source": [
    "def sort_scores(score_list):\n",
    "    cleaned_list = []\n",
    "    nan_list = []\n",
    "    \n",
    "    for score in score_list:\n",
    "        if str(score[0]) != 'nan':\n",
    "            cleaned_list.append(score)\n",
    "        else:\n",
    "            nan_list.append(score)\n",
    "    \n",
    "    cleaned_list = sorted(cleaned_list,key=lambda x: x[0], reverse=True)\n",
    "    if cleaned_list[-1][0] < 0:\n",
    "        diff = round(abs(cleaned_list[-1][0])+cleaned_list[0][0],5)\n",
    "    else:\n",
    "        diff = round(abs(cleaned_list[-1][0]-cleaned_list[0][0]),5)\n",
    "    cleaned_list.extend(nan_list)\n",
    "    return [cleaned_list,diff]"
   ]
  },
  {
   "cell_type": "code",
   "execution_count": 108,
   "metadata": {},
   "outputs": [
    {
     "data": {
      "text/plain": [
       "92.15199999999999"
      ]
     },
     "execution_count": 108,
     "metadata": {},
     "output_type": "execute_result"
    }
   ],
   "source": [
    "driver_row = working_df.loc[working_df['Drivers'] == 'hamilton']\n",
    "driver_median = driver_row.values[0][1:].tolist()\n",
    "driver_median = statistics.median(driver_median)\n",
    "driver_median"
   ]
  },
  {
   "cell_type": "code",
   "execution_count": 68,
   "metadata": {},
   "outputs": [
    {
     "name": "stdout",
     "output_type": "stream",
     "text": [
      "hamilton            Score:       58.22221\n",
      "leclerc             Score:       49.67355\n",
      "bottas              Score:       44.12114\n",
      "norris              Score:       26.36843\n",
      "sainz               Score:       13.98687\n",
      "ricciardo           Score:       11.70959\n",
      "stroll              Score:      -17.26952\n",
      "alonso              Score:      -18.58174\n",
      "ocon                Score:      -19.65291\n",
      "tsunoda             Score:      -20.61947\n",
      "gasly               Score:      -24.32332\n",
      "giovinazzi          Score:            nan\n",
      "latifi              Score:            nan\n",
      "mazepin             Score:            nan\n",
      "mick_schumacher     Score:            nan\n",
      "perez               Score:            nan\n",
      "raikkonen           Score:            nan\n",
      "russell             Score:            nan\n",
      "vettel              Score:            nan\n"
     ]
    }
   ],
   "source": [
    "average_total = []\n",
    "median_total = []\n",
    "\n",
    "for driver in drivers:\n",
    "    score_avg = 0\n",
    "    score_med = 0\n",
    "    driver_row = working_df.loc[working_df['Drivers'] == driver]\n",
    "    for lap in driver_row.columns[1:]:\n",
    "        # score_avg += percent_difference(driver_row[lap].values[0],working_df[lap].mean())\n",
    "        score_med += percent_difference(driver_row[lap].values[0],working_df[lap].median())\n",
    "    # average_total.append((score_avg,driver))\n",
    "    median_total.append((score_med,driver))\n",
    "\n",
    "# average_total, avg_diff = sort_scores(average_total)\n",
    "median_total, med_diff = sort_scores(median_total)\n",
    "\n",
    "# print(f'{\"Drivers\": <25}Range: {avg_diff: <15}Range: {med_diff: <15}')\n",
    "for driver in range(len(median_total)):\n",
    "    print(f'{median_total[driver][1]: <20}Score:{round(median_total[driver][0],5): >15}')\n"
   ]
  }
 ],
 "metadata": {
  "kernelspec": {
   "display_name": "Python 3.10.2 64-bit",
   "language": "python",
   "name": "python3"
  },
  "language_info": {
   "codemirror_mode": {
    "name": "ipython",
    "version": 3
   },
   "file_extension": ".py",
   "mimetype": "text/x-python",
   "name": "python",
   "nbconvert_exporter": "python",
   "pygments_lexer": "ipython3",
   "version": "3.10.2"
  },
  "orig_nbformat": 4,
  "vscode": {
   "interpreter": {
    "hash": "92e90bd6c5a94ac116b32daed143846700409151323ad0aa8c589766ff7ac504"
   }
  }
 },
 "nbformat": 4,
 "nbformat_minor": 2
}
