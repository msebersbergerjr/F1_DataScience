{
 "cells": [
  {
   "cell_type": "code",
   "execution_count": 335,
   "metadata": {},
   "outputs": [],
   "source": [
    "import pandas as pd\n",
    "import json\n",
    "from pathlib import Path\n",
    "from datetime import datetime\n",
    "import plotly.graph_objects as go\n",
    "import statistics"
   ]
  },
  {
   "cell_type": "code",
   "execution_count": 336,
   "metadata": {},
   "outputs": [],
   "source": [
    "# Takes a string lap time and converts it to a nanosecond equivalent\n",
    "def time_to_nanoseconds(raw_time):\n",
    "    try:\n",
    "        dirty = datetime.strptime(raw_time, '%M:%S.%f').time()\n",
    "        #clean = timedelta(minutes=dirty.minute, seconds=dirty.second, microseconds=dirty.microsecond)\n",
    "        nanoseconds = (dirty.minute*6e10)+(dirty.second*1e9)+(dirty.microsecond*1e3)\n",
    "        #nanoseconds = (dirty.microsecond*1000)\n",
    "        return nanoseconds/1e9\n",
    "    # Catch NaaN\n",
    "    except:\n",
    "        return raw_time"
   ]
  },
  {
   "cell_type": "code",
   "execution_count": 337,
   "metadata": {},
   "outputs": [],
   "source": [
    "# find percent different between driver time and average time\n",
    "def percent_difference(driver_time,average_time):\n",
    "    diff = abs((driver_time - average_time)/((driver_time + average_time)/2))*100\n",
    "    if driver_time > average_time:\n",
    "        return -abs(diff)\n",
    "    return diff"
   ]
  },
  {
   "cell_type": "markdown",
   "metadata": {},
   "source": [
    "Pulled from data_cleaning.ipynb\n",
    "Creates two data frames\n",
    "\n",
    "original_df = holds drivers and laps in time format\n",
    "working_df = converts driver times to nanosecond equivalents for graphing and math purposes"
   ]
  },
  {
   "cell_type": "code",
   "execution_count": 338,
   "metadata": {},
   "outputs": [],
   "source": [
    "filepath = Path('../data/races/2021/22.json')\n",
    "with open(filepath, 'r', encoding='utf-8') as infile: jsondata = json.load(infile)\n",
    "\n",
    "# Gets list of all drivers at the start of the race, sorts them alphabetically\n",
    "drivers = []\n",
    "for driver in jsondata['Laps'][0]['Timings']:\n",
    "    drivers.append(driver['driverId'])\n",
    "\n",
    "drivers.sort()\n",
    "\n",
    "# Create original dataframe which just holds a column of the drivers\n",
    "original_df = pd.DataFrame()\n",
    "original_df['Drivers'] = drivers\n",
    "\n",
    "# Goes through a race.json and adds the times for all laps per driver\n",
    "for lap in jsondata['Laps']:\n",
    "    lap_data = []\n",
    "    \n",
    "    for _ in range(0, len(drivers)):\n",
    "        try:\n",
    "            driver = next(item for item in lap['Timings'] if item['driverId']==drivers[_])\n",
    "            # Create a tuple of driver and lap time\n",
    "            lap_data.append([driver['driverId'],driver['time']])\n",
    "        except:\n",
    "            lap_data.append([drivers[_],None])\n",
    "\n",
    "    # Sort it so it matches the rows\n",
    "    lap_data.sort(key = lambda x: x[0])\n",
    "    # Add new column of lap time\n",
    "    time_list = list(list(zip(*lap_data))[1])\n",
    "    original_df[f\"Lap {lap['number']}\"] = time_list\n"
   ]
  },
  {
   "cell_type": "markdown",
   "metadata": {},
   "source": [
    "Create Working DF"
   ]
  },
  {
   "cell_type": "code",
   "execution_count": 339,
   "metadata": {},
   "outputs": [],
   "source": [
    "working_df = original_df.copy()\n",
    "# Convert each string laptime to nanosecond equivolent\n",
    "for col in working_df.columns[1:]: working_df[col] = working_df[col].apply(lambda x : time_to_nanoseconds(x))"
   ]
  },
  {
   "cell_type": "markdown",
   "metadata": {},
   "source": [
    "Shows all the times from drivers per lap\n",
    "\n",
    "Determining if average is a good measure, since some laps drivers take pit stop, or a car might malfunction, etc... alot of factors can affect the average of a lap time"
   ]
  },
  {
   "cell_type": "code",
   "execution_count": 340,
   "metadata": {},
   "outputs": [
    {
     "data": {
      "application/vnd.plotly.v1+json": {
       "config": {
        "plotlyServerURL": "https://plot.ly"
       },
       "data": [
        {
         "boxmean": true,
         "name": "Lap 1",
         "type": "box",
         "y": [
          98.679,
          97.28,
          99.33,
          99.822,
          91.686,
          101.174,
          96.143,
          92.8,
          102.098,
          95.658,
          97.772,
          93.756,
          101.61,
          98.267,
          102.644,
          94.819,
          100.334,
          96.6,
          100.689
         ]
        },
        {
         "boxmean": true,
         "name": "Lap 2",
         "type": "box",
         "y": [
          92.422,
          91.738,
          92.814,
          93.17,
          88.791,
          94.545,
          91.14,
          89.103,
          94.049,
          90.963,
          92.085,
          89.507,
          93.319,
          92.138,
          94.186,
          90.325,
          93.222,
          91.494,
          93.38
         ]
        },
        {
         "boxmean": true,
         "name": "Lap 3",
         "type": "box",
         "y": [
          91.511,
          90.683,
          91.533,
          91.837,
          88.587,
          93.236,
          90.91,
          88.827,
          93.612,
          90.765,
          90.852,
          89.273,
          91.945,
          91.096,
          93.882,
          90.155,
          91.943,
          90.811,
          91.953
         ]
        },
        {
         "boxmean": true,
         "name": "Lap 4",
         "type": "box",
         "y": [
          91.321,
          90.997,
          91.439,
          91.553,
          88.789,
          92.304,
          90.509,
          89.026,
          92.407,
          90.355,
          91.193,
          88.902,
          92.23,
          91.26,
          92.609,
          90.356,
          91.871,
          90.654,
          92.027
         ]
        },
        {
         "boxmean": true,
         "name": "Lap 5",
         "type": "box",
         "y": [
          91.339,
          90.644,
          91.367,
          91.597,
          88.63,
          91.755,
          90.63,
          88.718,
          91.634,
          90.501,
          90.854,
          89.249,
          91.984,
          91.06,
          91.678,
          90.387,
          93.084,
          90.823,
          91.23
         ]
        },
        {
         "boxmean": true,
         "name": "Lap 6",
         "type": "box",
         "y": [
          90.92,
          90.639,
          90.786,
          91.313,
          88.593,
          92.003,
          90.586,
          88.707,
          92.041,
          90.555,
          90.881,
          89.239,
          91.868,
          90.776,
          92.508,
          90.329,
          91.59,
          90.541,
          91.316
         ]
        },
        {
         "boxmean": true,
         "name": "Lap 7",
         "type": "box",
         "y": [
          90.811,
          90.195,
          90.757,
          90.707,
          88.55,
          91.378,
          90.32,
          88.636,
          91.681,
          90.312,
          90.764,
          89.022,
          91.35,
          91.021,
          91.589,
          90.316,
          91.07,
          90.284,
          90.715
         ]
        },
        {
         "boxmean": true,
         "name": "Lap 8",
         "type": "box",
         "y": [
          91.052,
          90.533,
          91.135,
          91.022,
          88.585,
          91.795,
          90.372,
          88.817,
          92.228,
          90.287,
          90.631,
          88.94,
          91.42,
          90.954,
          92.193,
          90.255,
          91.007,
          90.458,
          90.942
         ]
        },
        {
         "boxmean": true,
         "name": "Lap 9",
         "type": "box",
         "y": [
          90.99,
          90.515,
          91.365,
          91.039,
          88.356,
          91.704,
          90.104,
          88.671,
          91.755,
          90.156,
          90.719,
          89.063,
          91.363,
          90.509,
          91.554,
          90.165,
          91.086,
          90.379,
          91.124
         ]
        },
        {
         "boxmean": true,
         "name": "Lap 10",
         "type": "box",
         "y": [
          90.989,
          90.704,
          90.88,
          91.035,
          88.216,
          91.389,
          90.268,
          88.89,
          93.378,
          90.243,
          90.572,
          88.937,
          90.74,
          90.658,
          91.631,
          90.174,
          91.052,
          90.322,
          90.955
         ]
        },
        {
         "boxmean": true,
         "name": "Lap 11",
         "type": "box",
         "y": [
          90.577,
          90.592,
          90.726,
          90.746,
          88.134,
          91.511,
          89.996,
          89.137,
          110.461,
          90.091,
          90.665,
          88.886,
          90.931,
          90.714,
          90.793,
          89.8,
          90.743,
          90.137,
          90.86
         ]
        },
        {
         "boxmean": true,
         "name": "Lap 12",
         "type": "box",
         "y": [
          90.535,
          90.252,
          90.547,
          90.868,
          88.566,
          90.971,
          90.381,
          89.282,
          90.122,
          90.085,
          90.742,
          89.165,
          90.807,
          90.668,
          90.957,
          89.772,
          90.858,
          90.507,
          90.733
         ]
        },
        {
         "boxmean": true,
         "name": "Lap 13",
         "type": "box",
         "y": [
          90.488,
          90.079,
          90.408,
          90.853,
          88.258,
          91.078,
          90.323,
          91.515,
          90.231,
          90.583,
          90.861,
          89.267,
          91.086,
          91.229,
          91.068,
          89.801,
          90.581,
          89.972,
          90.717
         ]
        },
        {
         "boxmean": true,
         "name": "Lap 14",
         "type": "box",
         "y": [
          90.842,
          90.595,
          90.641,
          90.546,
          90.253,
          90.932,
          92.05,
          107.251,
          90.727,
          90.775,
          91.166,
          89.392,
          90.753,
          91.146,
          90.768,
          89.591,
          90.622,
          91.597,
          90.495
         ]
        },
        {
         "boxmean": true,
         "name": "Lap 15",
         "type": "box",
         "y": [
          90.817,
          91.079,
          90.686,
          90.55,
          108.755,
          91.134,
          93.881,
          88.492,
          90.687,
          90.348,
          93.316,
          89.581,
          90.604,
          90.859,
          90.853,
          89.938,
          90.446,
          90.054,
          90.748
         ]
        },
        {
         "boxmean": true,
         "name": "Lap 16",
         "type": "box",
         "y": [
          90.648,
          89.754,
          90.629,
          90.682,
          87.833,
          91.047,
          110.853,
          89.006,
          90.458,
          90.106,
          109.514,
          89.683,
          90.478,
          90.661,
          91.729,
          89.591,
          90.827,
          90.114,
          90.595
         ]
        },
        {
         "boxmean": true,
         "name": "Lap 17",
         "type": "box",
         "y": [
          90.93,
          89.692,
          90.744,
          92.432,
          87.78,
          91.891,
          89.408,
          89.108,
          90.581,
          92.251,
          90.024,
          89.967,
          90.312,
          90.828,
          91.206,
          89.311,
          90.519,
          89.84,
          90.31
         ]
        },
        {
         "boxmean": true,
         "name": "Lap 18",
         "type": "box",
         "y": [
          90.574,
          89.478,
          90.725,
          111.395,
          87.889,
          90.912,
          89.283,
          88.502,
          90.736,
          110.162,
          89.874,
          90.588,
          90.426,
          92.751,
          92.536,
          90.907,
          90.369,
          89.674,
          90.16
         ]
        },
        {
         "boxmean": true,
         "name": "Lap 19",
         "type": "box",
         "y": [
          90.331,
          89.652,
          90.475,
          89.556,
          88.232,
          90.884,
          89.641,
          88.713,
          90.983,
          90.364,
          90.258,
          91.034,
          90.68,
          110.014,
          91.252,
          92.384,
          90.283,
          89.554,
          90.25
         ]
        },
        {
         "boxmean": true,
         "name": "Lap 20",
         "type": "box",
         "y": [
          90.024,
          89.62,
          89.954,
          90.001,
          93.443,
          92.317,
          89.493,
          88.387,
          90.586,
          89.439,
          89.341,
          94.359,
          91.11,
          89.33,
          92.053,
          110.428,
          90.802,
          89.632,
          90.805
         ]
        },
        {
         "boxmean": true,
         "name": "Lap 21",
         "type": "box",
         "y": [
          89.633,
          89.647,
          89.652,
          90.18,
          90.485,
          90.886,
          89.563,
          88.569,
          90.95,
          89.907,
          89.85,
          96.824,
          93.951,
          90.116,
          91.065,
          89.752,
          92.575,
          89.752,
          90.563
         ]
        },
        {
         "boxmean": true,
         "name": "Lap 22",
         "type": "box",
         "y": [
          89.899,
          89.559,
          89.757,
          90.137,
          88.006,
          92.122,
          89.588,
          88.322,
          90.884,
          89.206,
          89.479,
          108.764,
          110.722,
          89.051,
          90.821,
          89.803,
          110.845,
          89.698,
          90.092
         ]
        },
        {
         "boxmean": true,
         "name": "Lap 23",
         "type": "box",
         "y": [
          89.593,
          89.984,
          89.607,
          90.346,
          87.663,
          90.803,
          89.379,
          88.175,
          90.946,
          89.446,
          89.303,
          88.513,
          89.698,
          89.548,
          90.647,
          89.736,
          89.676,
          91.844,
          92.019
         ]
        },
        {
         "boxmean": true,
         "name": "Lap 24",
         "type": "box",
         "y": [
          89.667,
          89.097,
          89.646,
          91.109,
          87.979,
          90.935,
          89.104,
          88.179,
          90.52,
          89.295,
          89.599,
          88.605,
          91.307,
          89.398,
          91.577,
          89.576,
          89.839,
          111.159,
          110.219
         ]
        },
        {
         "boxmean": true,
         "name": "Lap 25",
         "type": "box",
         "y": [
          89.527,
          88.871,
          90.146,
          89.792,
          87.87,
          91.055,
          89.416,
          88.041,
          90.266,
          89.272,
          89.631,
          87.725,
          142.917,
          89.479,
          92.794,
          89.61,
          89.997,
          89.3,
          90.202
         ]
        },
        {
         "boxmean": true,
         "name": "Lap 26",
         "type": "box",
         "y": [
          89.527,
          89.636,
          89.448,
          90.004,
          88.077,
          91.067,
          89.442,
          88.6,
          90.969,
          89.352,
          89.475,
          88.313,
          null,
          89.253,
          166.262,
          89.505,
          89.954,
          89.623,
          89.791
         ]
        },
        {
         "boxmean": true,
         "name": "Lap 27",
         "type": "box",
         "y": [
          89.379,
          88.927,
          89.606,
          89.712,
          87.975,
          92.497,
          89.215,
          88.348,
          90.904,
          89.183,
          89.351,
          88.051,
          null,
          89.289,
          null,
          89.666,
          89.924,
          89.691,
          90.894
         ]
        },
        {
         "boxmean": true,
         "name": "Lap 28",
         "type": "box",
         "y": [
          89.312,
          89.131,
          89.307,
          90.282,
          88.143,
          94.166,
          89.254,
          87.935,
          90.726,
          89.164,
          89.556,
          87.962,
          null,
          89.165,
          null,
          89.719,
          90.847,
          88.991,
          89.829
         ]
        },
        {
         "boxmean": true,
         "name": "Lap 29",
         "type": "box",
         "y": [
          89.074,
          89.204,
          89.13,
          89.694,
          87.484,
          109.78,
          89.255,
          87.904,
          90.524,
          89.208,
          88.992,
          87.978,
          null,
          89.168,
          null,
          89.259,
          89.324,
          89.106,
          89.516
         ]
        },
        {
         "boxmean": true,
         "name": "Lap 30",
         "type": "box",
         "y": [
          89.378,
          90.944,
          89.177,
          89.775,
          87.508,
          89.293,
          89.093,
          87.678,
          92.165,
          89.095,
          88.878,
          88.339,
          null,
          89.29,
          null,
          89.121,
          89.439,
          89.055,
          89.596
         ]
        },
        {
         "boxmean": true,
         "name": "Lap 31",
         "type": "box",
         "y": [
          89.314,
          110.242,
          89.301,
          89.505,
          87.495,
          89.393,
          89.381,
          87.917,
          92.29,
          89.137,
          89.321,
          87.95,
          null,
          89.232,
          null,
          89.391,
          89.394,
          89.756,
          89.471
         ]
        },
        {
         "boxmean": true,
         "name": "Lap 32",
         "type": "box",
         "y": [
          89.165,
          88.776,
          89.076,
          89.596,
          87.444,
          89.431,
          88.823,
          87.913,
          90.218,
          89.091,
          89.06,
          87.82,
          null,
          88.88,
          null,
          89.116,
          89.409,
          89.191,
          89.643
         ]
        },
        {
         "boxmean": true,
         "name": "Lap 33",
         "type": "box",
         "y": [
          89.13,
          88.961,
          89.165,
          89.442,
          87.742,
          89.542,
          89.148,
          87.581,
          90.038,
          88.826,
          89.03,
          87.96,
          null,
          89.042,
          null,
          89.158,
          89.386,
          89.138,
          89.421
         ]
        },
        {
         "boxmean": true,
         "name": "Lap 34",
         "type": "box",
         "y": [
          88.931,
          87.918,
          88.998,
          null,
          87.201,
          89.53,
          90.05,
          87.783,
          90.006,
          88.801,
          89.181,
          87.306,
          null,
          88.817,
          null,
          88.828,
          89.223,
          89.017,
          88.556
         ]
        },
        {
         "boxmean": true,
         "name": "Lap 35",
         "type": "box",
         "y": [
          90.285,
          93.907,
          92.681,
          null,
          87.591,
          107.576,
          96.558,
          87.761,
          106.601,
          93.466,
          95.55,
          87.423,
          null,
          97.126,
          null,
          93.791,
          101.827,
          96.429,
          100.559
         ]
        },
        {
         "boxmean": true,
         "name": "Lap 36",
         "type": "box",
         "y": [
          117.817,
          114.468,
          114.65,
          null,
          101.467,
          113.57,
          128.653,
          103.598,
          115.12,
          115.172,
          116.756,
          112.799,
          null,
          114.231,
          null,
          115.364,
          114.796,
          113.58,
          115.562
         ]
        },
        {
         "boxmean": true,
         "name": "Lap 37",
         "type": "box",
         "y": [
          116.24,
          101.441,
          116.705,
          null,
          116.216,
          91.298,
          97.309,
          128.605,
          92.144,
          101.894,
          98.906,
          119.707,
          null,
          98.7,
          null,
          101.553,
          93.421,
          103.377,
          94.318
         ]
        },
        {
         "boxmean": true,
         "name": "Lap 38",
         "type": "box",
         "y": [
          90.132,
          87.886,
          89.559,
          null,
          90.157,
          89.844,
          88.725,
          86.321,
          89.58,
          88.467,
          89.65,
          86.75,
          null,
          89.066,
          null,
          88.292,
          91.164,
          88.306,
          88.764
         ]
        },
        {
         "boxmean": true,
         "name": "Lap 39",
         "type": "box",
         "y": [
          88.811,
          87.96,
          89.017,
          null,
          86.762,
          89.897,
          88.907,
          86.103,
          89.74,
          88.43,
          89.619,
          86.58,
          null,
          89.466,
          null,
          88.384,
          88.946,
          88.436,
          90.706
         ]
        },
        {
         "boxmean": true,
         "name": "Lap 40",
         "type": "box",
         "y": [
          89.256,
          88.481,
          89.012,
          null,
          87.387,
          89.627,
          88.433,
          86.552,
          89.767,
          88.446,
          88.939,
          86.643,
          null,
          88.879,
          null,
          88.325,
          89.075,
          88.368,
          88.783
         ]
        },
        {
         "boxmean": true,
         "name": "Lap 41",
         "type": "box",
         "y": [
          90.486,
          88.224,
          88.385,
          null,
          86.718,
          89.676,
          88.338,
          86.301,
          89.654,
          88.289,
          89.15,
          86.661,
          null,
          89.022,
          null,
          88.279,
          88.994,
          88.346,
          88.77
         ]
        },
        {
         "boxmean": true,
         "name": "Lap 42",
         "type": "box",
         "y": [
          89.43,
          88.36,
          88.454,
          null,
          86.782,
          89.542,
          88.729,
          86.463,
          89.457,
          88.388,
          89.401,
          87.04,
          null,
          89.406,
          null,
          88.037,
          88.649,
          88.227,
          88.699
         ]
        },
        {
         "boxmean": true,
         "name": "Lap 43",
         "type": "box",
         "y": [
          88.946,
          88.327,
          88.09,
          null,
          86.615,
          89.337,
          88.954,
          86.437,
          89.552,
          88.178,
          89.096,
          86.596,
          null,
          89.274,
          null,
          88.178,
          88.807,
          88.195,
          88.69
         ]
        },
        {
         "boxmean": true,
         "name": "Lap 44",
         "type": "box",
         "y": [
          89.07,
          88.27,
          88.071,
          null,
          87.02,
          89.824,
          89.171,
          86.808,
          89.929,
          88.148,
          89.164,
          86.914,
          null,
          89.077,
          null,
          87.643,
          90.394,
          87.993,
          88.619
         ]
        },
        {
         "boxmean": true,
         "name": "Lap 45",
         "type": "box",
         "y": [
          89.019,
          87.839,
          87.87,
          null,
          86.966,
          90.962,
          90.335,
          86.768,
          91.055,
          88.008,
          88.96,
          88.217,
          null,
          88.968,
          null,
          87.929,
          88.776,
          87.969,
          88.601
         ]
        },
        {
         "boxmean": true,
         "name": "Lap 46",
         "type": "box",
         "y": [
          88.762,
          88.039,
          87.726,
          null,
          87.27,
          89.995,
          88.982,
          87.048,
          90.25,
          88.059,
          89.012,
          87.028,
          null,
          90.342,
          null,
          87.674,
          88.789,
          87.89,
          90.388
         ]
        },
        {
         "boxmean": true,
         "name": "Lap 47",
         "type": "box",
         "y": [
          89.126,
          87.849,
          87.699,
          null,
          87.683,
          90.134,
          88.974,
          86.656,
          90.2,
          87.953,
          90.034,
          86.642,
          null,
          88.854,
          null,
          87.797,
          88.768,
          87.732,
          88.503
         ]
        },
        {
         "boxmean": true,
         "name": "Lap 48",
         "type": "box",
         "y": [
          89.827,
          88.527,
          87.567,
          null,
          87.553,
          90.648,
          88.638,
          86.554,
          89.751,
          89.996,
          88.661,
          86.429,
          null,
          88.723,
          null,
          87.629,
          88.567,
          87.661,
          88.326
         ]
        },
        {
         "boxmean": true,
         "name": "Lap 49",
         "type": "box",
         "y": [
          88.564,
          87.239,
          87.342,
          null,
          86.875,
          89.349,
          89.17,
          86.657,
          89.762,
          108.028,
          89.538,
          86.507,
          null,
          89.261,
          null,
          87.732,
          88.709,
          87.581,
          88.345
         ]
        },
        {
         "boxmean": true,
         "name": "Lap 50",
         "type": "box",
         "y": [
          89.325,
          87.13,
          87.424,
          null,
          86.784,
          89.752,
          88.952,
          86.748,
          89.962,
          86.847,
          88.643,
          86.428,
          null,
          88.801,
          null,
          87.639,
          89.008,
          87.496,
          88.332
         ]
        },
        {
         "boxmean": true,
         "name": "Lap 51",
         "type": "box",
         "y": [
          88.424,
          86.862,
          87.442,
          null,
          86.934,
          null,
          89.998,
          87.048,
          90.614,
          87.227,
          88.665,
          86.419,
          null,
          88.742,
          null,
          87.618,
          88.594,
          87.535,
          88.353
         ]
        },
        {
         "boxmean": true,
         "name": "Lap 52",
         "type": "box",
         "y": [
          102.295,
          88.154,
          95.375,
          null,
          86.833,
          null,
          102.248,
          87.559,
          116.602,
          94.458,
          102.136,
          86.529,
          null,
          104.016,
          null,
          89.182,
          105.169,
          92.276,
          101.212
         ]
        },
        {
         "boxmean": true,
         "name": "Lap 53",
         "type": "box",
         "y": [
          133.583,
          118.324,
          113.281,
          null,
          98.574,
          null,
          130.799,
          102.072,
          131.605,
          143.485,
          133.376,
          107.607,
          null,
          136.464,
          null,
          116.967,
          132.355,
          115.178,
          125.983
         ]
        },
        {
         "boxmean": true,
         "name": "Lap 54",
         "type": "box",
         "y": [
          152.02,
          115.892,
          110.389,
          null,
          142.911,
          null,
          151.687,
          135.373,
          104.08,
          152.14,
          151.544,
          126.894,
          null,
          150.528,
          null,
          118.467,
          139.167,
          114.46,
          150.524
         ]
        },
        {
         "boxmean": true,
         "name": "Lap 55",
         "type": "box",
         "y": [
          145.226,
          107.158,
          120.394,
          null,
          152.083,
          null,
          146.191,
          150.435,
          138.615,
          145.212,
          146.235,
          136.838,
          null,
          144.782,
          null,
          107.011,
          145.787,
          103.335,
          146.006
         ]
        },
        {
         "boxmean": true,
         "name": "Lap 56",
         "type": "box",
         "y": [
          119.466,
          139.183,
          122.485,
          null,
          145.761,
          null,
          118.448,
          146.432,
          139.025,
          119.05,
          118.878,
          null,
          null,
          142.051,
          null,
          139.106,
          141.035,
          137.844,
          120.34
         ]
        },
        {
         "boxmean": true,
         "name": "Lap 57",
         "type": "box",
         "y": [
          88.007,
          139.191,
          136.957,
          null,
          148.331,
          null,
          88.644,
          141.895,
          91.021,
          87.46,
          88.419,
          null,
          null,
          89.48,
          null,
          139.998,
          92.389,
          138.101,
          88.37
         ]
        },
        {
         "boxmean": true,
         "name": "Lap 58",
         "type": "box",
         "y": [
          87.607,
          90.479,
          88.344,
          null,
          89.33,
          null,
          89.557,
          86.618,
          null,
          86.762,
          88.249,
          null,
          null,
          null,
          null,
          88.879,
          null,
          87.954,
          88.303
         ]
        }
       ],
       "layout": {
        "template": {
         "data": {
          "bar": [
           {
            "error_x": {
             "color": "#2a3f5f"
            },
            "error_y": {
             "color": "#2a3f5f"
            },
            "marker": {
             "line": {
              "color": "#E5ECF6",
              "width": 0.5
             },
             "pattern": {
              "fillmode": "overlay",
              "size": 10,
              "solidity": 0.2
             }
            },
            "type": "bar"
           }
          ],
          "barpolar": [
           {
            "marker": {
             "line": {
              "color": "#E5ECF6",
              "width": 0.5
             },
             "pattern": {
              "fillmode": "overlay",
              "size": 10,
              "solidity": 0.2
             }
            },
            "type": "barpolar"
           }
          ],
          "carpet": [
           {
            "aaxis": {
             "endlinecolor": "#2a3f5f",
             "gridcolor": "white",
             "linecolor": "white",
             "minorgridcolor": "white",
             "startlinecolor": "#2a3f5f"
            },
            "baxis": {
             "endlinecolor": "#2a3f5f",
             "gridcolor": "white",
             "linecolor": "white",
             "minorgridcolor": "white",
             "startlinecolor": "#2a3f5f"
            },
            "type": "carpet"
           }
          ],
          "choropleth": [
           {
            "colorbar": {
             "outlinewidth": 0,
             "ticks": ""
            },
            "type": "choropleth"
           }
          ],
          "contour": [
           {
            "colorbar": {
             "outlinewidth": 0,
             "ticks": ""
            },
            "colorscale": [
             [
              0,
              "#0d0887"
             ],
             [
              0.1111111111111111,
              "#46039f"
             ],
             [
              0.2222222222222222,
              "#7201a8"
             ],
             [
              0.3333333333333333,
              "#9c179e"
             ],
             [
              0.4444444444444444,
              "#bd3786"
             ],
             [
              0.5555555555555556,
              "#d8576b"
             ],
             [
              0.6666666666666666,
              "#ed7953"
             ],
             [
              0.7777777777777778,
              "#fb9f3a"
             ],
             [
              0.8888888888888888,
              "#fdca26"
             ],
             [
              1,
              "#f0f921"
             ]
            ],
            "type": "contour"
           }
          ],
          "contourcarpet": [
           {
            "colorbar": {
             "outlinewidth": 0,
             "ticks": ""
            },
            "type": "contourcarpet"
           }
          ],
          "heatmap": [
           {
            "colorbar": {
             "outlinewidth": 0,
             "ticks": ""
            },
            "colorscale": [
             [
              0,
              "#0d0887"
             ],
             [
              0.1111111111111111,
              "#46039f"
             ],
             [
              0.2222222222222222,
              "#7201a8"
             ],
             [
              0.3333333333333333,
              "#9c179e"
             ],
             [
              0.4444444444444444,
              "#bd3786"
             ],
             [
              0.5555555555555556,
              "#d8576b"
             ],
             [
              0.6666666666666666,
              "#ed7953"
             ],
             [
              0.7777777777777778,
              "#fb9f3a"
             ],
             [
              0.8888888888888888,
              "#fdca26"
             ],
             [
              1,
              "#f0f921"
             ]
            ],
            "type": "heatmap"
           }
          ],
          "heatmapgl": [
           {
            "colorbar": {
             "outlinewidth": 0,
             "ticks": ""
            },
            "colorscale": [
             [
              0,
              "#0d0887"
             ],
             [
              0.1111111111111111,
              "#46039f"
             ],
             [
              0.2222222222222222,
              "#7201a8"
             ],
             [
              0.3333333333333333,
              "#9c179e"
             ],
             [
              0.4444444444444444,
              "#bd3786"
             ],
             [
              0.5555555555555556,
              "#d8576b"
             ],
             [
              0.6666666666666666,
              "#ed7953"
             ],
             [
              0.7777777777777778,
              "#fb9f3a"
             ],
             [
              0.8888888888888888,
              "#fdca26"
             ],
             [
              1,
              "#f0f921"
             ]
            ],
            "type": "heatmapgl"
           }
          ],
          "histogram": [
           {
            "marker": {
             "pattern": {
              "fillmode": "overlay",
              "size": 10,
              "solidity": 0.2
             }
            },
            "type": "histogram"
           }
          ],
          "histogram2d": [
           {
            "colorbar": {
             "outlinewidth": 0,
             "ticks": ""
            },
            "colorscale": [
             [
              0,
              "#0d0887"
             ],
             [
              0.1111111111111111,
              "#46039f"
             ],
             [
              0.2222222222222222,
              "#7201a8"
             ],
             [
              0.3333333333333333,
              "#9c179e"
             ],
             [
              0.4444444444444444,
              "#bd3786"
             ],
             [
              0.5555555555555556,
              "#d8576b"
             ],
             [
              0.6666666666666666,
              "#ed7953"
             ],
             [
              0.7777777777777778,
              "#fb9f3a"
             ],
             [
              0.8888888888888888,
              "#fdca26"
             ],
             [
              1,
              "#f0f921"
             ]
            ],
            "type": "histogram2d"
           }
          ],
          "histogram2dcontour": [
           {
            "colorbar": {
             "outlinewidth": 0,
             "ticks": ""
            },
            "colorscale": [
             [
              0,
              "#0d0887"
             ],
             [
              0.1111111111111111,
              "#46039f"
             ],
             [
              0.2222222222222222,
              "#7201a8"
             ],
             [
              0.3333333333333333,
              "#9c179e"
             ],
             [
              0.4444444444444444,
              "#bd3786"
             ],
             [
              0.5555555555555556,
              "#d8576b"
             ],
             [
              0.6666666666666666,
              "#ed7953"
             ],
             [
              0.7777777777777778,
              "#fb9f3a"
             ],
             [
              0.8888888888888888,
              "#fdca26"
             ],
             [
              1,
              "#f0f921"
             ]
            ],
            "type": "histogram2dcontour"
           }
          ],
          "mesh3d": [
           {
            "colorbar": {
             "outlinewidth": 0,
             "ticks": ""
            },
            "type": "mesh3d"
           }
          ],
          "parcoords": [
           {
            "line": {
             "colorbar": {
              "outlinewidth": 0,
              "ticks": ""
             }
            },
            "type": "parcoords"
           }
          ],
          "pie": [
           {
            "automargin": true,
            "type": "pie"
           }
          ],
          "scatter": [
           {
            "fillpattern": {
             "fillmode": "overlay",
             "size": 10,
             "solidity": 0.2
            },
            "type": "scatter"
           }
          ],
          "scatter3d": [
           {
            "line": {
             "colorbar": {
              "outlinewidth": 0,
              "ticks": ""
             }
            },
            "marker": {
             "colorbar": {
              "outlinewidth": 0,
              "ticks": ""
             }
            },
            "type": "scatter3d"
           }
          ],
          "scattercarpet": [
           {
            "marker": {
             "colorbar": {
              "outlinewidth": 0,
              "ticks": ""
             }
            },
            "type": "scattercarpet"
           }
          ],
          "scattergeo": [
           {
            "marker": {
             "colorbar": {
              "outlinewidth": 0,
              "ticks": ""
             }
            },
            "type": "scattergeo"
           }
          ],
          "scattergl": [
           {
            "marker": {
             "colorbar": {
              "outlinewidth": 0,
              "ticks": ""
             }
            },
            "type": "scattergl"
           }
          ],
          "scattermapbox": [
           {
            "marker": {
             "colorbar": {
              "outlinewidth": 0,
              "ticks": ""
             }
            },
            "type": "scattermapbox"
           }
          ],
          "scatterpolar": [
           {
            "marker": {
             "colorbar": {
              "outlinewidth": 0,
              "ticks": ""
             }
            },
            "type": "scatterpolar"
           }
          ],
          "scatterpolargl": [
           {
            "marker": {
             "colorbar": {
              "outlinewidth": 0,
              "ticks": ""
             }
            },
            "type": "scatterpolargl"
           }
          ],
          "scatterternary": [
           {
            "marker": {
             "colorbar": {
              "outlinewidth": 0,
              "ticks": ""
             }
            },
            "type": "scatterternary"
           }
          ],
          "surface": [
           {
            "colorbar": {
             "outlinewidth": 0,
             "ticks": ""
            },
            "colorscale": [
             [
              0,
              "#0d0887"
             ],
             [
              0.1111111111111111,
              "#46039f"
             ],
             [
              0.2222222222222222,
              "#7201a8"
             ],
             [
              0.3333333333333333,
              "#9c179e"
             ],
             [
              0.4444444444444444,
              "#bd3786"
             ],
             [
              0.5555555555555556,
              "#d8576b"
             ],
             [
              0.6666666666666666,
              "#ed7953"
             ],
             [
              0.7777777777777778,
              "#fb9f3a"
             ],
             [
              0.8888888888888888,
              "#fdca26"
             ],
             [
              1,
              "#f0f921"
             ]
            ],
            "type": "surface"
           }
          ],
          "table": [
           {
            "cells": {
             "fill": {
              "color": "#EBF0F8"
             },
             "line": {
              "color": "white"
             }
            },
            "header": {
             "fill": {
              "color": "#C8D4E3"
             },
             "line": {
              "color": "white"
             }
            },
            "type": "table"
           }
          ]
         },
         "layout": {
          "annotationdefaults": {
           "arrowcolor": "#2a3f5f",
           "arrowhead": 0,
           "arrowwidth": 1
          },
          "autotypenumbers": "strict",
          "coloraxis": {
           "colorbar": {
            "outlinewidth": 0,
            "ticks": ""
           }
          },
          "colorscale": {
           "diverging": [
            [
             0,
             "#8e0152"
            ],
            [
             0.1,
             "#c51b7d"
            ],
            [
             0.2,
             "#de77ae"
            ],
            [
             0.3,
             "#f1b6da"
            ],
            [
             0.4,
             "#fde0ef"
            ],
            [
             0.5,
             "#f7f7f7"
            ],
            [
             0.6,
             "#e6f5d0"
            ],
            [
             0.7,
             "#b8e186"
            ],
            [
             0.8,
             "#7fbc41"
            ],
            [
             0.9,
             "#4d9221"
            ],
            [
             1,
             "#276419"
            ]
           ],
           "sequential": [
            [
             0,
             "#0d0887"
            ],
            [
             0.1111111111111111,
             "#46039f"
            ],
            [
             0.2222222222222222,
             "#7201a8"
            ],
            [
             0.3333333333333333,
             "#9c179e"
            ],
            [
             0.4444444444444444,
             "#bd3786"
            ],
            [
             0.5555555555555556,
             "#d8576b"
            ],
            [
             0.6666666666666666,
             "#ed7953"
            ],
            [
             0.7777777777777778,
             "#fb9f3a"
            ],
            [
             0.8888888888888888,
             "#fdca26"
            ],
            [
             1,
             "#f0f921"
            ]
           ],
           "sequentialminus": [
            [
             0,
             "#0d0887"
            ],
            [
             0.1111111111111111,
             "#46039f"
            ],
            [
             0.2222222222222222,
             "#7201a8"
            ],
            [
             0.3333333333333333,
             "#9c179e"
            ],
            [
             0.4444444444444444,
             "#bd3786"
            ],
            [
             0.5555555555555556,
             "#d8576b"
            ],
            [
             0.6666666666666666,
             "#ed7953"
            ],
            [
             0.7777777777777778,
             "#fb9f3a"
            ],
            [
             0.8888888888888888,
             "#fdca26"
            ],
            [
             1,
             "#f0f921"
            ]
           ]
          },
          "colorway": [
           "#636efa",
           "#EF553B",
           "#00cc96",
           "#ab63fa",
           "#FFA15A",
           "#19d3f3",
           "#FF6692",
           "#B6E880",
           "#FF97FF",
           "#FECB52"
          ],
          "font": {
           "color": "#2a3f5f"
          },
          "geo": {
           "bgcolor": "white",
           "lakecolor": "white",
           "landcolor": "#E5ECF6",
           "showlakes": true,
           "showland": true,
           "subunitcolor": "white"
          },
          "hoverlabel": {
           "align": "left"
          },
          "hovermode": "closest",
          "mapbox": {
           "style": "light"
          },
          "paper_bgcolor": "white",
          "plot_bgcolor": "#E5ECF6",
          "polar": {
           "angularaxis": {
            "gridcolor": "white",
            "linecolor": "white",
            "ticks": ""
           },
           "bgcolor": "#E5ECF6",
           "radialaxis": {
            "gridcolor": "white",
            "linecolor": "white",
            "ticks": ""
           }
          },
          "scene": {
           "xaxis": {
            "backgroundcolor": "#E5ECF6",
            "gridcolor": "white",
            "gridwidth": 2,
            "linecolor": "white",
            "showbackground": true,
            "ticks": "",
            "zerolinecolor": "white"
           },
           "yaxis": {
            "backgroundcolor": "#E5ECF6",
            "gridcolor": "white",
            "gridwidth": 2,
            "linecolor": "white",
            "showbackground": true,
            "ticks": "",
            "zerolinecolor": "white"
           },
           "zaxis": {
            "backgroundcolor": "#E5ECF6",
            "gridcolor": "white",
            "gridwidth": 2,
            "linecolor": "white",
            "showbackground": true,
            "ticks": "",
            "zerolinecolor": "white"
           }
          },
          "shapedefaults": {
           "line": {
            "color": "#2a3f5f"
           }
          },
          "ternary": {
           "aaxis": {
            "gridcolor": "white",
            "linecolor": "white",
            "ticks": ""
           },
           "baxis": {
            "gridcolor": "white",
            "linecolor": "white",
            "ticks": ""
           },
           "bgcolor": "#E5ECF6",
           "caxis": {
            "gridcolor": "white",
            "linecolor": "white",
            "ticks": ""
           }
          },
          "title": {
           "x": 0.05
          },
          "xaxis": {
           "automargin": true,
           "gridcolor": "white",
           "linecolor": "white",
           "ticks": "",
           "title": {
            "standoff": 15
           },
           "zerolinecolor": "white",
           "zerolinewidth": 2
          },
          "yaxis": {
           "automargin": true,
           "gridcolor": "white",
           "linecolor": "white",
           "ticks": "",
           "title": {
            "standoff": 15
           },
           "zerolinecolor": "white",
           "zerolinewidth": 2
          }
         }
        },
        "title": {
         "text": "All Lap times per lap"
        },
        "yaxis": {
         "type": "log"
        }
       }
      }
     },
     "metadata": {},
     "output_type": "display_data"
    }
   ],
   "source": [
    "fig = go.Figure()\n",
    "for col in working_df.columns[1:]:\n",
    "    fig.add_trace(go.Box(y=working_df[col].values.tolist(), name=col, boxmean=True))\n",
    "    fig.update_layout(title='All Lap times per lap')\n",
    "fig.update_yaxes(type=\"log\")\n",
    "fig.show()"
   ]
  },
  {
   "cell_type": "markdown",
   "metadata": {},
   "source": [
    "Plot the Median of each lap"
   ]
  },
  {
   "cell_type": "code",
   "execution_count": 341,
   "metadata": {},
   "outputs": [
    {
     "name": "stderr",
     "output_type": "stream",
     "text": [
      "/var/folders/6v/fdrhmbgd7qnc8g6124nk1_m80000gn/T/ipykernel_79266/2323186895.py:1: FutureWarning:\n",
      "\n",
      "The default value of numeric_only in DataFrame.median is deprecated. In a future version, it will default to False. In addition, specifying 'numeric_only=None' is deprecated. Select only valid columns or specify the value of numeric_only to silence this warning.\n",
      "\n",
      "/var/folders/6v/fdrhmbgd7qnc8g6124nk1_m80000gn/T/ipykernel_79266/2323186895.py:2: FutureWarning:\n",
      "\n",
      "The default value of numeric_only in DataFrame.mean is deprecated. In a future version, it will default to False. In addition, specifying 'numeric_only=None' is deprecated. Select only valid columns or specify the value of numeric_only to silence this warning.\n",
      "\n"
     ]
    },
    {
     "data": {
      "application/vnd.plotly.v1+json": {
       "config": {
        "plotlyServerURL": "https://plot.ly"
       },
       "data": [
        {
         "boxmean": true,
         "boxpoints": "all",
         "name": "Median",
         "type": "box",
         "x": [
          98.0195,
          92.1115,
          91.003,
          91.2265,
          90.957,
          90.781,
          90.711,
          90.78649999999999,
          90.61699999999999,
          90.681,
          90.68950000000001,
          90.527,
          90.582,
          90.74000000000001,
          90.6865,
          90.53649999999999,
          90.311,
          90.507,
          90.3235,
          90.2935,
          90.148,
          89.78,
          89.687,
          89.6225,
          89.62049999999999,
          89.505,
          89.4785,
          89.2805,
          89.20599999999999,
          89.149,
          89.386,
          89.08349999999999,
          89.143,
          88.828,
          95.55,
          114.65,
          101.441,
          88.764,
          88.907,
          88.481,
          88.346,
          88.454,
          88.327,
          88.27,
          88.217,
          88.059,
          87.953,
          88.527,
          88.345,
          87.639,
          87.5765,
          94.9165,
          122.15350000000001,
          137.26999999999998,
          144.997,
          139.025,
          92.389,
          88.3235
         ]
        },
        {
         "boxmean": true,
         "boxpoints": "all",
         "name": "Average",
         "type": "box",
         "x": [
          97.91566666666667,
          91.99827777777779,
          91.21666666666665,
          91.02672222222223,
          90.87916666666666,
          90.79283333333333,
          90.4815,
          90.643,
          90.53483333333332,
          90.55799999999999,
          91.3846111111111,
          90.2935,
          90.43944444444445,
          91.6277777777778,
          91.77838888888888,
          92.42000000000002,
          90.34466666666667,
          92.57594444444446,
          91.34494444444445,
          91.72777777777779,
          90.79372222222224,
          93.15866666666666,
          89.85183333333335,
          92.0635,
          92.57688888888887,
          94.04535294117647,
          89.57706250000001,
          89.6360625,
          90.345375,
          89.27787500000001,
          90.57350000000001,
          88.9679375,
          88.97375,
          88.74766666666666,
          95.92306666666667,
          113.9857333333333,
          103.70626666666665,
          88.83539999999999,
          88.59686666666666,
          88.44779999999999,
          88.32046666666665,
          88.37560000000002,
          88.2884,
          88.46966666666665,
          88.61486666666666,
          88.56613333333333,
          88.36519999999999,
          88.34866666666667,
          89.473,
          87.9964,
          88.00364285714286,
          96.5535,
          121.86214285714286,
          133.14685714285716,
          135.00585714285717,
          133.0490769230769,
          113.09661538461538,
          88.44749999999999
         ]
        }
       ],
       "layout": {
        "template": {
         "data": {
          "bar": [
           {
            "error_x": {
             "color": "#2a3f5f"
            },
            "error_y": {
             "color": "#2a3f5f"
            },
            "marker": {
             "line": {
              "color": "#E5ECF6",
              "width": 0.5
             },
             "pattern": {
              "fillmode": "overlay",
              "size": 10,
              "solidity": 0.2
             }
            },
            "type": "bar"
           }
          ],
          "barpolar": [
           {
            "marker": {
             "line": {
              "color": "#E5ECF6",
              "width": 0.5
             },
             "pattern": {
              "fillmode": "overlay",
              "size": 10,
              "solidity": 0.2
             }
            },
            "type": "barpolar"
           }
          ],
          "carpet": [
           {
            "aaxis": {
             "endlinecolor": "#2a3f5f",
             "gridcolor": "white",
             "linecolor": "white",
             "minorgridcolor": "white",
             "startlinecolor": "#2a3f5f"
            },
            "baxis": {
             "endlinecolor": "#2a3f5f",
             "gridcolor": "white",
             "linecolor": "white",
             "minorgridcolor": "white",
             "startlinecolor": "#2a3f5f"
            },
            "type": "carpet"
           }
          ],
          "choropleth": [
           {
            "colorbar": {
             "outlinewidth": 0,
             "ticks": ""
            },
            "type": "choropleth"
           }
          ],
          "contour": [
           {
            "colorbar": {
             "outlinewidth": 0,
             "ticks": ""
            },
            "colorscale": [
             [
              0,
              "#0d0887"
             ],
             [
              0.1111111111111111,
              "#46039f"
             ],
             [
              0.2222222222222222,
              "#7201a8"
             ],
             [
              0.3333333333333333,
              "#9c179e"
             ],
             [
              0.4444444444444444,
              "#bd3786"
             ],
             [
              0.5555555555555556,
              "#d8576b"
             ],
             [
              0.6666666666666666,
              "#ed7953"
             ],
             [
              0.7777777777777778,
              "#fb9f3a"
             ],
             [
              0.8888888888888888,
              "#fdca26"
             ],
             [
              1,
              "#f0f921"
             ]
            ],
            "type": "contour"
           }
          ],
          "contourcarpet": [
           {
            "colorbar": {
             "outlinewidth": 0,
             "ticks": ""
            },
            "type": "contourcarpet"
           }
          ],
          "heatmap": [
           {
            "colorbar": {
             "outlinewidth": 0,
             "ticks": ""
            },
            "colorscale": [
             [
              0,
              "#0d0887"
             ],
             [
              0.1111111111111111,
              "#46039f"
             ],
             [
              0.2222222222222222,
              "#7201a8"
             ],
             [
              0.3333333333333333,
              "#9c179e"
             ],
             [
              0.4444444444444444,
              "#bd3786"
             ],
             [
              0.5555555555555556,
              "#d8576b"
             ],
             [
              0.6666666666666666,
              "#ed7953"
             ],
             [
              0.7777777777777778,
              "#fb9f3a"
             ],
             [
              0.8888888888888888,
              "#fdca26"
             ],
             [
              1,
              "#f0f921"
             ]
            ],
            "type": "heatmap"
           }
          ],
          "heatmapgl": [
           {
            "colorbar": {
             "outlinewidth": 0,
             "ticks": ""
            },
            "colorscale": [
             [
              0,
              "#0d0887"
             ],
             [
              0.1111111111111111,
              "#46039f"
             ],
             [
              0.2222222222222222,
              "#7201a8"
             ],
             [
              0.3333333333333333,
              "#9c179e"
             ],
             [
              0.4444444444444444,
              "#bd3786"
             ],
             [
              0.5555555555555556,
              "#d8576b"
             ],
             [
              0.6666666666666666,
              "#ed7953"
             ],
             [
              0.7777777777777778,
              "#fb9f3a"
             ],
             [
              0.8888888888888888,
              "#fdca26"
             ],
             [
              1,
              "#f0f921"
             ]
            ],
            "type": "heatmapgl"
           }
          ],
          "histogram": [
           {
            "marker": {
             "pattern": {
              "fillmode": "overlay",
              "size": 10,
              "solidity": 0.2
             }
            },
            "type": "histogram"
           }
          ],
          "histogram2d": [
           {
            "colorbar": {
             "outlinewidth": 0,
             "ticks": ""
            },
            "colorscale": [
             [
              0,
              "#0d0887"
             ],
             [
              0.1111111111111111,
              "#46039f"
             ],
             [
              0.2222222222222222,
              "#7201a8"
             ],
             [
              0.3333333333333333,
              "#9c179e"
             ],
             [
              0.4444444444444444,
              "#bd3786"
             ],
             [
              0.5555555555555556,
              "#d8576b"
             ],
             [
              0.6666666666666666,
              "#ed7953"
             ],
             [
              0.7777777777777778,
              "#fb9f3a"
             ],
             [
              0.8888888888888888,
              "#fdca26"
             ],
             [
              1,
              "#f0f921"
             ]
            ],
            "type": "histogram2d"
           }
          ],
          "histogram2dcontour": [
           {
            "colorbar": {
             "outlinewidth": 0,
             "ticks": ""
            },
            "colorscale": [
             [
              0,
              "#0d0887"
             ],
             [
              0.1111111111111111,
              "#46039f"
             ],
             [
              0.2222222222222222,
              "#7201a8"
             ],
             [
              0.3333333333333333,
              "#9c179e"
             ],
             [
              0.4444444444444444,
              "#bd3786"
             ],
             [
              0.5555555555555556,
              "#d8576b"
             ],
             [
              0.6666666666666666,
              "#ed7953"
             ],
             [
              0.7777777777777778,
              "#fb9f3a"
             ],
             [
              0.8888888888888888,
              "#fdca26"
             ],
             [
              1,
              "#f0f921"
             ]
            ],
            "type": "histogram2dcontour"
           }
          ],
          "mesh3d": [
           {
            "colorbar": {
             "outlinewidth": 0,
             "ticks": ""
            },
            "type": "mesh3d"
           }
          ],
          "parcoords": [
           {
            "line": {
             "colorbar": {
              "outlinewidth": 0,
              "ticks": ""
             }
            },
            "type": "parcoords"
           }
          ],
          "pie": [
           {
            "automargin": true,
            "type": "pie"
           }
          ],
          "scatter": [
           {
            "fillpattern": {
             "fillmode": "overlay",
             "size": 10,
             "solidity": 0.2
            },
            "type": "scatter"
           }
          ],
          "scatter3d": [
           {
            "line": {
             "colorbar": {
              "outlinewidth": 0,
              "ticks": ""
             }
            },
            "marker": {
             "colorbar": {
              "outlinewidth": 0,
              "ticks": ""
             }
            },
            "type": "scatter3d"
           }
          ],
          "scattercarpet": [
           {
            "marker": {
             "colorbar": {
              "outlinewidth": 0,
              "ticks": ""
             }
            },
            "type": "scattercarpet"
           }
          ],
          "scattergeo": [
           {
            "marker": {
             "colorbar": {
              "outlinewidth": 0,
              "ticks": ""
             }
            },
            "type": "scattergeo"
           }
          ],
          "scattergl": [
           {
            "marker": {
             "colorbar": {
              "outlinewidth": 0,
              "ticks": ""
             }
            },
            "type": "scattergl"
           }
          ],
          "scattermapbox": [
           {
            "marker": {
             "colorbar": {
              "outlinewidth": 0,
              "ticks": ""
             }
            },
            "type": "scattermapbox"
           }
          ],
          "scatterpolar": [
           {
            "marker": {
             "colorbar": {
              "outlinewidth": 0,
              "ticks": ""
             }
            },
            "type": "scatterpolar"
           }
          ],
          "scatterpolargl": [
           {
            "marker": {
             "colorbar": {
              "outlinewidth": 0,
              "ticks": ""
             }
            },
            "type": "scatterpolargl"
           }
          ],
          "scatterternary": [
           {
            "marker": {
             "colorbar": {
              "outlinewidth": 0,
              "ticks": ""
             }
            },
            "type": "scatterternary"
           }
          ],
          "surface": [
           {
            "colorbar": {
             "outlinewidth": 0,
             "ticks": ""
            },
            "colorscale": [
             [
              0,
              "#0d0887"
             ],
             [
              0.1111111111111111,
              "#46039f"
             ],
             [
              0.2222222222222222,
              "#7201a8"
             ],
             [
              0.3333333333333333,
              "#9c179e"
             ],
             [
              0.4444444444444444,
              "#bd3786"
             ],
             [
              0.5555555555555556,
              "#d8576b"
             ],
             [
              0.6666666666666666,
              "#ed7953"
             ],
             [
              0.7777777777777778,
              "#fb9f3a"
             ],
             [
              0.8888888888888888,
              "#fdca26"
             ],
             [
              1,
              "#f0f921"
             ]
            ],
            "type": "surface"
           }
          ],
          "table": [
           {
            "cells": {
             "fill": {
              "color": "#EBF0F8"
             },
             "line": {
              "color": "white"
             }
            },
            "header": {
             "fill": {
              "color": "#C8D4E3"
             },
             "line": {
              "color": "white"
             }
            },
            "type": "table"
           }
          ]
         },
         "layout": {
          "annotationdefaults": {
           "arrowcolor": "#2a3f5f",
           "arrowhead": 0,
           "arrowwidth": 1
          },
          "autotypenumbers": "strict",
          "coloraxis": {
           "colorbar": {
            "outlinewidth": 0,
            "ticks": ""
           }
          },
          "colorscale": {
           "diverging": [
            [
             0,
             "#8e0152"
            ],
            [
             0.1,
             "#c51b7d"
            ],
            [
             0.2,
             "#de77ae"
            ],
            [
             0.3,
             "#f1b6da"
            ],
            [
             0.4,
             "#fde0ef"
            ],
            [
             0.5,
             "#f7f7f7"
            ],
            [
             0.6,
             "#e6f5d0"
            ],
            [
             0.7,
             "#b8e186"
            ],
            [
             0.8,
             "#7fbc41"
            ],
            [
             0.9,
             "#4d9221"
            ],
            [
             1,
             "#276419"
            ]
           ],
           "sequential": [
            [
             0,
             "#0d0887"
            ],
            [
             0.1111111111111111,
             "#46039f"
            ],
            [
             0.2222222222222222,
             "#7201a8"
            ],
            [
             0.3333333333333333,
             "#9c179e"
            ],
            [
             0.4444444444444444,
             "#bd3786"
            ],
            [
             0.5555555555555556,
             "#d8576b"
            ],
            [
             0.6666666666666666,
             "#ed7953"
            ],
            [
             0.7777777777777778,
             "#fb9f3a"
            ],
            [
             0.8888888888888888,
             "#fdca26"
            ],
            [
             1,
             "#f0f921"
            ]
           ],
           "sequentialminus": [
            [
             0,
             "#0d0887"
            ],
            [
             0.1111111111111111,
             "#46039f"
            ],
            [
             0.2222222222222222,
             "#7201a8"
            ],
            [
             0.3333333333333333,
             "#9c179e"
            ],
            [
             0.4444444444444444,
             "#bd3786"
            ],
            [
             0.5555555555555556,
             "#d8576b"
            ],
            [
             0.6666666666666666,
             "#ed7953"
            ],
            [
             0.7777777777777778,
             "#fb9f3a"
            ],
            [
             0.8888888888888888,
             "#fdca26"
            ],
            [
             1,
             "#f0f921"
            ]
           ]
          },
          "colorway": [
           "#636efa",
           "#EF553B",
           "#00cc96",
           "#ab63fa",
           "#FFA15A",
           "#19d3f3",
           "#FF6692",
           "#B6E880",
           "#FF97FF",
           "#FECB52"
          ],
          "font": {
           "color": "#2a3f5f"
          },
          "geo": {
           "bgcolor": "white",
           "lakecolor": "white",
           "landcolor": "#E5ECF6",
           "showlakes": true,
           "showland": true,
           "subunitcolor": "white"
          },
          "hoverlabel": {
           "align": "left"
          },
          "hovermode": "closest",
          "mapbox": {
           "style": "light"
          },
          "paper_bgcolor": "white",
          "plot_bgcolor": "#E5ECF6",
          "polar": {
           "angularaxis": {
            "gridcolor": "white",
            "linecolor": "white",
            "ticks": ""
           },
           "bgcolor": "#E5ECF6",
           "radialaxis": {
            "gridcolor": "white",
            "linecolor": "white",
            "ticks": ""
           }
          },
          "scene": {
           "xaxis": {
            "backgroundcolor": "#E5ECF6",
            "gridcolor": "white",
            "gridwidth": 2,
            "linecolor": "white",
            "showbackground": true,
            "ticks": "",
            "zerolinecolor": "white"
           },
           "yaxis": {
            "backgroundcolor": "#E5ECF6",
            "gridcolor": "white",
            "gridwidth": 2,
            "linecolor": "white",
            "showbackground": true,
            "ticks": "",
            "zerolinecolor": "white"
           },
           "zaxis": {
            "backgroundcolor": "#E5ECF6",
            "gridcolor": "white",
            "gridwidth": 2,
            "linecolor": "white",
            "showbackground": true,
            "ticks": "",
            "zerolinecolor": "white"
           }
          },
          "shapedefaults": {
           "line": {
            "color": "#2a3f5f"
           }
          },
          "ternary": {
           "aaxis": {
            "gridcolor": "white",
            "linecolor": "white",
            "ticks": ""
           },
           "baxis": {
            "gridcolor": "white",
            "linecolor": "white",
            "ticks": ""
           },
           "bgcolor": "#E5ECF6",
           "caxis": {
            "gridcolor": "white",
            "linecolor": "white",
            "ticks": ""
           }
          },
          "title": {
           "x": 0.05
          },
          "xaxis": {
           "automargin": true,
           "gridcolor": "white",
           "linecolor": "white",
           "ticks": "",
           "title": {
            "standoff": 15
           },
           "zerolinecolor": "white",
           "zerolinewidth": 2
          },
          "yaxis": {
           "automargin": true,
           "gridcolor": "white",
           "linecolor": "white",
           "ticks": "",
           "title": {
            "standoff": 15
           },
           "zerolinecolor": "white",
           "zerolinewidth": 2
          }
         }
        },
        "title": {
         "text": "Average & Median for all laps"
        },
        "xaxis": {
         "type": "log"
        }
       }
      }
     },
     "metadata": {},
     "output_type": "display_data"
    }
   ],
   "source": [
    "median = working_df[1:].median(axis=0, skipna=True).tolist()\n",
    "average = working_df[1:].mean(axis=0, skipna=True).tolist()\n",
    "\n",
    "fig = go.Figure()\n",
    "fig.add_trace(go.Box(x=median, name='Median',boxpoints='all',boxmean=True))\n",
    "fig.add_trace(go.Box(x=average, name='Average',boxpoints='all',boxmean=True))\n",
    "fig.update_layout(title='Average & Median for all laps')\n",
    "fig.update_xaxes(type=\"log\")\n",
    "fig.show()"
   ]
  },
  {
   "cell_type": "markdown",
   "metadata": {},
   "source": [
    "Compare a single drivers lap times to the average lap times\n",
    "\n",
    "This is a on a per lap basis, each lap time is only compared to that individuals average lap time, this accounts for laps were there might be a crash or a pace car since that affects all drivers times\n",
    "\n",
    "Visuallizes how we assign consistancy points\n",
    "\n",
    "*   Times that are below the average are positivly rewarded\n",
    "*   Times that are above the average are negativly rewarded"
   ]
  },
  {
   "cell_type": "code",
   "execution_count": 342,
   "metadata": {},
   "outputs": [
    {
     "name": "stderr",
     "output_type": "stream",
     "text": [
      "/var/folders/6v/fdrhmbgd7qnc8g6124nk1_m80000gn/T/ipykernel_79266/308657666.py:1: FutureWarning:\n",
      "\n",
      "The default value of numeric_only in DataFrame.mean is deprecated. In a future version, it will default to False. In addition, specifying 'numeric_only=None' is deprecated. Select only valid columns or specify the value of numeric_only to silence this warning.\n",
      "\n",
      "/var/folders/6v/fdrhmbgd7qnc8g6124nk1_m80000gn/T/ipykernel_79266/308657666.py:2: FutureWarning:\n",
      "\n",
      "The default value of numeric_only in DataFrame.median is deprecated. In a future version, it will default to False. In addition, specifying 'numeric_only=None' is deprecated. Select only valid columns or specify the value of numeric_only to silence this warning.\n",
      "\n",
      "/opt/homebrew/Caskroom/miniforge/base/envs/env/lib/python3.10/site-packages/plotly/graph_objs/_deprecations.py:378: DeprecationWarning:\n",
      "\n",
      "plotly.graph_objs.Line is deprecated.\n",
      "Please replace it with one of the following more specific types\n",
      "  - plotly.graph_objs.scatter.Line\n",
      "  - plotly.graph_objs.layout.shape.Line\n",
      "  - etc.\n",
      "\n",
      "\n"
     ]
    },
    {
     "data": {
      "application/vnd.plotly.v1+json": {
       "config": {
        "plotlyServerURL": "https://plot.ly"
       },
       "data": [
        {
         "line": {
          "dash": "dash"
         },
         "mode": "lines",
         "name": "Average",
         "type": "scatter",
         "x": [
          "Lap 1",
          "Lap 2",
          "Lap 3",
          "Lap 4",
          "Lap 5",
          "Lap 6",
          "Lap 7",
          "Lap 8",
          "Lap 9",
          "Lap 10",
          "Lap 11",
          "Lap 12",
          "Lap 13",
          "Lap 14",
          "Lap 15",
          "Lap 16",
          "Lap 17",
          "Lap 18",
          "Lap 19",
          "Lap 20",
          "Lap 21",
          "Lap 22",
          "Lap 23",
          "Lap 24",
          "Lap 25",
          "Lap 26",
          "Lap 27",
          "Lap 28",
          "Lap 29",
          "Lap 30",
          "Lap 31",
          "Lap 32",
          "Lap 33",
          "Lap 34",
          "Lap 35",
          "Lap 36",
          "Lap 37",
          "Lap 38",
          "Lap 39",
          "Lap 40",
          "Lap 41",
          "Lap 42",
          "Lap 43",
          "Lap 44",
          "Lap 45",
          "Lap 46",
          "Lap 47",
          "Lap 48",
          "Lap 49",
          "Lap 50",
          "Lap 51",
          "Lap 52",
          "Lap 53",
          "Lap 54",
          "Lap 55",
          "Lap 56",
          "Lap 57",
          "Lap 58"
         ],
         "y": [
          97.91566666666667,
          91.99827777777779,
          91.21666666666665,
          91.02672222222223,
          90.87916666666666,
          90.79283333333333,
          90.4815,
          90.643,
          90.53483333333332,
          90.55799999999999,
          91.3846111111111,
          90.2935,
          90.43944444444445,
          91.6277777777778,
          91.77838888888888,
          92.42000000000002,
          90.34466666666667,
          92.57594444444446,
          91.34494444444445,
          91.72777777777779,
          90.79372222222224,
          93.15866666666666,
          89.85183333333335,
          92.0635,
          92.57688888888887,
          94.04535294117647,
          89.57706250000001,
          89.6360625,
          90.345375,
          89.27787500000001,
          90.57350000000001,
          88.9679375,
          88.97375,
          88.74766666666666,
          95.92306666666667,
          113.9857333333333,
          103.70626666666665,
          88.83539999999999,
          88.59686666666666,
          88.44779999999999,
          88.32046666666665,
          88.37560000000002,
          88.2884,
          88.46966666666665,
          88.61486666666666,
          88.56613333333333,
          88.36519999999999,
          88.34866666666667,
          89.473,
          87.9964,
          88.00364285714286,
          96.5535,
          121.86214285714286,
          133.14685714285716,
          135.00585714285717,
          133.0490769230769,
          113.09661538461538,
          88.44749999999999
         ]
        },
        {
         "line": {
          "dash": "dash"
         },
         "mode": "lines",
         "name": "Median",
         "type": "scatter",
         "x": [
          "Lap 1",
          "Lap 2",
          "Lap 3",
          "Lap 4",
          "Lap 5",
          "Lap 6",
          "Lap 7",
          "Lap 8",
          "Lap 9",
          "Lap 10",
          "Lap 11",
          "Lap 12",
          "Lap 13",
          "Lap 14",
          "Lap 15",
          "Lap 16",
          "Lap 17",
          "Lap 18",
          "Lap 19",
          "Lap 20",
          "Lap 21",
          "Lap 22",
          "Lap 23",
          "Lap 24",
          "Lap 25",
          "Lap 26",
          "Lap 27",
          "Lap 28",
          "Lap 29",
          "Lap 30",
          "Lap 31",
          "Lap 32",
          "Lap 33",
          "Lap 34",
          "Lap 35",
          "Lap 36",
          "Lap 37",
          "Lap 38",
          "Lap 39",
          "Lap 40",
          "Lap 41",
          "Lap 42",
          "Lap 43",
          "Lap 44",
          "Lap 45",
          "Lap 46",
          "Lap 47",
          "Lap 48",
          "Lap 49",
          "Lap 50",
          "Lap 51",
          "Lap 52",
          "Lap 53",
          "Lap 54",
          "Lap 55",
          "Lap 56",
          "Lap 57",
          "Lap 58"
         ],
         "y": [
          98.0195,
          92.1115,
          91.003,
          91.2265,
          90.957,
          90.781,
          90.711,
          90.78649999999999,
          90.61699999999999,
          90.681,
          90.68950000000001,
          90.527,
          90.582,
          90.74000000000001,
          90.6865,
          90.53649999999999,
          90.311,
          90.507,
          90.3235,
          90.2935,
          90.148,
          89.78,
          89.687,
          89.6225,
          89.62049999999999,
          89.505,
          89.4785,
          89.2805,
          89.20599999999999,
          89.149,
          89.386,
          89.08349999999999,
          89.143,
          88.828,
          95.55,
          114.65,
          101.441,
          88.764,
          88.907,
          88.481,
          88.346,
          88.454,
          88.327,
          88.27,
          88.217,
          88.059,
          87.953,
          88.527,
          88.345,
          87.639,
          87.5765,
          94.9165,
          122.15350000000001,
          137.26999999999998,
          144.997,
          139.025,
          92.389,
          88.3235
         ]
        },
        {
         "name": "Alonso",
         "type": "scatter",
         "x": [
          "Lap 1",
          "Lap 2",
          "Lap 3",
          "Lap 4",
          "Lap 5",
          "Lap 6",
          "Lap 7",
          "Lap 8",
          "Lap 9",
          "Lap 10",
          "Lap 11",
          "Lap 12",
          "Lap 13",
          "Lap 14",
          "Lap 15",
          "Lap 16",
          "Lap 17",
          "Lap 18",
          "Lap 19",
          "Lap 20",
          "Lap 21",
          "Lap 22",
          "Lap 23",
          "Lap 24",
          "Lap 25",
          "Lap 26",
          "Lap 27",
          "Lap 28",
          "Lap 29",
          "Lap 30",
          "Lap 31",
          "Lap 32",
          "Lap 33",
          "Lap 34",
          "Lap 35",
          "Lap 36",
          "Lap 37",
          "Lap 38",
          "Lap 39",
          "Lap 40",
          "Lap 41",
          "Lap 42",
          "Lap 43",
          "Lap 44",
          "Lap 45",
          "Lap 46",
          "Lap 47",
          "Lap 48",
          "Lap 49",
          "Lap 50",
          "Lap 51",
          "Lap 52",
          "Lap 53",
          "Lap 54",
          "Lap 55",
          "Lap 56",
          "Lap 57",
          "Lap 58"
         ],
         "y": [
          98.679,
          92.422,
          91.511,
          91.321,
          91.339,
          90.92,
          90.811,
          91.052,
          90.99,
          90.989,
          90.577,
          90.535,
          90.488,
          90.842,
          90.817,
          90.648,
          90.93,
          90.574,
          90.331,
          90.024,
          89.633,
          89.899,
          89.593,
          89.667,
          89.527,
          89.527,
          89.379,
          89.312,
          89.074,
          89.378,
          89.314,
          89.165,
          89.13,
          88.931,
          90.285,
          117.817,
          116.24,
          90.132,
          88.811,
          89.256,
          90.486,
          89.43,
          88.946,
          89.07,
          89.019,
          88.762,
          89.126,
          89.827,
          88.564,
          89.325,
          88.424,
          102.295,
          133.583,
          152.02,
          145.226,
          119.466,
          88.007,
          87.607
         ]
        }
       ],
       "layout": {
        "template": {
         "data": {
          "bar": [
           {
            "error_x": {
             "color": "#2a3f5f"
            },
            "error_y": {
             "color": "#2a3f5f"
            },
            "marker": {
             "line": {
              "color": "#E5ECF6",
              "width": 0.5
             },
             "pattern": {
              "fillmode": "overlay",
              "size": 10,
              "solidity": 0.2
             }
            },
            "type": "bar"
           }
          ],
          "barpolar": [
           {
            "marker": {
             "line": {
              "color": "#E5ECF6",
              "width": 0.5
             },
             "pattern": {
              "fillmode": "overlay",
              "size": 10,
              "solidity": 0.2
             }
            },
            "type": "barpolar"
           }
          ],
          "carpet": [
           {
            "aaxis": {
             "endlinecolor": "#2a3f5f",
             "gridcolor": "white",
             "linecolor": "white",
             "minorgridcolor": "white",
             "startlinecolor": "#2a3f5f"
            },
            "baxis": {
             "endlinecolor": "#2a3f5f",
             "gridcolor": "white",
             "linecolor": "white",
             "minorgridcolor": "white",
             "startlinecolor": "#2a3f5f"
            },
            "type": "carpet"
           }
          ],
          "choropleth": [
           {
            "colorbar": {
             "outlinewidth": 0,
             "ticks": ""
            },
            "type": "choropleth"
           }
          ],
          "contour": [
           {
            "colorbar": {
             "outlinewidth": 0,
             "ticks": ""
            },
            "colorscale": [
             [
              0,
              "#0d0887"
             ],
             [
              0.1111111111111111,
              "#46039f"
             ],
             [
              0.2222222222222222,
              "#7201a8"
             ],
             [
              0.3333333333333333,
              "#9c179e"
             ],
             [
              0.4444444444444444,
              "#bd3786"
             ],
             [
              0.5555555555555556,
              "#d8576b"
             ],
             [
              0.6666666666666666,
              "#ed7953"
             ],
             [
              0.7777777777777778,
              "#fb9f3a"
             ],
             [
              0.8888888888888888,
              "#fdca26"
             ],
             [
              1,
              "#f0f921"
             ]
            ],
            "type": "contour"
           }
          ],
          "contourcarpet": [
           {
            "colorbar": {
             "outlinewidth": 0,
             "ticks": ""
            },
            "type": "contourcarpet"
           }
          ],
          "heatmap": [
           {
            "colorbar": {
             "outlinewidth": 0,
             "ticks": ""
            },
            "colorscale": [
             [
              0,
              "#0d0887"
             ],
             [
              0.1111111111111111,
              "#46039f"
             ],
             [
              0.2222222222222222,
              "#7201a8"
             ],
             [
              0.3333333333333333,
              "#9c179e"
             ],
             [
              0.4444444444444444,
              "#bd3786"
             ],
             [
              0.5555555555555556,
              "#d8576b"
             ],
             [
              0.6666666666666666,
              "#ed7953"
             ],
             [
              0.7777777777777778,
              "#fb9f3a"
             ],
             [
              0.8888888888888888,
              "#fdca26"
             ],
             [
              1,
              "#f0f921"
             ]
            ],
            "type": "heatmap"
           }
          ],
          "heatmapgl": [
           {
            "colorbar": {
             "outlinewidth": 0,
             "ticks": ""
            },
            "colorscale": [
             [
              0,
              "#0d0887"
             ],
             [
              0.1111111111111111,
              "#46039f"
             ],
             [
              0.2222222222222222,
              "#7201a8"
             ],
             [
              0.3333333333333333,
              "#9c179e"
             ],
             [
              0.4444444444444444,
              "#bd3786"
             ],
             [
              0.5555555555555556,
              "#d8576b"
             ],
             [
              0.6666666666666666,
              "#ed7953"
             ],
             [
              0.7777777777777778,
              "#fb9f3a"
             ],
             [
              0.8888888888888888,
              "#fdca26"
             ],
             [
              1,
              "#f0f921"
             ]
            ],
            "type": "heatmapgl"
           }
          ],
          "histogram": [
           {
            "marker": {
             "pattern": {
              "fillmode": "overlay",
              "size": 10,
              "solidity": 0.2
             }
            },
            "type": "histogram"
           }
          ],
          "histogram2d": [
           {
            "colorbar": {
             "outlinewidth": 0,
             "ticks": ""
            },
            "colorscale": [
             [
              0,
              "#0d0887"
             ],
             [
              0.1111111111111111,
              "#46039f"
             ],
             [
              0.2222222222222222,
              "#7201a8"
             ],
             [
              0.3333333333333333,
              "#9c179e"
             ],
             [
              0.4444444444444444,
              "#bd3786"
             ],
             [
              0.5555555555555556,
              "#d8576b"
             ],
             [
              0.6666666666666666,
              "#ed7953"
             ],
             [
              0.7777777777777778,
              "#fb9f3a"
             ],
             [
              0.8888888888888888,
              "#fdca26"
             ],
             [
              1,
              "#f0f921"
             ]
            ],
            "type": "histogram2d"
           }
          ],
          "histogram2dcontour": [
           {
            "colorbar": {
             "outlinewidth": 0,
             "ticks": ""
            },
            "colorscale": [
             [
              0,
              "#0d0887"
             ],
             [
              0.1111111111111111,
              "#46039f"
             ],
             [
              0.2222222222222222,
              "#7201a8"
             ],
             [
              0.3333333333333333,
              "#9c179e"
             ],
             [
              0.4444444444444444,
              "#bd3786"
             ],
             [
              0.5555555555555556,
              "#d8576b"
             ],
             [
              0.6666666666666666,
              "#ed7953"
             ],
             [
              0.7777777777777778,
              "#fb9f3a"
             ],
             [
              0.8888888888888888,
              "#fdca26"
             ],
             [
              1,
              "#f0f921"
             ]
            ],
            "type": "histogram2dcontour"
           }
          ],
          "mesh3d": [
           {
            "colorbar": {
             "outlinewidth": 0,
             "ticks": ""
            },
            "type": "mesh3d"
           }
          ],
          "parcoords": [
           {
            "line": {
             "colorbar": {
              "outlinewidth": 0,
              "ticks": ""
             }
            },
            "type": "parcoords"
           }
          ],
          "pie": [
           {
            "automargin": true,
            "type": "pie"
           }
          ],
          "scatter": [
           {
            "fillpattern": {
             "fillmode": "overlay",
             "size": 10,
             "solidity": 0.2
            },
            "type": "scatter"
           }
          ],
          "scatter3d": [
           {
            "line": {
             "colorbar": {
              "outlinewidth": 0,
              "ticks": ""
             }
            },
            "marker": {
             "colorbar": {
              "outlinewidth": 0,
              "ticks": ""
             }
            },
            "type": "scatter3d"
           }
          ],
          "scattercarpet": [
           {
            "marker": {
             "colorbar": {
              "outlinewidth": 0,
              "ticks": ""
             }
            },
            "type": "scattercarpet"
           }
          ],
          "scattergeo": [
           {
            "marker": {
             "colorbar": {
              "outlinewidth": 0,
              "ticks": ""
             }
            },
            "type": "scattergeo"
           }
          ],
          "scattergl": [
           {
            "marker": {
             "colorbar": {
              "outlinewidth": 0,
              "ticks": ""
             }
            },
            "type": "scattergl"
           }
          ],
          "scattermapbox": [
           {
            "marker": {
             "colorbar": {
              "outlinewidth": 0,
              "ticks": ""
             }
            },
            "type": "scattermapbox"
           }
          ],
          "scatterpolar": [
           {
            "marker": {
             "colorbar": {
              "outlinewidth": 0,
              "ticks": ""
             }
            },
            "type": "scatterpolar"
           }
          ],
          "scatterpolargl": [
           {
            "marker": {
             "colorbar": {
              "outlinewidth": 0,
              "ticks": ""
             }
            },
            "type": "scatterpolargl"
           }
          ],
          "scatterternary": [
           {
            "marker": {
             "colorbar": {
              "outlinewidth": 0,
              "ticks": ""
             }
            },
            "type": "scatterternary"
           }
          ],
          "surface": [
           {
            "colorbar": {
             "outlinewidth": 0,
             "ticks": ""
            },
            "colorscale": [
             [
              0,
              "#0d0887"
             ],
             [
              0.1111111111111111,
              "#46039f"
             ],
             [
              0.2222222222222222,
              "#7201a8"
             ],
             [
              0.3333333333333333,
              "#9c179e"
             ],
             [
              0.4444444444444444,
              "#bd3786"
             ],
             [
              0.5555555555555556,
              "#d8576b"
             ],
             [
              0.6666666666666666,
              "#ed7953"
             ],
             [
              0.7777777777777778,
              "#fb9f3a"
             ],
             [
              0.8888888888888888,
              "#fdca26"
             ],
             [
              1,
              "#f0f921"
             ]
            ],
            "type": "surface"
           }
          ],
          "table": [
           {
            "cells": {
             "fill": {
              "color": "#EBF0F8"
             },
             "line": {
              "color": "white"
             }
            },
            "header": {
             "fill": {
              "color": "#C8D4E3"
             },
             "line": {
              "color": "white"
             }
            },
            "type": "table"
           }
          ]
         },
         "layout": {
          "annotationdefaults": {
           "arrowcolor": "#2a3f5f",
           "arrowhead": 0,
           "arrowwidth": 1
          },
          "autotypenumbers": "strict",
          "coloraxis": {
           "colorbar": {
            "outlinewidth": 0,
            "ticks": ""
           }
          },
          "colorscale": {
           "diverging": [
            [
             0,
             "#8e0152"
            ],
            [
             0.1,
             "#c51b7d"
            ],
            [
             0.2,
             "#de77ae"
            ],
            [
             0.3,
             "#f1b6da"
            ],
            [
             0.4,
             "#fde0ef"
            ],
            [
             0.5,
             "#f7f7f7"
            ],
            [
             0.6,
             "#e6f5d0"
            ],
            [
             0.7,
             "#b8e186"
            ],
            [
             0.8,
             "#7fbc41"
            ],
            [
             0.9,
             "#4d9221"
            ],
            [
             1,
             "#276419"
            ]
           ],
           "sequential": [
            [
             0,
             "#0d0887"
            ],
            [
             0.1111111111111111,
             "#46039f"
            ],
            [
             0.2222222222222222,
             "#7201a8"
            ],
            [
             0.3333333333333333,
             "#9c179e"
            ],
            [
             0.4444444444444444,
             "#bd3786"
            ],
            [
             0.5555555555555556,
             "#d8576b"
            ],
            [
             0.6666666666666666,
             "#ed7953"
            ],
            [
             0.7777777777777778,
             "#fb9f3a"
            ],
            [
             0.8888888888888888,
             "#fdca26"
            ],
            [
             1,
             "#f0f921"
            ]
           ],
           "sequentialminus": [
            [
             0,
             "#0d0887"
            ],
            [
             0.1111111111111111,
             "#46039f"
            ],
            [
             0.2222222222222222,
             "#7201a8"
            ],
            [
             0.3333333333333333,
             "#9c179e"
            ],
            [
             0.4444444444444444,
             "#bd3786"
            ],
            [
             0.5555555555555556,
             "#d8576b"
            ],
            [
             0.6666666666666666,
             "#ed7953"
            ],
            [
             0.7777777777777778,
             "#fb9f3a"
            ],
            [
             0.8888888888888888,
             "#fdca26"
            ],
            [
             1,
             "#f0f921"
            ]
           ]
          },
          "colorway": [
           "#636efa",
           "#EF553B",
           "#00cc96",
           "#ab63fa",
           "#FFA15A",
           "#19d3f3",
           "#FF6692",
           "#B6E880",
           "#FF97FF",
           "#FECB52"
          ],
          "font": {
           "color": "#2a3f5f"
          },
          "geo": {
           "bgcolor": "white",
           "lakecolor": "white",
           "landcolor": "#E5ECF6",
           "showlakes": true,
           "showland": true,
           "subunitcolor": "white"
          },
          "hoverlabel": {
           "align": "left"
          },
          "hovermode": "closest",
          "mapbox": {
           "style": "light"
          },
          "paper_bgcolor": "white",
          "plot_bgcolor": "#E5ECF6",
          "polar": {
           "angularaxis": {
            "gridcolor": "white",
            "linecolor": "white",
            "ticks": ""
           },
           "bgcolor": "#E5ECF6",
           "radialaxis": {
            "gridcolor": "white",
            "linecolor": "white",
            "ticks": ""
           }
          },
          "scene": {
           "xaxis": {
            "backgroundcolor": "#E5ECF6",
            "gridcolor": "white",
            "gridwidth": 2,
            "linecolor": "white",
            "showbackground": true,
            "ticks": "",
            "zerolinecolor": "white"
           },
           "yaxis": {
            "backgroundcolor": "#E5ECF6",
            "gridcolor": "white",
            "gridwidth": 2,
            "linecolor": "white",
            "showbackground": true,
            "ticks": "",
            "zerolinecolor": "white"
           },
           "zaxis": {
            "backgroundcolor": "#E5ECF6",
            "gridcolor": "white",
            "gridwidth": 2,
            "linecolor": "white",
            "showbackground": true,
            "ticks": "",
            "zerolinecolor": "white"
           }
          },
          "shapedefaults": {
           "line": {
            "color": "#2a3f5f"
           }
          },
          "ternary": {
           "aaxis": {
            "gridcolor": "white",
            "linecolor": "white",
            "ticks": ""
           },
           "baxis": {
            "gridcolor": "white",
            "linecolor": "white",
            "ticks": ""
           },
           "bgcolor": "#E5ECF6",
           "caxis": {
            "gridcolor": "white",
            "linecolor": "white",
            "ticks": ""
           }
          },
          "title": {
           "x": 0.05
          },
          "xaxis": {
           "automargin": true,
           "gridcolor": "white",
           "linecolor": "white",
           "ticks": "",
           "title": {
            "standoff": 15
           },
           "zerolinecolor": "white",
           "zerolinewidth": 2
          },
          "yaxis": {
           "automargin": true,
           "gridcolor": "white",
           "linecolor": "white",
           "ticks": "",
           "title": {
            "standoff": 15
           },
           "zerolinecolor": "white",
           "zerolinewidth": 2
          }
         }
        },
        "title": {
         "text": "Alonso time vs Average Time vs Median Time"
        },
        "yaxis": {
         "type": "log"
        }
       }
      }
     },
     "metadata": {},
     "output_type": "display_data"
    }
   ],
   "source": [
    "average = working_df[1:].mean(axis=0, skipna=True).tolist()\n",
    "median = working_df[1:].median(axis=0, skipna=True).tolist()\n",
    "driver = working_df.loc[working_df['Drivers'] == 'alonso']\n",
    "\n",
    "fig = go.Figure()\n",
    "# Average Line\n",
    "fig.add_trace(go.Line(x=driver.columns[1:].values.flatten().tolist(),y=average, name='Average', mode='lines', line = dict(dash='dash')))\n",
    "fig.add_trace(go.Line(x=driver.columns[1:].values.flatten().tolist(),y=median, name='Median', mode='lines', line = dict(dash='dash')))\n",
    "# Drivers Line\n",
    "fig.add_trace(go.Line(x=driver.columns[1:].values.flatten().tolist(),y=driver.iloc[0].values[1:].flatten().tolist(), name='Alonso'))\n",
    "fig.update_layout(title='Alonso time vs Average Time vs Median Time')\n",
    "fig.update_yaxes(type=\"log\")\n",
    "fig.show()"
   ]
  },
  {
   "cell_type": "markdown",
   "metadata": {},
   "source": [
    "Boxplot that compares all drivers to each other.\n",
    "\n",
    "Each point on a driver is a laptime, showing their range. \n",
    "\n",
    "*   The higher the points, slower the time\n",
    "*   The lower the points, faster the time\n",
    "\n",
    "Each driver is expected to have some outliers due to accidents on track, but its the consistancy of the range that shows how good a driver is.\n",
    "\n",
    "This does not factor in the team of the driver. There are always good and bad teams which is a big factor on how fast a driver is, but is not a big factor in terms of consistancy. They do contribute to a small degree, but this graph does not weight that in\n",
    "\n",
    "Also, the average line is the total lap average across the entire race. Because of this, any accidents that affect lap times will impact the average. For this we used the median"
   ]
  },
  {
   "cell_type": "code",
   "execution_count": 343,
   "metadata": {},
   "outputs": [
    {
     "name": "stderr",
     "output_type": "stream",
     "text": [
      "/var/folders/6v/fdrhmbgd7qnc8g6124nk1_m80000gn/T/ipykernel_79266/369823127.py:1: FutureWarning:\n",
      "\n",
      "The default value of numeric_only in DataFrame.mean is deprecated. In a future version, it will default to False. In addition, specifying 'numeric_only=None' is deprecated. Select only valid columns or specify the value of numeric_only to silence this warning.\n",
      "\n",
      "/var/folders/6v/fdrhmbgd7qnc8g6124nk1_m80000gn/T/ipykernel_79266/369823127.py:4: FutureWarning:\n",
      "\n",
      "The default value of numeric_only in DataFrame.median is deprecated. In a future version, it will default to False. In addition, specifying 'numeric_only=None' is deprecated. Select only valid columns or specify the value of numeric_only to silence this warning.\n",
      "\n"
     ]
    },
    {
     "data": {
      "application/vnd.plotly.v1+json": {
       "config": {
        "plotlyServerURL": "https://plot.ly"
       },
       "data": [
        {
         "marker": {
          "color": "black"
         },
         "name": "Average",
         "type": "box",
         "x": [
          "alonso",
          "bottas",
          "gasly",
          "giovinazzi",
          "hamilton",
          "latifi",
          "leclerc",
          "max_verstappen",
          "mick_schumacher",
          "norris",
          "ocon",
          "perez",
          "raikkonen",
          "ricciardo",
          "russell",
          "sainz",
          "stroll",
          "tsunoda",
          "vettel"
         ],
         "y": [
          94.34571794969314,
          94.34571794969314,
          94.34571794969314,
          94.34571794969314,
          94.34571794969314,
          94.34571794969314,
          94.34571794969314,
          94.34571794969314,
          94.34571794969314,
          94.34571794969314,
          94.34571794969314,
          94.34571794969314,
          94.34571794969314,
          94.34571794969314,
          94.34571794969314,
          94.34571794969314,
          94.34571794969314,
          94.34571794969314,
          94.34571794969314,
          94.34571794969314,
          94.34571794969314,
          94.34571794969314,
          94.34571794969314,
          94.34571794969314,
          94.34571794969314,
          94.34571794969314,
          94.34571794969314,
          94.34571794969314,
          94.34571794969314,
          94.34571794969314,
          94.34571794969314,
          94.34571794969314,
          94.34571794969314,
          94.34571794969314,
          94.34571794969314,
          94.34571794969314,
          94.34571794969314,
          94.34571794969314,
          94.34571794969314,
          94.34571794969314,
          94.34571794969314,
          94.34571794969314,
          94.34571794969314,
          94.34571794969314,
          94.34571794969314,
          94.34571794969314,
          94.34571794969314,
          94.34571794969314,
          94.34571794969314,
          94.34571794969314,
          94.34571794969314,
          94.34571794969314,
          94.34571794969314,
          94.34571794969314,
          94.34571794969314,
          94.34571794969314,
          94.34571794969314,
          94.34571794969314
         ]
        },
        {
         "marker": {
          "color": "black"
         },
         "name": "Median",
         "type": "box",
         "x": [
          "alonso",
          "bottas",
          "gasly",
          "giovinazzi",
          "hamilton",
          "latifi",
          "leclerc",
          "max_verstappen",
          "mick_schumacher",
          "norris",
          "ocon",
          "perez",
          "raikkonen",
          "ricciardo",
          "russell",
          "sainz",
          "stroll",
          "tsunoda",
          "vettel"
         ],
         "y": [
          90.22075,
          90.22075,
          90.22075,
          90.22075,
          90.22075,
          90.22075,
          90.22075,
          90.22075,
          90.22075,
          90.22075,
          90.22075,
          90.22075,
          90.22075,
          90.22075,
          90.22075,
          90.22075,
          90.22075,
          90.22075,
          90.22075,
          90.22075,
          90.22075,
          90.22075,
          90.22075,
          90.22075,
          90.22075,
          90.22075,
          90.22075,
          90.22075,
          90.22075,
          90.22075,
          90.22075,
          90.22075,
          90.22075,
          90.22075,
          90.22075,
          90.22075,
          90.22075,
          90.22075,
          90.22075,
          90.22075,
          90.22075,
          90.22075,
          90.22075,
          90.22075,
          90.22075,
          90.22075,
          90.22075,
          90.22075,
          90.22075,
          90.22075,
          90.22075,
          90.22075,
          90.22075,
          90.22075,
          90.22075,
          90.22075,
          90.22075,
          90.22075
         ]
        },
        {
         "name": "alonso",
         "type": "box",
         "y": [
          98.679,
          92.422,
          91.511,
          91.321,
          91.339,
          90.92,
          90.811,
          91.052,
          90.99,
          90.989,
          90.577,
          90.535,
          90.488,
          90.842,
          90.817,
          90.648,
          90.93,
          90.574,
          90.331,
          90.024,
          89.633,
          89.899,
          89.593,
          89.667,
          89.527,
          89.527,
          89.379,
          89.312,
          89.074,
          89.378,
          89.314,
          89.165,
          89.13,
          88.931,
          90.285,
          117.817,
          116.24,
          90.132,
          88.811,
          89.256,
          90.486,
          89.43,
          88.946,
          89.07,
          89.019,
          88.762,
          89.126,
          89.827,
          88.564,
          89.325,
          88.424,
          102.295,
          133.583,
          152.02,
          145.226,
          119.466,
          88.007,
          87.607
         ]
        },
        {
         "name": "bottas",
         "type": "box",
         "y": [
          97.28,
          91.738,
          90.683,
          90.997,
          90.644,
          90.639,
          90.195,
          90.533,
          90.515,
          90.704,
          90.592,
          90.252,
          90.079,
          90.595,
          91.079,
          89.754,
          89.692,
          89.478,
          89.652,
          89.62,
          89.647,
          89.559,
          89.984,
          89.097,
          88.871,
          89.636,
          88.927,
          89.131,
          89.204,
          90.944,
          110.242,
          88.776,
          88.961,
          87.918,
          93.907,
          114.468,
          101.441,
          87.886,
          87.96,
          88.481,
          88.224,
          88.36,
          88.327,
          88.27,
          87.839,
          88.039,
          87.849,
          88.527,
          87.239,
          87.13,
          86.862,
          88.154,
          118.324,
          115.892,
          107.158,
          139.183,
          139.191,
          90.479
         ]
        },
        {
         "name": "gasly",
         "type": "box",
         "y": [
          99.33,
          92.814,
          91.533,
          91.439,
          91.367,
          90.786,
          90.757,
          91.135,
          91.365,
          90.88,
          90.726,
          90.547,
          90.408,
          90.641,
          90.686,
          90.629,
          90.744,
          90.725,
          90.475,
          89.954,
          89.652,
          89.757,
          89.607,
          89.646,
          90.146,
          89.448,
          89.606,
          89.307,
          89.13,
          89.177,
          89.301,
          89.076,
          89.165,
          88.998,
          92.681,
          114.65,
          116.705,
          89.559,
          89.017,
          89.012,
          88.385,
          88.454,
          88.09,
          88.071,
          87.87,
          87.726,
          87.699,
          87.567,
          87.342,
          87.424,
          87.442,
          95.375,
          113.281,
          110.389,
          120.394,
          122.485,
          136.957,
          88.344
         ]
        },
        {
         "name": "giovinazzi",
         "type": "box",
         "y": [
          99.822,
          93.17,
          91.837,
          91.553,
          91.597,
          91.313,
          90.707,
          91.022,
          91.039,
          91.035,
          90.746,
          90.868,
          90.853,
          90.546,
          90.55,
          90.682,
          92.432,
          111.395,
          89.556,
          90.001,
          90.18,
          90.137,
          90.346,
          91.109,
          89.792,
          90.004,
          89.712,
          90.282,
          89.694,
          89.775,
          89.505,
          89.596,
          89.442,
          null,
          null,
          null,
          null,
          null,
          null,
          null,
          null,
          null,
          null,
          null,
          null,
          null,
          null,
          null,
          null,
          null,
          null,
          null,
          null,
          null,
          null,
          null,
          null,
          null
         ]
        },
        {
         "name": "hamilton",
         "type": "box",
         "y": [
          91.686,
          88.791,
          88.587,
          88.789,
          88.63,
          88.593,
          88.55,
          88.585,
          88.356,
          88.216,
          88.134,
          88.566,
          88.258,
          90.253,
          108.755,
          87.833,
          87.78,
          87.889,
          88.232,
          93.443,
          90.485,
          88.006,
          87.663,
          87.979,
          87.87,
          88.077,
          87.975,
          88.143,
          87.484,
          87.508,
          87.495,
          87.444,
          87.742,
          87.201,
          87.591,
          101.467,
          116.216,
          90.157,
          86.762,
          87.387,
          86.718,
          86.782,
          86.615,
          87.02,
          86.966,
          87.27,
          87.683,
          87.553,
          86.875,
          86.784,
          86.934,
          86.833,
          98.574,
          142.911,
          152.083,
          145.761,
          148.331,
          89.33
         ]
        },
        {
         "name": "latifi",
         "type": "box",
         "y": [
          101.174,
          94.545,
          93.236,
          92.304,
          91.755,
          92.003,
          91.378,
          91.795,
          91.704,
          91.389,
          91.511,
          90.971,
          91.078,
          90.932,
          91.134,
          91.047,
          91.891,
          90.912,
          90.884,
          92.317,
          90.886,
          92.122,
          90.803,
          90.935,
          91.055,
          91.067,
          92.497,
          94.166,
          109.78,
          89.293,
          89.393,
          89.431,
          89.542,
          89.53,
          107.576,
          113.57,
          91.298,
          89.844,
          89.897,
          89.627,
          89.676,
          89.542,
          89.337,
          89.824,
          90.962,
          89.995,
          90.134,
          90.648,
          89.349,
          89.752,
          null,
          null,
          null,
          null,
          null,
          null,
          null,
          null
         ]
        },
        {
         "name": "leclerc",
         "type": "box",
         "y": [
          96.143,
          91.14,
          90.91,
          90.509,
          90.63,
          90.586,
          90.32,
          90.372,
          90.104,
          90.268,
          89.996,
          90.381,
          90.323,
          92.05,
          93.881,
          110.853,
          89.408,
          89.283,
          89.641,
          89.493,
          89.563,
          89.588,
          89.379,
          89.104,
          89.416,
          89.442,
          89.215,
          89.254,
          89.255,
          89.093,
          89.381,
          88.823,
          89.148,
          90.05,
          96.558,
          128.653,
          97.309,
          88.725,
          88.907,
          88.433,
          88.338,
          88.729,
          88.954,
          89.171,
          90.335,
          88.982,
          88.974,
          88.638,
          89.17,
          88.952,
          89.998,
          102.248,
          130.799,
          151.687,
          146.191,
          118.448,
          88.644,
          89.557
         ]
        },
        {
         "name": "max_verstappen",
         "type": "box",
         "y": [
          92.8,
          89.103,
          88.827,
          89.026,
          88.718,
          88.707,
          88.636,
          88.817,
          88.671,
          88.89,
          89.137,
          89.282,
          91.515,
          107.251,
          88.492,
          89.006,
          89.108,
          88.502,
          88.713,
          88.387,
          88.569,
          88.322,
          88.175,
          88.179,
          88.041,
          88.6,
          88.348,
          87.935,
          87.904,
          87.678,
          87.917,
          87.913,
          87.581,
          87.783,
          87.761,
          103.598,
          128.605,
          86.321,
          86.103,
          86.552,
          86.301,
          86.463,
          86.437,
          86.808,
          86.768,
          87.048,
          86.656,
          86.554,
          86.657,
          86.748,
          87.048,
          87.559,
          102.072,
          135.373,
          150.435,
          146.432,
          141.895,
          86.618
         ]
        },
        {
         "name": "mick_schumacher",
         "type": "box",
         "y": [
          102.098,
          94.049,
          93.612,
          92.407,
          91.634,
          92.041,
          91.681,
          92.228,
          91.755,
          93.378,
          110.461,
          90.122,
          90.231,
          90.727,
          90.687,
          90.458,
          90.581,
          90.736,
          90.983,
          90.586,
          90.95,
          90.884,
          90.946,
          90.52,
          90.266,
          90.969,
          90.904,
          90.726,
          90.524,
          92.165,
          92.29,
          90.218,
          90.038,
          90.006,
          106.601,
          115.12,
          92.144,
          89.58,
          89.74,
          89.767,
          89.654,
          89.457,
          89.552,
          89.929,
          91.055,
          90.25,
          90.2,
          89.751,
          89.762,
          89.962,
          90.614,
          116.602,
          131.605,
          104.08,
          138.615,
          139.025,
          91.021,
          null
         ]
        },
        {
         "name": "norris",
         "type": "box",
         "y": [
          95.658,
          90.963,
          90.765,
          90.355,
          90.501,
          90.555,
          90.312,
          90.287,
          90.156,
          90.243,
          90.091,
          90.085,
          90.583,
          90.775,
          90.348,
          90.106,
          92.251,
          110.162,
          90.364,
          89.439,
          89.907,
          89.206,
          89.446,
          89.295,
          89.272,
          89.352,
          89.183,
          89.164,
          89.208,
          89.095,
          89.137,
          89.091,
          88.826,
          88.801,
          93.466,
          115.172,
          101.894,
          88.467,
          88.43,
          88.446,
          88.289,
          88.388,
          88.178,
          88.148,
          88.008,
          88.059,
          87.953,
          89.996,
          108.028,
          86.847,
          87.227,
          94.458,
          143.485,
          152.14,
          145.212,
          119.05,
          87.46,
          86.762
         ]
        },
        {
         "name": "ocon",
         "type": "box",
         "y": [
          97.772,
          92.085,
          90.852,
          91.193,
          90.854,
          90.881,
          90.764,
          90.631,
          90.719,
          90.572,
          90.665,
          90.742,
          90.861,
          91.166,
          93.316,
          109.514,
          90.024,
          89.874,
          90.258,
          89.341,
          89.85,
          89.479,
          89.303,
          89.599,
          89.631,
          89.475,
          89.351,
          89.556,
          88.992,
          88.878,
          89.321,
          89.06,
          89.03,
          89.181,
          95.55,
          116.756,
          98.906,
          89.65,
          89.619,
          88.939,
          89.15,
          89.401,
          89.096,
          89.164,
          88.96,
          89.012,
          90.034,
          88.661,
          89.538,
          88.643,
          88.665,
          102.136,
          133.376,
          151.544,
          146.235,
          118.878,
          88.419,
          88.249
         ]
        },
        {
         "name": "perez",
         "type": "box",
         "y": [
          93.756,
          89.507,
          89.273,
          88.902,
          89.249,
          89.239,
          89.022,
          88.94,
          89.063,
          88.937,
          88.886,
          89.165,
          89.267,
          89.392,
          89.581,
          89.683,
          89.967,
          90.588,
          91.034,
          94.359,
          96.824,
          108.764,
          88.513,
          88.605,
          87.725,
          88.313,
          88.051,
          87.962,
          87.978,
          88.339,
          87.95,
          87.82,
          87.96,
          87.306,
          87.423,
          112.799,
          119.707,
          86.75,
          86.58,
          86.643,
          86.661,
          87.04,
          86.596,
          86.914,
          88.217,
          87.028,
          86.642,
          86.429,
          86.507,
          86.428,
          86.419,
          86.529,
          107.607,
          126.894,
          136.838,
          null,
          null,
          null
         ]
        },
        {
         "name": "raikkonen",
         "type": "box",
         "y": [
          101.61,
          93.319,
          91.945,
          92.23,
          91.984,
          91.868,
          91.35,
          91.42,
          91.363,
          90.74,
          90.931,
          90.807,
          91.086,
          90.753,
          90.604,
          90.478,
          90.312,
          90.426,
          90.68,
          91.11,
          93.951,
          110.722,
          89.698,
          91.307,
          142.917,
          null,
          null,
          null,
          null,
          null,
          null,
          null,
          null,
          null,
          null,
          null,
          null,
          null,
          null,
          null,
          null,
          null,
          null,
          null,
          null,
          null,
          null,
          null,
          null,
          null,
          null,
          null,
          null,
          null,
          null,
          null,
          null,
          null
         ]
        },
        {
         "name": "ricciardo",
         "type": "box",
         "y": [
          98.267,
          92.138,
          91.096,
          91.26,
          91.06,
          90.776,
          91.021,
          90.954,
          90.509,
          90.658,
          90.714,
          90.668,
          91.229,
          91.146,
          90.859,
          90.661,
          90.828,
          92.751,
          110.014,
          89.33,
          90.116,
          89.051,
          89.548,
          89.398,
          89.479,
          89.253,
          89.289,
          89.165,
          89.168,
          89.29,
          89.232,
          88.88,
          89.042,
          88.817,
          97.126,
          114.231,
          98.7,
          89.066,
          89.466,
          88.879,
          89.022,
          89.406,
          89.274,
          89.077,
          88.968,
          90.342,
          88.854,
          88.723,
          89.261,
          88.801,
          88.742,
          104.016,
          136.464,
          150.528,
          144.782,
          142.051,
          89.48,
          null
         ]
        },
        {
         "name": "russell",
         "type": "box",
         "y": [
          102.644,
          94.186,
          93.882,
          92.609,
          91.678,
          92.508,
          91.589,
          92.193,
          91.554,
          91.631,
          90.793,
          90.957,
          91.068,
          90.768,
          90.853,
          91.729,
          91.206,
          92.536,
          91.252,
          92.053,
          91.065,
          90.821,
          90.647,
          91.577,
          92.794,
          166.262,
          null,
          null,
          null,
          null,
          null,
          null,
          null,
          null,
          null,
          null,
          null,
          null,
          null,
          null,
          null,
          null,
          null,
          null,
          null,
          null,
          null,
          null,
          null,
          null,
          null,
          null,
          null,
          null,
          null,
          null,
          null,
          null
         ]
        },
        {
         "name": "sainz",
         "type": "box",
         "y": [
          94.819,
          90.325,
          90.155,
          90.356,
          90.387,
          90.329,
          90.316,
          90.255,
          90.165,
          90.174,
          89.8,
          89.772,
          89.801,
          89.591,
          89.938,
          89.591,
          89.311,
          90.907,
          92.384,
          110.428,
          89.752,
          89.803,
          89.736,
          89.576,
          89.61,
          89.505,
          89.666,
          89.719,
          89.259,
          89.121,
          89.391,
          89.116,
          89.158,
          88.828,
          93.791,
          115.364,
          101.553,
          88.292,
          88.384,
          88.325,
          88.279,
          88.037,
          88.178,
          87.643,
          87.929,
          87.674,
          87.797,
          87.629,
          87.732,
          87.639,
          87.618,
          89.182,
          116.967,
          118.467,
          107.011,
          139.106,
          139.998,
          88.879
         ]
        },
        {
         "name": "stroll",
         "type": "box",
         "y": [
          100.334,
          93.222,
          91.943,
          91.871,
          93.084,
          91.59,
          91.07,
          91.007,
          91.086,
          91.052,
          90.743,
          90.858,
          90.581,
          90.622,
          90.446,
          90.827,
          90.519,
          90.369,
          90.283,
          90.802,
          92.575,
          110.845,
          89.676,
          89.839,
          89.997,
          89.954,
          89.924,
          90.847,
          89.324,
          89.439,
          89.394,
          89.409,
          89.386,
          89.223,
          101.827,
          114.796,
          93.421,
          91.164,
          88.946,
          89.075,
          88.994,
          88.649,
          88.807,
          90.394,
          88.776,
          88.789,
          88.768,
          88.567,
          88.709,
          89.008,
          88.594,
          105.169,
          132.355,
          139.167,
          145.787,
          141.035,
          92.389,
          null
         ]
        },
        {
         "name": "tsunoda",
         "type": "box",
         "y": [
          96.6,
          91.494,
          90.811,
          90.654,
          90.823,
          90.541,
          90.284,
          90.458,
          90.379,
          90.322,
          90.137,
          90.507,
          89.972,
          91.597,
          90.054,
          90.114,
          89.84,
          89.674,
          89.554,
          89.632,
          89.752,
          89.698,
          91.844,
          111.159,
          89.3,
          89.623,
          89.691,
          88.991,
          89.106,
          89.055,
          89.756,
          89.191,
          89.138,
          89.017,
          96.429,
          113.58,
          103.377,
          88.306,
          88.436,
          88.368,
          88.346,
          88.227,
          88.195,
          87.993,
          87.969,
          87.89,
          87.732,
          87.661,
          87.581,
          87.496,
          87.535,
          92.276,
          115.178,
          114.46,
          103.335,
          137.844,
          138.101,
          87.954
         ]
        },
        {
         "name": "vettel",
         "type": "box",
         "y": [
          100.689,
          93.38,
          91.953,
          92.027,
          91.23,
          91.316,
          90.715,
          90.942,
          91.124,
          90.955,
          90.86,
          90.733,
          90.717,
          90.495,
          90.748,
          90.595,
          90.31,
          90.16,
          90.25,
          90.805,
          90.563,
          90.092,
          92.019,
          110.219,
          90.202,
          89.791,
          90.894,
          89.829,
          89.516,
          89.596,
          89.471,
          89.643,
          89.421,
          88.556,
          100.559,
          115.562,
          94.318,
          88.764,
          90.706,
          88.783,
          88.77,
          88.699,
          88.69,
          88.619,
          88.601,
          90.388,
          88.503,
          88.326,
          88.345,
          88.332,
          88.353,
          101.212,
          125.983,
          150.524,
          146.006,
          120.34,
          88.37,
          88.303
         ]
        }
       ],
       "layout": {
        "template": {
         "data": {
          "bar": [
           {
            "error_x": {
             "color": "#2a3f5f"
            },
            "error_y": {
             "color": "#2a3f5f"
            },
            "marker": {
             "line": {
              "color": "#E5ECF6",
              "width": 0.5
             },
             "pattern": {
              "fillmode": "overlay",
              "size": 10,
              "solidity": 0.2
             }
            },
            "type": "bar"
           }
          ],
          "barpolar": [
           {
            "marker": {
             "line": {
              "color": "#E5ECF6",
              "width": 0.5
             },
             "pattern": {
              "fillmode": "overlay",
              "size": 10,
              "solidity": 0.2
             }
            },
            "type": "barpolar"
           }
          ],
          "carpet": [
           {
            "aaxis": {
             "endlinecolor": "#2a3f5f",
             "gridcolor": "white",
             "linecolor": "white",
             "minorgridcolor": "white",
             "startlinecolor": "#2a3f5f"
            },
            "baxis": {
             "endlinecolor": "#2a3f5f",
             "gridcolor": "white",
             "linecolor": "white",
             "minorgridcolor": "white",
             "startlinecolor": "#2a3f5f"
            },
            "type": "carpet"
           }
          ],
          "choropleth": [
           {
            "colorbar": {
             "outlinewidth": 0,
             "ticks": ""
            },
            "type": "choropleth"
           }
          ],
          "contour": [
           {
            "colorbar": {
             "outlinewidth": 0,
             "ticks": ""
            },
            "colorscale": [
             [
              0,
              "#0d0887"
             ],
             [
              0.1111111111111111,
              "#46039f"
             ],
             [
              0.2222222222222222,
              "#7201a8"
             ],
             [
              0.3333333333333333,
              "#9c179e"
             ],
             [
              0.4444444444444444,
              "#bd3786"
             ],
             [
              0.5555555555555556,
              "#d8576b"
             ],
             [
              0.6666666666666666,
              "#ed7953"
             ],
             [
              0.7777777777777778,
              "#fb9f3a"
             ],
             [
              0.8888888888888888,
              "#fdca26"
             ],
             [
              1,
              "#f0f921"
             ]
            ],
            "type": "contour"
           }
          ],
          "contourcarpet": [
           {
            "colorbar": {
             "outlinewidth": 0,
             "ticks": ""
            },
            "type": "contourcarpet"
           }
          ],
          "heatmap": [
           {
            "colorbar": {
             "outlinewidth": 0,
             "ticks": ""
            },
            "colorscale": [
             [
              0,
              "#0d0887"
             ],
             [
              0.1111111111111111,
              "#46039f"
             ],
             [
              0.2222222222222222,
              "#7201a8"
             ],
             [
              0.3333333333333333,
              "#9c179e"
             ],
             [
              0.4444444444444444,
              "#bd3786"
             ],
             [
              0.5555555555555556,
              "#d8576b"
             ],
             [
              0.6666666666666666,
              "#ed7953"
             ],
             [
              0.7777777777777778,
              "#fb9f3a"
             ],
             [
              0.8888888888888888,
              "#fdca26"
             ],
             [
              1,
              "#f0f921"
             ]
            ],
            "type": "heatmap"
           }
          ],
          "heatmapgl": [
           {
            "colorbar": {
             "outlinewidth": 0,
             "ticks": ""
            },
            "colorscale": [
             [
              0,
              "#0d0887"
             ],
             [
              0.1111111111111111,
              "#46039f"
             ],
             [
              0.2222222222222222,
              "#7201a8"
             ],
             [
              0.3333333333333333,
              "#9c179e"
             ],
             [
              0.4444444444444444,
              "#bd3786"
             ],
             [
              0.5555555555555556,
              "#d8576b"
             ],
             [
              0.6666666666666666,
              "#ed7953"
             ],
             [
              0.7777777777777778,
              "#fb9f3a"
             ],
             [
              0.8888888888888888,
              "#fdca26"
             ],
             [
              1,
              "#f0f921"
             ]
            ],
            "type": "heatmapgl"
           }
          ],
          "histogram": [
           {
            "marker": {
             "pattern": {
              "fillmode": "overlay",
              "size": 10,
              "solidity": 0.2
             }
            },
            "type": "histogram"
           }
          ],
          "histogram2d": [
           {
            "colorbar": {
             "outlinewidth": 0,
             "ticks": ""
            },
            "colorscale": [
             [
              0,
              "#0d0887"
             ],
             [
              0.1111111111111111,
              "#46039f"
             ],
             [
              0.2222222222222222,
              "#7201a8"
             ],
             [
              0.3333333333333333,
              "#9c179e"
             ],
             [
              0.4444444444444444,
              "#bd3786"
             ],
             [
              0.5555555555555556,
              "#d8576b"
             ],
             [
              0.6666666666666666,
              "#ed7953"
             ],
             [
              0.7777777777777778,
              "#fb9f3a"
             ],
             [
              0.8888888888888888,
              "#fdca26"
             ],
             [
              1,
              "#f0f921"
             ]
            ],
            "type": "histogram2d"
           }
          ],
          "histogram2dcontour": [
           {
            "colorbar": {
             "outlinewidth": 0,
             "ticks": ""
            },
            "colorscale": [
             [
              0,
              "#0d0887"
             ],
             [
              0.1111111111111111,
              "#46039f"
             ],
             [
              0.2222222222222222,
              "#7201a8"
             ],
             [
              0.3333333333333333,
              "#9c179e"
             ],
             [
              0.4444444444444444,
              "#bd3786"
             ],
             [
              0.5555555555555556,
              "#d8576b"
             ],
             [
              0.6666666666666666,
              "#ed7953"
             ],
             [
              0.7777777777777778,
              "#fb9f3a"
             ],
             [
              0.8888888888888888,
              "#fdca26"
             ],
             [
              1,
              "#f0f921"
             ]
            ],
            "type": "histogram2dcontour"
           }
          ],
          "mesh3d": [
           {
            "colorbar": {
             "outlinewidth": 0,
             "ticks": ""
            },
            "type": "mesh3d"
           }
          ],
          "parcoords": [
           {
            "line": {
             "colorbar": {
              "outlinewidth": 0,
              "ticks": ""
             }
            },
            "type": "parcoords"
           }
          ],
          "pie": [
           {
            "automargin": true,
            "type": "pie"
           }
          ],
          "scatter": [
           {
            "fillpattern": {
             "fillmode": "overlay",
             "size": 10,
             "solidity": 0.2
            },
            "type": "scatter"
           }
          ],
          "scatter3d": [
           {
            "line": {
             "colorbar": {
              "outlinewidth": 0,
              "ticks": ""
             }
            },
            "marker": {
             "colorbar": {
              "outlinewidth": 0,
              "ticks": ""
             }
            },
            "type": "scatter3d"
           }
          ],
          "scattercarpet": [
           {
            "marker": {
             "colorbar": {
              "outlinewidth": 0,
              "ticks": ""
             }
            },
            "type": "scattercarpet"
           }
          ],
          "scattergeo": [
           {
            "marker": {
             "colorbar": {
              "outlinewidth": 0,
              "ticks": ""
             }
            },
            "type": "scattergeo"
           }
          ],
          "scattergl": [
           {
            "marker": {
             "colorbar": {
              "outlinewidth": 0,
              "ticks": ""
             }
            },
            "type": "scattergl"
           }
          ],
          "scattermapbox": [
           {
            "marker": {
             "colorbar": {
              "outlinewidth": 0,
              "ticks": ""
             }
            },
            "type": "scattermapbox"
           }
          ],
          "scatterpolar": [
           {
            "marker": {
             "colorbar": {
              "outlinewidth": 0,
              "ticks": ""
             }
            },
            "type": "scatterpolar"
           }
          ],
          "scatterpolargl": [
           {
            "marker": {
             "colorbar": {
              "outlinewidth": 0,
              "ticks": ""
             }
            },
            "type": "scatterpolargl"
           }
          ],
          "scatterternary": [
           {
            "marker": {
             "colorbar": {
              "outlinewidth": 0,
              "ticks": ""
             }
            },
            "type": "scatterternary"
           }
          ],
          "surface": [
           {
            "colorbar": {
             "outlinewidth": 0,
             "ticks": ""
            },
            "colorscale": [
             [
              0,
              "#0d0887"
             ],
             [
              0.1111111111111111,
              "#46039f"
             ],
             [
              0.2222222222222222,
              "#7201a8"
             ],
             [
              0.3333333333333333,
              "#9c179e"
             ],
             [
              0.4444444444444444,
              "#bd3786"
             ],
             [
              0.5555555555555556,
              "#d8576b"
             ],
             [
              0.6666666666666666,
              "#ed7953"
             ],
             [
              0.7777777777777778,
              "#fb9f3a"
             ],
             [
              0.8888888888888888,
              "#fdca26"
             ],
             [
              1,
              "#f0f921"
             ]
            ],
            "type": "surface"
           }
          ],
          "table": [
           {
            "cells": {
             "fill": {
              "color": "#EBF0F8"
             },
             "line": {
              "color": "white"
             }
            },
            "header": {
             "fill": {
              "color": "#C8D4E3"
             },
             "line": {
              "color": "white"
             }
            },
            "type": "table"
           }
          ]
         },
         "layout": {
          "annotationdefaults": {
           "arrowcolor": "#2a3f5f",
           "arrowhead": 0,
           "arrowwidth": 1
          },
          "autotypenumbers": "strict",
          "coloraxis": {
           "colorbar": {
            "outlinewidth": 0,
            "ticks": ""
           }
          },
          "colorscale": {
           "diverging": [
            [
             0,
             "#8e0152"
            ],
            [
             0.1,
             "#c51b7d"
            ],
            [
             0.2,
             "#de77ae"
            ],
            [
             0.3,
             "#f1b6da"
            ],
            [
             0.4,
             "#fde0ef"
            ],
            [
             0.5,
             "#f7f7f7"
            ],
            [
             0.6,
             "#e6f5d0"
            ],
            [
             0.7,
             "#b8e186"
            ],
            [
             0.8,
             "#7fbc41"
            ],
            [
             0.9,
             "#4d9221"
            ],
            [
             1,
             "#276419"
            ]
           ],
           "sequential": [
            [
             0,
             "#0d0887"
            ],
            [
             0.1111111111111111,
             "#46039f"
            ],
            [
             0.2222222222222222,
             "#7201a8"
            ],
            [
             0.3333333333333333,
             "#9c179e"
            ],
            [
             0.4444444444444444,
             "#bd3786"
            ],
            [
             0.5555555555555556,
             "#d8576b"
            ],
            [
             0.6666666666666666,
             "#ed7953"
            ],
            [
             0.7777777777777778,
             "#fb9f3a"
            ],
            [
             0.8888888888888888,
             "#fdca26"
            ],
            [
             1,
             "#f0f921"
            ]
           ],
           "sequentialminus": [
            [
             0,
             "#0d0887"
            ],
            [
             0.1111111111111111,
             "#46039f"
            ],
            [
             0.2222222222222222,
             "#7201a8"
            ],
            [
             0.3333333333333333,
             "#9c179e"
            ],
            [
             0.4444444444444444,
             "#bd3786"
            ],
            [
             0.5555555555555556,
             "#d8576b"
            ],
            [
             0.6666666666666666,
             "#ed7953"
            ],
            [
             0.7777777777777778,
             "#fb9f3a"
            ],
            [
             0.8888888888888888,
             "#fdca26"
            ],
            [
             1,
             "#f0f921"
            ]
           ]
          },
          "colorway": [
           "#636efa",
           "#EF553B",
           "#00cc96",
           "#ab63fa",
           "#FFA15A",
           "#19d3f3",
           "#FF6692",
           "#B6E880",
           "#FF97FF",
           "#FECB52"
          ],
          "font": {
           "color": "#2a3f5f"
          },
          "geo": {
           "bgcolor": "white",
           "lakecolor": "white",
           "landcolor": "#E5ECF6",
           "showlakes": true,
           "showland": true,
           "subunitcolor": "white"
          },
          "hoverlabel": {
           "align": "left"
          },
          "hovermode": "closest",
          "mapbox": {
           "style": "light"
          },
          "paper_bgcolor": "white",
          "plot_bgcolor": "#E5ECF6",
          "polar": {
           "angularaxis": {
            "gridcolor": "white",
            "linecolor": "white",
            "ticks": ""
           },
           "bgcolor": "#E5ECF6",
           "radialaxis": {
            "gridcolor": "white",
            "linecolor": "white",
            "ticks": ""
           }
          },
          "scene": {
           "xaxis": {
            "backgroundcolor": "#E5ECF6",
            "gridcolor": "white",
            "gridwidth": 2,
            "linecolor": "white",
            "showbackground": true,
            "ticks": "",
            "zerolinecolor": "white"
           },
           "yaxis": {
            "backgroundcolor": "#E5ECF6",
            "gridcolor": "white",
            "gridwidth": 2,
            "linecolor": "white",
            "showbackground": true,
            "ticks": "",
            "zerolinecolor": "white"
           },
           "zaxis": {
            "backgroundcolor": "#E5ECF6",
            "gridcolor": "white",
            "gridwidth": 2,
            "linecolor": "white",
            "showbackground": true,
            "ticks": "",
            "zerolinecolor": "white"
           }
          },
          "shapedefaults": {
           "line": {
            "color": "#2a3f5f"
           }
          },
          "ternary": {
           "aaxis": {
            "gridcolor": "white",
            "linecolor": "white",
            "ticks": ""
           },
           "baxis": {
            "gridcolor": "white",
            "linecolor": "white",
            "ticks": ""
           },
           "bgcolor": "#E5ECF6",
           "caxis": {
            "gridcolor": "white",
            "linecolor": "white",
            "ticks": ""
           }
          },
          "title": {
           "x": 0.05
          },
          "xaxis": {
           "automargin": true,
           "gridcolor": "white",
           "linecolor": "white",
           "ticks": "",
           "title": {
            "standoff": 15
           },
           "zerolinecolor": "white",
           "zerolinewidth": 2
          },
          "yaxis": {
           "automargin": true,
           "gridcolor": "white",
           "linecolor": "white",
           "ticks": "",
           "title": {
            "standoff": 15
           },
           "zerolinecolor": "white",
           "zerolinewidth": 2
          }
         }
        },
        "yaxis": {
         "type": "log"
        }
       }
      }
     },
     "metadata": {},
     "output_type": "display_data"
    }
   ],
   "source": [
    "average = working_df[1:].mean(axis=0, skipna=True).tolist()\n",
    "average_list = []\n",
    "for _ in range(len(average)): average_list.append(statistics.mean(average))\n",
    "median = working_df[1:].median(axis=0, skipna=True).tolist()\n",
    "median_list = []\n",
    "for _ in range(len(median)): median_list.append(statistics.median(median))\n",
    "\n",
    "fig = go.Figure()\n",
    "fig.add_trace(go.Box(x=drivers,y=average_list, name='Average',marker_color = 'black'))\n",
    "fig.add_trace(go.Box(x=drivers,y=median_list, name='Median',marker_color = 'black'))\n",
    "for driver in drivers:\n",
    "    temp = working_df.loc[working_df['Drivers'] == driver]\n",
    "    lap_time = temp.iloc[0].values[1:].flatten().tolist()\n",
    "    fig.add_trace(go.Box(y=lap_time, name=driver))\n",
    "fig.update_yaxes(type=\"log\")\n",
    "fig.show()"
   ]
  },
  {
   "cell_type": "markdown",
   "metadata": {},
   "source": [
    "Getting a Consistancy Score\n",
    "\n",
    "*   One score based upon the average\n",
    "*   One score based upon the median"
   ]
  },
  {
   "cell_type": "code",
   "execution_count": 344,
   "metadata": {},
   "outputs": [],
   "source": [
    "def sort_scores(score_list):\n",
    "    cleaned_list = []\n",
    "    nan_list = []\n",
    "    \n",
    "    for score in score_list:\n",
    "        if str(score[0]) != 'nan':\n",
    "            cleaned_list.append(score)\n",
    "        else:\n",
    "            nan_list.append(score)\n",
    "    \n",
    "    cleaned_list = sorted(cleaned_list,key=lambda x: x[0], reverse=True)\n",
    "    if cleaned_list[-1][0] < 0:\n",
    "        diff = round(abs(cleaned_list[-1][0])+cleaned_list[0][0],5)\n",
    "    else:\n",
    "        diff = round(abs(cleaned_list[-1][0]-cleaned_list[0][0]),5)\n",
    "    cleaned_list.extend(nan_list)\n",
    "    return [cleaned_list,diff]"
   ]
  },
  {
   "cell_type": "code",
   "execution_count": 345,
   "metadata": {},
   "outputs": [
    {
     "name": "stdout",
     "output_type": "stream",
     "text": [
      "Drivers                  Range: 90.36525       Range: 90.82972       \n",
      "max_verstappen           Avg:   84.56255       Med:   51.73298       \n",
      "hamilton                 Avg:   84.02651       Med:   51.31142       \n",
      "sainz                    Avg:   53.66626       Med:   20.66184       \n",
      "bottas                   Avg:   50.53349       Med:   17.50519       \n",
      "tsunoda                  Avg:   50.03063       Med:   16.949         \n",
      "gasly                    Avg:   46.5638        Med:   13.53458       \n",
      "norris                   Avg:   10.82656       Med:   -22.47332      \n",
      "alonso                   Avg:   4.30588        Med:   -29.00701      \n",
      "leclerc                  Avg:   0.88335        Med:   -32.43202      \n",
      "ocon                     Avg:   0.49227        Med:   -32.82262      \n",
      "vettel                   Avg:   -5.80271       Med:   -39.09674      \n",
      "giovinazzi               Avg:   nan            Med:   nan            \n",
      "latifi                   Avg:   nan            Med:   nan            \n",
      "mick_schumacher          Avg:   nan            Med:   nan            \n",
      "perez                    Avg:   nan            Med:   nan            \n",
      "raikkonen                Avg:   nan            Med:   nan            \n",
      "ricciardo                Avg:   nan            Med:   nan            \n",
      "russell                  Avg:   nan            Med:   nan            \n",
      "stroll                   Avg:   nan            Med:   nan            \n"
     ]
    }
   ],
   "source": [
    "average_total = []\n",
    "median_total = []\n",
    "\n",
    "for driver in drivers:\n",
    "    score_avg = 0\n",
    "    score_med = 0\n",
    "    driver_row = working_df.loc[working_df['Drivers'] == driver]\n",
    "    for lap in driver_row.columns[1:]:\n",
    "        score_avg += percent_difference(driver_row[lap].values[0],working_df[lap].mean())\n",
    "        score_med += percent_difference(driver_row[lap].values[0],working_df[lap].median())\n",
    "    average_total.append((score_avg,driver))\n",
    "    median_total.append((score_med,driver))\n",
    "\n",
    "average_total, avg_diff = sort_scores(average_total)\n",
    "median_total, med_diff = sort_scores(median_total)\n",
    "\n",
    "print(f'{\"Drivers\": <25}Range: {avg_diff: <15}Range: {med_diff: <15}')\n",
    "for driver in range(len(average_total)):\n",
    "    print(f'{average_total[driver][1]: <25}Avg:   {round(average_total[driver][0],5): <15}Med:   {round(median_total[driver][0],5): <15}')\n"
   ]
  }
 ],
 "metadata": {
  "kernelspec": {
   "display_name": "Python 3.10.6 ('env')",
   "language": "python",
   "name": "python3"
  },
  "language_info": {
   "codemirror_mode": {
    "name": "ipython",
    "version": 3
   },
   "file_extension": ".py",
   "mimetype": "text/x-python",
   "name": "python",
   "nbconvert_exporter": "python",
   "pygments_lexer": "ipython3",
   "version": "3.10.6"
  },
  "orig_nbformat": 4,
  "vscode": {
   "interpreter": {
    "hash": "09f3d8eecba84f2f4202d253b4adc6714ee8a6f39a500ddef9e175895c02c813"
   }
  }
 },
 "nbformat": 4,
 "nbformat_minor": 2
}
