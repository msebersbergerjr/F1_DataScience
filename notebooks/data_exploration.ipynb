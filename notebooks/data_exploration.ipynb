{
 "cells": [
  {
   "cell_type": "code",
   "execution_count": 81,
   "metadata": {},
   "outputs": [],
   "source": [
    "import pandas as pd\n",
    "import json\n",
    "from pathlib import Path\n",
    "from datetime import datetime\n",
    "import plotly.graph_objects as go\n",
    "import statistics"
   ]
  },
  {
   "cell_type": "code",
   "execution_count": 82,
   "metadata": {},
   "outputs": [],
   "source": [
    "# Takes a string lap time and converts it to a nanosecond equivalent\n",
    "def time_to_nanoseconds(raw_time):\n",
    "    try:\n",
    "        dirty = datetime.strptime(raw_time, '%M:%S.%f').time()\n",
    "        #clean = timedelta(minutes=dirty.minute, seconds=dirty.second, microseconds=dirty.microsecond)\n",
    "        nanoseconds = (dirty.minute*6e10)+(dirty.second*1e9)+(dirty.microsecond*1e3)\n",
    "        #nanoseconds = (dirty.microsecond*1000)\n",
    "        return nanoseconds/1e9\n",
    "    # Catch NaaN\n",
    "    except:\n",
    "        pass\n",
    "    try:\n",
    "        dirty = datetime.strptime(raw_time, '%I:%M:%S.%f').time()\n",
    "        return None\n",
    "    except:\n",
    "        return raw_time"
   ]
  },
  {
   "cell_type": "code",
   "execution_count": 83,
   "metadata": {},
   "outputs": [],
   "source": [
    "# find percent different between driver time and median time\n",
    "def percent_difference(driver_time,median_time):\n",
    "    diff = abs((driver_time - median_time)/((driver_time + median_time)/2))*100\n",
    "    if driver_time > median_time:\n",
    "        return -abs(diff)\n",
    "    return diff"
   ]
  },
  {
   "cell_type": "markdown",
   "metadata": {},
   "source": [
    "Pulled from data_cleaning.ipynb\n",
    "Creates two data frames\n",
    "\n",
    "original_df = holds drivers and laps in time format\n",
    "working_df = converts driver times to nanosecond equivalents for graphing and math purposes"
   ]
  },
  {
   "cell_type": "code",
   "execution_count": 84,
   "metadata": {},
   "outputs": [],
   "source": [
    "filepath = Path('../data/races/2012/1.json')\n",
    "with open(filepath, 'r', encoding='utf-8') as infile: jsondata = json.load(infile)\n",
    "\n",
    "# Gets list of all drivers at the start of the race, sorts them alphabetically\n",
    "drivers = []\n",
    "for driver in jsondata['Laps'][0]['Timings']:\n",
    "    drivers.append(driver['driverId'])\n",
    "\n",
    "drivers.sort()\n",
    "\n",
    "# Create original dataframe which just holds a column of the drivers\n",
    "original_df = pd.DataFrame()\n",
    "original_df['Drivers'] = drivers\n",
    "\n",
    "# Goes through a race.json and adds the times for all laps per driver\n",
    "for lap in jsondata['Laps']:\n",
    "    lap_data = []\n",
    "    \n",
    "    for _ in range(0, len(drivers)):\n",
    "        try:\n",
    "            driver = next(item for item in lap['Timings'] if item['driverId']==drivers[_])\n",
    "            # Create a tuple of driver and lap time\n",
    "            lap_data.append([driver['driverId'],driver['time']])\n",
    "        except:\n",
    "            lap_data.append([drivers[_],None])\n",
    "\n",
    "    # Sort it so it matches the rows\n",
    "    lap_data.sort(key = lambda x: x[0])\n",
    "    # Add new column of lap time\n",
    "    time_list = list(list(zip(*lap_data))[1])\n",
    "    original_df[f\"Lap {lap['number']}\"] = time_list\n"
   ]
  },
  {
   "cell_type": "markdown",
   "metadata": {},
   "source": [
    "Create Working DF"
   ]
  },
  {
   "cell_type": "code",
   "execution_count": 85,
   "metadata": {},
   "outputs": [
    {
     "data": {
      "text/html": [
       "<div>\n",
       "<style scoped>\n",
       "    .dataframe tbody tr th:only-of-type {\n",
       "        vertical-align: middle;\n",
       "    }\n",
       "\n",
       "    .dataframe tbody tr th {\n",
       "        vertical-align: top;\n",
       "    }\n",
       "\n",
       "    .dataframe thead th {\n",
       "        text-align: right;\n",
       "    }\n",
       "</style>\n",
       "<table border=\"1\" class=\"dataframe\">\n",
       "  <thead>\n",
       "    <tr style=\"text-align: right;\">\n",
       "      <th></th>\n",
       "      <th>Drivers</th>\n",
       "      <th>Lap 1</th>\n",
       "      <th>Lap 2</th>\n",
       "      <th>Lap 3</th>\n",
       "      <th>Lap 4</th>\n",
       "      <th>Lap 5</th>\n",
       "      <th>Lap 6</th>\n",
       "      <th>Lap 7</th>\n",
       "      <th>Lap 8</th>\n",
       "      <th>Lap 9</th>\n",
       "      <th>...</th>\n",
       "      <th>Lap 49</th>\n",
       "      <th>Lap 50</th>\n",
       "      <th>Lap 51</th>\n",
       "      <th>Lap 52</th>\n",
       "      <th>Lap 53</th>\n",
       "      <th>Lap 54</th>\n",
       "      <th>Lap 55</th>\n",
       "      <th>Lap 56</th>\n",
       "      <th>Lap 57</th>\n",
       "      <th>Lap 58</th>\n",
       "    </tr>\n",
       "  </thead>\n",
       "  <tbody>\n",
       "    <tr>\n",
       "      <th>0</th>\n",
       "      <td>alonso</td>\n",
       "      <td>1:44.733</td>\n",
       "      <td>1:35.866</td>\n",
       "      <td>1:34.081</td>\n",
       "      <td>1:34.186</td>\n",
       "      <td>1:34.220</td>\n",
       "      <td>1:35.651</td>\n",
       "      <td>1:34.207</td>\n",
       "      <td>1:34.465</td>\n",
       "      <td>1:33.893</td>\n",
       "      <td>...</td>\n",
       "      <td>1:31.317</td>\n",
       "      <td>1:31.140</td>\n",
       "      <td>1:30.506</td>\n",
       "      <td>1:30.277</td>\n",
       "      <td>1:30.593</td>\n",
       "      <td>1:30.675</td>\n",
       "      <td>1:30.894</td>\n",
       "      <td>1:31.025</td>\n",
       "      <td>1:31.019</td>\n",
       "      <td>1:33.838</td>\n",
       "    </tr>\n",
       "    <tr>\n",
       "      <th>1</th>\n",
       "      <td>bruno_senna</td>\n",
       "      <td>2:16.893</td>\n",
       "      <td>1:42.348</td>\n",
       "      <td>1:36.241</td>\n",
       "      <td>1:36.368</td>\n",
       "      <td>1:35.740</td>\n",
       "      <td>1:35.524</td>\n",
       "      <td>1:35.434</td>\n",
       "      <td>1:35.925</td>\n",
       "      <td>1:35.029</td>\n",
       "      <td>...</td>\n",
       "      <td>1:30.855</td>\n",
       "      <td>1:31.999</td>\n",
       "      <td>1:33.469</td>\n",
       "      <td>1:31.119</td>\n",
       "      <td>None</td>\n",
       "      <td>None</td>\n",
       "      <td>None</td>\n",
       "      <td>None</td>\n",
       "      <td>None</td>\n",
       "      <td>None</td>\n",
       "    </tr>\n",
       "    <tr>\n",
       "      <th>2</th>\n",
       "      <td>button</td>\n",
       "      <td>1:39.264</td>\n",
       "      <td>1:33.414</td>\n",
       "      <td>1:33.350</td>\n",
       "      <td>1:33.131</td>\n",
       "      <td>1:32.984</td>\n",
       "      <td>1:33.117</td>\n",
       "      <td>1:33.244</td>\n",
       "      <td>1:33.124</td>\n",
       "      <td>1:33.394</td>\n",
       "      <td>...</td>\n",
       "      <td>1:30.081</td>\n",
       "      <td>1:29.858</td>\n",
       "      <td>1:30.049</td>\n",
       "      <td>1:30.047</td>\n",
       "      <td>1:30.124</td>\n",
       "      <td>1:29.697</td>\n",
       "      <td>1:29.645</td>\n",
       "      <td>1:29.187</td>\n",
       "      <td>1:29.738</td>\n",
       "      <td>1:30.846</td>\n",
       "    </tr>\n",
       "    <tr>\n",
       "      <th>3</th>\n",
       "      <td>glock</td>\n",
       "      <td>1:50.819</td>\n",
       "      <td>1:38.975</td>\n",
       "      <td>1:38.691</td>\n",
       "      <td>1:37.576</td>\n",
       "      <td>1:37.679</td>\n",
       "      <td>1:37.845</td>\n",
       "      <td>1:39.003</td>\n",
       "      <td>1:37.121</td>\n",
       "      <td>1:36.844</td>\n",
       "      <td>...</td>\n",
       "      <td>1:34.497</td>\n",
       "      <td>1:34.407</td>\n",
       "      <td>1:34.723</td>\n",
       "      <td>1:34.784</td>\n",
       "      <td>1:34.451</td>\n",
       "      <td>1:39.855</td>\n",
       "      <td>1:37.174</td>\n",
       "      <td>1:39.441</td>\n",
       "      <td>1:49.259</td>\n",
       "      <td>None</td>\n",
       "    </tr>\n",
       "    <tr>\n",
       "      <th>4</th>\n",
       "      <td>grosjean</td>\n",
       "      <td>1:43.730</td>\n",
       "      <td>None</td>\n",
       "      <td>None</td>\n",
       "      <td>None</td>\n",
       "      <td>None</td>\n",
       "      <td>None</td>\n",
       "      <td>None</td>\n",
       "      <td>None</td>\n",
       "      <td>None</td>\n",
       "      <td>...</td>\n",
       "      <td>None</td>\n",
       "      <td>None</td>\n",
       "      <td>None</td>\n",
       "      <td>None</td>\n",
       "      <td>None</td>\n",
       "      <td>None</td>\n",
       "      <td>None</td>\n",
       "      <td>None</td>\n",
       "      <td>None</td>\n",
       "      <td>None</td>\n",
       "    </tr>\n",
       "    <tr>\n",
       "      <th>5</th>\n",
       "      <td>hamilton</td>\n",
       "      <td>1:40.622</td>\n",
       "      <td>1:34.297</td>\n",
       "      <td>1:33.566</td>\n",
       "      <td>1:33.347</td>\n",
       "      <td>1:33.446</td>\n",
       "      <td>1:33.380</td>\n",
       "      <td>1:33.315</td>\n",
       "      <td>1:33.461</td>\n",
       "      <td>1:33.561</td>\n",
       "      <td>...</td>\n",
       "      <td>1:30.179</td>\n",
       "      <td>1:30.019</td>\n",
       "      <td>1:30.052</td>\n",
       "      <td>1:29.927</td>\n",
       "      <td>1:30.188</td>\n",
       "      <td>1:30.041</td>\n",
       "      <td>1:29.696</td>\n",
       "      <td>1:29.641</td>\n",
       "      <td>1:29.538</td>\n",
       "      <td>1:29.867</td>\n",
       "    </tr>\n",
       "    <tr>\n",
       "      <th>6</th>\n",
       "      <td>kobayashi</td>\n",
       "      <td>1:46.880</td>\n",
       "      <td>1:37.177</td>\n",
       "      <td>1:35.312</td>\n",
       "      <td>1:37.945</td>\n",
       "      <td>1:34.491</td>\n",
       "      <td>1:34.858</td>\n",
       "      <td>1:34.529</td>\n",
       "      <td>1:34.347</td>\n",
       "      <td>1:35.434</td>\n",
       "      <td>...</td>\n",
       "      <td>1:31.767</td>\n",
       "      <td>1:31.235</td>\n",
       "      <td>1:31.086</td>\n",
       "      <td>1:32.677</td>\n",
       "      <td>1:32.316</td>\n",
       "      <td>1:31.699</td>\n",
       "      <td>1:30.620</td>\n",
       "      <td>1:31.190</td>\n",
       "      <td>1:32.628</td>\n",
       "      <td>1:35.335</td>\n",
       "    </tr>\n",
       "    <tr>\n",
       "      <th>7</th>\n",
       "      <td>kovalainen</td>\n",
       "      <td>1:53.018</td>\n",
       "      <td>1:37.690</td>\n",
       "      <td>1:38.084</td>\n",
       "      <td>1:37.656</td>\n",
       "      <td>1:37.540</td>\n",
       "      <td>1:37.799</td>\n",
       "      <td>1:35.634</td>\n",
       "      <td>1:35.239</td>\n",
       "      <td>1:35.140</td>\n",
       "      <td>...</td>\n",
       "      <td>None</td>\n",
       "      <td>None</td>\n",
       "      <td>None</td>\n",
       "      <td>None</td>\n",
       "      <td>None</td>\n",
       "      <td>None</td>\n",
       "      <td>None</td>\n",
       "      <td>None</td>\n",
       "      <td>None</td>\n",
       "      <td>None</td>\n",
       "    </tr>\n",
       "    <tr>\n",
       "      <th>8</th>\n",
       "      <td>maldonado</td>\n",
       "      <td>1:44.212</td>\n",
       "      <td>1:36.857</td>\n",
       "      <td>1:34.569</td>\n",
       "      <td>1:34.068</td>\n",
       "      <td>1:40.441</td>\n",
       "      <td>1:34.096</td>\n",
       "      <td>1:34.874</td>\n",
       "      <td>1:34.983</td>\n",
       "      <td>1:34.510</td>\n",
       "      <td>...</td>\n",
       "      <td>1:31.460</td>\n",
       "      <td>1:31.243</td>\n",
       "      <td>1:30.641</td>\n",
       "      <td>1:30.316</td>\n",
       "      <td>1:30.254</td>\n",
       "      <td>1:30.873</td>\n",
       "      <td>1:30.921</td>\n",
       "      <td>1:30.713</td>\n",
       "      <td>1:31.075</td>\n",
       "      <td>None</td>\n",
       "    </tr>\n",
       "    <tr>\n",
       "      <th>9</th>\n",
       "      <td>massa</td>\n",
       "      <td>1:46.714</td>\n",
       "      <td>1:36.908</td>\n",
       "      <td>1:35.111</td>\n",
       "      <td>1:35.243</td>\n",
       "      <td>1:35.208</td>\n",
       "      <td>1:34.631</td>\n",
       "      <td>1:34.628</td>\n",
       "      <td>1:35.261</td>\n",
       "      <td>1:36.496</td>\n",
       "      <td>...</td>\n",
       "      <td>None</td>\n",
       "      <td>None</td>\n",
       "      <td>None</td>\n",
       "      <td>None</td>\n",
       "      <td>None</td>\n",
       "      <td>None</td>\n",
       "      <td>None</td>\n",
       "      <td>None</td>\n",
       "      <td>None</td>\n",
       "      <td>None</td>\n",
       "    </tr>\n",
       "    <tr>\n",
       "      <th>10</th>\n",
       "      <td>michael_schumacher</td>\n",
       "      <td>1:42.002</td>\n",
       "      <td>1:35.127</td>\n",
       "      <td>1:34.402</td>\n",
       "      <td>1:34.021</td>\n",
       "      <td>1:34.359</td>\n",
       "      <td>1:34.347</td>\n",
       "      <td>1:34.246</td>\n",
       "      <td>1:34.430</td>\n",
       "      <td>1:34.215</td>\n",
       "      <td>...</td>\n",
       "      <td>None</td>\n",
       "      <td>None</td>\n",
       "      <td>None</td>\n",
       "      <td>None</td>\n",
       "      <td>None</td>\n",
       "      <td>None</td>\n",
       "      <td>None</td>\n",
       "      <td>None</td>\n",
       "      <td>None</td>\n",
       "      <td>None</td>\n",
       "    </tr>\n",
       "    <tr>\n",
       "      <th>11</th>\n",
       "      <td>perez</td>\n",
       "      <td>1:47.256</td>\n",
       "      <td>1:37.300</td>\n",
       "      <td>1:35.783</td>\n",
       "      <td>1:35.517</td>\n",
       "      <td>1:34.760</td>\n",
       "      <td>1:35.046</td>\n",
       "      <td>1:34.293</td>\n",
       "      <td>1:35.159</td>\n",
       "      <td>1:35.288</td>\n",
       "      <td>...</td>\n",
       "      <td>1:31.798</td>\n",
       "      <td>1:31.583</td>\n",
       "      <td>1:31.696</td>\n",
       "      <td>1:31.459</td>\n",
       "      <td>1:31.475</td>\n",
       "      <td>1:31.621</td>\n",
       "      <td>1:31.559</td>\n",
       "      <td>1:31.812</td>\n",
       "      <td>1:32.353</td>\n",
       "      <td>1:40.163</td>\n",
       "    </tr>\n",
       "    <tr>\n",
       "      <th>12</th>\n",
       "      <td>petrov</td>\n",
       "      <td>1:55.829</td>\n",
       "      <td>1:37.612</td>\n",
       "      <td>1:36.479</td>\n",
       "      <td>1:37.006</td>\n",
       "      <td>1:37.796</td>\n",
       "      <td>1:37.483</td>\n",
       "      <td>1:36.031</td>\n",
       "      <td>1:35.532</td>\n",
       "      <td>1:35.263</td>\n",
       "      <td>...</td>\n",
       "      <td>None</td>\n",
       "      <td>None</td>\n",
       "      <td>None</td>\n",
       "      <td>None</td>\n",
       "      <td>None</td>\n",
       "      <td>None</td>\n",
       "      <td>None</td>\n",
       "      <td>None</td>\n",
       "      <td>None</td>\n",
       "      <td>None</td>\n",
       "    </tr>\n",
       "    <tr>\n",
       "      <th>13</th>\n",
       "      <td>pic</td>\n",
       "      <td>1:55.732</td>\n",
       "      <td>1:40.285</td>\n",
       "      <td>1:38.405</td>\n",
       "      <td>1:38.239</td>\n",
       "      <td>1:38.622</td>\n",
       "      <td>1:38.092</td>\n",
       "      <td>1:37.852</td>\n",
       "      <td>1:37.509</td>\n",
       "      <td>1:37.196</td>\n",
       "      <td>...</td>\n",
       "      <td>1:35.829</td>\n",
       "      <td>1:39.320</td>\n",
       "      <td>1:54.810</td>\n",
       "      <td>1:53.956</td>\n",
       "      <td>1:43.299</td>\n",
       "      <td>None</td>\n",
       "      <td>None</td>\n",
       "      <td>None</td>\n",
       "      <td>None</td>\n",
       "      <td>None</td>\n",
       "    </tr>\n",
       "    <tr>\n",
       "      <th>14</th>\n",
       "      <td>raikkonen</td>\n",
       "      <td>1:48.460</td>\n",
       "      <td>1:36.631</td>\n",
       "      <td>1:35.743</td>\n",
       "      <td>1:36.903</td>\n",
       "      <td>1:34.882</td>\n",
       "      <td>1:34.578</td>\n",
       "      <td>1:34.726</td>\n",
       "      <td>1:34.196</td>\n",
       "      <td>1:35.173</td>\n",
       "      <td>...</td>\n",
       "      <td>1:32.046</td>\n",
       "      <td>1:30.759</td>\n",
       "      <td>1:30.900</td>\n",
       "      <td>1:31.784</td>\n",
       "      <td>1:32.605</td>\n",
       "      <td>1:31.749</td>\n",
       "      <td>1:31.065</td>\n",
       "      <td>1:30.823</td>\n",
       "      <td>1:32.403</td>\n",
       "      <td>1:36.023</td>\n",
       "    </tr>\n",
       "    <tr>\n",
       "      <th>15</th>\n",
       "      <td>resta</td>\n",
       "      <td>1:50.849</td>\n",
       "      <td>1:36.182</td>\n",
       "      <td>1:35.767</td>\n",
       "      <td>1:35.422</td>\n",
       "      <td>1:35.600</td>\n",
       "      <td>1:34.958</td>\n",
       "      <td>1:34.821</td>\n",
       "      <td>1:34.755</td>\n",
       "      <td>1:34.613</td>\n",
       "      <td>...</td>\n",
       "      <td>1:31.855</td>\n",
       "      <td>1:34.145</td>\n",
       "      <td>1:31.391</td>\n",
       "      <td>1:31.378</td>\n",
       "      <td>1:31.233</td>\n",
       "      <td>1:31.491</td>\n",
       "      <td>1:30.891</td>\n",
       "      <td>1:30.747</td>\n",
       "      <td>1:30.605</td>\n",
       "      <td>1:34.553</td>\n",
       "    </tr>\n",
       "    <tr>\n",
       "      <th>16</th>\n",
       "      <td>ricciardo</td>\n",
       "      <td>2:37.333</td>\n",
       "      <td>1:44.100</td>\n",
       "      <td>1:35.145</td>\n",
       "      <td>1:34.200</td>\n",
       "      <td>1:34.304</td>\n",
       "      <td>1:34.056</td>\n",
       "      <td>1:34.042</td>\n",
       "      <td>1:34.747</td>\n",
       "      <td>1:34.054</td>\n",
       "      <td>...</td>\n",
       "      <td>1:30.669</td>\n",
       "      <td>1:31.389</td>\n",
       "      <td>1:30.636</td>\n",
       "      <td>1:30.630</td>\n",
       "      <td>1:30.592</td>\n",
       "      <td>1:31.483</td>\n",
       "      <td>1:31.547</td>\n",
       "      <td>1:30.824</td>\n",
       "      <td>1:31.584</td>\n",
       "      <td>1:36.576</td>\n",
       "    </tr>\n",
       "    <tr>\n",
       "      <th>17</th>\n",
       "      <td>rosberg</td>\n",
       "      <td>1:42.666</td>\n",
       "      <td>1:36.234</td>\n",
       "      <td>1:34.825</td>\n",
       "      <td>1:34.497</td>\n",
       "      <td>1:34.330</td>\n",
       "      <td>1:35.829</td>\n",
       "      <td>1:34.218</td>\n",
       "      <td>1:33.980</td>\n",
       "      <td>1:34.014</td>\n",
       "      <td>...</td>\n",
       "      <td>1:31.726</td>\n",
       "      <td>1:31.336</td>\n",
       "      <td>1:31.470</td>\n",
       "      <td>1:33.199</td>\n",
       "      <td>1:30.931</td>\n",
       "      <td>1:31.430</td>\n",
       "      <td>1:31.007</td>\n",
       "      <td>1:31.380</td>\n",
       "      <td>1:32.508</td>\n",
       "      <td>1:57.816</td>\n",
       "    </tr>\n",
       "    <tr>\n",
       "      <th>18</th>\n",
       "      <td>vergne</td>\n",
       "      <td>1:52.099</td>\n",
       "      <td>1:37.919</td>\n",
       "      <td>1:35.159</td>\n",
       "      <td>1:34.567</td>\n",
       "      <td>1:35.085</td>\n",
       "      <td>1:34.667</td>\n",
       "      <td>1:35.057</td>\n",
       "      <td>1:35.050</td>\n",
       "      <td>1:34.660</td>\n",
       "      <td>...</td>\n",
       "      <td>1:31.453</td>\n",
       "      <td>1:31.519</td>\n",
       "      <td>1:30.341</td>\n",
       "      <td>1:30.274</td>\n",
       "      <td>1:30.751</td>\n",
       "      <td>1:32.025</td>\n",
       "      <td>1:31.541</td>\n",
       "      <td>1:30.940</td>\n",
       "      <td>1:31.909</td>\n",
       "      <td>1:37.049</td>\n",
       "    </tr>\n",
       "    <tr>\n",
       "      <th>19</th>\n",
       "      <td>vettel</td>\n",
       "      <td>1:43.029</td>\n",
       "      <td>1:35.160</td>\n",
       "      <td>1:33.848</td>\n",
       "      <td>1:34.148</td>\n",
       "      <td>1:34.174</td>\n",
       "      <td>1:36.499</td>\n",
       "      <td>1:33.690</td>\n",
       "      <td>1:33.632</td>\n",
       "      <td>1:33.500</td>\n",
       "      <td>...</td>\n",
       "      <td>1:30.287</td>\n",
       "      <td>1:30.033</td>\n",
       "      <td>1:29.888</td>\n",
       "      <td>1:29.690</td>\n",
       "      <td>1:29.869</td>\n",
       "      <td>1:29.587</td>\n",
       "      <td>1:29.995</td>\n",
       "      <td>1:29.590</td>\n",
       "      <td>1:29.417</td>\n",
       "      <td>1:29.682</td>\n",
       "    </tr>\n",
       "    <tr>\n",
       "      <th>20</th>\n",
       "      <td>webber</td>\n",
       "      <td>1:45.336</td>\n",
       "      <td>1:35.939</td>\n",
       "      <td>1:34.896</td>\n",
       "      <td>1:34.585</td>\n",
       "      <td>1:33.879</td>\n",
       "      <td>1:34.765</td>\n",
       "      <td>1:34.451</td>\n",
       "      <td>1:34.391</td>\n",
       "      <td>1:34.224</td>\n",
       "      <td>...</td>\n",
       "      <td>1:30.446</td>\n",
       "      <td>1:29.810</td>\n",
       "      <td>1:29.905</td>\n",
       "      <td>1:29.714</td>\n",
       "      <td>1:29.921</td>\n",
       "      <td>1:30.260</td>\n",
       "      <td>1:29.680</td>\n",
       "      <td>1:29.779</td>\n",
       "      <td>1:29.438</td>\n",
       "      <td>1:29.622</td>\n",
       "    </tr>\n",
       "  </tbody>\n",
       "</table>\n",
       "<p>21 rows × 59 columns</p>\n",
       "</div>"
      ],
      "text/plain": [
       "               Drivers     Lap 1     Lap 2     Lap 3     Lap 4     Lap 5  \\\n",
       "0               alonso  1:44.733  1:35.866  1:34.081  1:34.186  1:34.220   \n",
       "1          bruno_senna  2:16.893  1:42.348  1:36.241  1:36.368  1:35.740   \n",
       "2               button  1:39.264  1:33.414  1:33.350  1:33.131  1:32.984   \n",
       "3                glock  1:50.819  1:38.975  1:38.691  1:37.576  1:37.679   \n",
       "4             grosjean  1:43.730      None      None      None      None   \n",
       "5             hamilton  1:40.622  1:34.297  1:33.566  1:33.347  1:33.446   \n",
       "6            kobayashi  1:46.880  1:37.177  1:35.312  1:37.945  1:34.491   \n",
       "7           kovalainen  1:53.018  1:37.690  1:38.084  1:37.656  1:37.540   \n",
       "8            maldonado  1:44.212  1:36.857  1:34.569  1:34.068  1:40.441   \n",
       "9                massa  1:46.714  1:36.908  1:35.111  1:35.243  1:35.208   \n",
       "10  michael_schumacher  1:42.002  1:35.127  1:34.402  1:34.021  1:34.359   \n",
       "11               perez  1:47.256  1:37.300  1:35.783  1:35.517  1:34.760   \n",
       "12              petrov  1:55.829  1:37.612  1:36.479  1:37.006  1:37.796   \n",
       "13                 pic  1:55.732  1:40.285  1:38.405  1:38.239  1:38.622   \n",
       "14           raikkonen  1:48.460  1:36.631  1:35.743  1:36.903  1:34.882   \n",
       "15               resta  1:50.849  1:36.182  1:35.767  1:35.422  1:35.600   \n",
       "16           ricciardo  2:37.333  1:44.100  1:35.145  1:34.200  1:34.304   \n",
       "17             rosberg  1:42.666  1:36.234  1:34.825  1:34.497  1:34.330   \n",
       "18              vergne  1:52.099  1:37.919  1:35.159  1:34.567  1:35.085   \n",
       "19              vettel  1:43.029  1:35.160  1:33.848  1:34.148  1:34.174   \n",
       "20              webber  1:45.336  1:35.939  1:34.896  1:34.585  1:33.879   \n",
       "\n",
       "       Lap 6     Lap 7     Lap 8     Lap 9  ...    Lap 49    Lap 50    Lap 51  \\\n",
       "0   1:35.651  1:34.207  1:34.465  1:33.893  ...  1:31.317  1:31.140  1:30.506   \n",
       "1   1:35.524  1:35.434  1:35.925  1:35.029  ...  1:30.855  1:31.999  1:33.469   \n",
       "2   1:33.117  1:33.244  1:33.124  1:33.394  ...  1:30.081  1:29.858  1:30.049   \n",
       "3   1:37.845  1:39.003  1:37.121  1:36.844  ...  1:34.497  1:34.407  1:34.723   \n",
       "4       None      None      None      None  ...      None      None      None   \n",
       "5   1:33.380  1:33.315  1:33.461  1:33.561  ...  1:30.179  1:30.019  1:30.052   \n",
       "6   1:34.858  1:34.529  1:34.347  1:35.434  ...  1:31.767  1:31.235  1:31.086   \n",
       "7   1:37.799  1:35.634  1:35.239  1:35.140  ...      None      None      None   \n",
       "8   1:34.096  1:34.874  1:34.983  1:34.510  ...  1:31.460  1:31.243  1:30.641   \n",
       "9   1:34.631  1:34.628  1:35.261  1:36.496  ...      None      None      None   \n",
       "10  1:34.347  1:34.246  1:34.430  1:34.215  ...      None      None      None   \n",
       "11  1:35.046  1:34.293  1:35.159  1:35.288  ...  1:31.798  1:31.583  1:31.696   \n",
       "12  1:37.483  1:36.031  1:35.532  1:35.263  ...      None      None      None   \n",
       "13  1:38.092  1:37.852  1:37.509  1:37.196  ...  1:35.829  1:39.320  1:54.810   \n",
       "14  1:34.578  1:34.726  1:34.196  1:35.173  ...  1:32.046  1:30.759  1:30.900   \n",
       "15  1:34.958  1:34.821  1:34.755  1:34.613  ...  1:31.855  1:34.145  1:31.391   \n",
       "16  1:34.056  1:34.042  1:34.747  1:34.054  ...  1:30.669  1:31.389  1:30.636   \n",
       "17  1:35.829  1:34.218  1:33.980  1:34.014  ...  1:31.726  1:31.336  1:31.470   \n",
       "18  1:34.667  1:35.057  1:35.050  1:34.660  ...  1:31.453  1:31.519  1:30.341   \n",
       "19  1:36.499  1:33.690  1:33.632  1:33.500  ...  1:30.287  1:30.033  1:29.888   \n",
       "20  1:34.765  1:34.451  1:34.391  1:34.224  ...  1:30.446  1:29.810  1:29.905   \n",
       "\n",
       "      Lap 52    Lap 53    Lap 54    Lap 55    Lap 56    Lap 57    Lap 58  \n",
       "0   1:30.277  1:30.593  1:30.675  1:30.894  1:31.025  1:31.019  1:33.838  \n",
       "1   1:31.119      None      None      None      None      None      None  \n",
       "2   1:30.047  1:30.124  1:29.697  1:29.645  1:29.187  1:29.738  1:30.846  \n",
       "3   1:34.784  1:34.451  1:39.855  1:37.174  1:39.441  1:49.259      None  \n",
       "4       None      None      None      None      None      None      None  \n",
       "5   1:29.927  1:30.188  1:30.041  1:29.696  1:29.641  1:29.538  1:29.867  \n",
       "6   1:32.677  1:32.316  1:31.699  1:30.620  1:31.190  1:32.628  1:35.335  \n",
       "7       None      None      None      None      None      None      None  \n",
       "8   1:30.316  1:30.254  1:30.873  1:30.921  1:30.713  1:31.075      None  \n",
       "9       None      None      None      None      None      None      None  \n",
       "10      None      None      None      None      None      None      None  \n",
       "11  1:31.459  1:31.475  1:31.621  1:31.559  1:31.812  1:32.353  1:40.163  \n",
       "12      None      None      None      None      None      None      None  \n",
       "13  1:53.956  1:43.299      None      None      None      None      None  \n",
       "14  1:31.784  1:32.605  1:31.749  1:31.065  1:30.823  1:32.403  1:36.023  \n",
       "15  1:31.378  1:31.233  1:31.491  1:30.891  1:30.747  1:30.605  1:34.553  \n",
       "16  1:30.630  1:30.592  1:31.483  1:31.547  1:30.824  1:31.584  1:36.576  \n",
       "17  1:33.199  1:30.931  1:31.430  1:31.007  1:31.380  1:32.508  1:57.816  \n",
       "18  1:30.274  1:30.751  1:32.025  1:31.541  1:30.940  1:31.909  1:37.049  \n",
       "19  1:29.690  1:29.869  1:29.587  1:29.995  1:29.590  1:29.417  1:29.682  \n",
       "20  1:29.714  1:29.921  1:30.260  1:29.680  1:29.779  1:29.438  1:29.622  \n",
       "\n",
       "[21 rows x 59 columns]"
      ]
     },
     "execution_count": 85,
     "metadata": {},
     "output_type": "execute_result"
    }
   ],
   "source": [
    "working_df = original_df.copy()\n",
    "working_df"
   ]
  },
  {
   "cell_type": "code",
   "execution_count": 86,
   "metadata": {},
   "outputs": [],
   "source": [
    "\n",
    "# Convert each string laptime to nanosecond equivolent\n",
    "for col in working_df.columns[1:]: working_df[col] = working_df[col].apply(lambda x : time_to_nanoseconds(x))"
   ]
  },
  {
   "cell_type": "code",
   "execution_count": 87,
   "metadata": {},
   "outputs": [
    {
     "data": {
      "text/html": [
       "<div>\n",
       "<style scoped>\n",
       "    .dataframe tbody tr th:only-of-type {\n",
       "        vertical-align: middle;\n",
       "    }\n",
       "\n",
       "    .dataframe tbody tr th {\n",
       "        vertical-align: top;\n",
       "    }\n",
       "\n",
       "    .dataframe thead th {\n",
       "        text-align: right;\n",
       "    }\n",
       "</style>\n",
       "<table border=\"1\" class=\"dataframe\">\n",
       "  <thead>\n",
       "    <tr style=\"text-align: right;\">\n",
       "      <th></th>\n",
       "      <th>Drivers</th>\n",
       "      <th>Lap 1</th>\n",
       "      <th>Lap 2</th>\n",
       "      <th>Lap 3</th>\n",
       "      <th>Lap 4</th>\n",
       "      <th>Lap 5</th>\n",
       "      <th>Lap 6</th>\n",
       "      <th>Lap 7</th>\n",
       "      <th>Lap 8</th>\n",
       "      <th>Lap 9</th>\n",
       "      <th>...</th>\n",
       "      <th>Lap 49</th>\n",
       "      <th>Lap 50</th>\n",
       "      <th>Lap 51</th>\n",
       "      <th>Lap 52</th>\n",
       "      <th>Lap 53</th>\n",
       "      <th>Lap 54</th>\n",
       "      <th>Lap 55</th>\n",
       "      <th>Lap 56</th>\n",
       "      <th>Lap 57</th>\n",
       "      <th>Lap 58</th>\n",
       "    </tr>\n",
       "  </thead>\n",
       "  <tbody>\n",
       "    <tr>\n",
       "      <th>0</th>\n",
       "      <td>alonso</td>\n",
       "      <td>104.733</td>\n",
       "      <td>95.866</td>\n",
       "      <td>94.081</td>\n",
       "      <td>94.186</td>\n",
       "      <td>94.220</td>\n",
       "      <td>95.651</td>\n",
       "      <td>94.207</td>\n",
       "      <td>94.465</td>\n",
       "      <td>93.893</td>\n",
       "      <td>...</td>\n",
       "      <td>91.317</td>\n",
       "      <td>91.140</td>\n",
       "      <td>90.506</td>\n",
       "      <td>90.277</td>\n",
       "      <td>90.593</td>\n",
       "      <td>90.675</td>\n",
       "      <td>90.894</td>\n",
       "      <td>91.025</td>\n",
       "      <td>91.019</td>\n",
       "      <td>93.838</td>\n",
       "    </tr>\n",
       "    <tr>\n",
       "      <th>1</th>\n",
       "      <td>bruno_senna</td>\n",
       "      <td>136.893</td>\n",
       "      <td>102.348</td>\n",
       "      <td>96.241</td>\n",
       "      <td>96.368</td>\n",
       "      <td>95.740</td>\n",
       "      <td>95.524</td>\n",
       "      <td>95.434</td>\n",
       "      <td>95.925</td>\n",
       "      <td>95.029</td>\n",
       "      <td>...</td>\n",
       "      <td>90.855</td>\n",
       "      <td>91.999</td>\n",
       "      <td>93.469</td>\n",
       "      <td>91.119</td>\n",
       "      <td>NaN</td>\n",
       "      <td>NaN</td>\n",
       "      <td>NaN</td>\n",
       "      <td>NaN</td>\n",
       "      <td>NaN</td>\n",
       "      <td>NaN</td>\n",
       "    </tr>\n",
       "    <tr>\n",
       "      <th>2</th>\n",
       "      <td>button</td>\n",
       "      <td>99.264</td>\n",
       "      <td>93.414</td>\n",
       "      <td>93.350</td>\n",
       "      <td>93.131</td>\n",
       "      <td>92.984</td>\n",
       "      <td>93.117</td>\n",
       "      <td>93.244</td>\n",
       "      <td>93.124</td>\n",
       "      <td>93.394</td>\n",
       "      <td>...</td>\n",
       "      <td>90.081</td>\n",
       "      <td>89.858</td>\n",
       "      <td>90.049</td>\n",
       "      <td>90.047</td>\n",
       "      <td>90.124</td>\n",
       "      <td>89.697</td>\n",
       "      <td>89.645</td>\n",
       "      <td>89.187</td>\n",
       "      <td>89.738</td>\n",
       "      <td>90.846</td>\n",
       "    </tr>\n",
       "    <tr>\n",
       "      <th>3</th>\n",
       "      <td>glock</td>\n",
       "      <td>110.819</td>\n",
       "      <td>98.975</td>\n",
       "      <td>98.691</td>\n",
       "      <td>97.576</td>\n",
       "      <td>97.679</td>\n",
       "      <td>97.845</td>\n",
       "      <td>99.003</td>\n",
       "      <td>97.121</td>\n",
       "      <td>96.844</td>\n",
       "      <td>...</td>\n",
       "      <td>94.497</td>\n",
       "      <td>94.407</td>\n",
       "      <td>94.723</td>\n",
       "      <td>94.784</td>\n",
       "      <td>94.451</td>\n",
       "      <td>99.855</td>\n",
       "      <td>97.174</td>\n",
       "      <td>99.441</td>\n",
       "      <td>109.259</td>\n",
       "      <td>NaN</td>\n",
       "    </tr>\n",
       "    <tr>\n",
       "      <th>4</th>\n",
       "      <td>grosjean</td>\n",
       "      <td>103.730</td>\n",
       "      <td>NaN</td>\n",
       "      <td>NaN</td>\n",
       "      <td>NaN</td>\n",
       "      <td>NaN</td>\n",
       "      <td>NaN</td>\n",
       "      <td>NaN</td>\n",
       "      <td>NaN</td>\n",
       "      <td>NaN</td>\n",
       "      <td>...</td>\n",
       "      <td>NaN</td>\n",
       "      <td>NaN</td>\n",
       "      <td>NaN</td>\n",
       "      <td>NaN</td>\n",
       "      <td>NaN</td>\n",
       "      <td>NaN</td>\n",
       "      <td>NaN</td>\n",
       "      <td>NaN</td>\n",
       "      <td>NaN</td>\n",
       "      <td>NaN</td>\n",
       "    </tr>\n",
       "    <tr>\n",
       "      <th>5</th>\n",
       "      <td>hamilton</td>\n",
       "      <td>100.622</td>\n",
       "      <td>94.297</td>\n",
       "      <td>93.566</td>\n",
       "      <td>93.347</td>\n",
       "      <td>93.446</td>\n",
       "      <td>93.380</td>\n",
       "      <td>93.315</td>\n",
       "      <td>93.461</td>\n",
       "      <td>93.561</td>\n",
       "      <td>...</td>\n",
       "      <td>90.179</td>\n",
       "      <td>90.019</td>\n",
       "      <td>90.052</td>\n",
       "      <td>89.927</td>\n",
       "      <td>90.188</td>\n",
       "      <td>90.041</td>\n",
       "      <td>89.696</td>\n",
       "      <td>89.641</td>\n",
       "      <td>89.538</td>\n",
       "      <td>89.867</td>\n",
       "    </tr>\n",
       "    <tr>\n",
       "      <th>6</th>\n",
       "      <td>kobayashi</td>\n",
       "      <td>106.880</td>\n",
       "      <td>97.177</td>\n",
       "      <td>95.312</td>\n",
       "      <td>97.945</td>\n",
       "      <td>94.491</td>\n",
       "      <td>94.858</td>\n",
       "      <td>94.529</td>\n",
       "      <td>94.347</td>\n",
       "      <td>95.434</td>\n",
       "      <td>...</td>\n",
       "      <td>91.767</td>\n",
       "      <td>91.235</td>\n",
       "      <td>91.086</td>\n",
       "      <td>92.677</td>\n",
       "      <td>92.316</td>\n",
       "      <td>91.699</td>\n",
       "      <td>90.620</td>\n",
       "      <td>91.190</td>\n",
       "      <td>92.628</td>\n",
       "      <td>95.335</td>\n",
       "    </tr>\n",
       "    <tr>\n",
       "      <th>7</th>\n",
       "      <td>kovalainen</td>\n",
       "      <td>113.018</td>\n",
       "      <td>97.690</td>\n",
       "      <td>98.084</td>\n",
       "      <td>97.656</td>\n",
       "      <td>97.540</td>\n",
       "      <td>97.799</td>\n",
       "      <td>95.634</td>\n",
       "      <td>95.239</td>\n",
       "      <td>95.140</td>\n",
       "      <td>...</td>\n",
       "      <td>NaN</td>\n",
       "      <td>NaN</td>\n",
       "      <td>NaN</td>\n",
       "      <td>NaN</td>\n",
       "      <td>NaN</td>\n",
       "      <td>NaN</td>\n",
       "      <td>NaN</td>\n",
       "      <td>NaN</td>\n",
       "      <td>NaN</td>\n",
       "      <td>NaN</td>\n",
       "    </tr>\n",
       "    <tr>\n",
       "      <th>8</th>\n",
       "      <td>maldonado</td>\n",
       "      <td>104.212</td>\n",
       "      <td>96.857</td>\n",
       "      <td>94.569</td>\n",
       "      <td>94.068</td>\n",
       "      <td>100.441</td>\n",
       "      <td>94.096</td>\n",
       "      <td>94.874</td>\n",
       "      <td>94.983</td>\n",
       "      <td>94.510</td>\n",
       "      <td>...</td>\n",
       "      <td>91.460</td>\n",
       "      <td>91.243</td>\n",
       "      <td>90.641</td>\n",
       "      <td>90.316</td>\n",
       "      <td>90.254</td>\n",
       "      <td>90.873</td>\n",
       "      <td>90.921</td>\n",
       "      <td>90.713</td>\n",
       "      <td>91.075</td>\n",
       "      <td>NaN</td>\n",
       "    </tr>\n",
       "    <tr>\n",
       "      <th>9</th>\n",
       "      <td>massa</td>\n",
       "      <td>106.714</td>\n",
       "      <td>96.908</td>\n",
       "      <td>95.111</td>\n",
       "      <td>95.243</td>\n",
       "      <td>95.208</td>\n",
       "      <td>94.631</td>\n",
       "      <td>94.628</td>\n",
       "      <td>95.261</td>\n",
       "      <td>96.496</td>\n",
       "      <td>...</td>\n",
       "      <td>NaN</td>\n",
       "      <td>NaN</td>\n",
       "      <td>NaN</td>\n",
       "      <td>NaN</td>\n",
       "      <td>NaN</td>\n",
       "      <td>NaN</td>\n",
       "      <td>NaN</td>\n",
       "      <td>NaN</td>\n",
       "      <td>NaN</td>\n",
       "      <td>NaN</td>\n",
       "    </tr>\n",
       "    <tr>\n",
       "      <th>10</th>\n",
       "      <td>michael_schumacher</td>\n",
       "      <td>102.002</td>\n",
       "      <td>95.127</td>\n",
       "      <td>94.402</td>\n",
       "      <td>94.021</td>\n",
       "      <td>94.359</td>\n",
       "      <td>94.347</td>\n",
       "      <td>94.246</td>\n",
       "      <td>94.430</td>\n",
       "      <td>94.215</td>\n",
       "      <td>...</td>\n",
       "      <td>NaN</td>\n",
       "      <td>NaN</td>\n",
       "      <td>NaN</td>\n",
       "      <td>NaN</td>\n",
       "      <td>NaN</td>\n",
       "      <td>NaN</td>\n",
       "      <td>NaN</td>\n",
       "      <td>NaN</td>\n",
       "      <td>NaN</td>\n",
       "      <td>NaN</td>\n",
       "    </tr>\n",
       "    <tr>\n",
       "      <th>11</th>\n",
       "      <td>perez</td>\n",
       "      <td>107.256</td>\n",
       "      <td>97.300</td>\n",
       "      <td>95.783</td>\n",
       "      <td>95.517</td>\n",
       "      <td>94.760</td>\n",
       "      <td>95.046</td>\n",
       "      <td>94.293</td>\n",
       "      <td>95.159</td>\n",
       "      <td>95.288</td>\n",
       "      <td>...</td>\n",
       "      <td>91.798</td>\n",
       "      <td>91.583</td>\n",
       "      <td>91.696</td>\n",
       "      <td>91.459</td>\n",
       "      <td>91.475</td>\n",
       "      <td>91.621</td>\n",
       "      <td>91.559</td>\n",
       "      <td>91.812</td>\n",
       "      <td>92.353</td>\n",
       "      <td>100.163</td>\n",
       "    </tr>\n",
       "    <tr>\n",
       "      <th>12</th>\n",
       "      <td>petrov</td>\n",
       "      <td>115.829</td>\n",
       "      <td>97.612</td>\n",
       "      <td>96.479</td>\n",
       "      <td>97.006</td>\n",
       "      <td>97.796</td>\n",
       "      <td>97.483</td>\n",
       "      <td>96.031</td>\n",
       "      <td>95.532</td>\n",
       "      <td>95.263</td>\n",
       "      <td>...</td>\n",
       "      <td>NaN</td>\n",
       "      <td>NaN</td>\n",
       "      <td>NaN</td>\n",
       "      <td>NaN</td>\n",
       "      <td>NaN</td>\n",
       "      <td>NaN</td>\n",
       "      <td>NaN</td>\n",
       "      <td>NaN</td>\n",
       "      <td>NaN</td>\n",
       "      <td>NaN</td>\n",
       "    </tr>\n",
       "    <tr>\n",
       "      <th>13</th>\n",
       "      <td>pic</td>\n",
       "      <td>115.732</td>\n",
       "      <td>100.285</td>\n",
       "      <td>98.405</td>\n",
       "      <td>98.239</td>\n",
       "      <td>98.622</td>\n",
       "      <td>98.092</td>\n",
       "      <td>97.852</td>\n",
       "      <td>97.509</td>\n",
       "      <td>97.196</td>\n",
       "      <td>...</td>\n",
       "      <td>95.829</td>\n",
       "      <td>99.320</td>\n",
       "      <td>114.810</td>\n",
       "      <td>113.956</td>\n",
       "      <td>103.299</td>\n",
       "      <td>NaN</td>\n",
       "      <td>NaN</td>\n",
       "      <td>NaN</td>\n",
       "      <td>NaN</td>\n",
       "      <td>NaN</td>\n",
       "    </tr>\n",
       "    <tr>\n",
       "      <th>14</th>\n",
       "      <td>raikkonen</td>\n",
       "      <td>108.460</td>\n",
       "      <td>96.631</td>\n",
       "      <td>95.743</td>\n",
       "      <td>96.903</td>\n",
       "      <td>94.882</td>\n",
       "      <td>94.578</td>\n",
       "      <td>94.726</td>\n",
       "      <td>94.196</td>\n",
       "      <td>95.173</td>\n",
       "      <td>...</td>\n",
       "      <td>92.046</td>\n",
       "      <td>90.759</td>\n",
       "      <td>90.900</td>\n",
       "      <td>91.784</td>\n",
       "      <td>92.605</td>\n",
       "      <td>91.749</td>\n",
       "      <td>91.065</td>\n",
       "      <td>90.823</td>\n",
       "      <td>92.403</td>\n",
       "      <td>96.023</td>\n",
       "    </tr>\n",
       "    <tr>\n",
       "      <th>15</th>\n",
       "      <td>resta</td>\n",
       "      <td>110.849</td>\n",
       "      <td>96.182</td>\n",
       "      <td>95.767</td>\n",
       "      <td>95.422</td>\n",
       "      <td>95.600</td>\n",
       "      <td>94.958</td>\n",
       "      <td>94.821</td>\n",
       "      <td>94.755</td>\n",
       "      <td>94.613</td>\n",
       "      <td>...</td>\n",
       "      <td>91.855</td>\n",
       "      <td>94.145</td>\n",
       "      <td>91.391</td>\n",
       "      <td>91.378</td>\n",
       "      <td>91.233</td>\n",
       "      <td>91.491</td>\n",
       "      <td>90.891</td>\n",
       "      <td>90.747</td>\n",
       "      <td>90.605</td>\n",
       "      <td>94.553</td>\n",
       "    </tr>\n",
       "    <tr>\n",
       "      <th>16</th>\n",
       "      <td>ricciardo</td>\n",
       "      <td>157.333</td>\n",
       "      <td>104.100</td>\n",
       "      <td>95.145</td>\n",
       "      <td>94.200</td>\n",
       "      <td>94.304</td>\n",
       "      <td>94.056</td>\n",
       "      <td>94.042</td>\n",
       "      <td>94.747</td>\n",
       "      <td>94.054</td>\n",
       "      <td>...</td>\n",
       "      <td>90.669</td>\n",
       "      <td>91.389</td>\n",
       "      <td>90.636</td>\n",
       "      <td>90.630</td>\n",
       "      <td>90.592</td>\n",
       "      <td>91.483</td>\n",
       "      <td>91.547</td>\n",
       "      <td>90.824</td>\n",
       "      <td>91.584</td>\n",
       "      <td>96.576</td>\n",
       "    </tr>\n",
       "    <tr>\n",
       "      <th>17</th>\n",
       "      <td>rosberg</td>\n",
       "      <td>102.666</td>\n",
       "      <td>96.234</td>\n",
       "      <td>94.825</td>\n",
       "      <td>94.497</td>\n",
       "      <td>94.330</td>\n",
       "      <td>95.829</td>\n",
       "      <td>94.218</td>\n",
       "      <td>93.980</td>\n",
       "      <td>94.014</td>\n",
       "      <td>...</td>\n",
       "      <td>91.726</td>\n",
       "      <td>91.336</td>\n",
       "      <td>91.470</td>\n",
       "      <td>93.199</td>\n",
       "      <td>90.931</td>\n",
       "      <td>91.430</td>\n",
       "      <td>91.007</td>\n",
       "      <td>91.380</td>\n",
       "      <td>92.508</td>\n",
       "      <td>117.816</td>\n",
       "    </tr>\n",
       "    <tr>\n",
       "      <th>18</th>\n",
       "      <td>vergne</td>\n",
       "      <td>112.099</td>\n",
       "      <td>97.919</td>\n",
       "      <td>95.159</td>\n",
       "      <td>94.567</td>\n",
       "      <td>95.085</td>\n",
       "      <td>94.667</td>\n",
       "      <td>95.057</td>\n",
       "      <td>95.050</td>\n",
       "      <td>94.660</td>\n",
       "      <td>...</td>\n",
       "      <td>91.453</td>\n",
       "      <td>91.519</td>\n",
       "      <td>90.341</td>\n",
       "      <td>90.274</td>\n",
       "      <td>90.751</td>\n",
       "      <td>92.025</td>\n",
       "      <td>91.541</td>\n",
       "      <td>90.940</td>\n",
       "      <td>91.909</td>\n",
       "      <td>97.049</td>\n",
       "    </tr>\n",
       "    <tr>\n",
       "      <th>19</th>\n",
       "      <td>vettel</td>\n",
       "      <td>103.029</td>\n",
       "      <td>95.160</td>\n",
       "      <td>93.848</td>\n",
       "      <td>94.148</td>\n",
       "      <td>94.174</td>\n",
       "      <td>96.499</td>\n",
       "      <td>93.690</td>\n",
       "      <td>93.632</td>\n",
       "      <td>93.500</td>\n",
       "      <td>...</td>\n",
       "      <td>90.287</td>\n",
       "      <td>90.033</td>\n",
       "      <td>89.888</td>\n",
       "      <td>89.690</td>\n",
       "      <td>89.869</td>\n",
       "      <td>89.587</td>\n",
       "      <td>89.995</td>\n",
       "      <td>89.590</td>\n",
       "      <td>89.417</td>\n",
       "      <td>89.682</td>\n",
       "    </tr>\n",
       "    <tr>\n",
       "      <th>20</th>\n",
       "      <td>webber</td>\n",
       "      <td>105.336</td>\n",
       "      <td>95.939</td>\n",
       "      <td>94.896</td>\n",
       "      <td>94.585</td>\n",
       "      <td>93.879</td>\n",
       "      <td>94.765</td>\n",
       "      <td>94.451</td>\n",
       "      <td>94.391</td>\n",
       "      <td>94.224</td>\n",
       "      <td>...</td>\n",
       "      <td>90.446</td>\n",
       "      <td>89.810</td>\n",
       "      <td>89.905</td>\n",
       "      <td>89.714</td>\n",
       "      <td>89.921</td>\n",
       "      <td>90.260</td>\n",
       "      <td>89.680</td>\n",
       "      <td>89.779</td>\n",
       "      <td>89.438</td>\n",
       "      <td>89.622</td>\n",
       "    </tr>\n",
       "  </tbody>\n",
       "</table>\n",
       "<p>21 rows × 59 columns</p>\n",
       "</div>"
      ],
      "text/plain": [
       "               Drivers    Lap 1    Lap 2   Lap 3   Lap 4    Lap 5   Lap 6  \\\n",
       "0               alonso  104.733   95.866  94.081  94.186   94.220  95.651   \n",
       "1          bruno_senna  136.893  102.348  96.241  96.368   95.740  95.524   \n",
       "2               button   99.264   93.414  93.350  93.131   92.984  93.117   \n",
       "3                glock  110.819   98.975  98.691  97.576   97.679  97.845   \n",
       "4             grosjean  103.730      NaN     NaN     NaN      NaN     NaN   \n",
       "5             hamilton  100.622   94.297  93.566  93.347   93.446  93.380   \n",
       "6            kobayashi  106.880   97.177  95.312  97.945   94.491  94.858   \n",
       "7           kovalainen  113.018   97.690  98.084  97.656   97.540  97.799   \n",
       "8            maldonado  104.212   96.857  94.569  94.068  100.441  94.096   \n",
       "9                massa  106.714   96.908  95.111  95.243   95.208  94.631   \n",
       "10  michael_schumacher  102.002   95.127  94.402  94.021   94.359  94.347   \n",
       "11               perez  107.256   97.300  95.783  95.517   94.760  95.046   \n",
       "12              petrov  115.829   97.612  96.479  97.006   97.796  97.483   \n",
       "13                 pic  115.732  100.285  98.405  98.239   98.622  98.092   \n",
       "14           raikkonen  108.460   96.631  95.743  96.903   94.882  94.578   \n",
       "15               resta  110.849   96.182  95.767  95.422   95.600  94.958   \n",
       "16           ricciardo  157.333  104.100  95.145  94.200   94.304  94.056   \n",
       "17             rosberg  102.666   96.234  94.825  94.497   94.330  95.829   \n",
       "18              vergne  112.099   97.919  95.159  94.567   95.085  94.667   \n",
       "19              vettel  103.029   95.160  93.848  94.148   94.174  96.499   \n",
       "20              webber  105.336   95.939  94.896  94.585   93.879  94.765   \n",
       "\n",
       "     Lap 7   Lap 8   Lap 9  ...  Lap 49  Lap 50   Lap 51   Lap 52   Lap 53  \\\n",
       "0   94.207  94.465  93.893  ...  91.317  91.140   90.506   90.277   90.593   \n",
       "1   95.434  95.925  95.029  ...  90.855  91.999   93.469   91.119      NaN   \n",
       "2   93.244  93.124  93.394  ...  90.081  89.858   90.049   90.047   90.124   \n",
       "3   99.003  97.121  96.844  ...  94.497  94.407   94.723   94.784   94.451   \n",
       "4      NaN     NaN     NaN  ...     NaN     NaN      NaN      NaN      NaN   \n",
       "5   93.315  93.461  93.561  ...  90.179  90.019   90.052   89.927   90.188   \n",
       "6   94.529  94.347  95.434  ...  91.767  91.235   91.086   92.677   92.316   \n",
       "7   95.634  95.239  95.140  ...     NaN     NaN      NaN      NaN      NaN   \n",
       "8   94.874  94.983  94.510  ...  91.460  91.243   90.641   90.316   90.254   \n",
       "9   94.628  95.261  96.496  ...     NaN     NaN      NaN      NaN      NaN   \n",
       "10  94.246  94.430  94.215  ...     NaN     NaN      NaN      NaN      NaN   \n",
       "11  94.293  95.159  95.288  ...  91.798  91.583   91.696   91.459   91.475   \n",
       "12  96.031  95.532  95.263  ...     NaN     NaN      NaN      NaN      NaN   \n",
       "13  97.852  97.509  97.196  ...  95.829  99.320  114.810  113.956  103.299   \n",
       "14  94.726  94.196  95.173  ...  92.046  90.759   90.900   91.784   92.605   \n",
       "15  94.821  94.755  94.613  ...  91.855  94.145   91.391   91.378   91.233   \n",
       "16  94.042  94.747  94.054  ...  90.669  91.389   90.636   90.630   90.592   \n",
       "17  94.218  93.980  94.014  ...  91.726  91.336   91.470   93.199   90.931   \n",
       "18  95.057  95.050  94.660  ...  91.453  91.519   90.341   90.274   90.751   \n",
       "19  93.690  93.632  93.500  ...  90.287  90.033   89.888   89.690   89.869   \n",
       "20  94.451  94.391  94.224  ...  90.446  89.810   89.905   89.714   89.921   \n",
       "\n",
       "    Lap 54  Lap 55  Lap 56   Lap 57   Lap 58  \n",
       "0   90.675  90.894  91.025   91.019   93.838  \n",
       "1      NaN     NaN     NaN      NaN      NaN  \n",
       "2   89.697  89.645  89.187   89.738   90.846  \n",
       "3   99.855  97.174  99.441  109.259      NaN  \n",
       "4      NaN     NaN     NaN      NaN      NaN  \n",
       "5   90.041  89.696  89.641   89.538   89.867  \n",
       "6   91.699  90.620  91.190   92.628   95.335  \n",
       "7      NaN     NaN     NaN      NaN      NaN  \n",
       "8   90.873  90.921  90.713   91.075      NaN  \n",
       "9      NaN     NaN     NaN      NaN      NaN  \n",
       "10     NaN     NaN     NaN      NaN      NaN  \n",
       "11  91.621  91.559  91.812   92.353  100.163  \n",
       "12     NaN     NaN     NaN      NaN      NaN  \n",
       "13     NaN     NaN     NaN      NaN      NaN  \n",
       "14  91.749  91.065  90.823   92.403   96.023  \n",
       "15  91.491  90.891  90.747   90.605   94.553  \n",
       "16  91.483  91.547  90.824   91.584   96.576  \n",
       "17  91.430  91.007  91.380   92.508  117.816  \n",
       "18  92.025  91.541  90.940   91.909   97.049  \n",
       "19  89.587  89.995  89.590   89.417   89.682  \n",
       "20  90.260  89.680  89.779   89.438   89.622  \n",
       "\n",
       "[21 rows x 59 columns]"
      ]
     },
     "execution_count": 87,
     "metadata": {},
     "output_type": "execute_result"
    }
   ],
   "source": [
    "working_df"
   ]
  },
  {
   "cell_type": "markdown",
   "metadata": {},
   "source": [
    "Shows all the times from drivers per lap\n",
    "\n",
    "Determining if average is a good measure, since some laps drivers take pit stop, or a car might malfunction, etc... alot of factors can affect the average of a lap time"
   ]
  },
  {
   "cell_type": "code",
   "execution_count": 88,
   "metadata": {},
   "outputs": [
    {
     "data": {
      "application/vnd.plotly.v1+json": {
       "config": {
        "plotlyServerURL": "https://plot.ly"
       },
       "data": [
        {
         "boxmean": true,
         "name": "Lap 1",
         "type": "box",
         "y": [
          104.733,
          136.893,
          99.264,
          110.819,
          103.73,
          100.622,
          106.88,
          113.018,
          104.212,
          106.714,
          102.002,
          107.256,
          115.829,
          115.732,
          108.46,
          110.849,
          157.333,
          102.666,
          112.099,
          103.029,
          105.336
         ]
        },
        {
         "boxmean": true,
         "name": "Lap 2",
         "type": "box",
         "y": [
          95.866,
          102.348,
          93.414,
          98.975,
          null,
          94.297,
          97.177,
          97.69,
          96.857,
          96.908,
          95.127,
          97.3,
          97.612,
          100.285,
          96.631,
          96.182,
          104.1,
          96.234,
          97.919,
          95.16,
          95.939
         ]
        },
        {
         "boxmean": true,
         "name": "Lap 3",
         "type": "box",
         "y": [
          94.081,
          96.241,
          93.35,
          98.691,
          null,
          93.566,
          95.312,
          98.084,
          94.569,
          95.111,
          94.402,
          95.783,
          96.479,
          98.405,
          95.743,
          95.767,
          95.145,
          94.825,
          95.159,
          93.848,
          94.896
         ]
        },
        {
         "boxmean": true,
         "name": "Lap 4",
         "type": "box",
         "y": [
          94.186,
          96.368,
          93.131,
          97.576,
          null,
          93.347,
          97.945,
          97.656,
          94.068,
          95.243,
          94.021,
          95.517,
          97.006,
          98.239,
          96.903,
          95.422,
          94.2,
          94.497,
          94.567,
          94.148,
          94.585
         ]
        },
        {
         "boxmean": true,
         "name": "Lap 5",
         "type": "box",
         "y": [
          94.22,
          95.74,
          92.984,
          97.679,
          null,
          93.446,
          94.491,
          97.54,
          100.441,
          95.208,
          94.359,
          94.76,
          97.796,
          98.622,
          94.882,
          95.6,
          94.304,
          94.33,
          95.085,
          94.174,
          93.879
         ]
        },
        {
         "boxmean": true,
         "name": "Lap 6",
         "type": "box",
         "y": [
          95.651,
          95.524,
          93.117,
          97.845,
          null,
          93.38,
          94.858,
          97.799,
          94.096,
          94.631,
          94.347,
          95.046,
          97.483,
          98.092,
          94.578,
          94.958,
          94.056,
          95.829,
          94.667,
          96.499,
          94.765
         ]
        },
        {
         "boxmean": true,
         "name": "Lap 7",
         "type": "box",
         "y": [
          94.207,
          95.434,
          93.244,
          99.003,
          null,
          93.315,
          94.529,
          95.634,
          94.874,
          94.628,
          94.246,
          94.293,
          96.031,
          97.852,
          94.726,
          94.821,
          94.042,
          94.218,
          95.057,
          93.69,
          94.451
         ]
        },
        {
         "boxmean": true,
         "name": "Lap 8",
         "type": "box",
         "y": [
          94.465,
          95.925,
          93.124,
          97.121,
          null,
          93.461,
          94.347,
          95.239,
          94.983,
          95.261,
          94.43,
          95.159,
          95.532,
          97.509,
          94.196,
          94.755,
          94.747,
          93.98,
          95.05,
          93.632,
          94.391
         ]
        },
        {
         "boxmean": true,
         "name": "Lap 9",
         "type": "box",
         "y": [
          93.893,
          95.029,
          93.394,
          96.844,
          null,
          93.561,
          95.434,
          95.14,
          94.51,
          96.496,
          94.215,
          95.288,
          95.263,
          97.196,
          95.173,
          94.613,
          94.054,
          94.014,
          94.66,
          93.5,
          94.224
         ]
        },
        {
         "boxmean": true,
         "name": "Lap 10",
         "type": "box",
         "y": [
          93.897,
          95.465,
          93.767,
          96.951,
          null,
          93.471,
          96.097,
          95.702,
          93.682,
          96.091,
          95.021,
          96.119,
          95.67,
          97.308,
          96.32,
          95.315,
          94.037,
          93.981,
          95.247,
          94.853,
          93.875
         ]
        },
        {
         "boxmean": true,
         "name": "Lap 11",
         "type": "box",
         "y": [
          95.44,
          95.358,
          93.985,
          97.036,
          null,
          93.617,
          95.735,
          95.27,
          93.552,
          113.934,
          null,
          97.623,
          95.152,
          97.446,
          95.766,
          96.687,
          93.823,
          95.604,
          95.927,
          93.605,
          95.053
         ]
        },
        {
         "boxmean": true,
         "name": "Lap 12",
         "type": "box",
         "y": [
          94.535,
          94.879,
          93.628,
          96.903,
          null,
          93.732,
          94.854,
          95.882,
          93.816,
          99.595,
          null,
          94.673,
          95.051,
          97.124,
          94.626,
          95.318,
          93.967,
          113.413,
          95.765,
          93.308,
          94.602
         ]
        },
        {
         "boxmean": true,
         "name": "Lap 13",
         "type": "box",
         "y": [
          110.958,
          95.783,
          93.97,
          96.973,
          null,
          93.881,
          117.167,
          95.464,
          94.11,
          93.308,
          null,
          95.26,
          95.99,
          97.156,
          95.793,
          115.738,
          94.02,
          100.088,
          95.048,
          93.582,
          94.539
         ]
        },
        {
         "boxmean": true,
         "name": "Lap 14",
         "type": "box",
         "y": [
          99.472,
          95.339,
          94.164,
          96.933,
          null,
          94.255,
          99.289,
          115.735,
          93.944,
          93.71,
          null,
          94.109,
          95.194,
          97.912,
          93.066,
          99.845,
          94.115,
          93.33,
          94.451,
          93.685,
          113.152
         ]
        },
        {
         "boxmean": true,
         "name": "Lap 15",
         "type": "box",
         "y": [
          93.093,
          94.096,
          94.645,
          96.683,
          null,
          94.73,
          92.895,
          102.491,
          94.286,
          94.633,
          null,
          93.973,
          94.19,
          96.986,
          93.453,
          93.566,
          95.19,
          93.454,
          94.54,
          93.75,
          100.168
         ]
        },
        {
         "boxmean": true,
         "name": "Lap 16",
         "type": "box",
         "y": [
          92.867,
          94.194,
          114.021,
          96.914,
          null,
          96.403,
          92.776,
          95.637,
          113.932,
          93.884,
          null,
          93.678,
          94.317,
          97.499,
          93.816,
          93.436,
          97.221,
          92.931,
          93.985,
          114.857,
          92.355
         ]
        },
        {
         "boxmean": true,
         "name": "Lap 17",
         "type": "box",
         "y": [
          93.978,
          95.148,
          99.358,
          96.654,
          null,
          115.417,
          94.564,
          94.884,
          99.383,
          94.39,
          null,
          93.621,
          94.951,
          99.433,
          94.075,
          93.763,
          96.653,
          93.139,
          94.294,
          99.517,
          92.262
         ]
        },
        {
         "boxmean": true,
         "name": "Lap 18",
         "type": "box",
         "y": [
          94.326,
          94.847,
          93.348,
          97.755,
          null,
          100.734,
          93.125,
          94.357,
          92.358,
          94.184,
          null,
          95.028,
          117.001,
          97.889,
          94.171,
          93.751,
          94.59,
          93.873,
          96.191,
          93.273,
          92.644
         ]
        },
        {
         "boxmean": true,
         "name": "Lap 19",
         "type": "box",
         "y": [
          93.586,
          95.269,
          93.3,
          97.596,
          null,
          93.813,
          93.211,
          95.198,
          92.72,
          93.969,
          null,
          94.214,
          100.653,
          97.468,
          115.052,
          93.503,
          94.772,
          95.22,
          117.339,
          92.764,
          95.138
         ]
        },
        {
         "boxmean": true,
         "name": "Lap 20",
         "type": "box",
         "y": [
          93.147,
          94.588,
          92.88,
          119.967,
          null,
          94.233,
          93.105,
          94.697,
          92.617,
          93.92,
          null,
          94.423,
          95.131,
          97.234,
          99.146,
          94.104,
          94.966,
          92.954,
          98.992,
          92.945,
          92.943
         ]
        },
        {
         "boxmean": true,
         "name": "Lap 21",
         "type": "box",
         "y": [
          93.535,
          94.601,
          92.903,
          105.105,
          null,
          93.156,
          93.221,
          94.669,
          92.63,
          93.742,
          null,
          96.559,
          93.74,
          118.777,
          92.562,
          93.355,
          95.367,
          93.064,
          92.475,
          94.467,
          93.16
         ]
        },
        {
         "boxmean": true,
         "name": "Lap 22",
         "type": "box",
         "y": [
          94.916,
          94.642,
          93.141,
          95.673,
          null,
          93.111,
          93.307,
          94.899,
          93.049,
          93.999,
          null,
          95.293,
          95.282,
          107.798,
          92.589,
          93.358,
          115.031,
          93.941,
          92.353,
          92.588,
          94.173
         ]
        },
        {
         "boxmean": true,
         "name": "Lap 23",
         "type": "box",
         "y": [
          93.169,
          94.304,
          92.84,
          95.601,
          null,
          93.285,
          93.378,
          94.157,
          93.843,
          93.571,
          null,
          97.174,
          93.844,
          98.511,
          92.757,
          93.007,
          102.451,
          94.361,
          91.978,
          93.174,
          94.423
         ]
        },
        {
         "boxmean": true,
         "name": "Lap 24",
         "type": "box",
         "y": [
          92.67,
          94.513,
          92.701,
          97.93,
          null,
          91.74,
          93.318,
          93.768,
          95.904,
          93.669,
          null,
          116.511,
          93.947,
          96.344,
          93.137,
          93.01,
          92.939,
          93.151,
          91.947,
          92.182,
          92.546
         ]
        },
        {
         "boxmean": true,
         "name": "Lap 25",
         "type": "box",
         "y": [
          92.662,
          95.132,
          92.76,
          95.446,
          null,
          92.068,
          95.876,
          93.949,
          92.359,
          94.958,
          null,
          100.236,
          93.771,
          96.664,
          94.496,
          93.604,
          92.958,
          92.811,
          91.76,
          92.028,
          92.978
         ]
        },
        {
         "boxmean": true,
         "name": "Lap 26",
         "type": "box",
         "y": [
          92.895,
          94.193,
          92.152,
          99.366,
          null,
          91.593,
          93.546,
          93.693,
          92.14,
          93.98,
          null,
          92.176,
          93.4,
          96.874,
          93.78,
          93.536,
          92.776,
          92.85,
          92.007,
          92.056,
          92.935
         ]
        },
        {
         "boxmean": true,
         "name": "Lap 27",
         "type": "box",
         "y": [
          93.152,
          94.288,
          91.943,
          96.681,
          null,
          91.814,
          93.958,
          93.842,
          92.31,
          95.902,
          null,
          91.829,
          93.214,
          99.425,
          92.2,
          94.078,
          92.449,
          93.462,
          93.968,
          92.162,
          93.219
         ]
        },
        {
         "boxmean": true,
         "name": "Lap 28",
         "type": "box",
         "y": [
          92.68,
          94.234,
          91.788,
          94.642,
          null,
          91.834,
          93.345,
          94.201,
          92.547,
          115.749,
          null,
          92.513,
          93.709,
          96.862,
          92.399,
          95.794,
          92.197,
          93.237,
          95.632,
          91.741,
          93.219
         ]
        },
        {
         "boxmean": true,
         "name": "Lap 29",
         "type": "box",
         "y": [
          92.535,
          93.883,
          91.813,
          95.398,
          null,
          91.743,
          92.819,
          94.022,
          92.517,
          99.404,
          null,
          91.788,
          94.774,
          99.128,
          92.1,
          93.123,
          91.797,
          93.858,
          93.314,
          92.107,
          93.827
         ]
        },
        {
         "boxmean": true,
         "name": "Lap 30",
         "type": "box",
         "y": [
          92.506,
          114.934,
          91.812,
          95.566,
          null,
          91.731,
          92.659,
          94.002,
          93.69,
          92.696,
          null,
          91.743,
          93.778,
          103.359,
          92.12,
          92.81,
          91.598,
          94.067,
          92.672,
          91.621,
          93.981
         ]
        },
        {
         "boxmean": true,
         "name": "Lap 31",
         "type": "box",
         "y": [
          93.13,
          101.386,
          91.565,
          97.256,
          null,
          91.82,
          92.688,
          94.923,
          95.032,
          92.543,
          null,
          91.526,
          93.254,
          99.385,
          92.352,
          92.978,
          98.002,
          113.519,
          104.134,
          91.794,
          94.912
         ]
        },
        {
         "boxmean": true,
         "name": "Lap 32",
         "type": "box",
         "y": [
          92.817,
          94.457,
          91.597,
          97.121,
          null,
          92.362,
          92.61,
          94.161,
          92.07,
          92.81,
          null,
          91.763,
          93.78,
          98.171,
          92.348,
          92.674,
          92.929,
          100.686,
          91.882,
          92.059,
          91.098
         ]
        },
        {
         "boxmean": true,
         "name": "Lap 33",
         "type": "box",
         "y": [
          92.683,
          92.1,
          91.632,
          97.734,
          null,
          92,
          92.535,
          94.972,
          91.905,
          92.84,
          null,
          91.584,
          96.15,
          97.168,
          91.853,
          113.392,
          92.312,
          91.466,
          91.924,
          91.947,
          91.341
         ]
        },
        {
         "boxmean": true,
         "name": "Lap 34",
         "type": "box",
         "y": [
          111.326,
          91.872,
          91.989,
          96.016,
          null,
          92.082,
          92.871,
          116.776,
          92.112,
          94.975,
          null,
          91.38,
          93.939,
          98.54,
          91.721,
          98.771,
          92.165,
          91.734,
          91.697,
          91.843,
          91.288
         ]
        },
        {
         "boxmean": true,
         "name": "Lap 35",
         "type": "box",
         "y": [
          98.399,
          91.807,
          92.215,
          96.853,
          null,
          92.209,
          92.989,
          101.693,
          91.909,
          93.147,
          null,
          91.335,
          null,
          151.24,
          91.929,
          91.916,
          91.789,
          91.924,
          91.775,
          91.865,
          91.156
         ]
        },
        {
         "boxmean": true,
         "name": "Lap 36",
         "type": "box",
         "y": [
          91.855,
          101.63,
          111.349,
          139.057,
          null,
          111.396,
          113.618,
          109.691,
          92.213,
          94.82,
          null,
          91.671,
          null,
          143.794,
          91.553,
          92.298,
          102.248,
          91.19,
          92.369,
          91.874,
          91.685
         ]
        },
        {
         "boxmean": true,
         "name": "Lap 37",
         "type": "box",
         "y": [
          112.525,
          117.34,
          111.615,
          123.479,
          null,
          114.656,
          120.78,
          173.81,
          126.98,
          136.302,
          null,
          113.182,
          null,
          142.29,
          129.819,
          117.698,
          117.281,
          114.355,
          135.848,
          120.851,
          125.4
         ]
        },
        {
         "boxmean": true,
         "name": "Lap 38",
         "type": "box",
         "y": [
          138.746,
          97.438,
          164.349,
          126.206,
          null,
          152.354,
          121.021,
          138.332,
          143.593,
          107.405,
          null,
          139.152,
          null,
          116.159,
          137.935,
          116.308,
          117.707,
          133.473,
          120.898,
          163.068,
          145.212
         ]
        },
        {
         "boxmean": true,
         "name": "Lap 39",
         "type": "box",
         "y": [
          141.499,
          125.271,
          143.729,
          127.162,
          null,
          143.484,
          136.87,
          null,
          141.435,
          126.547,
          null,
          141.342,
          null,
          99.311,
          139.939,
          136.243,
          107.177,
          140.768,
          132.696,
          143.569,
          143.01
         ]
        },
        {
         "boxmean": true,
         "name": "Lap 40",
         "type": "box",
         "y": [
          160.468,
          157.642,
          159.748,
          97.755,
          null,
          160.66,
          160.728,
          null,
          159.962,
          158.242,
          null,
          159.99,
          null,
          97.345,
          160.62,
          161.174,
          155.887,
          160.873,
          160.916,
          160.235,
          160.269
         ]
        },
        {
         "boxmean": true,
         "name": "Lap 41",
         "type": "box",
         "y": [
          138.652,
          133.187,
          141.646,
          96.251,
          null,
          140.014,
          135.323,
          null,
          138.699,
          133.723,
          null,
          138.39,
          null,
          96.196,
          136.285,
          134.698,
          131.166,
          137.246,
          133.946,
          141.015,
          139.821
         ]
        },
        {
         "boxmean": true,
         "name": "Lap 42",
         "type": "box",
         "y": [
          94.114,
          97.401,
          91.355,
          95.053,
          null,
          93.63,
          94.707,
          null,
          94.111,
          96.965,
          null,
          94.546,
          null,
          96.597,
          95.599,
          95.773,
          96.826,
          94.799,
          95.809,
          93.226,
          93.812
         ]
        },
        {
         "boxmean": true,
         "name": "Lap 43",
         "type": "box",
         "y": [
          92.071,
          93.142,
          90.567,
          94.253,
          null,
          91.502,
          92.37,
          null,
          92.246,
          92.591,
          null,
          92.208,
          null,
          96.252,
          93.107,
          92.963,
          92.579,
          92.26,
          92.925,
          91.477,
          91.557
         ]
        },
        {
         "boxmean": true,
         "name": "Lap 44",
         "type": "box",
         "y": [
          90.978,
          91.841,
          90.232,
          94.516,
          null,
          90.535,
          91.982,
          null,
          91.065,
          92.059,
          null,
          91.386,
          null,
          95.295,
          91.67,
          92.4,
          91.84,
          91.734,
          92.245,
          90.585,
          90.724
         ]
        },
        {
         "boxmean": true,
         "name": "Lap 45",
         "type": "box",
         "y": [
          91.438,
          91.866,
          90.22,
          94.456,
          null,
          90.378,
          91.321,
          null,
          91.594,
          92.394,
          null,
          91.121,
          null,
          95.011,
          91.299,
          91.834,
          92.274,
          91.095,
          91.986,
          90.221,
          90.253
         ]
        },
        {
         "boxmean": true,
         "name": "Lap 46",
         "type": "box",
         "y": [
          90.332,
          92.021,
          90.014,
          94.259,
          null,
          89.865,
          91.196,
          null,
          90.444,
          91.94,
          null,
          90.843,
          null,
          99.001,
          90.966,
          92.042,
          91.899,
          91.241,
          91.873,
          90.033,
          90.175
         ]
        },
        {
         "boxmean": true,
         "name": "Lap 47",
         "type": "box",
         "y": [
          90.632,
          171.417,
          89.828,
          97.537,
          null,
          90.108,
          91.283,
          null,
          90.375,
          null,
          null,
          91.155,
          null,
          96.733,
          91.961,
          91.986,
          93.183,
          90.937,
          92.324,
          89.899,
          89.999
         ]
        },
        {
         "boxmean": true,
         "name": "Lap 48",
         "type": "box",
         "y": [
          90.86,
          100.476,
          90.702,
          94.943,
          null,
          90.081,
          91.668,
          null,
          90.619,
          null,
          null,
          91.985,
          null,
          95.756,
          91.75,
          92.197,
          91.029,
          91.722,
          92.216,
          90.16,
          90.167
         ]
        },
        {
         "boxmean": true,
         "name": "Lap 49",
         "type": "box",
         "y": [
          91.317,
          90.855,
          90.081,
          94.497,
          null,
          90.179,
          91.767,
          null,
          91.46,
          null,
          null,
          91.798,
          null,
          95.829,
          92.046,
          91.855,
          90.669,
          91.726,
          91.453,
          90.287,
          90.446
         ]
        },
        {
         "boxmean": true,
         "name": "Lap 50",
         "type": "box",
         "y": [
          91.14,
          91.999,
          89.858,
          94.407,
          null,
          90.019,
          91.235,
          null,
          91.243,
          null,
          null,
          91.583,
          null,
          99.32,
          90.759,
          94.145,
          91.389,
          91.336,
          91.519,
          90.033,
          89.81
         ]
        },
        {
         "boxmean": true,
         "name": "Lap 51",
         "type": "box",
         "y": [
          90.506,
          93.469,
          90.049,
          94.723,
          null,
          90.052,
          91.086,
          null,
          90.641,
          null,
          null,
          91.696,
          null,
          114.81,
          90.9,
          91.391,
          90.636,
          91.47,
          90.341,
          89.888,
          89.905
         ]
        },
        {
         "boxmean": true,
         "name": "Lap 52",
         "type": "box",
         "y": [
          90.277,
          91.119,
          90.047,
          94.784,
          null,
          89.927,
          92.677,
          null,
          90.316,
          null,
          null,
          91.459,
          null,
          113.956,
          91.784,
          91.378,
          90.63,
          93.199,
          90.274,
          89.69,
          89.714
         ]
        },
        {
         "boxmean": true,
         "name": "Lap 53",
         "type": "box",
         "y": [
          90.593,
          null,
          90.124,
          94.451,
          null,
          90.188,
          92.316,
          null,
          90.254,
          null,
          null,
          91.475,
          null,
          103.299,
          92.605,
          91.233,
          90.592,
          90.931,
          90.751,
          89.869,
          89.921
         ]
        },
        {
         "boxmean": true,
         "name": "Lap 54",
         "type": "box",
         "y": [
          90.675,
          null,
          89.697,
          99.855,
          null,
          90.041,
          91.699,
          null,
          90.873,
          null,
          null,
          91.621,
          null,
          null,
          91.749,
          91.491,
          91.483,
          91.43,
          92.025,
          89.587,
          90.26
         ]
        },
        {
         "boxmean": true,
         "name": "Lap 55",
         "type": "box",
         "y": [
          90.894,
          null,
          89.645,
          97.174,
          null,
          89.696,
          90.62,
          null,
          90.921,
          null,
          null,
          91.559,
          null,
          null,
          91.065,
          90.891,
          91.547,
          91.007,
          91.541,
          89.995,
          89.68
         ]
        },
        {
         "boxmean": true,
         "name": "Lap 56",
         "type": "box",
         "y": [
          91.025,
          null,
          89.187,
          99.441,
          null,
          89.641,
          91.19,
          null,
          90.713,
          null,
          null,
          91.812,
          null,
          null,
          90.823,
          90.747,
          90.824,
          91.38,
          90.94,
          89.59,
          89.779
         ]
        },
        {
         "boxmean": true,
         "name": "Lap 57",
         "type": "box",
         "y": [
          91.019,
          null,
          89.738,
          109.259,
          null,
          89.538,
          92.628,
          null,
          91.075,
          null,
          null,
          92.353,
          null,
          null,
          92.403,
          90.605,
          91.584,
          92.508,
          91.909,
          89.417,
          89.438
         ]
        },
        {
         "boxmean": true,
         "name": "Lap 58",
         "type": "box",
         "y": [
          93.838,
          null,
          90.846,
          null,
          null,
          89.867,
          95.335,
          null,
          null,
          null,
          null,
          100.163,
          null,
          null,
          96.023,
          94.553,
          96.576,
          117.816,
          97.049,
          89.682,
          89.622
         ]
        }
       ],
       "layout": {
        "template": {
         "data": {
          "bar": [
           {
            "error_x": {
             "color": "#2a3f5f"
            },
            "error_y": {
             "color": "#2a3f5f"
            },
            "marker": {
             "line": {
              "color": "#E5ECF6",
              "width": 0.5
             },
             "pattern": {
              "fillmode": "overlay",
              "size": 10,
              "solidity": 0.2
             }
            },
            "type": "bar"
           }
          ],
          "barpolar": [
           {
            "marker": {
             "line": {
              "color": "#E5ECF6",
              "width": 0.5
             },
             "pattern": {
              "fillmode": "overlay",
              "size": 10,
              "solidity": 0.2
             }
            },
            "type": "barpolar"
           }
          ],
          "carpet": [
           {
            "aaxis": {
             "endlinecolor": "#2a3f5f",
             "gridcolor": "white",
             "linecolor": "white",
             "minorgridcolor": "white",
             "startlinecolor": "#2a3f5f"
            },
            "baxis": {
             "endlinecolor": "#2a3f5f",
             "gridcolor": "white",
             "linecolor": "white",
             "minorgridcolor": "white",
             "startlinecolor": "#2a3f5f"
            },
            "type": "carpet"
           }
          ],
          "choropleth": [
           {
            "colorbar": {
             "outlinewidth": 0,
             "ticks": ""
            },
            "type": "choropleth"
           }
          ],
          "contour": [
           {
            "colorbar": {
             "outlinewidth": 0,
             "ticks": ""
            },
            "colorscale": [
             [
              0,
              "#0d0887"
             ],
             [
              0.1111111111111111,
              "#46039f"
             ],
             [
              0.2222222222222222,
              "#7201a8"
             ],
             [
              0.3333333333333333,
              "#9c179e"
             ],
             [
              0.4444444444444444,
              "#bd3786"
             ],
             [
              0.5555555555555556,
              "#d8576b"
             ],
             [
              0.6666666666666666,
              "#ed7953"
             ],
             [
              0.7777777777777778,
              "#fb9f3a"
             ],
             [
              0.8888888888888888,
              "#fdca26"
             ],
             [
              1,
              "#f0f921"
             ]
            ],
            "type": "contour"
           }
          ],
          "contourcarpet": [
           {
            "colorbar": {
             "outlinewidth": 0,
             "ticks": ""
            },
            "type": "contourcarpet"
           }
          ],
          "heatmap": [
           {
            "colorbar": {
             "outlinewidth": 0,
             "ticks": ""
            },
            "colorscale": [
             [
              0,
              "#0d0887"
             ],
             [
              0.1111111111111111,
              "#46039f"
             ],
             [
              0.2222222222222222,
              "#7201a8"
             ],
             [
              0.3333333333333333,
              "#9c179e"
             ],
             [
              0.4444444444444444,
              "#bd3786"
             ],
             [
              0.5555555555555556,
              "#d8576b"
             ],
             [
              0.6666666666666666,
              "#ed7953"
             ],
             [
              0.7777777777777778,
              "#fb9f3a"
             ],
             [
              0.8888888888888888,
              "#fdca26"
             ],
             [
              1,
              "#f0f921"
             ]
            ],
            "type": "heatmap"
           }
          ],
          "heatmapgl": [
           {
            "colorbar": {
             "outlinewidth": 0,
             "ticks": ""
            },
            "colorscale": [
             [
              0,
              "#0d0887"
             ],
             [
              0.1111111111111111,
              "#46039f"
             ],
             [
              0.2222222222222222,
              "#7201a8"
             ],
             [
              0.3333333333333333,
              "#9c179e"
             ],
             [
              0.4444444444444444,
              "#bd3786"
             ],
             [
              0.5555555555555556,
              "#d8576b"
             ],
             [
              0.6666666666666666,
              "#ed7953"
             ],
             [
              0.7777777777777778,
              "#fb9f3a"
             ],
             [
              0.8888888888888888,
              "#fdca26"
             ],
             [
              1,
              "#f0f921"
             ]
            ],
            "type": "heatmapgl"
           }
          ],
          "histogram": [
           {
            "marker": {
             "pattern": {
              "fillmode": "overlay",
              "size": 10,
              "solidity": 0.2
             }
            },
            "type": "histogram"
           }
          ],
          "histogram2d": [
           {
            "colorbar": {
             "outlinewidth": 0,
             "ticks": ""
            },
            "colorscale": [
             [
              0,
              "#0d0887"
             ],
             [
              0.1111111111111111,
              "#46039f"
             ],
             [
              0.2222222222222222,
              "#7201a8"
             ],
             [
              0.3333333333333333,
              "#9c179e"
             ],
             [
              0.4444444444444444,
              "#bd3786"
             ],
             [
              0.5555555555555556,
              "#d8576b"
             ],
             [
              0.6666666666666666,
              "#ed7953"
             ],
             [
              0.7777777777777778,
              "#fb9f3a"
             ],
             [
              0.8888888888888888,
              "#fdca26"
             ],
             [
              1,
              "#f0f921"
             ]
            ],
            "type": "histogram2d"
           }
          ],
          "histogram2dcontour": [
           {
            "colorbar": {
             "outlinewidth": 0,
             "ticks": ""
            },
            "colorscale": [
             [
              0,
              "#0d0887"
             ],
             [
              0.1111111111111111,
              "#46039f"
             ],
             [
              0.2222222222222222,
              "#7201a8"
             ],
             [
              0.3333333333333333,
              "#9c179e"
             ],
             [
              0.4444444444444444,
              "#bd3786"
             ],
             [
              0.5555555555555556,
              "#d8576b"
             ],
             [
              0.6666666666666666,
              "#ed7953"
             ],
             [
              0.7777777777777778,
              "#fb9f3a"
             ],
             [
              0.8888888888888888,
              "#fdca26"
             ],
             [
              1,
              "#f0f921"
             ]
            ],
            "type": "histogram2dcontour"
           }
          ],
          "mesh3d": [
           {
            "colorbar": {
             "outlinewidth": 0,
             "ticks": ""
            },
            "type": "mesh3d"
           }
          ],
          "parcoords": [
           {
            "line": {
             "colorbar": {
              "outlinewidth": 0,
              "ticks": ""
             }
            },
            "type": "parcoords"
           }
          ],
          "pie": [
           {
            "automargin": true,
            "type": "pie"
           }
          ],
          "scatter": [
           {
            "marker": {
             "colorbar": {
              "outlinewidth": 0,
              "ticks": ""
             }
            },
            "type": "scatter"
           }
          ],
          "scatter3d": [
           {
            "line": {
             "colorbar": {
              "outlinewidth": 0,
              "ticks": ""
             }
            },
            "marker": {
             "colorbar": {
              "outlinewidth": 0,
              "ticks": ""
             }
            },
            "type": "scatter3d"
           }
          ],
          "scattercarpet": [
           {
            "marker": {
             "colorbar": {
              "outlinewidth": 0,
              "ticks": ""
             }
            },
            "type": "scattercarpet"
           }
          ],
          "scattergeo": [
           {
            "marker": {
             "colorbar": {
              "outlinewidth": 0,
              "ticks": ""
             }
            },
            "type": "scattergeo"
           }
          ],
          "scattergl": [
           {
            "marker": {
             "colorbar": {
              "outlinewidth": 0,
              "ticks": ""
             }
            },
            "type": "scattergl"
           }
          ],
          "scattermapbox": [
           {
            "marker": {
             "colorbar": {
              "outlinewidth": 0,
              "ticks": ""
             }
            },
            "type": "scattermapbox"
           }
          ],
          "scatterpolar": [
           {
            "marker": {
             "colorbar": {
              "outlinewidth": 0,
              "ticks": ""
             }
            },
            "type": "scatterpolar"
           }
          ],
          "scatterpolargl": [
           {
            "marker": {
             "colorbar": {
              "outlinewidth": 0,
              "ticks": ""
             }
            },
            "type": "scatterpolargl"
           }
          ],
          "scatterternary": [
           {
            "marker": {
             "colorbar": {
              "outlinewidth": 0,
              "ticks": ""
             }
            },
            "type": "scatterternary"
           }
          ],
          "surface": [
           {
            "colorbar": {
             "outlinewidth": 0,
             "ticks": ""
            },
            "colorscale": [
             [
              0,
              "#0d0887"
             ],
             [
              0.1111111111111111,
              "#46039f"
             ],
             [
              0.2222222222222222,
              "#7201a8"
             ],
             [
              0.3333333333333333,
              "#9c179e"
             ],
             [
              0.4444444444444444,
              "#bd3786"
             ],
             [
              0.5555555555555556,
              "#d8576b"
             ],
             [
              0.6666666666666666,
              "#ed7953"
             ],
             [
              0.7777777777777778,
              "#fb9f3a"
             ],
             [
              0.8888888888888888,
              "#fdca26"
             ],
             [
              1,
              "#f0f921"
             ]
            ],
            "type": "surface"
           }
          ],
          "table": [
           {
            "cells": {
             "fill": {
              "color": "#EBF0F8"
             },
             "line": {
              "color": "white"
             }
            },
            "header": {
             "fill": {
              "color": "#C8D4E3"
             },
             "line": {
              "color": "white"
             }
            },
            "type": "table"
           }
          ]
         },
         "layout": {
          "annotationdefaults": {
           "arrowcolor": "#2a3f5f",
           "arrowhead": 0,
           "arrowwidth": 1
          },
          "autotypenumbers": "strict",
          "coloraxis": {
           "colorbar": {
            "outlinewidth": 0,
            "ticks": ""
           }
          },
          "colorscale": {
           "diverging": [
            [
             0,
             "#8e0152"
            ],
            [
             0.1,
             "#c51b7d"
            ],
            [
             0.2,
             "#de77ae"
            ],
            [
             0.3,
             "#f1b6da"
            ],
            [
             0.4,
             "#fde0ef"
            ],
            [
             0.5,
             "#f7f7f7"
            ],
            [
             0.6,
             "#e6f5d0"
            ],
            [
             0.7,
             "#b8e186"
            ],
            [
             0.8,
             "#7fbc41"
            ],
            [
             0.9,
             "#4d9221"
            ],
            [
             1,
             "#276419"
            ]
           ],
           "sequential": [
            [
             0,
             "#0d0887"
            ],
            [
             0.1111111111111111,
             "#46039f"
            ],
            [
             0.2222222222222222,
             "#7201a8"
            ],
            [
             0.3333333333333333,
             "#9c179e"
            ],
            [
             0.4444444444444444,
             "#bd3786"
            ],
            [
             0.5555555555555556,
             "#d8576b"
            ],
            [
             0.6666666666666666,
             "#ed7953"
            ],
            [
             0.7777777777777778,
             "#fb9f3a"
            ],
            [
             0.8888888888888888,
             "#fdca26"
            ],
            [
             1,
             "#f0f921"
            ]
           ],
           "sequentialminus": [
            [
             0,
             "#0d0887"
            ],
            [
             0.1111111111111111,
             "#46039f"
            ],
            [
             0.2222222222222222,
             "#7201a8"
            ],
            [
             0.3333333333333333,
             "#9c179e"
            ],
            [
             0.4444444444444444,
             "#bd3786"
            ],
            [
             0.5555555555555556,
             "#d8576b"
            ],
            [
             0.6666666666666666,
             "#ed7953"
            ],
            [
             0.7777777777777778,
             "#fb9f3a"
            ],
            [
             0.8888888888888888,
             "#fdca26"
            ],
            [
             1,
             "#f0f921"
            ]
           ]
          },
          "colorway": [
           "#636efa",
           "#EF553B",
           "#00cc96",
           "#ab63fa",
           "#FFA15A",
           "#19d3f3",
           "#FF6692",
           "#B6E880",
           "#FF97FF",
           "#FECB52"
          ],
          "font": {
           "color": "#2a3f5f"
          },
          "geo": {
           "bgcolor": "white",
           "lakecolor": "white",
           "landcolor": "#E5ECF6",
           "showlakes": true,
           "showland": true,
           "subunitcolor": "white"
          },
          "hoverlabel": {
           "align": "left"
          },
          "hovermode": "closest",
          "mapbox": {
           "style": "light"
          },
          "paper_bgcolor": "white",
          "plot_bgcolor": "#E5ECF6",
          "polar": {
           "angularaxis": {
            "gridcolor": "white",
            "linecolor": "white",
            "ticks": ""
           },
           "bgcolor": "#E5ECF6",
           "radialaxis": {
            "gridcolor": "white",
            "linecolor": "white",
            "ticks": ""
           }
          },
          "scene": {
           "xaxis": {
            "backgroundcolor": "#E5ECF6",
            "gridcolor": "white",
            "gridwidth": 2,
            "linecolor": "white",
            "showbackground": true,
            "ticks": "",
            "zerolinecolor": "white"
           },
           "yaxis": {
            "backgroundcolor": "#E5ECF6",
            "gridcolor": "white",
            "gridwidth": 2,
            "linecolor": "white",
            "showbackground": true,
            "ticks": "",
            "zerolinecolor": "white"
           },
           "zaxis": {
            "backgroundcolor": "#E5ECF6",
            "gridcolor": "white",
            "gridwidth": 2,
            "linecolor": "white",
            "showbackground": true,
            "ticks": "",
            "zerolinecolor": "white"
           }
          },
          "shapedefaults": {
           "line": {
            "color": "#2a3f5f"
           }
          },
          "ternary": {
           "aaxis": {
            "gridcolor": "white",
            "linecolor": "white",
            "ticks": ""
           },
           "baxis": {
            "gridcolor": "white",
            "linecolor": "white",
            "ticks": ""
           },
           "bgcolor": "#E5ECF6",
           "caxis": {
            "gridcolor": "white",
            "linecolor": "white",
            "ticks": ""
           }
          },
          "title": {
           "x": 0.05
          },
          "xaxis": {
           "automargin": true,
           "gridcolor": "white",
           "linecolor": "white",
           "ticks": "",
           "title": {
            "standoff": 15
           },
           "zerolinecolor": "white",
           "zerolinewidth": 2
          },
          "yaxis": {
           "automargin": true,
           "gridcolor": "white",
           "linecolor": "white",
           "ticks": "",
           "title": {
            "standoff": 15
           },
           "zerolinecolor": "white",
           "zerolinewidth": 2
          }
         }
        },
        "title": {
         "text": "All Lap times per lap"
        },
        "yaxis": {
         "type": "log"
        }
       }
      }
     },
     "metadata": {},
     "output_type": "display_data"
    }
   ],
   "source": [
    "fig = go.Figure()\n",
    "for col in working_df.columns[1:]:\n",
    "    fig.add_trace(go.Box(y=working_df[col].values.tolist(), name=col, boxmean=True))\n",
    "    fig.update_layout(title='All Lap times per lap')\n",
    "fig.update_yaxes(type=\"log\")\n",
    "fig.show()"
   ]
  },
  {
   "cell_type": "markdown",
   "metadata": {},
   "source": [
    "Plot the Median of each lap"
   ]
  },
  {
   "cell_type": "code",
   "execution_count": 89,
   "metadata": {},
   "outputs": [
    {
     "name": "stderr",
     "output_type": "stream",
     "text": [
      "C:\\Users\\marce\\AppData\\Local\\Temp/ipykernel_19428/3627101626.py:1: FutureWarning:\n",
      "\n",
      "Dropping of nuisance columns in DataFrame reductions (with 'numeric_only=None') is deprecated; in a future version this will raise TypeError.  Select only valid columns before calling the reduction.\n",
      "\n",
      "C:\\Users\\marce\\AppData\\Local\\Temp/ipykernel_19428/3627101626.py:2: FutureWarning:\n",
      "\n",
      "Dropping of nuisance columns in DataFrame reductions (with 'numeric_only=None') is deprecated; in a future version this will raise TypeError.  Select only valid columns before calling the reduction.\n",
      "\n"
     ]
    },
    {
     "data": {
      "application/vnd.plotly.v1+json": {
       "config": {
        "plotlyServerURL": "https://plot.ly"
       },
       "data": [
        {
         "boxmean": true,
         "boxpoints": "all",
         "name": "Median",
         "type": "box",
         "y": [
          107.068,
          96.908,
          95.159,
          95.243,
          94.882,
          94.858,
          94.628,
          94.755,
          94.66,
          95.315,
          95.481,
          94.8665,
          95.362,
          94.353,
          94.41300000000001,
          94.2555,
          94.91749999999999,
          94.2705,
          94.95500000000001,
          94.328,
          93.5475,
          93.97,
          93.8435,
          93.2345,
          93.6875,
          93.1675,
          93.34049999999999,
          93.291,
          93.2185,
          92.753,
          94.083,
          92.642,
          92.05,
          92.097,
          91.924,
          94.82,
          120.851,
          133.473,
          138.40449999999998,
          160.1125,
          135.804,
          94.926,
          92.4745,
          91.787,
          91.4575,
          91.2185,
          91.283,
          91.722,
          91.46,
          91.336,
          90.9,
          91.119,
          90.84100000000001,
          91.483,
          90.921,
          90.823,
          91.584,
          95.335
         ]
        },
        {
         "boxmean": true,
         "boxpoints": "all",
         "name": "Average",
         "type": "box",
         "y": [
          111.13714999999999,
          97.37657894736843,
          95.54610526315791,
          95.4967894736842,
          95.54315789473682,
          95.3457894736842,
          94.95200000000001,
          94.88642105263159,
          94.87410526315789,
          95.20905263157896,
          96.39849999999998,
          96.17422222222223,
          97.65944444444445,
          97.346,
          95.20716666666665,
          97.88088888888889,
          96.75033333333334,
          96.06216666666666,
          97.28883333333332,
          96.04694444444443,
          95.75294444444447,
          95.7903888888889,
          94.59216666666667,
          94.95872222222222,
          94.10300000000001,
          93.50294444444444,
          93.70800000000001,
          94.75794444444446,
          93.74527777777777,
          94.71327777777779,
          96.0593888888889,
          93.58766666666666,
          94.15861111111109,
          94.54283333333333,
          96.33829411764705,
          103.67388235294118,
          125.98152941176471,
          131.80058823529413,
          133.0345625,
          152.00287500000002,
          131.72537499999999,
          95.01306249999999,
          92.6249375,
          91.88181249999998,
          91.7076875,
          91.73825,
          97.24833333333335,
          92.36473333333333,
          91.66319999999999,
          91.91033333333331,
          92.73713333333332,
          92.73026666666668,
          92.00064285714286,
          91.67776923076924,
          91.18007692307694,
          91.23592307692306,
          92.49653846153848,
          96.13927272727274
         ]
        }
       ],
       "layout": {
        "autosize": false,
        "height": 1000,
        "template": {
         "data": {
          "bar": [
           {
            "error_x": {
             "color": "#2a3f5f"
            },
            "error_y": {
             "color": "#2a3f5f"
            },
            "marker": {
             "line": {
              "color": "#E5ECF6",
              "width": 0.5
             },
             "pattern": {
              "fillmode": "overlay",
              "size": 10,
              "solidity": 0.2
             }
            },
            "type": "bar"
           }
          ],
          "barpolar": [
           {
            "marker": {
             "line": {
              "color": "#E5ECF6",
              "width": 0.5
             },
             "pattern": {
              "fillmode": "overlay",
              "size": 10,
              "solidity": 0.2
             }
            },
            "type": "barpolar"
           }
          ],
          "carpet": [
           {
            "aaxis": {
             "endlinecolor": "#2a3f5f",
             "gridcolor": "white",
             "linecolor": "white",
             "minorgridcolor": "white",
             "startlinecolor": "#2a3f5f"
            },
            "baxis": {
             "endlinecolor": "#2a3f5f",
             "gridcolor": "white",
             "linecolor": "white",
             "minorgridcolor": "white",
             "startlinecolor": "#2a3f5f"
            },
            "type": "carpet"
           }
          ],
          "choropleth": [
           {
            "colorbar": {
             "outlinewidth": 0,
             "ticks": ""
            },
            "type": "choropleth"
           }
          ],
          "contour": [
           {
            "colorbar": {
             "outlinewidth": 0,
             "ticks": ""
            },
            "colorscale": [
             [
              0,
              "#0d0887"
             ],
             [
              0.1111111111111111,
              "#46039f"
             ],
             [
              0.2222222222222222,
              "#7201a8"
             ],
             [
              0.3333333333333333,
              "#9c179e"
             ],
             [
              0.4444444444444444,
              "#bd3786"
             ],
             [
              0.5555555555555556,
              "#d8576b"
             ],
             [
              0.6666666666666666,
              "#ed7953"
             ],
             [
              0.7777777777777778,
              "#fb9f3a"
             ],
             [
              0.8888888888888888,
              "#fdca26"
             ],
             [
              1,
              "#f0f921"
             ]
            ],
            "type": "contour"
           }
          ],
          "contourcarpet": [
           {
            "colorbar": {
             "outlinewidth": 0,
             "ticks": ""
            },
            "type": "contourcarpet"
           }
          ],
          "heatmap": [
           {
            "colorbar": {
             "outlinewidth": 0,
             "ticks": ""
            },
            "colorscale": [
             [
              0,
              "#0d0887"
             ],
             [
              0.1111111111111111,
              "#46039f"
             ],
             [
              0.2222222222222222,
              "#7201a8"
             ],
             [
              0.3333333333333333,
              "#9c179e"
             ],
             [
              0.4444444444444444,
              "#bd3786"
             ],
             [
              0.5555555555555556,
              "#d8576b"
             ],
             [
              0.6666666666666666,
              "#ed7953"
             ],
             [
              0.7777777777777778,
              "#fb9f3a"
             ],
             [
              0.8888888888888888,
              "#fdca26"
             ],
             [
              1,
              "#f0f921"
             ]
            ],
            "type": "heatmap"
           }
          ],
          "heatmapgl": [
           {
            "colorbar": {
             "outlinewidth": 0,
             "ticks": ""
            },
            "colorscale": [
             [
              0,
              "#0d0887"
             ],
             [
              0.1111111111111111,
              "#46039f"
             ],
             [
              0.2222222222222222,
              "#7201a8"
             ],
             [
              0.3333333333333333,
              "#9c179e"
             ],
             [
              0.4444444444444444,
              "#bd3786"
             ],
             [
              0.5555555555555556,
              "#d8576b"
             ],
             [
              0.6666666666666666,
              "#ed7953"
             ],
             [
              0.7777777777777778,
              "#fb9f3a"
             ],
             [
              0.8888888888888888,
              "#fdca26"
             ],
             [
              1,
              "#f0f921"
             ]
            ],
            "type": "heatmapgl"
           }
          ],
          "histogram": [
           {
            "marker": {
             "pattern": {
              "fillmode": "overlay",
              "size": 10,
              "solidity": 0.2
             }
            },
            "type": "histogram"
           }
          ],
          "histogram2d": [
           {
            "colorbar": {
             "outlinewidth": 0,
             "ticks": ""
            },
            "colorscale": [
             [
              0,
              "#0d0887"
             ],
             [
              0.1111111111111111,
              "#46039f"
             ],
             [
              0.2222222222222222,
              "#7201a8"
             ],
             [
              0.3333333333333333,
              "#9c179e"
             ],
             [
              0.4444444444444444,
              "#bd3786"
             ],
             [
              0.5555555555555556,
              "#d8576b"
             ],
             [
              0.6666666666666666,
              "#ed7953"
             ],
             [
              0.7777777777777778,
              "#fb9f3a"
             ],
             [
              0.8888888888888888,
              "#fdca26"
             ],
             [
              1,
              "#f0f921"
             ]
            ],
            "type": "histogram2d"
           }
          ],
          "histogram2dcontour": [
           {
            "colorbar": {
             "outlinewidth": 0,
             "ticks": ""
            },
            "colorscale": [
             [
              0,
              "#0d0887"
             ],
             [
              0.1111111111111111,
              "#46039f"
             ],
             [
              0.2222222222222222,
              "#7201a8"
             ],
             [
              0.3333333333333333,
              "#9c179e"
             ],
             [
              0.4444444444444444,
              "#bd3786"
             ],
             [
              0.5555555555555556,
              "#d8576b"
             ],
             [
              0.6666666666666666,
              "#ed7953"
             ],
             [
              0.7777777777777778,
              "#fb9f3a"
             ],
             [
              0.8888888888888888,
              "#fdca26"
             ],
             [
              1,
              "#f0f921"
             ]
            ],
            "type": "histogram2dcontour"
           }
          ],
          "mesh3d": [
           {
            "colorbar": {
             "outlinewidth": 0,
             "ticks": ""
            },
            "type": "mesh3d"
           }
          ],
          "parcoords": [
           {
            "line": {
             "colorbar": {
              "outlinewidth": 0,
              "ticks": ""
             }
            },
            "type": "parcoords"
           }
          ],
          "pie": [
           {
            "automargin": true,
            "type": "pie"
           }
          ],
          "scatter": [
           {
            "marker": {
             "colorbar": {
              "outlinewidth": 0,
              "ticks": ""
             }
            },
            "type": "scatter"
           }
          ],
          "scatter3d": [
           {
            "line": {
             "colorbar": {
              "outlinewidth": 0,
              "ticks": ""
             }
            },
            "marker": {
             "colorbar": {
              "outlinewidth": 0,
              "ticks": ""
             }
            },
            "type": "scatter3d"
           }
          ],
          "scattercarpet": [
           {
            "marker": {
             "colorbar": {
              "outlinewidth": 0,
              "ticks": ""
             }
            },
            "type": "scattercarpet"
           }
          ],
          "scattergeo": [
           {
            "marker": {
             "colorbar": {
              "outlinewidth": 0,
              "ticks": ""
             }
            },
            "type": "scattergeo"
           }
          ],
          "scattergl": [
           {
            "marker": {
             "colorbar": {
              "outlinewidth": 0,
              "ticks": ""
             }
            },
            "type": "scattergl"
           }
          ],
          "scattermapbox": [
           {
            "marker": {
             "colorbar": {
              "outlinewidth": 0,
              "ticks": ""
             }
            },
            "type": "scattermapbox"
           }
          ],
          "scatterpolar": [
           {
            "marker": {
             "colorbar": {
              "outlinewidth": 0,
              "ticks": ""
             }
            },
            "type": "scatterpolar"
           }
          ],
          "scatterpolargl": [
           {
            "marker": {
             "colorbar": {
              "outlinewidth": 0,
              "ticks": ""
             }
            },
            "type": "scatterpolargl"
           }
          ],
          "scatterternary": [
           {
            "marker": {
             "colorbar": {
              "outlinewidth": 0,
              "ticks": ""
             }
            },
            "type": "scatterternary"
           }
          ],
          "surface": [
           {
            "colorbar": {
             "outlinewidth": 0,
             "ticks": ""
            },
            "colorscale": [
             [
              0,
              "#0d0887"
             ],
             [
              0.1111111111111111,
              "#46039f"
             ],
             [
              0.2222222222222222,
              "#7201a8"
             ],
             [
              0.3333333333333333,
              "#9c179e"
             ],
             [
              0.4444444444444444,
              "#bd3786"
             ],
             [
              0.5555555555555556,
              "#d8576b"
             ],
             [
              0.6666666666666666,
              "#ed7953"
             ],
             [
              0.7777777777777778,
              "#fb9f3a"
             ],
             [
              0.8888888888888888,
              "#fdca26"
             ],
             [
              1,
              "#f0f921"
             ]
            ],
            "type": "surface"
           }
          ],
          "table": [
           {
            "cells": {
             "fill": {
              "color": "#EBF0F8"
             },
             "line": {
              "color": "white"
             }
            },
            "header": {
             "fill": {
              "color": "#C8D4E3"
             },
             "line": {
              "color": "white"
             }
            },
            "type": "table"
           }
          ]
         },
         "layout": {
          "annotationdefaults": {
           "arrowcolor": "#2a3f5f",
           "arrowhead": 0,
           "arrowwidth": 1
          },
          "autotypenumbers": "strict",
          "coloraxis": {
           "colorbar": {
            "outlinewidth": 0,
            "ticks": ""
           }
          },
          "colorscale": {
           "diverging": [
            [
             0,
             "#8e0152"
            ],
            [
             0.1,
             "#c51b7d"
            ],
            [
             0.2,
             "#de77ae"
            ],
            [
             0.3,
             "#f1b6da"
            ],
            [
             0.4,
             "#fde0ef"
            ],
            [
             0.5,
             "#f7f7f7"
            ],
            [
             0.6,
             "#e6f5d0"
            ],
            [
             0.7,
             "#b8e186"
            ],
            [
             0.8,
             "#7fbc41"
            ],
            [
             0.9,
             "#4d9221"
            ],
            [
             1,
             "#276419"
            ]
           ],
           "sequential": [
            [
             0,
             "#0d0887"
            ],
            [
             0.1111111111111111,
             "#46039f"
            ],
            [
             0.2222222222222222,
             "#7201a8"
            ],
            [
             0.3333333333333333,
             "#9c179e"
            ],
            [
             0.4444444444444444,
             "#bd3786"
            ],
            [
             0.5555555555555556,
             "#d8576b"
            ],
            [
             0.6666666666666666,
             "#ed7953"
            ],
            [
             0.7777777777777778,
             "#fb9f3a"
            ],
            [
             0.8888888888888888,
             "#fdca26"
            ],
            [
             1,
             "#f0f921"
            ]
           ],
           "sequentialminus": [
            [
             0,
             "#0d0887"
            ],
            [
             0.1111111111111111,
             "#46039f"
            ],
            [
             0.2222222222222222,
             "#7201a8"
            ],
            [
             0.3333333333333333,
             "#9c179e"
            ],
            [
             0.4444444444444444,
             "#bd3786"
            ],
            [
             0.5555555555555556,
             "#d8576b"
            ],
            [
             0.6666666666666666,
             "#ed7953"
            ],
            [
             0.7777777777777778,
             "#fb9f3a"
            ],
            [
             0.8888888888888888,
             "#fdca26"
            ],
            [
             1,
             "#f0f921"
            ]
           ]
          },
          "colorway": [
           "#636efa",
           "#EF553B",
           "#00cc96",
           "#ab63fa",
           "#FFA15A",
           "#19d3f3",
           "#FF6692",
           "#B6E880",
           "#FF97FF",
           "#FECB52"
          ],
          "font": {
           "color": "#2a3f5f"
          },
          "geo": {
           "bgcolor": "white",
           "lakecolor": "white",
           "landcolor": "#E5ECF6",
           "showlakes": true,
           "showland": true,
           "subunitcolor": "white"
          },
          "hoverlabel": {
           "align": "left"
          },
          "hovermode": "closest",
          "mapbox": {
           "style": "light"
          },
          "paper_bgcolor": "white",
          "plot_bgcolor": "#E5ECF6",
          "polar": {
           "angularaxis": {
            "gridcolor": "white",
            "linecolor": "white",
            "ticks": ""
           },
           "bgcolor": "#E5ECF6",
           "radialaxis": {
            "gridcolor": "white",
            "linecolor": "white",
            "ticks": ""
           }
          },
          "scene": {
           "xaxis": {
            "backgroundcolor": "#E5ECF6",
            "gridcolor": "white",
            "gridwidth": 2,
            "linecolor": "white",
            "showbackground": true,
            "ticks": "",
            "zerolinecolor": "white"
           },
           "yaxis": {
            "backgroundcolor": "#E5ECF6",
            "gridcolor": "white",
            "gridwidth": 2,
            "linecolor": "white",
            "showbackground": true,
            "ticks": "",
            "zerolinecolor": "white"
           },
           "zaxis": {
            "backgroundcolor": "#E5ECF6",
            "gridcolor": "white",
            "gridwidth": 2,
            "linecolor": "white",
            "showbackground": true,
            "ticks": "",
            "zerolinecolor": "white"
           }
          },
          "shapedefaults": {
           "line": {
            "color": "#2a3f5f"
           }
          },
          "ternary": {
           "aaxis": {
            "gridcolor": "white",
            "linecolor": "white",
            "ticks": ""
           },
           "baxis": {
            "gridcolor": "white",
            "linecolor": "white",
            "ticks": ""
           },
           "bgcolor": "#E5ECF6",
           "caxis": {
            "gridcolor": "white",
            "linecolor": "white",
            "ticks": ""
           }
          },
          "title": {
           "x": 0.05
          },
          "xaxis": {
           "automargin": true,
           "gridcolor": "white",
           "linecolor": "white",
           "ticks": "",
           "title": {
            "standoff": 15
           },
           "zerolinecolor": "white",
           "zerolinewidth": 2
          },
          "yaxis": {
           "automargin": true,
           "gridcolor": "white",
           "linecolor": "white",
           "ticks": "",
           "title": {
            "standoff": 15
           },
           "zerolinecolor": "white",
           "zerolinewidth": 2
          }
         }
        },
        "title": {
         "text": "Average & Median for all laps"
        }
       }
      }
     },
     "metadata": {},
     "output_type": "display_data"
    }
   ],
   "source": [
    "median = working_df[1:].median(axis=0, skipna=True).tolist()\n",
    "average = working_df[1:].mean(axis=0, skipna=True).tolist()\n",
    "\n",
    "fig = go.Figure()\n",
    "fig.add_trace(go.Box(y=median, name='Median',boxpoints='all',boxmean=True))\n",
    "fig.add_trace(go.Box(y=average, name='Average',boxpoints='all',boxmean=True))\n",
    "fig.update_layout(title='Average & Median for all laps', autosize=False,height=1000,)\n",
    "# fig.update_yaxes(type=\"log\")\n",
    "fig.show()"
   ]
  },
  {
   "cell_type": "markdown",
   "metadata": {},
   "source": [
    "Compare a single drivers lap times to the average lap times\n",
    "\n",
    "This is a on a per lap basis, each lap time is only compared to that individuals average lap time, this accounts for laps were there might be a crash or a pace car since that affects all drivers times\n",
    "\n",
    "Visuallizes how we assign consistancy points\n",
    "\n",
    "*   Times that are below the average are positivly rewarded\n",
    "*   Times that are above the average are negativly rewarded"
   ]
  },
  {
   "cell_type": "code",
   "execution_count": 90,
   "metadata": {},
   "outputs": [
    {
     "name": "stderr",
     "output_type": "stream",
     "text": [
      "C:\\Users\\marce\\AppData\\Local\\Temp/ipykernel_19428/2205422615.py:1: FutureWarning:\n",
      "\n",
      "Dropping of nuisance columns in DataFrame reductions (with 'numeric_only=None') is deprecated; in a future version this will raise TypeError.  Select only valid columns before calling the reduction.\n",
      "\n",
      "C:\\Users\\marce\\AppData\\Local\\Temp/ipykernel_19428/2205422615.py:2: FutureWarning:\n",
      "\n",
      "Dropping of nuisance columns in DataFrame reductions (with 'numeric_only=None') is deprecated; in a future version this will raise TypeError.  Select only valid columns before calling the reduction.\n",
      "\n",
      "c:\\Users\\marce\\AppData\\Local\\Programs\\Python\\Python310\\lib\\site-packages\\plotly\\graph_objs\\_deprecations.py:378: DeprecationWarning:\n",
      "\n",
      "plotly.graph_objs.Line is deprecated.\n",
      "Please replace it with one of the following more specific types\n",
      "  - plotly.graph_objs.scatter.Line\n",
      "  - plotly.graph_objs.layout.shape.Line\n",
      "  - etc.\n",
      "\n",
      "\n"
     ]
    },
    {
     "data": {
      "application/vnd.plotly.v1+json": {
       "config": {
        "plotlyServerURL": "https://plot.ly"
       },
       "data": [
        {
         "line": {
          "dash": "dash"
         },
         "mode": "lines",
         "name": "Average",
         "type": "scatter",
         "x": [
          "Lap 1",
          "Lap 2",
          "Lap 3",
          "Lap 4",
          "Lap 5",
          "Lap 6",
          "Lap 7",
          "Lap 8",
          "Lap 9",
          "Lap 10",
          "Lap 11",
          "Lap 12",
          "Lap 13",
          "Lap 14",
          "Lap 15",
          "Lap 16",
          "Lap 17",
          "Lap 18",
          "Lap 19",
          "Lap 20",
          "Lap 21",
          "Lap 22",
          "Lap 23",
          "Lap 24",
          "Lap 25",
          "Lap 26",
          "Lap 27",
          "Lap 28",
          "Lap 29",
          "Lap 30",
          "Lap 31",
          "Lap 32",
          "Lap 33",
          "Lap 34",
          "Lap 35",
          "Lap 36",
          "Lap 37",
          "Lap 38",
          "Lap 39",
          "Lap 40",
          "Lap 41",
          "Lap 42",
          "Lap 43",
          "Lap 44",
          "Lap 45",
          "Lap 46",
          "Lap 47",
          "Lap 48",
          "Lap 49",
          "Lap 50",
          "Lap 51",
          "Lap 52",
          "Lap 53",
          "Lap 54",
          "Lap 55",
          "Lap 56",
          "Lap 57",
          "Lap 58"
         ],
         "y": [
          111.13714999999999,
          97.37657894736843,
          95.54610526315791,
          95.4967894736842,
          95.54315789473682,
          95.3457894736842,
          94.95200000000001,
          94.88642105263159,
          94.87410526315789,
          95.20905263157896,
          96.39849999999998,
          96.17422222222223,
          97.65944444444445,
          97.346,
          95.20716666666665,
          97.88088888888889,
          96.75033333333334,
          96.06216666666666,
          97.28883333333332,
          96.04694444444443,
          95.75294444444447,
          95.7903888888889,
          94.59216666666667,
          94.95872222222222,
          94.10300000000001,
          93.50294444444444,
          93.70800000000001,
          94.75794444444446,
          93.74527777777777,
          94.71327777777779,
          96.0593888888889,
          93.58766666666666,
          94.15861111111109,
          94.54283333333333,
          96.33829411764705,
          103.67388235294118,
          125.98152941176471,
          131.80058823529413,
          133.0345625,
          152.00287500000002,
          131.72537499999999,
          95.01306249999999,
          92.6249375,
          91.88181249999998,
          91.7076875,
          91.73825,
          97.24833333333335,
          92.36473333333333,
          91.66319999999999,
          91.91033333333331,
          92.73713333333332,
          92.73026666666668,
          92.00064285714286,
          91.67776923076924,
          91.18007692307694,
          91.23592307692306,
          92.49653846153848,
          96.13927272727274
         ]
        },
        {
         "mode": "lines",
         "name": "Median",
         "type": "scatter",
         "x": [
          "Lap 1",
          "Lap 2",
          "Lap 3",
          "Lap 4",
          "Lap 5",
          "Lap 6",
          "Lap 7",
          "Lap 8",
          "Lap 9",
          "Lap 10",
          "Lap 11",
          "Lap 12",
          "Lap 13",
          "Lap 14",
          "Lap 15",
          "Lap 16",
          "Lap 17",
          "Lap 18",
          "Lap 19",
          "Lap 20",
          "Lap 21",
          "Lap 22",
          "Lap 23",
          "Lap 24",
          "Lap 25",
          "Lap 26",
          "Lap 27",
          "Lap 28",
          "Lap 29",
          "Lap 30",
          "Lap 31",
          "Lap 32",
          "Lap 33",
          "Lap 34",
          "Lap 35",
          "Lap 36",
          "Lap 37",
          "Lap 38",
          "Lap 39",
          "Lap 40",
          "Lap 41",
          "Lap 42",
          "Lap 43",
          "Lap 44",
          "Lap 45",
          "Lap 46",
          "Lap 47",
          "Lap 48",
          "Lap 49",
          "Lap 50",
          "Lap 51",
          "Lap 52",
          "Lap 53",
          "Lap 54",
          "Lap 55",
          "Lap 56",
          "Lap 57",
          "Lap 58"
         ],
         "y": [
          107.068,
          96.908,
          95.159,
          95.243,
          94.882,
          94.858,
          94.628,
          94.755,
          94.66,
          95.315,
          95.481,
          94.8665,
          95.362,
          94.353,
          94.41300000000001,
          94.2555,
          94.91749999999999,
          94.2705,
          94.95500000000001,
          94.328,
          93.5475,
          93.97,
          93.8435,
          93.2345,
          93.6875,
          93.1675,
          93.34049999999999,
          93.291,
          93.2185,
          92.753,
          94.083,
          92.642,
          92.05,
          92.097,
          91.924,
          94.82,
          120.851,
          133.473,
          138.40449999999998,
          160.1125,
          135.804,
          94.926,
          92.4745,
          91.787,
          91.4575,
          91.2185,
          91.283,
          91.722,
          91.46,
          91.336,
          90.9,
          91.119,
          90.84100000000001,
          91.483,
          90.921,
          90.823,
          91.584,
          95.335
         ]
        }
       ],
       "layout": {
        "template": {
         "data": {
          "bar": [
           {
            "error_x": {
             "color": "#2a3f5f"
            },
            "error_y": {
             "color": "#2a3f5f"
            },
            "marker": {
             "line": {
              "color": "#E5ECF6",
              "width": 0.5
             },
             "pattern": {
              "fillmode": "overlay",
              "size": 10,
              "solidity": 0.2
             }
            },
            "type": "bar"
           }
          ],
          "barpolar": [
           {
            "marker": {
             "line": {
              "color": "#E5ECF6",
              "width": 0.5
             },
             "pattern": {
              "fillmode": "overlay",
              "size": 10,
              "solidity": 0.2
             }
            },
            "type": "barpolar"
           }
          ],
          "carpet": [
           {
            "aaxis": {
             "endlinecolor": "#2a3f5f",
             "gridcolor": "white",
             "linecolor": "white",
             "minorgridcolor": "white",
             "startlinecolor": "#2a3f5f"
            },
            "baxis": {
             "endlinecolor": "#2a3f5f",
             "gridcolor": "white",
             "linecolor": "white",
             "minorgridcolor": "white",
             "startlinecolor": "#2a3f5f"
            },
            "type": "carpet"
           }
          ],
          "choropleth": [
           {
            "colorbar": {
             "outlinewidth": 0,
             "ticks": ""
            },
            "type": "choropleth"
           }
          ],
          "contour": [
           {
            "colorbar": {
             "outlinewidth": 0,
             "ticks": ""
            },
            "colorscale": [
             [
              0,
              "#0d0887"
             ],
             [
              0.1111111111111111,
              "#46039f"
             ],
             [
              0.2222222222222222,
              "#7201a8"
             ],
             [
              0.3333333333333333,
              "#9c179e"
             ],
             [
              0.4444444444444444,
              "#bd3786"
             ],
             [
              0.5555555555555556,
              "#d8576b"
             ],
             [
              0.6666666666666666,
              "#ed7953"
             ],
             [
              0.7777777777777778,
              "#fb9f3a"
             ],
             [
              0.8888888888888888,
              "#fdca26"
             ],
             [
              1,
              "#f0f921"
             ]
            ],
            "type": "contour"
           }
          ],
          "contourcarpet": [
           {
            "colorbar": {
             "outlinewidth": 0,
             "ticks": ""
            },
            "type": "contourcarpet"
           }
          ],
          "heatmap": [
           {
            "colorbar": {
             "outlinewidth": 0,
             "ticks": ""
            },
            "colorscale": [
             [
              0,
              "#0d0887"
             ],
             [
              0.1111111111111111,
              "#46039f"
             ],
             [
              0.2222222222222222,
              "#7201a8"
             ],
             [
              0.3333333333333333,
              "#9c179e"
             ],
             [
              0.4444444444444444,
              "#bd3786"
             ],
             [
              0.5555555555555556,
              "#d8576b"
             ],
             [
              0.6666666666666666,
              "#ed7953"
             ],
             [
              0.7777777777777778,
              "#fb9f3a"
             ],
             [
              0.8888888888888888,
              "#fdca26"
             ],
             [
              1,
              "#f0f921"
             ]
            ],
            "type": "heatmap"
           }
          ],
          "heatmapgl": [
           {
            "colorbar": {
             "outlinewidth": 0,
             "ticks": ""
            },
            "colorscale": [
             [
              0,
              "#0d0887"
             ],
             [
              0.1111111111111111,
              "#46039f"
             ],
             [
              0.2222222222222222,
              "#7201a8"
             ],
             [
              0.3333333333333333,
              "#9c179e"
             ],
             [
              0.4444444444444444,
              "#bd3786"
             ],
             [
              0.5555555555555556,
              "#d8576b"
             ],
             [
              0.6666666666666666,
              "#ed7953"
             ],
             [
              0.7777777777777778,
              "#fb9f3a"
             ],
             [
              0.8888888888888888,
              "#fdca26"
             ],
             [
              1,
              "#f0f921"
             ]
            ],
            "type": "heatmapgl"
           }
          ],
          "histogram": [
           {
            "marker": {
             "pattern": {
              "fillmode": "overlay",
              "size": 10,
              "solidity": 0.2
             }
            },
            "type": "histogram"
           }
          ],
          "histogram2d": [
           {
            "colorbar": {
             "outlinewidth": 0,
             "ticks": ""
            },
            "colorscale": [
             [
              0,
              "#0d0887"
             ],
             [
              0.1111111111111111,
              "#46039f"
             ],
             [
              0.2222222222222222,
              "#7201a8"
             ],
             [
              0.3333333333333333,
              "#9c179e"
             ],
             [
              0.4444444444444444,
              "#bd3786"
             ],
             [
              0.5555555555555556,
              "#d8576b"
             ],
             [
              0.6666666666666666,
              "#ed7953"
             ],
             [
              0.7777777777777778,
              "#fb9f3a"
             ],
             [
              0.8888888888888888,
              "#fdca26"
             ],
             [
              1,
              "#f0f921"
             ]
            ],
            "type": "histogram2d"
           }
          ],
          "histogram2dcontour": [
           {
            "colorbar": {
             "outlinewidth": 0,
             "ticks": ""
            },
            "colorscale": [
             [
              0,
              "#0d0887"
             ],
             [
              0.1111111111111111,
              "#46039f"
             ],
             [
              0.2222222222222222,
              "#7201a8"
             ],
             [
              0.3333333333333333,
              "#9c179e"
             ],
             [
              0.4444444444444444,
              "#bd3786"
             ],
             [
              0.5555555555555556,
              "#d8576b"
             ],
             [
              0.6666666666666666,
              "#ed7953"
             ],
             [
              0.7777777777777778,
              "#fb9f3a"
             ],
             [
              0.8888888888888888,
              "#fdca26"
             ],
             [
              1,
              "#f0f921"
             ]
            ],
            "type": "histogram2dcontour"
           }
          ],
          "mesh3d": [
           {
            "colorbar": {
             "outlinewidth": 0,
             "ticks": ""
            },
            "type": "mesh3d"
           }
          ],
          "parcoords": [
           {
            "line": {
             "colorbar": {
              "outlinewidth": 0,
              "ticks": ""
             }
            },
            "type": "parcoords"
           }
          ],
          "pie": [
           {
            "automargin": true,
            "type": "pie"
           }
          ],
          "scatter": [
           {
            "marker": {
             "colorbar": {
              "outlinewidth": 0,
              "ticks": ""
             }
            },
            "type": "scatter"
           }
          ],
          "scatter3d": [
           {
            "line": {
             "colorbar": {
              "outlinewidth": 0,
              "ticks": ""
             }
            },
            "marker": {
             "colorbar": {
              "outlinewidth": 0,
              "ticks": ""
             }
            },
            "type": "scatter3d"
           }
          ],
          "scattercarpet": [
           {
            "marker": {
             "colorbar": {
              "outlinewidth": 0,
              "ticks": ""
             }
            },
            "type": "scattercarpet"
           }
          ],
          "scattergeo": [
           {
            "marker": {
             "colorbar": {
              "outlinewidth": 0,
              "ticks": ""
             }
            },
            "type": "scattergeo"
           }
          ],
          "scattergl": [
           {
            "marker": {
             "colorbar": {
              "outlinewidth": 0,
              "ticks": ""
             }
            },
            "type": "scattergl"
           }
          ],
          "scattermapbox": [
           {
            "marker": {
             "colorbar": {
              "outlinewidth": 0,
              "ticks": ""
             }
            },
            "type": "scattermapbox"
           }
          ],
          "scatterpolar": [
           {
            "marker": {
             "colorbar": {
              "outlinewidth": 0,
              "ticks": ""
             }
            },
            "type": "scatterpolar"
           }
          ],
          "scatterpolargl": [
           {
            "marker": {
             "colorbar": {
              "outlinewidth": 0,
              "ticks": ""
             }
            },
            "type": "scatterpolargl"
           }
          ],
          "scatterternary": [
           {
            "marker": {
             "colorbar": {
              "outlinewidth": 0,
              "ticks": ""
             }
            },
            "type": "scatterternary"
           }
          ],
          "surface": [
           {
            "colorbar": {
             "outlinewidth": 0,
             "ticks": ""
            },
            "colorscale": [
             [
              0,
              "#0d0887"
             ],
             [
              0.1111111111111111,
              "#46039f"
             ],
             [
              0.2222222222222222,
              "#7201a8"
             ],
             [
              0.3333333333333333,
              "#9c179e"
             ],
             [
              0.4444444444444444,
              "#bd3786"
             ],
             [
              0.5555555555555556,
              "#d8576b"
             ],
             [
              0.6666666666666666,
              "#ed7953"
             ],
             [
              0.7777777777777778,
              "#fb9f3a"
             ],
             [
              0.8888888888888888,
              "#fdca26"
             ],
             [
              1,
              "#f0f921"
             ]
            ],
            "type": "surface"
           }
          ],
          "table": [
           {
            "cells": {
             "fill": {
              "color": "#EBF0F8"
             },
             "line": {
              "color": "white"
             }
            },
            "header": {
             "fill": {
              "color": "#C8D4E3"
             },
             "line": {
              "color": "white"
             }
            },
            "type": "table"
           }
          ]
         },
         "layout": {
          "annotationdefaults": {
           "arrowcolor": "#2a3f5f",
           "arrowhead": 0,
           "arrowwidth": 1
          },
          "autotypenumbers": "strict",
          "coloraxis": {
           "colorbar": {
            "outlinewidth": 0,
            "ticks": ""
           }
          },
          "colorscale": {
           "diverging": [
            [
             0,
             "#8e0152"
            ],
            [
             0.1,
             "#c51b7d"
            ],
            [
             0.2,
             "#de77ae"
            ],
            [
             0.3,
             "#f1b6da"
            ],
            [
             0.4,
             "#fde0ef"
            ],
            [
             0.5,
             "#f7f7f7"
            ],
            [
             0.6,
             "#e6f5d0"
            ],
            [
             0.7,
             "#b8e186"
            ],
            [
             0.8,
             "#7fbc41"
            ],
            [
             0.9,
             "#4d9221"
            ],
            [
             1,
             "#276419"
            ]
           ],
           "sequential": [
            [
             0,
             "#0d0887"
            ],
            [
             0.1111111111111111,
             "#46039f"
            ],
            [
             0.2222222222222222,
             "#7201a8"
            ],
            [
             0.3333333333333333,
             "#9c179e"
            ],
            [
             0.4444444444444444,
             "#bd3786"
            ],
            [
             0.5555555555555556,
             "#d8576b"
            ],
            [
             0.6666666666666666,
             "#ed7953"
            ],
            [
             0.7777777777777778,
             "#fb9f3a"
            ],
            [
             0.8888888888888888,
             "#fdca26"
            ],
            [
             1,
             "#f0f921"
            ]
           ],
           "sequentialminus": [
            [
             0,
             "#0d0887"
            ],
            [
             0.1111111111111111,
             "#46039f"
            ],
            [
             0.2222222222222222,
             "#7201a8"
            ],
            [
             0.3333333333333333,
             "#9c179e"
            ],
            [
             0.4444444444444444,
             "#bd3786"
            ],
            [
             0.5555555555555556,
             "#d8576b"
            ],
            [
             0.6666666666666666,
             "#ed7953"
            ],
            [
             0.7777777777777778,
             "#fb9f3a"
            ],
            [
             0.8888888888888888,
             "#fdca26"
            ],
            [
             1,
             "#f0f921"
            ]
           ]
          },
          "colorway": [
           "#636efa",
           "#EF553B",
           "#00cc96",
           "#ab63fa",
           "#FFA15A",
           "#19d3f3",
           "#FF6692",
           "#B6E880",
           "#FF97FF",
           "#FECB52"
          ],
          "font": {
           "color": "#2a3f5f"
          },
          "geo": {
           "bgcolor": "white",
           "lakecolor": "white",
           "landcolor": "#E5ECF6",
           "showlakes": true,
           "showland": true,
           "subunitcolor": "white"
          },
          "hoverlabel": {
           "align": "left"
          },
          "hovermode": "closest",
          "mapbox": {
           "style": "light"
          },
          "paper_bgcolor": "white",
          "plot_bgcolor": "#E5ECF6",
          "polar": {
           "angularaxis": {
            "gridcolor": "white",
            "linecolor": "white",
            "ticks": ""
           },
           "bgcolor": "#E5ECF6",
           "radialaxis": {
            "gridcolor": "white",
            "linecolor": "white",
            "ticks": ""
           }
          },
          "scene": {
           "xaxis": {
            "backgroundcolor": "#E5ECF6",
            "gridcolor": "white",
            "gridwidth": 2,
            "linecolor": "white",
            "showbackground": true,
            "ticks": "",
            "zerolinecolor": "white"
           },
           "yaxis": {
            "backgroundcolor": "#E5ECF6",
            "gridcolor": "white",
            "gridwidth": 2,
            "linecolor": "white",
            "showbackground": true,
            "ticks": "",
            "zerolinecolor": "white"
           },
           "zaxis": {
            "backgroundcolor": "#E5ECF6",
            "gridcolor": "white",
            "gridwidth": 2,
            "linecolor": "white",
            "showbackground": true,
            "ticks": "",
            "zerolinecolor": "white"
           }
          },
          "shapedefaults": {
           "line": {
            "color": "#2a3f5f"
           }
          },
          "ternary": {
           "aaxis": {
            "gridcolor": "white",
            "linecolor": "white",
            "ticks": ""
           },
           "baxis": {
            "gridcolor": "white",
            "linecolor": "white",
            "ticks": ""
           },
           "bgcolor": "#E5ECF6",
           "caxis": {
            "gridcolor": "white",
            "linecolor": "white",
            "ticks": ""
           }
          },
          "title": {
           "x": 0.05
          },
          "xaxis": {
           "automargin": true,
           "gridcolor": "white",
           "linecolor": "white",
           "ticks": "",
           "title": {
            "standoff": 15
           },
           "zerolinecolor": "white",
           "zerolinewidth": 2
          },
          "yaxis": {
           "automargin": true,
           "gridcolor": "white",
           "linecolor": "white",
           "ticks": "",
           "title": {
            "standoff": 15
           },
           "zerolinecolor": "white",
           "zerolinewidth": 2
          }
         }
        },
        "title": {
         "text": "Average Time vs Median Time"
        },
        "yaxis": {
         "type": "log"
        }
       }
      }
     },
     "metadata": {},
     "output_type": "display_data"
    }
   ],
   "source": [
    "average = working_df[1:].mean(axis=0, skipna=True).tolist()\n",
    "median = working_df[1:].median(axis=0, skipna=True).tolist()\n",
    "driver = working_df.loc[working_df['Drivers'] == 'alonso']\n",
    "driver1 = working_df.loc[working_df['Drivers'] == 'hamilton']\n",
    "\n",
    "fig = go.Figure()\n",
    "# Average Line\n",
    "fig.add_trace(go.Line(x=driver.columns[1:].values.flatten().tolist(),y=average, name='Average', mode='lines', line = dict(dash='dash')))\n",
    "fig.add_trace(go.Line(x=driver.columns[1:].values.flatten().tolist(),y=median, name='Median', mode='lines'))\n",
    "# Drivers Line\n",
    "# fig.add_trace(go.Line(x=driver.columns[1:].values.flatten().tolist(),y=driver.iloc[0].values[1:].flatten().tolist(), name='Alonso'))\n",
    "# fig.add_trace(go.Line(x=driver1.columns[1:].values.flatten().tolist(),y=driver1.iloc[0].values[1:].flatten().tolist(), name='Hamilton'))\n",
    "fig.update_layout(title='Average Time vs Median Time')\n",
    "fig.update_yaxes(type=\"log\")\n",
    "fig.show()"
   ]
  },
  {
   "cell_type": "markdown",
   "metadata": {},
   "source": [
    "Boxplot that compares all drivers to each other.\n",
    "\n",
    "Each point on a driver is a laptime, showing their range. \n",
    "\n",
    "*   The higher the points, slower the time\n",
    "*   The lower the points, faster the time\n",
    "\n",
    "Each driver is expected to have some outliers due to accidents on track, but its the consistancy of the range that shows how good a driver is.\n",
    "\n",
    "This does not factor in the team of the driver. There are always good and bad teams which is a big factor on how fast a driver is, but is not a big factor in terms of consistancy. They do contribute to a small degree, but this graph does not weight that in\n",
    "\n",
    "Also, the average line is the total lap average across the entire race. Because of this, any accidents that affect lap times will impact the average. For this we used the median"
   ]
  },
  {
   "cell_type": "code",
   "execution_count": 91,
   "metadata": {},
   "outputs": [
    {
     "name": "stderr",
     "output_type": "stream",
     "text": [
      "C:\\Users\\marce\\AppData\\Local\\Temp/ipykernel_19428/369823127.py:1: FutureWarning:\n",
      "\n",
      "Dropping of nuisance columns in DataFrame reductions (with 'numeric_only=None') is deprecated; in a future version this will raise TypeError.  Select only valid columns before calling the reduction.\n",
      "\n",
      "C:\\Users\\marce\\AppData\\Local\\Temp/ipykernel_19428/369823127.py:4: FutureWarning:\n",
      "\n",
      "Dropping of nuisance columns in DataFrame reductions (with 'numeric_only=None') is deprecated; in a future version this will raise TypeError.  Select only valid columns before calling the reduction.\n",
      "\n"
     ]
    },
    {
     "data": {
      "application/vnd.plotly.v1+json": {
       "config": {
        "plotlyServerURL": "https://plot.ly"
       },
       "data": [
        {
         "marker": {
          "color": "black"
         },
         "name": "Average",
         "type": "box",
         "x": [
          "alonso",
          "bruno_senna",
          "button",
          "glock",
          "grosjean",
          "hamilton",
          "kobayashi",
          "kovalainen",
          "maldonado",
          "massa",
          "michael_schumacher",
          "perez",
          "petrov",
          "pic",
          "raikkonen",
          "resta",
          "ricciardo",
          "rosberg",
          "vergne",
          "vettel",
          "webber"
         ],
         "y": [
          98.4838258027765,
          98.4838258027765,
          98.4838258027765,
          98.4838258027765,
          98.4838258027765,
          98.4838258027765,
          98.4838258027765,
          98.4838258027765,
          98.4838258027765,
          98.4838258027765,
          98.4838258027765,
          98.4838258027765,
          98.4838258027765,
          98.4838258027765,
          98.4838258027765,
          98.4838258027765,
          98.4838258027765,
          98.4838258027765,
          98.4838258027765,
          98.4838258027765,
          98.4838258027765,
          98.4838258027765,
          98.4838258027765,
          98.4838258027765,
          98.4838258027765,
          98.4838258027765,
          98.4838258027765,
          98.4838258027765,
          98.4838258027765,
          98.4838258027765,
          98.4838258027765,
          98.4838258027765,
          98.4838258027765,
          98.4838258027765,
          98.4838258027765,
          98.4838258027765,
          98.4838258027765,
          98.4838258027765,
          98.4838258027765,
          98.4838258027765,
          98.4838258027765,
          98.4838258027765,
          98.4838258027765,
          98.4838258027765,
          98.4838258027765,
          98.4838258027765,
          98.4838258027765,
          98.4838258027765,
          98.4838258027765,
          98.4838258027765,
          98.4838258027765,
          98.4838258027765,
          98.4838258027765,
          98.4838258027765,
          98.4838258027765,
          98.4838258027765,
          98.4838258027765,
          98.4838258027765
         ]
        },
        {
         "marker": {
          "color": "black"
         },
         "name": "Median",
         "type": "box",
         "x": [
          "alonso",
          "bruno_senna",
          "button",
          "glock",
          "grosjean",
          "hamilton",
          "kobayashi",
          "kovalainen",
          "maldonado",
          "massa",
          "michael_schumacher",
          "perez",
          "petrov",
          "pic",
          "raikkonen",
          "resta",
          "ricciardo",
          "rosberg",
          "vergne",
          "vettel",
          "webber"
         ],
         "y": [
          94.0265,
          94.0265,
          94.0265,
          94.0265,
          94.0265,
          94.0265,
          94.0265,
          94.0265,
          94.0265,
          94.0265,
          94.0265,
          94.0265,
          94.0265,
          94.0265,
          94.0265,
          94.0265,
          94.0265,
          94.0265,
          94.0265,
          94.0265,
          94.0265,
          94.0265,
          94.0265,
          94.0265,
          94.0265,
          94.0265,
          94.0265,
          94.0265,
          94.0265,
          94.0265,
          94.0265,
          94.0265,
          94.0265,
          94.0265,
          94.0265,
          94.0265,
          94.0265,
          94.0265,
          94.0265,
          94.0265,
          94.0265,
          94.0265,
          94.0265,
          94.0265,
          94.0265,
          94.0265,
          94.0265,
          94.0265,
          94.0265,
          94.0265,
          94.0265,
          94.0265,
          94.0265,
          94.0265,
          94.0265,
          94.0265,
          94.0265,
          94.0265
         ]
        },
        {
         "name": "alonso",
         "type": "box",
         "y": [
          104.733,
          95.866,
          94.081,
          94.186,
          94.22,
          95.651,
          94.207,
          94.465,
          93.893,
          93.897,
          95.44,
          94.535,
          110.958,
          99.472,
          93.093,
          92.867,
          93.978,
          94.326,
          93.586,
          93.147,
          93.535,
          94.916,
          93.169,
          92.67,
          92.662,
          92.895,
          93.152,
          92.68,
          92.535,
          92.506,
          93.13,
          92.817,
          92.683,
          111.326,
          98.399,
          91.855,
          112.525,
          138.746,
          141.499,
          160.468,
          138.652,
          94.114,
          92.071,
          90.978,
          91.438,
          90.332,
          90.632,
          90.86,
          91.317,
          91.14,
          90.506,
          90.277,
          90.593,
          90.675,
          90.894,
          91.025,
          91.019,
          93.838
         ]
        },
        {
         "name": "bruno_senna",
         "type": "box",
         "y": [
          136.893,
          102.348,
          96.241,
          96.368,
          95.74,
          95.524,
          95.434,
          95.925,
          95.029,
          95.465,
          95.358,
          94.879,
          95.783,
          95.339,
          94.096,
          94.194,
          95.148,
          94.847,
          95.269,
          94.588,
          94.601,
          94.642,
          94.304,
          94.513,
          95.132,
          94.193,
          94.288,
          94.234,
          93.883,
          114.934,
          101.386,
          94.457,
          92.1,
          91.872,
          91.807,
          101.63,
          117.34,
          97.438,
          125.271,
          157.642,
          133.187,
          97.401,
          93.142,
          91.841,
          91.866,
          92.021,
          171.417,
          100.476,
          90.855,
          91.999,
          93.469,
          91.119,
          null,
          null,
          null,
          null,
          null,
          null
         ]
        },
        {
         "name": "button",
         "type": "box",
         "y": [
          99.264,
          93.414,
          93.35,
          93.131,
          92.984,
          93.117,
          93.244,
          93.124,
          93.394,
          93.767,
          93.985,
          93.628,
          93.97,
          94.164,
          94.645,
          114.021,
          99.358,
          93.348,
          93.3,
          92.88,
          92.903,
          93.141,
          92.84,
          92.701,
          92.76,
          92.152,
          91.943,
          91.788,
          91.813,
          91.812,
          91.565,
          91.597,
          91.632,
          91.989,
          92.215,
          111.349,
          111.615,
          164.349,
          143.729,
          159.748,
          141.646,
          91.355,
          90.567,
          90.232,
          90.22,
          90.014,
          89.828,
          90.702,
          90.081,
          89.858,
          90.049,
          90.047,
          90.124,
          89.697,
          89.645,
          89.187,
          89.738,
          90.846
         ]
        },
        {
         "name": "glock",
         "type": "box",
         "y": [
          110.819,
          98.975,
          98.691,
          97.576,
          97.679,
          97.845,
          99.003,
          97.121,
          96.844,
          96.951,
          97.036,
          96.903,
          96.973,
          96.933,
          96.683,
          96.914,
          96.654,
          97.755,
          97.596,
          119.967,
          105.105,
          95.673,
          95.601,
          97.93,
          95.446,
          99.366,
          96.681,
          94.642,
          95.398,
          95.566,
          97.256,
          97.121,
          97.734,
          96.016,
          96.853,
          139.057,
          123.479,
          126.206,
          127.162,
          97.755,
          96.251,
          95.053,
          94.253,
          94.516,
          94.456,
          94.259,
          97.537,
          94.943,
          94.497,
          94.407,
          94.723,
          94.784,
          94.451,
          99.855,
          97.174,
          99.441,
          109.259,
          null
         ]
        },
        {
         "name": "grosjean",
         "type": "box",
         "y": [
          103.73,
          null,
          null,
          null,
          null,
          null,
          null,
          null,
          null,
          null,
          null,
          null,
          null,
          null,
          null,
          null,
          null,
          null,
          null,
          null,
          null,
          null,
          null,
          null,
          null,
          null,
          null,
          null,
          null,
          null,
          null,
          null,
          null,
          null,
          null,
          null,
          null,
          null,
          null,
          null,
          null,
          null,
          null,
          null,
          null,
          null,
          null,
          null,
          null,
          null,
          null,
          null,
          null,
          null,
          null,
          null,
          null,
          null
         ]
        },
        {
         "name": "hamilton",
         "type": "box",
         "y": [
          100.622,
          94.297,
          93.566,
          93.347,
          93.446,
          93.38,
          93.315,
          93.461,
          93.561,
          93.471,
          93.617,
          93.732,
          93.881,
          94.255,
          94.73,
          96.403,
          115.417,
          100.734,
          93.813,
          94.233,
          93.156,
          93.111,
          93.285,
          91.74,
          92.068,
          91.593,
          91.814,
          91.834,
          91.743,
          91.731,
          91.82,
          92.362,
          92,
          92.082,
          92.209,
          111.396,
          114.656,
          152.354,
          143.484,
          160.66,
          140.014,
          93.63,
          91.502,
          90.535,
          90.378,
          89.865,
          90.108,
          90.081,
          90.179,
          90.019,
          90.052,
          89.927,
          90.188,
          90.041,
          89.696,
          89.641,
          89.538,
          89.867
         ]
        },
        {
         "name": "kobayashi",
         "type": "box",
         "y": [
          106.88,
          97.177,
          95.312,
          97.945,
          94.491,
          94.858,
          94.529,
          94.347,
          95.434,
          96.097,
          95.735,
          94.854,
          117.167,
          99.289,
          92.895,
          92.776,
          94.564,
          93.125,
          93.211,
          93.105,
          93.221,
          93.307,
          93.378,
          93.318,
          95.876,
          93.546,
          93.958,
          93.345,
          92.819,
          92.659,
          92.688,
          92.61,
          92.535,
          92.871,
          92.989,
          113.618,
          120.78,
          121.021,
          136.87,
          160.728,
          135.323,
          94.707,
          92.37,
          91.982,
          91.321,
          91.196,
          91.283,
          91.668,
          91.767,
          91.235,
          91.086,
          92.677,
          92.316,
          91.699,
          90.62,
          91.19,
          92.628,
          95.335
         ]
        },
        {
         "name": "kovalainen",
         "type": "box",
         "y": [
          113.018,
          97.69,
          98.084,
          97.656,
          97.54,
          97.799,
          95.634,
          95.239,
          95.14,
          95.702,
          95.27,
          95.882,
          95.464,
          115.735,
          102.491,
          95.637,
          94.884,
          94.357,
          95.198,
          94.697,
          94.669,
          94.899,
          94.157,
          93.768,
          93.949,
          93.693,
          93.842,
          94.201,
          94.022,
          94.002,
          94.923,
          94.161,
          94.972,
          116.776,
          101.693,
          109.691,
          173.81,
          138.332,
          null,
          null,
          null,
          null,
          null,
          null,
          null,
          null,
          null,
          null,
          null,
          null,
          null,
          null,
          null,
          null,
          null,
          null,
          null,
          null
         ]
        },
        {
         "name": "maldonado",
         "type": "box",
         "y": [
          104.212,
          96.857,
          94.569,
          94.068,
          100.441,
          94.096,
          94.874,
          94.983,
          94.51,
          93.682,
          93.552,
          93.816,
          94.11,
          93.944,
          94.286,
          113.932,
          99.383,
          92.358,
          92.72,
          92.617,
          92.63,
          93.049,
          93.843,
          95.904,
          92.359,
          92.14,
          92.31,
          92.547,
          92.517,
          93.69,
          95.032,
          92.07,
          91.905,
          92.112,
          91.909,
          92.213,
          126.98,
          143.593,
          141.435,
          159.962,
          138.699,
          94.111,
          92.246,
          91.065,
          91.594,
          90.444,
          90.375,
          90.619,
          91.46,
          91.243,
          90.641,
          90.316,
          90.254,
          90.873,
          90.921,
          90.713,
          91.075,
          null
         ]
        },
        {
         "name": "massa",
         "type": "box",
         "y": [
          106.714,
          96.908,
          95.111,
          95.243,
          95.208,
          94.631,
          94.628,
          95.261,
          96.496,
          96.091,
          113.934,
          99.595,
          93.308,
          93.71,
          94.633,
          93.884,
          94.39,
          94.184,
          93.969,
          93.92,
          93.742,
          93.999,
          93.571,
          93.669,
          94.958,
          93.98,
          95.902,
          115.749,
          99.404,
          92.696,
          92.543,
          92.81,
          92.84,
          94.975,
          93.147,
          94.82,
          136.302,
          107.405,
          126.547,
          158.242,
          133.723,
          96.965,
          92.591,
          92.059,
          92.394,
          91.94,
          null,
          null,
          null,
          null,
          null,
          null,
          null,
          null,
          null,
          null,
          null,
          null
         ]
        },
        {
         "name": "michael_schumacher",
         "type": "box",
         "y": [
          102.002,
          95.127,
          94.402,
          94.021,
          94.359,
          94.347,
          94.246,
          94.43,
          94.215,
          95.021,
          null,
          null,
          null,
          null,
          null,
          null,
          null,
          null,
          null,
          null,
          null,
          null,
          null,
          null,
          null,
          null,
          null,
          null,
          null,
          null,
          null,
          null,
          null,
          null,
          null,
          null,
          null,
          null,
          null,
          null,
          null,
          null,
          null,
          null,
          null,
          null,
          null,
          null,
          null,
          null,
          null,
          null,
          null,
          null,
          null,
          null,
          null,
          null
         ]
        },
        {
         "name": "perez",
         "type": "box",
         "y": [
          107.256,
          97.3,
          95.783,
          95.517,
          94.76,
          95.046,
          94.293,
          95.159,
          95.288,
          96.119,
          97.623,
          94.673,
          95.26,
          94.109,
          93.973,
          93.678,
          93.621,
          95.028,
          94.214,
          94.423,
          96.559,
          95.293,
          97.174,
          116.511,
          100.236,
          92.176,
          91.829,
          92.513,
          91.788,
          91.743,
          91.526,
          91.763,
          91.584,
          91.38,
          91.335,
          91.671,
          113.182,
          139.152,
          141.342,
          159.99,
          138.39,
          94.546,
          92.208,
          91.386,
          91.121,
          90.843,
          91.155,
          91.985,
          91.798,
          91.583,
          91.696,
          91.459,
          91.475,
          91.621,
          91.559,
          91.812,
          92.353,
          100.163
         ]
        },
        {
         "name": "petrov",
         "type": "box",
         "y": [
          115.829,
          97.612,
          96.479,
          97.006,
          97.796,
          97.483,
          96.031,
          95.532,
          95.263,
          95.67,
          95.152,
          95.051,
          95.99,
          95.194,
          94.19,
          94.317,
          94.951,
          117.001,
          100.653,
          95.131,
          93.74,
          95.282,
          93.844,
          93.947,
          93.771,
          93.4,
          93.214,
          93.709,
          94.774,
          93.778,
          93.254,
          93.78,
          96.15,
          93.939,
          null,
          null,
          null,
          null,
          null,
          null,
          null,
          null,
          null,
          null,
          null,
          null,
          null,
          null,
          null,
          null,
          null,
          null,
          null,
          null,
          null,
          null,
          null,
          null
         ]
        },
        {
         "name": "pic",
         "type": "box",
         "y": [
          115.732,
          100.285,
          98.405,
          98.239,
          98.622,
          98.092,
          97.852,
          97.509,
          97.196,
          97.308,
          97.446,
          97.124,
          97.156,
          97.912,
          96.986,
          97.499,
          99.433,
          97.889,
          97.468,
          97.234,
          118.777,
          107.798,
          98.511,
          96.344,
          96.664,
          96.874,
          99.425,
          96.862,
          99.128,
          103.359,
          99.385,
          98.171,
          97.168,
          98.54,
          151.24,
          143.794,
          142.29,
          116.159,
          99.311,
          97.345,
          96.196,
          96.597,
          96.252,
          95.295,
          95.011,
          99.001,
          96.733,
          95.756,
          95.829,
          99.32,
          114.81,
          113.956,
          103.299,
          null,
          null,
          null,
          null,
          null
         ]
        },
        {
         "name": "raikkonen",
         "type": "box",
         "y": [
          108.46,
          96.631,
          95.743,
          96.903,
          94.882,
          94.578,
          94.726,
          94.196,
          95.173,
          96.32,
          95.766,
          94.626,
          95.793,
          93.066,
          93.453,
          93.816,
          94.075,
          94.171,
          115.052,
          99.146,
          92.562,
          92.589,
          92.757,
          93.137,
          94.496,
          93.78,
          92.2,
          92.399,
          92.1,
          92.12,
          92.352,
          92.348,
          91.853,
          91.721,
          91.929,
          91.553,
          129.819,
          137.935,
          139.939,
          160.62,
          136.285,
          95.599,
          93.107,
          91.67,
          91.299,
          90.966,
          91.961,
          91.75,
          92.046,
          90.759,
          90.9,
          91.784,
          92.605,
          91.749,
          91.065,
          90.823,
          92.403,
          96.023
         ]
        },
        {
         "name": "resta",
         "type": "box",
         "y": [
          110.849,
          96.182,
          95.767,
          95.422,
          95.6,
          94.958,
          94.821,
          94.755,
          94.613,
          95.315,
          96.687,
          95.318,
          115.738,
          99.845,
          93.566,
          93.436,
          93.763,
          93.751,
          93.503,
          94.104,
          93.355,
          93.358,
          93.007,
          93.01,
          93.604,
          93.536,
          94.078,
          95.794,
          93.123,
          92.81,
          92.978,
          92.674,
          113.392,
          98.771,
          91.916,
          92.298,
          117.698,
          116.308,
          136.243,
          161.174,
          134.698,
          95.773,
          92.963,
          92.4,
          91.834,
          92.042,
          91.986,
          92.197,
          91.855,
          94.145,
          91.391,
          91.378,
          91.233,
          91.491,
          90.891,
          90.747,
          90.605,
          94.553
         ]
        },
        {
         "name": "ricciardo",
         "type": "box",
         "y": [
          157.333,
          104.1,
          95.145,
          94.2,
          94.304,
          94.056,
          94.042,
          94.747,
          94.054,
          94.037,
          93.823,
          93.967,
          94.02,
          94.115,
          95.19,
          97.221,
          96.653,
          94.59,
          94.772,
          94.966,
          95.367,
          115.031,
          102.451,
          92.939,
          92.958,
          92.776,
          92.449,
          92.197,
          91.797,
          91.598,
          98.002,
          92.929,
          92.312,
          92.165,
          91.789,
          102.248,
          117.281,
          117.707,
          107.177,
          155.887,
          131.166,
          96.826,
          92.579,
          91.84,
          92.274,
          91.899,
          93.183,
          91.029,
          90.669,
          91.389,
          90.636,
          90.63,
          90.592,
          91.483,
          91.547,
          90.824,
          91.584,
          96.576
         ]
        },
        {
         "name": "rosberg",
         "type": "box",
         "y": [
          102.666,
          96.234,
          94.825,
          94.497,
          94.33,
          95.829,
          94.218,
          93.98,
          94.014,
          93.981,
          95.604,
          113.413,
          100.088,
          93.33,
          93.454,
          92.931,
          93.139,
          93.873,
          95.22,
          92.954,
          93.064,
          93.941,
          94.361,
          93.151,
          92.811,
          92.85,
          93.462,
          93.237,
          93.858,
          94.067,
          113.519,
          100.686,
          91.466,
          91.734,
          91.924,
          91.19,
          114.355,
          133.473,
          140.768,
          160.873,
          137.246,
          94.799,
          92.26,
          91.734,
          91.095,
          91.241,
          90.937,
          91.722,
          91.726,
          91.336,
          91.47,
          93.199,
          90.931,
          91.43,
          91.007,
          91.38,
          92.508,
          117.816
         ]
        },
        {
         "name": "vergne",
         "type": "box",
         "y": [
          112.099,
          97.919,
          95.159,
          94.567,
          95.085,
          94.667,
          95.057,
          95.05,
          94.66,
          95.247,
          95.927,
          95.765,
          95.048,
          94.451,
          94.54,
          93.985,
          94.294,
          96.191,
          117.339,
          98.992,
          92.475,
          92.353,
          91.978,
          91.947,
          91.76,
          92.007,
          93.968,
          95.632,
          93.314,
          92.672,
          104.134,
          91.882,
          91.924,
          91.697,
          91.775,
          92.369,
          135.848,
          120.898,
          132.696,
          160.916,
          133.946,
          95.809,
          92.925,
          92.245,
          91.986,
          91.873,
          92.324,
          92.216,
          91.453,
          91.519,
          90.341,
          90.274,
          90.751,
          92.025,
          91.541,
          90.94,
          91.909,
          97.049
         ]
        },
        {
         "name": "vettel",
         "type": "box",
         "y": [
          103.029,
          95.16,
          93.848,
          94.148,
          94.174,
          96.499,
          93.69,
          93.632,
          93.5,
          94.853,
          93.605,
          93.308,
          93.582,
          93.685,
          93.75,
          114.857,
          99.517,
          93.273,
          92.764,
          92.945,
          94.467,
          92.588,
          93.174,
          92.182,
          92.028,
          92.056,
          92.162,
          91.741,
          92.107,
          91.621,
          91.794,
          92.059,
          91.947,
          91.843,
          91.865,
          91.874,
          120.851,
          163.068,
          143.569,
          160.235,
          141.015,
          93.226,
          91.477,
          90.585,
          90.221,
          90.033,
          89.899,
          90.16,
          90.287,
          90.033,
          89.888,
          89.69,
          89.869,
          89.587,
          89.995,
          89.59,
          89.417,
          89.682
         ]
        },
        {
         "name": "webber",
         "type": "box",
         "y": [
          105.336,
          95.939,
          94.896,
          94.585,
          93.879,
          94.765,
          94.451,
          94.391,
          94.224,
          93.875,
          95.053,
          94.602,
          94.539,
          113.152,
          100.168,
          92.355,
          92.262,
          92.644,
          95.138,
          92.943,
          93.16,
          94.173,
          94.423,
          92.546,
          92.978,
          92.935,
          93.219,
          93.219,
          93.827,
          93.981,
          94.912,
          91.098,
          91.341,
          91.288,
          91.156,
          91.685,
          125.4,
          145.212,
          143.01,
          160.269,
          139.821,
          93.812,
          91.557,
          90.724,
          90.253,
          90.175,
          89.999,
          90.167,
          90.446,
          89.81,
          89.905,
          89.714,
          89.921,
          90.26,
          89.68,
          89.779,
          89.438,
          89.622
         ]
        }
       ],
       "layout": {
        "template": {
         "data": {
          "bar": [
           {
            "error_x": {
             "color": "#2a3f5f"
            },
            "error_y": {
             "color": "#2a3f5f"
            },
            "marker": {
             "line": {
              "color": "#E5ECF6",
              "width": 0.5
             },
             "pattern": {
              "fillmode": "overlay",
              "size": 10,
              "solidity": 0.2
             }
            },
            "type": "bar"
           }
          ],
          "barpolar": [
           {
            "marker": {
             "line": {
              "color": "#E5ECF6",
              "width": 0.5
             },
             "pattern": {
              "fillmode": "overlay",
              "size": 10,
              "solidity": 0.2
             }
            },
            "type": "barpolar"
           }
          ],
          "carpet": [
           {
            "aaxis": {
             "endlinecolor": "#2a3f5f",
             "gridcolor": "white",
             "linecolor": "white",
             "minorgridcolor": "white",
             "startlinecolor": "#2a3f5f"
            },
            "baxis": {
             "endlinecolor": "#2a3f5f",
             "gridcolor": "white",
             "linecolor": "white",
             "minorgridcolor": "white",
             "startlinecolor": "#2a3f5f"
            },
            "type": "carpet"
           }
          ],
          "choropleth": [
           {
            "colorbar": {
             "outlinewidth": 0,
             "ticks": ""
            },
            "type": "choropleth"
           }
          ],
          "contour": [
           {
            "colorbar": {
             "outlinewidth": 0,
             "ticks": ""
            },
            "colorscale": [
             [
              0,
              "#0d0887"
             ],
             [
              0.1111111111111111,
              "#46039f"
             ],
             [
              0.2222222222222222,
              "#7201a8"
             ],
             [
              0.3333333333333333,
              "#9c179e"
             ],
             [
              0.4444444444444444,
              "#bd3786"
             ],
             [
              0.5555555555555556,
              "#d8576b"
             ],
             [
              0.6666666666666666,
              "#ed7953"
             ],
             [
              0.7777777777777778,
              "#fb9f3a"
             ],
             [
              0.8888888888888888,
              "#fdca26"
             ],
             [
              1,
              "#f0f921"
             ]
            ],
            "type": "contour"
           }
          ],
          "contourcarpet": [
           {
            "colorbar": {
             "outlinewidth": 0,
             "ticks": ""
            },
            "type": "contourcarpet"
           }
          ],
          "heatmap": [
           {
            "colorbar": {
             "outlinewidth": 0,
             "ticks": ""
            },
            "colorscale": [
             [
              0,
              "#0d0887"
             ],
             [
              0.1111111111111111,
              "#46039f"
             ],
             [
              0.2222222222222222,
              "#7201a8"
             ],
             [
              0.3333333333333333,
              "#9c179e"
             ],
             [
              0.4444444444444444,
              "#bd3786"
             ],
             [
              0.5555555555555556,
              "#d8576b"
             ],
             [
              0.6666666666666666,
              "#ed7953"
             ],
             [
              0.7777777777777778,
              "#fb9f3a"
             ],
             [
              0.8888888888888888,
              "#fdca26"
             ],
             [
              1,
              "#f0f921"
             ]
            ],
            "type": "heatmap"
           }
          ],
          "heatmapgl": [
           {
            "colorbar": {
             "outlinewidth": 0,
             "ticks": ""
            },
            "colorscale": [
             [
              0,
              "#0d0887"
             ],
             [
              0.1111111111111111,
              "#46039f"
             ],
             [
              0.2222222222222222,
              "#7201a8"
             ],
             [
              0.3333333333333333,
              "#9c179e"
             ],
             [
              0.4444444444444444,
              "#bd3786"
             ],
             [
              0.5555555555555556,
              "#d8576b"
             ],
             [
              0.6666666666666666,
              "#ed7953"
             ],
             [
              0.7777777777777778,
              "#fb9f3a"
             ],
             [
              0.8888888888888888,
              "#fdca26"
             ],
             [
              1,
              "#f0f921"
             ]
            ],
            "type": "heatmapgl"
           }
          ],
          "histogram": [
           {
            "marker": {
             "pattern": {
              "fillmode": "overlay",
              "size": 10,
              "solidity": 0.2
             }
            },
            "type": "histogram"
           }
          ],
          "histogram2d": [
           {
            "colorbar": {
             "outlinewidth": 0,
             "ticks": ""
            },
            "colorscale": [
             [
              0,
              "#0d0887"
             ],
             [
              0.1111111111111111,
              "#46039f"
             ],
             [
              0.2222222222222222,
              "#7201a8"
             ],
             [
              0.3333333333333333,
              "#9c179e"
             ],
             [
              0.4444444444444444,
              "#bd3786"
             ],
             [
              0.5555555555555556,
              "#d8576b"
             ],
             [
              0.6666666666666666,
              "#ed7953"
             ],
             [
              0.7777777777777778,
              "#fb9f3a"
             ],
             [
              0.8888888888888888,
              "#fdca26"
             ],
             [
              1,
              "#f0f921"
             ]
            ],
            "type": "histogram2d"
           }
          ],
          "histogram2dcontour": [
           {
            "colorbar": {
             "outlinewidth": 0,
             "ticks": ""
            },
            "colorscale": [
             [
              0,
              "#0d0887"
             ],
             [
              0.1111111111111111,
              "#46039f"
             ],
             [
              0.2222222222222222,
              "#7201a8"
             ],
             [
              0.3333333333333333,
              "#9c179e"
             ],
             [
              0.4444444444444444,
              "#bd3786"
             ],
             [
              0.5555555555555556,
              "#d8576b"
             ],
             [
              0.6666666666666666,
              "#ed7953"
             ],
             [
              0.7777777777777778,
              "#fb9f3a"
             ],
             [
              0.8888888888888888,
              "#fdca26"
             ],
             [
              1,
              "#f0f921"
             ]
            ],
            "type": "histogram2dcontour"
           }
          ],
          "mesh3d": [
           {
            "colorbar": {
             "outlinewidth": 0,
             "ticks": ""
            },
            "type": "mesh3d"
           }
          ],
          "parcoords": [
           {
            "line": {
             "colorbar": {
              "outlinewidth": 0,
              "ticks": ""
             }
            },
            "type": "parcoords"
           }
          ],
          "pie": [
           {
            "automargin": true,
            "type": "pie"
           }
          ],
          "scatter": [
           {
            "marker": {
             "colorbar": {
              "outlinewidth": 0,
              "ticks": ""
             }
            },
            "type": "scatter"
           }
          ],
          "scatter3d": [
           {
            "line": {
             "colorbar": {
              "outlinewidth": 0,
              "ticks": ""
             }
            },
            "marker": {
             "colorbar": {
              "outlinewidth": 0,
              "ticks": ""
             }
            },
            "type": "scatter3d"
           }
          ],
          "scattercarpet": [
           {
            "marker": {
             "colorbar": {
              "outlinewidth": 0,
              "ticks": ""
             }
            },
            "type": "scattercarpet"
           }
          ],
          "scattergeo": [
           {
            "marker": {
             "colorbar": {
              "outlinewidth": 0,
              "ticks": ""
             }
            },
            "type": "scattergeo"
           }
          ],
          "scattergl": [
           {
            "marker": {
             "colorbar": {
              "outlinewidth": 0,
              "ticks": ""
             }
            },
            "type": "scattergl"
           }
          ],
          "scattermapbox": [
           {
            "marker": {
             "colorbar": {
              "outlinewidth": 0,
              "ticks": ""
             }
            },
            "type": "scattermapbox"
           }
          ],
          "scatterpolar": [
           {
            "marker": {
             "colorbar": {
              "outlinewidth": 0,
              "ticks": ""
             }
            },
            "type": "scatterpolar"
           }
          ],
          "scatterpolargl": [
           {
            "marker": {
             "colorbar": {
              "outlinewidth": 0,
              "ticks": ""
             }
            },
            "type": "scatterpolargl"
           }
          ],
          "scatterternary": [
           {
            "marker": {
             "colorbar": {
              "outlinewidth": 0,
              "ticks": ""
             }
            },
            "type": "scatterternary"
           }
          ],
          "surface": [
           {
            "colorbar": {
             "outlinewidth": 0,
             "ticks": ""
            },
            "colorscale": [
             [
              0,
              "#0d0887"
             ],
             [
              0.1111111111111111,
              "#46039f"
             ],
             [
              0.2222222222222222,
              "#7201a8"
             ],
             [
              0.3333333333333333,
              "#9c179e"
             ],
             [
              0.4444444444444444,
              "#bd3786"
             ],
             [
              0.5555555555555556,
              "#d8576b"
             ],
             [
              0.6666666666666666,
              "#ed7953"
             ],
             [
              0.7777777777777778,
              "#fb9f3a"
             ],
             [
              0.8888888888888888,
              "#fdca26"
             ],
             [
              1,
              "#f0f921"
             ]
            ],
            "type": "surface"
           }
          ],
          "table": [
           {
            "cells": {
             "fill": {
              "color": "#EBF0F8"
             },
             "line": {
              "color": "white"
             }
            },
            "header": {
             "fill": {
              "color": "#C8D4E3"
             },
             "line": {
              "color": "white"
             }
            },
            "type": "table"
           }
          ]
         },
         "layout": {
          "annotationdefaults": {
           "arrowcolor": "#2a3f5f",
           "arrowhead": 0,
           "arrowwidth": 1
          },
          "autotypenumbers": "strict",
          "coloraxis": {
           "colorbar": {
            "outlinewidth": 0,
            "ticks": ""
           }
          },
          "colorscale": {
           "diverging": [
            [
             0,
             "#8e0152"
            ],
            [
             0.1,
             "#c51b7d"
            ],
            [
             0.2,
             "#de77ae"
            ],
            [
             0.3,
             "#f1b6da"
            ],
            [
             0.4,
             "#fde0ef"
            ],
            [
             0.5,
             "#f7f7f7"
            ],
            [
             0.6,
             "#e6f5d0"
            ],
            [
             0.7,
             "#b8e186"
            ],
            [
             0.8,
             "#7fbc41"
            ],
            [
             0.9,
             "#4d9221"
            ],
            [
             1,
             "#276419"
            ]
           ],
           "sequential": [
            [
             0,
             "#0d0887"
            ],
            [
             0.1111111111111111,
             "#46039f"
            ],
            [
             0.2222222222222222,
             "#7201a8"
            ],
            [
             0.3333333333333333,
             "#9c179e"
            ],
            [
             0.4444444444444444,
             "#bd3786"
            ],
            [
             0.5555555555555556,
             "#d8576b"
            ],
            [
             0.6666666666666666,
             "#ed7953"
            ],
            [
             0.7777777777777778,
             "#fb9f3a"
            ],
            [
             0.8888888888888888,
             "#fdca26"
            ],
            [
             1,
             "#f0f921"
            ]
           ],
           "sequentialminus": [
            [
             0,
             "#0d0887"
            ],
            [
             0.1111111111111111,
             "#46039f"
            ],
            [
             0.2222222222222222,
             "#7201a8"
            ],
            [
             0.3333333333333333,
             "#9c179e"
            ],
            [
             0.4444444444444444,
             "#bd3786"
            ],
            [
             0.5555555555555556,
             "#d8576b"
            ],
            [
             0.6666666666666666,
             "#ed7953"
            ],
            [
             0.7777777777777778,
             "#fb9f3a"
            ],
            [
             0.8888888888888888,
             "#fdca26"
            ],
            [
             1,
             "#f0f921"
            ]
           ]
          },
          "colorway": [
           "#636efa",
           "#EF553B",
           "#00cc96",
           "#ab63fa",
           "#FFA15A",
           "#19d3f3",
           "#FF6692",
           "#B6E880",
           "#FF97FF",
           "#FECB52"
          ],
          "font": {
           "color": "#2a3f5f"
          },
          "geo": {
           "bgcolor": "white",
           "lakecolor": "white",
           "landcolor": "#E5ECF6",
           "showlakes": true,
           "showland": true,
           "subunitcolor": "white"
          },
          "hoverlabel": {
           "align": "left"
          },
          "hovermode": "closest",
          "mapbox": {
           "style": "light"
          },
          "paper_bgcolor": "white",
          "plot_bgcolor": "#E5ECF6",
          "polar": {
           "angularaxis": {
            "gridcolor": "white",
            "linecolor": "white",
            "ticks": ""
           },
           "bgcolor": "#E5ECF6",
           "radialaxis": {
            "gridcolor": "white",
            "linecolor": "white",
            "ticks": ""
           }
          },
          "scene": {
           "xaxis": {
            "backgroundcolor": "#E5ECF6",
            "gridcolor": "white",
            "gridwidth": 2,
            "linecolor": "white",
            "showbackground": true,
            "ticks": "",
            "zerolinecolor": "white"
           },
           "yaxis": {
            "backgroundcolor": "#E5ECF6",
            "gridcolor": "white",
            "gridwidth": 2,
            "linecolor": "white",
            "showbackground": true,
            "ticks": "",
            "zerolinecolor": "white"
           },
           "zaxis": {
            "backgroundcolor": "#E5ECF6",
            "gridcolor": "white",
            "gridwidth": 2,
            "linecolor": "white",
            "showbackground": true,
            "ticks": "",
            "zerolinecolor": "white"
           }
          },
          "shapedefaults": {
           "line": {
            "color": "#2a3f5f"
           }
          },
          "ternary": {
           "aaxis": {
            "gridcolor": "white",
            "linecolor": "white",
            "ticks": ""
           },
           "baxis": {
            "gridcolor": "white",
            "linecolor": "white",
            "ticks": ""
           },
           "bgcolor": "#E5ECF6",
           "caxis": {
            "gridcolor": "white",
            "linecolor": "white",
            "ticks": ""
           }
          },
          "title": {
           "x": 0.05
          },
          "xaxis": {
           "automargin": true,
           "gridcolor": "white",
           "linecolor": "white",
           "ticks": "",
           "title": {
            "standoff": 15
           },
           "zerolinecolor": "white",
           "zerolinewidth": 2
          },
          "yaxis": {
           "automargin": true,
           "gridcolor": "white",
           "linecolor": "white",
           "ticks": "",
           "title": {
            "standoff": 15
           },
           "zerolinecolor": "white",
           "zerolinewidth": 2
          }
         }
        },
        "yaxis": {
         "type": "log"
        }
       }
      }
     },
     "metadata": {},
     "output_type": "display_data"
    }
   ],
   "source": [
    "average = working_df[1:].mean(axis=0, skipna=True).tolist()\n",
    "average_list = []\n",
    "for _ in range(len(average)): average_list.append(statistics.mean(average))\n",
    "median = working_df[1:].median(axis=0, skipna=True).tolist()\n",
    "median_list = []\n",
    "for _ in range(len(median)): median_list.append(statistics.median(median))\n",
    "\n",
    "fig = go.Figure()\n",
    "fig.add_trace(go.Box(x=drivers,y=average_list, name='Average',marker_color = 'black'))\n",
    "fig.add_trace(go.Box(x=drivers,y=median_list, name='Median',marker_color = 'black'))\n",
    "for driver in drivers:\n",
    "    temp = working_df.loc[working_df['Drivers'] == driver]\n",
    "    lap_time = temp.iloc[0].values[1:].flatten().tolist()\n",
    "    fig.add_trace(go.Box(y=lap_time, name=driver))\n",
    "fig.update_yaxes(type=\"log\")\n",
    "fig.show()"
   ]
  },
  {
   "cell_type": "markdown",
   "metadata": {},
   "source": [
    "Getting a Consistancy Score\n",
    "\n",
    "*   One score based upon the average\n",
    "*   One score based upon the median"
   ]
  },
  {
   "cell_type": "code",
   "execution_count": 92,
   "metadata": {},
   "outputs": [],
   "source": [
    "def sort_scores(score_list):\n",
    "    cleaned_list = []\n",
    "    nan_list = []\n",
    "    \n",
    "    for score in score_list:\n",
    "        if str(score[0]) != 'nan':\n",
    "            cleaned_list.append(score)\n",
    "        else:\n",
    "            nan_list.append(score)\n",
    "    \n",
    "    cleaned_list = sorted(cleaned_list,key=lambda x: x[0], reverse=True)\n",
    "    # if cleaned_list[-1][0] < 0:\n",
    "    #     diff = round(abs(cleaned_list[-1][0])+cleaned_list[0][0],5)\n",
    "    # else:\n",
    "    #     diff = round(abs(cleaned_list[-1][0]-cleaned_list[0][0]),5)\n",
    "    cleaned_list.extend(nan_list)\n",
    "    return cleaned_list"
   ]
  },
  {
   "cell_type": "code",
   "execution_count": 93,
   "metadata": {},
   "outputs": [
    {
     "data": {
      "text/plain": [
       "93.1335"
      ]
     },
     "execution_count": 93,
     "metadata": {},
     "output_type": "execute_result"
    }
   ],
   "source": [
    "driver_row = working_df.loc[working_df['Drivers'] == 'hamilton']\n",
    "driver_median = driver_row.values[0][1:].tolist()\n",
    "driver_median = statistics.median(driver_median)\n",
    "driver_median"
   ]
  },
  {
   "cell_type": "code",
   "execution_count": 94,
   "metadata": {},
   "outputs": [
    {
     "name": "stdout",
     "output_type": "stream",
     "text": [
      "button              Score:       17.76838\n",
      "vettel              Score:       15.65909\n",
      "hamilton            Score:        8.89086\n",
      "webber              Score:        6.02738\n",
      "alonso              Score:      -17.72023\n",
      "raikkonen           Score:      -33.16688\n",
      "perez               Score:      -36.74718\n",
      "kobayashi           Score:      -38.41618\n",
      "ricciardo           Score:      -39.16071\n",
      "vergne              Score:       -39.5187\n",
      "resta               Score:      -43.24014\n",
      "rosberg             Score:      -54.65684\n",
      "bruno_senna         Score:            nan\n",
      "glock               Score:            nan\n",
      "grosjean            Score:            nan\n",
      "kovalainen          Score:            nan\n",
      "maldonado           Score:            nan\n",
      "massa               Score:            nan\n",
      "michael_schumacher  Score:            nan\n",
      "petrov              Score:            nan\n",
      "pic                 Score:            nan\n"
     ]
    }
   ],
   "source": [
    "average_total = []\n",
    "median_total = []\n",
    "\n",
    "for driver in drivers:\n",
    "    score_avg = 0\n",
    "    score_med = 0\n",
    "    driver_row = working_df.loc[working_df['Drivers'] == driver]\n",
    "    for lap in driver_row.columns[1:]:\n",
    "        # score_avg += percent_difference(driver_row[lap].values[0],working_df[lap].mean())\n",
    "        score_med += percent_difference(driver_row[lap].values[0],working_df[lap].median())\n",
    "    # average_total.append((score_avg,driver))\n",
    "    median_total.append((score_med,driver))\n",
    "\n",
    "# average_total, avg_diff = sort_scores(average_total)\n",
    "median_total = sort_scores(median_total)\n",
    "\n",
    "# print(f'{\"Drivers\": <25}Range: {avg_diff: <15}Range: {med_diff: <15}')\n",
    "for driver in range(len(median_total)):\n",
    "    print(f'{median_total[driver][1]: <20}Score:{round(median_total[driver][0],5): >15}')\n"
   ]
  }
 ],
 "metadata": {
  "kernelspec": {
   "display_name": "Python 3.10.2 64-bit",
   "language": "python",
   "name": "python3"
  },
  "language_info": {
   "codemirror_mode": {
    "name": "ipython",
    "version": 3
   },
   "file_extension": ".py",
   "mimetype": "text/x-python",
   "name": "python",
   "nbconvert_exporter": "python",
   "pygments_lexer": "ipython3",
   "version": "3.10.2"
  },
  "orig_nbformat": 4,
  "vscode": {
   "interpreter": {
    "hash": "92e90bd6c5a94ac116b32daed143846700409151323ad0aa8c589766ff7ac504"
   }
  }
 },
 "nbformat": 4,
 "nbformat_minor": 2
}
